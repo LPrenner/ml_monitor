{
 "cells": [
  {
   "cell_type": "code",
   "execution_count": 1,
   "metadata": {},
   "outputs": [],
   "source": [
    "import numpy as np\n",
    "import pandas as pd\n",
    "import matplotlib.pyplot as plt\n",
    "%matplotlib inline\n",
    "\n",
    "# Set random seed \n",
    "RSEED = 100"
   ]
  },
  {
   "cell_type": "code",
   "execution_count": 2,
   "metadata": {},
   "outputs": [],
   "source": [
    "# Load Training Data\n",
    "\n",
    "train_data = pd.read_csv(\"../00_Data_Sets/1_mio_dataset_2010_2014.csv\");\n",
    "test_data = pd.read_csv(\"../00_Data_Sets/100_k_dataset_2015.csv\");"
   ]
  },
  {
   "cell_type": "code",
   "execution_count": 3,
   "metadata": {},
   "outputs": [],
   "source": [
    "# Load Input Data\n",
    "\n",
    "passenger_outlier = pd.read_csv(\"../01_Synthetic Data/02_Passenger Count/passenger count_outlier_predited_02.csv\");\n",
    "passenger_drift = pd.read_csv(\"../01_Synthetic Data/02_Passenger Count/passenger count_drift_total_predicted_03.csv\");\n",
    "distance_drift = pd.read_csv(\"../01_Synthetic Data/03_Distance/distance_drift_total_predicted_02.csv\");\n",
    "location_drift = pd.read_csv(\"../01_Synthetic Data/01_Location/location_drift_total_predicted_02.csv\");\n",
    "fare_amount_drift = pd.read_csv(\"../01_Synthetic Data/04_Fare Amount/fare-amount_drift_total_02.csv\");\n",
    "# incoming_data_location_outlier = pd.read_csv(\"../01_Synthetic Data/01_Location/location_outlier_01.csv\");\n",
    "# incoming_data_distance_outlier = pd.read_csv(\"../01_Synthetic Data/03_Distance/distance_outlier_01.csv\");"
   ]
  },
  {
   "cell_type": "code",
   "execution_count": 4,
   "metadata": {},
   "outputs": [],
   "source": [
    "def monitor_drift_main_metrics(training_data, incoming_batch, start_index, end_index, batch_info, column, thresholds):\n",
    "    batch_thresholds = thresholds[batch_info['name'].lower() + '_batch_drift']\n",
    "    threshold = batch_thresholds['one_dim_drift_metric']\n",
    "            \n",
    "    if abs(incoming_batch.iloc[start_index:end_index,column].mean()) > abs((training_data.iloc[:,column].mean() * (1 + threshold))):\n",
    "        print('[DRIFT][{} Window]: Upwards Data Drift detected!. ({} AVG: {})\\t(Index: {})'.format(batch_info['name'], training_data.columns[column], incoming_batch.iloc[start_index:end_index,column].mean(), end_index))\n",
    "        \n",
    "    if abs(incoming_batch.iloc[start_index:end_index,column].quantile(0.25)) > abs((training_data.iloc[:,column].quantile(0.25) * (1 + threshold))):\n",
    "        print('[DRIFT][{} Window]: Upwards Data Drift detected! ({} 25%-Quantile: {})\\t(Index: {})'.format(batch_info['name'], training_data.columns[column], incoming_batch.iloc[start_index:end_index,column].mean(), end_index))\n",
    "        \n",
    "    if abs(incoming_batch.iloc[start_index:end_index,column].quantile(0.75)) > abs((training_data.iloc[:,column].quantile(0.75) * (1 + threshold))):\n",
    "        print('[DRIFT][{} Window]: Upwards Data Drift detected! ({} 75%-Quantile: {})\\t(Index: {})'.format(batch_info['name'], training_data.columns[column], incoming_batch.iloc[start_index:end_index,column].mean(), end_index))\n",
    "        \n",
    "    if abs(incoming_batch.iloc[start_index:end_index,column].mean()) < abs((training_data.iloc[:,column].mean() * (1 - threshold))):\n",
    "        print('[DRIFT][{} Window]: Downwards Data Drift detected! ({} AVG: {})\\t(Index: {})'.format(batch_info['name'], training_data.columns[column], incoming_batch.iloc[start_index:end_index,column].mean(), end_index))\n",
    "        \n",
    "    if abs(incoming_batch.iloc[start_index:end_index,column].quantile(0.25)) < abs((training_data.iloc[:,column].quantile(0.25) * (1 - threshold))):\n",
    "        print('[DRIFT][{} Window]: Downwards Data Drift detected! ({} 25%-Quantile: {})\\t(Index: {})'.format(batch_info['name'], training_data.columns[column], incoming_batch.iloc[start_index:end_index,column].mean(), end_index))\n",
    "        \n",
    "    if abs(incoming_batch.iloc[start_index:end_index,column].quantile(0.75)) < abs((training_data.iloc[:,column].quantile(0.75) * (1 - threshold))):\n",
    "        print('[DRIFT][{} Window]: Downwards Data Drift detected! ({} 75%-Quantile: {})\\t(Index: {})'.format(batch_info['name'], training_data.columns[column], incoming_batch.iloc[start_index:end_index,column].mean(), end_index))\n",
    "\n",
    "        \n",
    "from math import log2\n",
    "\n",
    "def kl_divergence(p, q):\n",
    "    return sum(p[i] * log2(p[i]/q[i]) for i in range(len(p)))\n",
    "\n",
    "        \n",
    "def monitor_drift_kl_divergence(training_data, incoming_batch, start_index, end_index, batch_info, column, thresholds):\n",
    "    batch_thresholds = thresholds[batch_info['name'].lower() + '_batch_drift']\n",
    "    threshold = batch_thresholds['one_dim_drift_kl_divergence']\n",
    "    \n",
    "    # Filter out zero values in datasets\n",
    "    batch_df = incoming_batch[incoming_batch.iloc[:,column] != 0]\n",
    "    train_df = training_data[training_data.iloc[:,column] != 0]\n",
    "    \n",
    "    # Filter out negative values in dataset, if mean is positive (= remove negative outliers)\n",
    "    if batch_df.iloc[:,column].mean() > 0:\n",
    "        batch_df = batch_df[batch_df.iloc[:,column] > 0]\n",
    "        \n",
    "    batch_df = batch_df.reset_index()\n",
    "    train_df = train_df.reset_index()\n",
    "    batch_df = batch_df.drop('index', axis=1)\n",
    "    train_df = train_df.drop('index', axis=1)\n",
    "    batch = batch_df.iloc[start_index:end_index,column]\n",
    "    batch = batch.reset_index()\n",
    "    batch = batch.drop('index', axis=1)\n",
    "    batch = batch.iloc[:,0]\n",
    "    train = train_df.iloc[:,column]\n",
    "    \n",
    "    divergence_score = kl_divergence(batch, train);\n",
    "    \n",
    "    if divergence_score > threshold:\n",
    "        print('[DRIFT][{} Window]: KL-Divergence detected! ({} Divergence: {})\\t(Index: {})'.format(batch_info['name'], batch_df.columns[column], divergence_score, end_index))        \n",
    "        \n",
    "\n",
    "from scipy.stats import wasserstein_distance\n",
    "\n",
    "def monitor_drift_wasserstein_distance(training_data, incoming_batch, start_index, end_index, batch_info, column, thresholds):\n",
    "    batch_thresholds = thresholds[batch_info['name'].lower() + '_batch_drift']\n",
    "    threshold = batch_thresholds['one_dim_drift_wasserstein']\n",
    "    \n",
    "    batch = incoming_batch.iloc[start_index:end_index, column]\n",
    "    train = training_data.iloc[:, column]\n",
    "    wasserstein_dist = wasserstein_distance(batch, train);\n",
    "    \n",
    "    if wasserstein_dist > threshold:\n",
    "        print('[DRIFT][{} Window]: Wasserstein Distance detected! ({} Distance: {})\\t(Index: {})'.format(batch_info['name'], incoming_batch.columns[column], wasserstein_dist, end_index))\n",
    "        \n",
    "def monitor_drift_pairwise_correlations(training_data, incoming_batch, start_index, end_index, batch_info, input_columns, train_pairwise_correlations, thresholds):\n",
    "    batch_thresholds = thresholds[batch_info['name'].lower() + '_batch_drift']\n",
    "    threshold = batch_thresholds['one_dim_drift_correlations']\n",
    "    \n",
    "    batch_pairwise_correlations = get_pairwise_correlations(incoming_batch.iloc[start_index:end_index,:], input_columns);\n",
    "    \n",
    "    for key in train_pairwise_correlations:\n",
    "        for metric in range(0,1):\n",
    "            distance = abs((train_pairwise_correlations[key][metric] - batch_pairwise_correlations[key][metric]))\n",
    "            if distance > abs((train_pairwise_correlations[key][metric] * threshold)):\n",
    "                print('[DRIFT][{} Window]: Pairwise Correlation Drift detected: {}!\\t(Index: {})'.format(batch_info['name'], key, end_index))\n",
    "\n",
    "    \n",
    "def prepare_incoming_batch(data, start_index, end_index):\n",
    "    # Remove fare-bin values with less occurences than 3; Avoid error in split data set\n",
    "    df = data.iloc[start_index:end_index,:]\n",
    "    df = df[df.groupby('fare-bin')['fare-bin'].transform(len) > 3]\n",
    "    return df\n",
    "    \n",
    "def monitor_feature_importances(training_data, incoming_batch, start_index, end_index, batch_info, input_columns, feature_importances, thresholds):\n",
    "    batch_thresholds = thresholds[batch_info['name'].lower() + '_batch_drift']\n",
    "    threshold = batch_thresholds['one_dim_drift_feature_importances']\n",
    "    \n",
    "    incoming_batch = prepare_incoming_batch(incoming_batch, start_index, end_index);\n",
    "  \n",
    "    rf = get_rf(incoming_batch, input_columns);\n",
    "    batch_feature_importance_list = rf.feature_importances_\n",
    "    train_feature_importance_list = feature_importances\n",
    "    feature_count = len(batch_feature_importance_list)\n",
    "    \n",
    "    for index in range(0, feature_count):\n",
    "        if batch_feature_importance_list[index] > (train_feature_importance_list[index] * (1 + threshold)):\n",
    "            print('[DRIFT][{} Window]: Feature Importance Drift detected for {}!\\t(Index: {})'.format(batch_info['name'], incoming_batch.columns[input_columns[index]], end_index))\n",
    "            \n",
    "        if batch_feature_importance_list[index] < (train_feature_importance_list[index] / (1 + threshold)):\n",
    "            print('[DRIFT][{} Window]: Feature Importance Drift detected for {}!\\t(Index: {})'.format(batch_info['name'], incoming_batch.columns[input_columns[index]], end_index))\n",
    "\n",
    "def monitor_drift_shap(train_data_infos, incoming_batch, start_index, end_index, batch_info, column, shap, shap_index, thresholds):\n",
    "    batch_thresholds = thresholds[batch_info['name'].lower() + '_batch_drift']\n",
    "    threshold = batch_thresholds['one_dim_drift_shap']\n",
    "    shap_mean = train_data_infos['shap']['mean'][shap_index]\n",
    "\n",
    "    # SHAP Mean\n",
    "    if shap[1][shap_index] < (shap_mean - (abs(shap_mean * threshold))):\n",
    "        print('[DRIFT][{} Window]: Downwards Shap Drift detected for {}!\\t(Index: {})'.format(batch_info['name'], train_data.columns[column], end_index));    \n",
    "        print('batch: {}, train: {}'.format(shap[1][shap_index], (shap_mean - (shap_mean * threshold))))\n",
    "        \n",
    "    # SHAP Mean\n",
    "    if shap[1][shap_index] > (shap_mean + (abs(shap_mean * threshold))):\n",
    "        print('[DRIFT][{} Window]: Upwards Shap Drift detected for {}!\\t(Index: {})'.format(batch_info['name'], train_data.columns[column], end_index));            \n",
    "        print('batch: {}, train: {}'.format(shap[1][shap_index], (shap_mean - (shap_mean * threshold))))\n",
    "\n",
    "def monitor_drift_one_dimension(training_data, train_data_infos, incoming_batch, start_index, end_index, batch_info, thresholds):\n",
    "    input_columns = train_data_infos['input_columns']\n",
    "    output_columns = train_data_infos['output_columns']\n",
    "    columns_to_use = np.concatenate((output_columns, input_columns), axis=0)\n",
    "    train_pairwise_correlations = train_data_infos['correlation_pairs']\n",
    "    shap = get_shap_feature_importances(incoming_batch.iloc[start_index:end_index,:], train_data_infos['rf'], train_data_infos['input_columns'], thresholds)\n",
    "    shap_index = 0\n",
    "    \n",
    "    for column in columns_to_use:\n",
    "        monitor_drift_main_metrics(training_data, incoming_batch, start_index, end_index, batch_info, column, thresholds);\n",
    "        monitor_drift_kl_divergence(training_data, incoming_batch, start_index, end_index, batch_info, column, thresholds);\n",
    "        monitor_drift_wasserstein_distance(training_data, incoming_batch, start_index, end_index, batch_info, column, thresholds);\n",
    "        \n",
    "        if column in input_columns:\n",
    "            monitor_drift_shap(train_data_infos, incoming_batch, start_index, end_index, batch_info, column, shap, shap_index, thresholds);\n",
    "            shap_index = shap_index + 1\n",
    "        \n",
    "    monitor_drift_pairwise_correlations(training_data, incoming_batch, start_index, end_index, batch_info, input_columns, train_pairwise_correlations, thresholds);\n",
    "    monitor_feature_importances(training_data, incoming_batch, start_index, end_index, batch_info, input_columns, train_data_infos['rf_feature_importances'], thresholds);\n",
    "    \n",
    "def monitor_drift_multi_dimensions(training_data, train_data_infos, incoming_batch, start_index, end_index, batch_info, thresholds):\n",
    "    input_columns = train_data_infos['input_columns'];\n",
    "    output_columns = train_data_infos['output_columns'];\n",
    "    pca_model = train_data_infos['pca_model'];\n",
    "    threshold = thresholds['multi_dim_outlier']\n",
    "    \n",
    "    incoming_batch_filtered = get_data_filtered(incoming_batch, input_columns);\n",
    "    incoming_batch_transformed = transform_pca(pca_model, incoming_batch_filtered);\n",
    "    distances = calculate_euclidean_distances(incoming_batch_transformed, input_columns);\n",
    "    distances_metrics = get_distance_metrics(distances, thresholds);\n",
    "    \n",
    "    if distances_metrics['mean'] > train_data_infos['distance_metrics']['mean'] * (1 + threshold):\n",
    "        print('[DRIFT][{} Window]: Multi-Dimensional Upwards Mean Drift Detected! Distance: {}\\t\\t\\t(Index: {})'.format(batch_info['name'], distances_metrics['maximum'], end_index));\n",
    "        \n",
    "    if distances_metrics['mean'] < train_data_infos['distance_metrics']['mean'] * (1 - threshold):\n",
    "        print('[DRIFT][{} Window]: Multi-Dimensional Downwards Mean Drift Detected! Distance: {}\\t\\t\\t(Index: {})'.format(batch_info['name'], distances_metrics['maximum'], end_index));\n",
    "        \n",
    "    if distances_metrics['first_quarter'] < train_data_infos['distance_metrics']['first_quarter'] * (1 - threshold):\n",
    "        print('[DRIFT][{} Window]: Multi-Dimensional 1st Quarter Downwards Drift Detected! Distance: {}\\t\\t\\t(Index: {})'.format(batch_info['name'], distances_metrics['first_quarter'], end_index));\n",
    "        \n",
    "    if distances_metrics['third_quarter'] > (train_data_infos['distance_metrics']['third_quarter'] * (1 + threshold)):\n",
    "        print('batch: {}, train: {}, train+threshold: {}'.format(distances_metrics['third_quarter'], train_data_infos['distance_metrics']['third_quarter'], (train_data_infos['distance_metrics']['third_quarter'] * (1 - threshold))))\n",
    "        print('[DRIFT][{} Window]: Multi-Dimensional 3rd Quarter Upwards Drift Detected! Distance: {}\\t\\t\\t(Index: {})'.format(batch_info['name'], distances_metrics['third_quarter'], end_index));\n",
    "        \n",
    "        \n",
    "def monitor_batch_drift(training_data, train_data_infos, incoming_batch, index, batch_info, thresholds):\n",
    "    batch_size = batch_info['size'];\n",
    "    start_index = index - batch_size + 1;\n",
    "    end_index = index;\n",
    "    \n",
    "    monitor_drift_one_dimension(training_data, train_data_infos, incoming_batch, start_index, end_index, batch_info, thresholds);\n",
    "    monitor_drift_multi_dimensions(training_data, train_data_infos, incoming_batch, start_index, end_index, batch_info, thresholds);\n",
    "    \n",
    "def monitor_drift(training_data, train_data_infos, batch, step_sizes, index, row, batch_infos, thresholds):\n",
    "    # Add new sample to batch\n",
    "    batch.loc[index] = row.values;\n",
    "        \n",
    "    if batch.shape[0] % step_sizes['small'] == 0 and batch.shape[0] > (step_sizes['small']):\n",
    "        monitor_batch_drift(training_data, train_data_infos, batch, index, batch_infos['small'], thresholds);\n",
    "\n",
    "    if batch.shape[0] % step_sizes['medium'] == 0:\n",
    "        monitor_batch_drift(training_data, train_data_infos, batch, index, batch_infos['medium'], thresholds);\n",
    "\n",
    "    if batch.shape[0] % step_sizes['large'] == 0:\n",
    "        monitor_batch_drift(training_data, train_data_infos, batch, index, batch_infos['large'], thresholds);"
   ]
  },
  {
   "cell_type": "code",
   "execution_count": 5,
   "metadata": {},
   "outputs": [],
   "source": [
    "from sklearn.ensemble import RandomForestRegressor\n",
    "from sklearn.model_selection import train_test_split\n",
    "\n",
    "def get_rf(data, columns):\n",
    "    # Split data\n",
    "    X_train, X_valid, y_train, y_valid = train_test_split(data, np.array(data['fare_amount']), \n",
    "                                                          stratify = data['fare-bin'], test_size=0.33,\n",
    "                                                          random_state = RSEED)\n",
    "\n",
    "    # Create the random forest        \n",
    "    rf = RandomForestRegressor(n_estimators = 20, max_depth = 20, max_features = None, oob_score = True, \n",
    "                                bootstrap = True, verbose = 1, n_jobs = -1)\n",
    "\n",
    "    # Train random forest\n",
    "    column_list = []\n",
    "    for column in columns:\n",
    "        column_list.append(train_data.columns[column])\n",
    "        \n",
    "    rf.fit(X_train[column_list], y_train)\n",
    "    \n",
    "    return rf"
   ]
  },
  {
   "cell_type": "code",
   "execution_count": 6,
   "metadata": {},
   "outputs": [
    {
     "data": {
      "text/plain": [
       "\"\\nfrom sklearn.externals import joblib\\n\\ninput_columns = [3, 4, 5, 6, 7, 12, 13, 14]\\nrf = get_rf(train_data, input_columns)\\n\\nfilename = 'rf.sav'\\njoblib.dump(rf, filename);\\n\""
      ]
     },
     "execution_count": 6,
     "metadata": {},
     "output_type": "execute_result"
    }
   ],
   "source": [
    "# SAVE RF\n",
    "'''\n",
    "from sklearn.externals import joblib\n",
    "\n",
    "input_columns = [3, 4, 5, 6, 7, 12, 13, 14]\n",
    "rf = get_rf(train_data, input_columns)\n",
    "\n",
    "filename = 'rf.sav'\n",
    "joblib.dump(rf, filename);\n",
    "'''"
   ]
  },
  {
   "cell_type": "code",
   "execution_count": 7,
   "metadata": {},
   "outputs": [],
   "source": [
    "def get_avg_samples_per_day(data):\n",
    "    # TODO: More elegant solution possible?\n",
    "    df = pd.DataFrame();\n",
    "    df['pickup_datetime'] = train_data['pickup_datetime']\n",
    "    df['count'] = 1\n",
    "    df['pickup_datetime'] = pd.to_datetime(df['pickup_datetime'])\n",
    "    df.index = df['pickup_datetime'] \n",
    "    df = df.resample('D').sum()\n",
    "    df = df[df['count'] != 0]\n",
    "    return df['count'].mean()\n",
    "\n",
    "def get_batch_infos(data):\n",
    "    batch_size_day = get_avg_samples_per_day(data);\n",
    "    batch_size_week = batch_size_day * 7;\n",
    "    batch_size_month = batch_size_day * 30;\n",
    "    \n",
    "    batch_sizes = {\n",
    "        'small': {'size': int(batch_size_day), 'name': 'Small'},\n",
    "        'medium': {'size': int(batch_size_week), 'name': 'Medium'},\n",
    "        'large': {'size': int(batch_size_month), 'name': 'Large'},        \n",
    "    }\n",
    "    \n",
    "    return batch_sizes;\n",
    "\n",
    "def get_step_sizes(batch_infos):\n",
    "    step_sizes = {\n",
    "        'small': (batch_infos['small']['size'] / 2),\n",
    "        'medium': (batch_infos['medium']['size'] / 2),\n",
    "        'large': (batch_infos['large']['size'] / 2) \n",
    "    }\n",
    "    return step_sizes;\n",
    "\n",
    "def get_data_filtered(data, columns_to_use):\n",
    "    data_filtered = pd.DataFrame()\n",
    "    i = 0\n",
    "\n",
    "    # Filter Input Columns\n",
    "    for column in columns_to_use:\n",
    "        data_filtered.insert(i, data.columns[column], data.iloc[:,column])\n",
    "        i = i + 1\n",
    "        \n",
    "    return data_filtered;\n",
    "\n",
    "def apply_pca(train_data_filtered):\n",
    "    pca_model = get_pca_model(train_data_filtered);\n",
    "    return pca_model, transform_pca(pca_model, train_data_filtered);\n",
    "\n",
    "def get_pca_model(train_data_filtered):\n",
    "    from sklearn.decomposition import PCA\n",
    "    \n",
    "    pca = PCA(whiten=True)\n",
    "    return pca.fit(train_data_filtered)\n",
    "\n",
    "def transform_pca(pca_model, train_data_filtered):\n",
    "    from sklearn.decomposition import PCA\n",
    "    \n",
    "    return pca_model.transform(train_data_filtered)\n",
    "\n",
    "def get_zero_vector(columns_to_use):\n",
    "    number_of_dimensions = len(columns_to_use)\n",
    "    return np.zeros((number_of_dimensions)*1)\n",
    "\n",
    "def calculate_euclidean_distance(sample, zero_vector):\n",
    "    from scipy.spatial import distance\n",
    "    \n",
    "    return distance.euclidean(sample, zero_vector)\n",
    "\n",
    "def calculate_euclidean_distances(transformed_data, columns_to_use):\n",
    "    from scipy.spatial import distance\n",
    "    \n",
    "    zero_vector = get_zero_vector(columns_to_use);\n",
    "    \n",
    "    index = 0\n",
    "    distances = np.ndarray(shape=(np.size(transformed_data,0),1))\n",
    "\n",
    "    # Create distances to zero vector\n",
    "    for sample in transformed_data:\n",
    "        distances[index] = calculate_euclidean_distance(transformed_data[index], zero_vector);\n",
    "        index = index + 1\n",
    "        \n",
    "    return distances;\n",
    "\n",
    "def get_pairwise_correlations(data, input_columns):\n",
    "    \n",
    "    from scipy.stats.stats import pearsonr\n",
    "    import itertools\n",
    "    \n",
    "    pairwise_correlations = {}\n",
    "\n",
    "    for column_a, column_b in itertools.combinations(input_columns, 2):\n",
    "        correlation = pearsonr(data.iloc[:,column_a], data.iloc[:,column_b])\n",
    "        pairwise_correlations['{} <> {}'.format(data.columns[column_a], data.columns[column_b])] = correlation\n",
    "        \n",
    "    return pairwise_correlations\n",
    "\n",
    "\n",
    "def get_shap_feature_importances(data, rf, input_columns, thresholds):\n",
    "    import shap\n",
    "    raw_threshold = thresholds['one_dim_outlier']\n",
    "    threshold =     raw_threshold * 1000\n",
    "\n",
    "    column_list = []\n",
    "    for column in input_columns:\n",
    "        column_list.append(train_data.columns[column])\n",
    "\n",
    "    explainer = shap.TreeExplainer(rf, data=None, feature_perturbation='tree_path_dependent');\n",
    "    shap_values = explainer.shap_values(data[column_list]);\n",
    "\n",
    "    shap_values_lower_quantile = []\n",
    "    shap_values_mean = []\n",
    "    shap_values_upper_quantile = []\n",
    "\n",
    "    for column in range(0, len(input_columns)):    \n",
    "        shap_values_lower_quantile.append(np.percentile(shap_values[:,column], threshold))\n",
    "        shap_values_mean.append(shap_values[:,column].mean())\n",
    "        shap_values_upper_quantile.append(np.percentile(shap_values[:,column], (100 - threshold)))\n",
    "        \n",
    "    shap = [shap_values_lower_quantile, shap_values_mean, shap_values_upper_quantile]\n",
    "    return shap\n",
    "    \n",
    "\n",
    "def get_distance_metrics(distances, thresholds):\n",
    "    \n",
    "    raw_threshold = thresholds['multi_dim_outlier']\n",
    "    threshold = raw_threshold * 100\n",
    "    \n",
    "    distance_metrics = {\n",
    "        'minimum': distances.min(),\n",
    "        'lower_threshold_percentile': np.percentile(distances, threshold),\n",
    "        'first_quarter': np.percentile(distances, 25),\n",
    "        'mean': distances.mean(),\n",
    "        'third_quarter': np.percentile(distances, 75),\n",
    "        'upper_threshold_percentile': np.percentile(distances, (100 - threshold)),\n",
    "        'maximum': distances.max()\n",
    "    }    \n",
    "        \n",
    "    return distance_metrics\n",
    "    \n",
    "\n",
    "def get_train_data_infos(distances, correlation_pairs, shap, rf, input_columns, output_columns, pca_model, thresholds):\n",
    "    \n",
    "    train_data_infos = {\n",
    "        'input_columns': input_columns,\n",
    "        'output_columns': output_columns,\n",
    "        'pca_model': pca_model,\n",
    "        'rf': rf,\n",
    "        'rf_feature_importances': rf.feature_importances_,\n",
    "        'shap': {\n",
    "            'lower_threshold_percentile': shap[0],\n",
    "            'mean': shap[1],\n",
    "            'upper_threshold_percentile': shap[2]\n",
    "        },\n",
    "        'correlation_pairs': correlation_pairs,\n",
    "        'distance_metrics': get_distance_metrics(distances, thresholds)\n",
    "    }\n",
    "    \n",
    "    return train_data_infos;\n",
    "\n",
    "def generate_train_data_infos(train_data, input_columns, output_columns, thresholds):\n",
    "    # +++ REMOVE: Only for testing purposes +++    \n",
    "    from sklearn.externals import joblib\n",
    "    rf = joblib.load('rf.sav')\n",
    "    test = {\n",
    "        'input_columns': input_columns,\n",
    "        'output_columns': output_columns,\n",
    "        'pca_model': get_pca_model(get_data_filtered(train_data, input_columns)),\n",
    "        'rf': rf,\n",
    "        'rf_feature_importances': rf.feature_importances_,\n",
    "        'shap': {\n",
    "            'lower_threshold_percentile': [-2.528580313995101, -1.7864965686783245, -1.5736475393454952, -3.1326455478959168, -0.6049921796435059, -1.4670753181848482, -10.497608109368514, -1.170986733676531],\n",
    "            'mean': [0.05859532547100909, 0.1150723753541944, 0.2375574423112044, -0.21863576089415065, 0.0049141129696212635, 0.18305498308684381, -0.6148760801903526, 0.16000324432733556],\n",
    "            'upper_threshold_percentile': [7.925407442096883, 4.635143181597266, 19.453888955544727, 4.732747057367445, 0.4361906308296687, 6.485159131158373, 40.0529875893241, 6.800010400410237]\n",
    "        },\n",
    "        'correlation_pairs': get_pairwise_correlations(train_data, input_columns),\n",
    "        'distance_metrics': {\n",
    "            'minimum': 0.7249817600534729, \n",
    "            'lower_threshold_percentile': 0.7550153949050724,\n",
    "            'first_quarter': 1.0764902427267036,\n",
    "            'mean': 1.922411839793231,\n",
    "            'third_quarter': 2.200820905397247,\n",
    "            'upper_threshold_percentile': 10.6967040765229, \n",
    "            'maximum': 58.320576749831\n",
    "        }\n",
    "    }\n",
    "    return test\n",
    "    # +++ REMOVE: Only for testing purposes +++\n",
    "\n",
    "    train_data_filtered = get_data_filtered(train_data, input_columns);\n",
    "    pca_model, transformed_data = apply_pca(train_data_filtered);\n",
    "    distances = calculate_euclidean_distances(transformed_data, input_columns);\n",
    "    correlation_pairs = get_pairwise_correlations(train_data, input_columns);\n",
    "    rf = get_rf(train_data, input_columns);\n",
    "    shap = get_shap_feature_importances(train_data, rf, input_columns, thresholds);\n",
    "    \n",
    "    return get_train_data_infos(distances, correlation_pairs, shap, rf, input_columns, output_columns, pca_model, thresholds);  "
   ]
  },
  {
   "cell_type": "code",
   "execution_count": 8,
   "metadata": {},
   "outputs": [],
   "source": [
    "def monitor_outliers_one_dimension(train_data, train_data_infos, incoming_sample, index, thresholds):\n",
    "    \n",
    "    threshold = thresholds['one_dim_outlier']\n",
    "    input_columns = train_data_infos['input_columns']\n",
    "    output_columns = train_data_infos['output_columns']\n",
    "    columns_to_use = np.concatenate((output_columns, input_columns), axis=0) \n",
    "    shap = get_shap_feature_importances(pd.DataFrame(incoming_sample).transpose(), train_data_infos['rf'], input_columns, thresholds)\n",
    "    shap_index = 0\n",
    "    \n",
    "    for column in columns_to_use:\n",
    "            \n",
    "            if incoming_sample[column] > train_data.iloc[:,column].max():\n",
    "                print('[OUTLIER] MAX Outlier Detected! {}: {}\\t\\t\\t(Index: {})'.format(train_data.columns[column], incoming_sample[column], index));\n",
    "\n",
    "            elif incoming_sample[column] > train_data.iloc[:,column].quantile(1 - threshold):\n",
    "                print('[POT. OUTLIER] Potential MAX Outlier Detected! {}: {}\\t\\t\\t(Index: {})'.format(train_data.columns[column], incoming_sample[column], index));\n",
    "\n",
    "            if incoming_sample[column] < train_data.iloc[:,column].min():\n",
    "                print('[OUTLIER] MIN Outlier Detected! {}: {}\\t\\t\\t(Index: {})'.format(train_data.columns[column], incoming_sample[column], index));\n",
    "                \n",
    "            elif incoming_sample[column] < train_data.iloc[:,column].quantile(threshold):\n",
    "                print('[POT. OUTLIER] Potential MIN Outlier Detected! {}: {}\\t\\t\\t(Index: {})'.format(train_data.columns[column], incoming_sample[column], index));\n",
    "            \n",
    "            \n",
    "            if column in input_columns:\n",
    "            \n",
    "                # SHAP Lower Percentile\n",
    "                if shap[0][shap_index] < train_data_infos['shap']['lower_threshold_percentile'][shap_index]:\n",
    "                    print('[POT. MIN OUTLIER] Potential Shap Outlier Detected! {}\\t\\t\\t(Index: {})'.format(train_data.columns[column], index));\n",
    "\n",
    "                # SHAP Upper Percentile\n",
    "                if shap[2][shap_index] > train_data_infos['shap']['upper_threshold_percentile'][shap_index]:\n",
    "                    print('[POT. MAX OUTLIER] Potential Shap Outlier Detected! {}\\t\\t\\t(Index: {})'.format(train_data.columns[column], index));\n",
    "\n",
    "                shap_index = shap_index + 1\n",
    "            \n",
    "\n",
    "    \n",
    "def monitor_outliers_multi_dimensions(train_data, train_data_infos, incoming_sample, index):\n",
    "    incoming_sample_df = pd.DataFrame(incoming_sample).transpose();\n",
    "    incoming_sample_df_filtered = get_data_filtered(incoming_sample_df, train_data_infos['input_columns']);\n",
    "    incoming_sample_df_transformed = transform_pca(train_data_infos['pca_model'], incoming_sample_df_filtered);\n",
    "    distance = calculate_euclidean_distance(incoming_sample_df_transformed, get_zero_vector(train_data_infos['input_columns']));\n",
    "\n",
    "    if distance > train_data_infos['distance_metrics']['maximum']:\n",
    "        print('[OUTLIER] Multi-Dimensional Outlier Detected! Distance: {}\\t\\t\\t(Index: {})'.format(distance, index));\n",
    "        \n",
    "    elif distance > train_data_infos['distance_metrics']['upper_threshold_percentile']:\n",
    "        print('[POT. OUTLIER] Potential Multi-Dimensional Outlier Detected! Distance: {}\\t\\t\\t(Index: {})'.format(distance, index));\n",
    "\n",
    "def monitor_outliers(train_data, train_data_infos, incoming_sample, index, thresholds):\n",
    "    monitor_outliers_one_dimension(train_data, train_data_infos, incoming_sample, index, thresholds);\n",
    "    monitor_outliers_multi_dimensions(train_data, train_data_infos, incoming_sample, index);"
   ]
  },
  {
   "cell_type": "code",
   "execution_count": 9,
   "metadata": {},
   "outputs": [],
   "source": [
    "# Define desired thresholds\n",
    "\n",
    "def get_thresholds():\n",
    "    thresholds = {\n",
    "        'one_dim_outlier': 0.001,\n",
    "        'multi_dim_outlier': 0.5,\n",
    "        'small_batch_drift': {\n",
    "            'one_dim_drift_metric': 0.3,\n",
    "            'one_dim_drift_kl_divergence': 6500,\n",
    "            'one_dim_drift_wasserstein': 1.2,\n",
    "            'one_dim_drift_correlations': 50,\n",
    "            'one_dim_drift_feature_importances': 50,\n",
    "            'one_dim_drift_shap': 5\n",
    "        },\n",
    "        'medium_batch_drift': {\n",
    "            'one_dim_drift_metric': 0.1,\n",
    "            'one_dim_drift_kl_divergence': 1000,\n",
    "            'one_dim_drift_wasserstein': 0.25,\n",
    "            'one_dim_drift_correlations': 20,\n",
    "            'one_dim_drift_feature_importances': 20,\n",
    "            'one_dim_drift_shap': 3          \n",
    "        },\n",
    "        'large_batch_drift': {\n",
    "            'one_dim_drift_metric': 0.05,\n",
    "            'one_dim_drift_kl_divergence': 500,\n",
    "            'one_dim_drift_wasserstein': 0.2,\n",
    "            'one_dim_drift_correlations': 15,\n",
    "            'one_dim_drift_feature_importances': 15,\n",
    "            'one_dim_drift_shap': 1           \n",
    "        }\n",
    "    }\n",
    "    \n",
    "    return thresholds;"
   ]
  },
  {
   "cell_type": "code",
   "execution_count": 10,
   "metadata": {},
   "outputs": [],
   "source": [
    "# Needs to be configured individually\n",
    "def prepare_data(data):\n",
    "    prepared_data = data.copy()\n",
    "    prepared_data['fare-bin'] = data.iloc[:,8].astype(\"category\").cat.codes\n",
    "    \n",
    "    return prepared_data"
   ]
  },
  {
   "cell_type": "code",
   "execution_count": 11,
   "metadata": {},
   "outputs": [],
   "source": [
    "def monitor(train_data, incoming_data):\n",
    "        \n",
    "    train_data = prepare_data(train_data);\n",
    "    incoming_data = prepare_data(incoming_data);\n",
    "    thresholds = get_thresholds();\n",
    "    input_columns = [3, 4, 5, 6, 7, 12, 13, 14]\n",
    "    output_columns = [1, 8]\n",
    "    batch = pd.DataFrame(columns=incoming_data.columns);\n",
    "    batch_infos = get_batch_infos(train_data);\n",
    "    train_data_infos = generate_train_data_infos(train_data, input_columns, output_columns, thresholds);\n",
    "    step_sizes = get_step_sizes(batch_infos);\n",
    "    \n",
    "    for index, row in incoming_data.iterrows():\n",
    "        if index % 1000 == 0:\n",
    "            print('------------------------ INDEX: {} ------------------------'.format(index))\n",
    "        monitor_outliers(train_data, train_data_infos, row, index, thresholds);\n",
    "        monitor_drift(train_data, train_data_infos, batch, step_sizes, index, row, batch_infos, thresholds);"
   ]
  },
  {
   "cell_type": "code",
   "execution_count": null,
   "metadata": {
    "scrolled": true
   },
   "outputs": [
    {
     "name": "stderr",
     "output_type": "stream",
     "text": [
      "/Users/Lukas/Library/Python/3.7/lib/python/site-packages/sklearn/externals/joblib/__init__.py:15: FutureWarning: sklearn.externals.joblib is deprecated in 0.21 and will be removed in 0.23. Please import this functionality directly from joblib, which can be installed with: pip install joblib. If this warning is raised when loading pickled models, you may need to re-serialize those models with scikit-learn 0.21+.\n",
      "  warnings.warn(msg, category=FutureWarning)\n",
      "/Users/Lukas/Library/Python/3.7/lib/python/site-packages/sklearn/utils/deprecation.py:144: FutureWarning: The sklearn.ensemble.forest module is  deprecated in version 0.22 and will be removed in version 0.24. The corresponding classes / functions should instead be imported from sklearn.ensemble. Anything that cannot be imported from sklearn.ensemble is now part of the private API.\n",
      "  warnings.warn(message, FutureWarning)\n",
      "/Users/Lukas/Library/Python/3.7/lib/python/site-packages/sklearn/utils/deprecation.py:144: FutureWarning: The sklearn.tree.tree module is  deprecated in version 0.22 and will be removed in version 0.24. The corresponding classes / functions should instead be imported from sklearn.tree. Anything that cannot be imported from sklearn.tree is now part of the private API.\n",
      "  warnings.warn(message, FutureWarning)\n",
      "/Users/Lukas/Library/Python/3.7/lib/python/site-packages/sklearn/base.py:318: UserWarning: Trying to unpickle estimator DecisionTreeRegressor from version 0.21.3 when using version 0.22.1. This might lead to breaking code or invalid results. Use at your own risk.\n",
      "  UserWarning)\n",
      "/Users/Lukas/Library/Python/3.7/lib/python/site-packages/sklearn/base.py:318: UserWarning: Trying to unpickle estimator RandomForestRegressor from version 0.21.3 when using version 0.22.1. This might lead to breaking code or invalid results. Use at your own risk.\n",
      "  UserWarning)\n"
     ]
    },
    {
     "name": "stdout",
     "output_type": "stream",
     "text": [
      "------------------------ INDEX: 0 ------------------------\n"
     ]
    },
    {
     "name": "stderr",
     "output_type": "stream",
     "text": [
      "Setting feature_perturbation = \"tree_path_dependent\" because no background data was given.\n",
      "[Parallel(n_jobs=-1)]: Using backend ThreadingBackend with 4 concurrent workers.\n",
      "[Parallel(n_jobs=-1)]: Done  20 out of  20 | elapsed:    0.0s finished\n",
      "Setting feature_perturbation = \"tree_path_dependent\" because no background data was given.\n",
      "[Parallel(n_jobs=-1)]: Using backend ThreadingBackend with 4 concurrent workers.\n",
      "[Parallel(n_jobs=-1)]: Done  20 out of  20 | elapsed:    0.1s finished\n",
      "Some inputs do not have OOB scores. This probably means too few trees were used to compute any reliable oob estimates.\n"
     ]
    },
    {
     "name": "stdout",
     "output_type": "stream",
     "text": [
      "------------------------ INDEX: 1000 ------------------------\n"
     ]
    },
    {
     "name": "stderr",
     "output_type": "stream",
     "text": [
      "Setting feature_perturbation = \"tree_path_dependent\" because no background data was given.\n",
      "[Parallel(n_jobs=-1)]: Using backend ThreadingBackend with 4 concurrent workers.\n",
      "[Parallel(n_jobs=-1)]: Done  20 out of  20 | elapsed:    0.0s finished\n",
      "Setting feature_perturbation = \"tree_path_dependent\" because no background data was given.\n",
      "[Parallel(n_jobs=-1)]: Using backend ThreadingBackend with 4 concurrent workers.\n",
      "[Parallel(n_jobs=-1)]: Done  20 out of  20 | elapsed:    0.0s finished\n",
      "Setting feature_perturbation = \"tree_path_dependent\" because no background data was given.\n"
     ]
    },
    {
     "name": "stdout",
     "output_type": "stream",
     "text": [
      "[DRIFT][Small Window]: Pairwise Correlation Drift detected: pickup_longitude <> passenger_count!\t(Index: 1823)\n"
     ]
    },
    {
     "name": "stderr",
     "output_type": "stream",
     "text": [
      "[Parallel(n_jobs=-1)]: Using backend ThreadingBackend with 4 concurrent workers.\n",
      "[Parallel(n_jobs=-1)]: Done  20 out of  20 | elapsed:    0.0s finished\n"
     ]
    },
    {
     "name": "stdout",
     "output_type": "stream",
     "text": [
      "------------------------ INDEX: 2000 ------------------------\n"
     ]
    },
    {
     "name": "stderr",
     "output_type": "stream",
     "text": [
      "Setting feature_perturbation = \"tree_path_dependent\" because no background data was given.\n"
     ]
    },
    {
     "name": "stdout",
     "output_type": "stream",
     "text": [
      "[DRIFT][Small Window]: Downwards Data Drift detected! (passenger_count 75%-Quantile: 1.4629324546952225)\t(Index: 2127)\n",
      "[DRIFT][Small Window]: Pairwise Correlation Drift detected: pickup_longitude <> passenger_count!\t(Index: 2127)\n"
     ]
    },
    {
     "name": "stderr",
     "output_type": "stream",
     "text": [
      "[Parallel(n_jobs=-1)]: Using backend ThreadingBackend with 4 concurrent workers.\n",
      "[Parallel(n_jobs=-1)]: Done  20 out of  20 | elapsed:    0.0s finished\n",
      "Setting feature_perturbation = \"tree_path_dependent\" because no background data was given.\n"
     ]
    },
    {
     "name": "stdout",
     "output_type": "stream",
     "text": [
      "[DRIFT][Small Window]: Downwards Data Drift detected! (passenger_count 75%-Quantile: 1.4827018121911038)\t(Index: 2431)\n",
      "[DRIFT][Small Window]: Upwards Data Drift detected!. (manhattan AVG: 0.2628168996184791)\t(Index: 2431)\n",
      "[DRIFT][Small Window]: Upwards Data Drift detected! (manhattan 75%-Quantile: 0.2628168996184791)\t(Index: 2431)\n",
      "[DRIFT][Small Window]: Upwards Data Drift detected!. (euclidean AVG: 0.22173974038275582)\t(Index: 2431)\n",
      "[DRIFT][Small Window]: Upwards Data Drift detected! (euclidean 75%-Quantile: 0.22173974038275582)\t(Index: 2431)\n",
      "[DRIFT][Small Window]: Upwards Data Drift detected!. (haversine AVG: 21.01073421978561)\t(Index: 2431)\n",
      "[DRIFT][Small Window]: Upwards Data Drift detected! (haversine 75%-Quantile: 21.01073421978561)\t(Index: 2431)\n",
      "[DRIFT][Small Window]: KL-Divergence detected! (haversine Divergence: 77206.4996959252)\t(Index: 2431)\n",
      "[DRIFT][Small Window]: Wasserstein Distance detected! (haversine Distance: 17.684199508319626)\t(Index: 2431)\n",
      "[DRIFT][Small Window]: Pairwise Correlation Drift detected: dropoff_longitude <> passenger_count!\t(Index: 2431)\n"
     ]
    },
    {
     "name": "stderr",
     "output_type": "stream",
     "text": [
      "[Parallel(n_jobs=-1)]: Using backend ThreadingBackend with 4 concurrent workers.\n",
      "[Parallel(n_jobs=-1)]: Done  20 out of  20 | elapsed:    0.0s finished\n"
     ]
    },
    {
     "name": "stdout",
     "output_type": "stream",
     "text": [
      "[DRIFT][Small Window]: Multi-Dimensional Upwards Mean Drift Detected! Distance: 188.13250274722634\t\t\t(Index: 2431)\n"
     ]
    },
    {
     "name": "stderr",
     "output_type": "stream",
     "text": [
      "Setting feature_perturbation = \"tree_path_dependent\" because no background data was given.\n"
     ]
    },
    {
     "name": "stdout",
     "output_type": "stream",
     "text": [
      "[DRIFT][Small Window]: Downwards Data Drift detected! (passenger_count 75%-Quantile: 1.5370675453047775)\t(Index: 2735)\n",
      "[DRIFT][Small Window]: Upwards Data Drift detected!. (manhattan AVG: 0.7616492396430674)\t(Index: 2735)\n",
      "[DRIFT][Small Window]: Upwards Data Drift detected! (manhattan 25%-Quantile: 0.7616492396430674)\t(Index: 2735)\n",
      "[DRIFT][Small Window]: Upwards Data Drift detected! (manhattan 75%-Quantile: 0.7616492396430674)\t(Index: 2735)\n",
      "[DRIFT][Small Window]: Upwards Data Drift detected!. (euclidean AVG: 0.6447410712419868)\t(Index: 2735)\n",
      "[DRIFT][Small Window]: Upwards Data Drift detected! (euclidean 25%-Quantile: 0.6447410712419868)\t(Index: 2735)\n",
      "[DRIFT][Small Window]: Upwards Data Drift detected! (euclidean 75%-Quantile: 0.6447410712419868)\t(Index: 2735)\n",
      "[DRIFT][Small Window]: Upwards Data Drift detected!. (haversine AVG: 60.91697717827077)\t(Index: 2735)\n",
      "[DRIFT][Small Window]: Upwards Data Drift detected! (haversine 25%-Quantile: 60.91697717827077)\t(Index: 2735)\n",
      "[DRIFT][Small Window]: Upwards Data Drift detected! (haversine 75%-Quantile: 60.91697717827077)\t(Index: 2735)\n",
      "[DRIFT][Small Window]: KL-Divergence detected! (haversine Divergence: 229399.30005367886)\t(Index: 2735)\n",
      "[DRIFT][Small Window]: Wasserstein Distance detected! (haversine Distance: 57.57708725976987)\t(Index: 2735)\n"
     ]
    },
    {
     "name": "stderr",
     "output_type": "stream",
     "text": [
      "[Parallel(n_jobs=-1)]: Using backend ThreadingBackend with 4 concurrent workers.\n",
      "[Parallel(n_jobs=-1)]: Done  20 out of  20 | elapsed:    0.0s finished\n"
     ]
    },
    {
     "name": "stdout",
     "output_type": "stream",
     "text": [
      "[DRIFT][Small Window]: Multi-Dimensional Upwards Mean Drift Detected! Distance: 208.0570000360314\t\t\t(Index: 2735)\n",
      "------------------------ INDEX: 3000 ------------------------\n"
     ]
    },
    {
     "name": "stderr",
     "output_type": "stream",
     "text": [
      "Setting feature_perturbation = \"tree_path_dependent\" because no background data was given.\n"
     ]
    },
    {
     "name": "stdout",
     "output_type": "stream",
     "text": [
      "[DRIFT][Small Window]: Wasserstein Distance detected! (fare_amount Distance: 1.5809292617614559)\t(Index: 3039)\n",
      "[DRIFT][Small Window]: Upwards Data Drift detected!. (manhattan AVG: 1.0596006532955524)\t(Index: 3039)\n",
      "[DRIFT][Small Window]: Upwards Data Drift detected! (manhattan 25%-Quantile: 1.0596006532955524)\t(Index: 3039)\n",
      "[DRIFT][Small Window]: Upwards Data Drift detected! (manhattan 75%-Quantile: 1.0596006532955524)\t(Index: 3039)\n",
      "[DRIFT][Small Window]: Upwards Data Drift detected!. (euclidean AVG: 0.906098632648933)\t(Index: 3039)\n",
      "[DRIFT][Small Window]: Upwards Data Drift detected! (euclidean 25%-Quantile: 0.906098632648933)\t(Index: 3039)\n",
      "[DRIFT][Small Window]: Upwards Data Drift detected! (euclidean 75%-Quantile: 0.906098632648933)\t(Index: 3039)\n",
      "[DRIFT][Small Window]: Upwards Data Drift detected!. (haversine AVG: 85.8014075011393)\t(Index: 3039)\n",
      "[DRIFT][Small Window]: Upwards Data Drift detected! (haversine 25%-Quantile: 85.8014075011393)\t(Index: 3039)\n",
      "[DRIFT][Small Window]: Upwards Data Drift detected! (haversine 75%-Quantile: 85.8014075011393)\t(Index: 3039)\n",
      "[DRIFT][Small Window]: KL-Divergence detected! (haversine Divergence: 314576.5934115505)\t(Index: 3039)\n",
      "[DRIFT][Small Window]: Wasserstein Distance detected! (haversine Distance: 82.4615175826384)\t(Index: 3039)\n"
     ]
    },
    {
     "name": "stderr",
     "output_type": "stream",
     "text": [
      "[Parallel(n_jobs=-1)]: Using backend ThreadingBackend with 4 concurrent workers.\n",
      "[Parallel(n_jobs=-1)]: Done  20 out of  20 | elapsed:    0.0s finished\n"
     ]
    },
    {
     "name": "stdout",
     "output_type": "stream",
     "text": [
      "[DRIFT][Small Window]: Multi-Dimensional Upwards Mean Drift Detected! Distance: 224.91670805644637\t\t\t(Index: 3039)\n",
      "batch: 3.372500754911023, train: 2.200820905397247, train+threshold: 1.1004104526986236\n",
      "[DRIFT][Small Window]: Multi-Dimensional 3rd Quarter Upwards Drift Detected! Distance: 3.372500754911023\t\t\t(Index: 3039)\n"
     ]
    },
    {
     "name": "stderr",
     "output_type": "stream",
     "text": [
      "Setting feature_perturbation = \"tree_path_dependent\" because no background data was given.\n"
     ]
    },
    {
     "name": "stdout",
     "output_type": "stream",
     "text": [
      "[DRIFT][Small Window]: Wasserstein Distance detected! (fare_amount Distance: 1.3232507411560113)\t(Index: 3343)\n",
      "[DRIFT][Small Window]: Upwards Data Drift detected!. (manhattan AVG: 1.0700879821301352)\t(Index: 3343)\n",
      "[DRIFT][Small Window]: Upwards Data Drift detected! (manhattan 25%-Quantile: 1.0700879821301352)\t(Index: 3343)\n",
      "[DRIFT][Small Window]: Upwards Data Drift detected! (manhattan 75%-Quantile: 1.0700879821301352)\t(Index: 3343)\n",
      "[DRIFT][Small Window]: Upwards Data Drift detected!. (euclidean AVG: 0.9202091283818924)\t(Index: 3343)\n",
      "[DRIFT][Small Window]: Upwards Data Drift detected! (euclidean 25%-Quantile: 0.9202091283818924)\t(Index: 3343)\n",
      "[DRIFT][Small Window]: Upwards Data Drift detected! (euclidean 75%-Quantile: 0.9202091283818924)\t(Index: 3343)\n",
      "[DRIFT][Small Window]: Upwards Data Drift detected!. (haversine AVG: 87.12314512892823)\t(Index: 3343)\n",
      "[DRIFT][Small Window]: Upwards Data Drift detected! (haversine 25%-Quantile: 87.12314512892823)\t(Index: 3343)\n",
      "[DRIFT][Small Window]: Upwards Data Drift detected! (haversine 75%-Quantile: 87.12314512892823)\t(Index: 3343)\n",
      "[DRIFT][Small Window]: KL-Divergence detected! (haversine Divergence: 324533.9990511856)\t(Index: 3343)\n",
      "[DRIFT][Small Window]: Wasserstein Distance detected! (haversine Distance: 83.78325521042731)\t(Index: 3343)\n",
      "[DRIFT][Small Window]: Pairwise Correlation Drift detected: dropoff_longitude <> passenger_count!\t(Index: 3343)\n"
     ]
    },
    {
     "name": "stderr",
     "output_type": "stream",
     "text": [
      "[Parallel(n_jobs=-1)]: Using backend ThreadingBackend with 4 concurrent workers.\n",
      "[Parallel(n_jobs=-1)]: Done  20 out of  20 | elapsed:    0.0s finished\n"
     ]
    },
    {
     "name": "stdout",
     "output_type": "stream",
     "text": [
      "[DRIFT][Small Window]: Multi-Dimensional Upwards Mean Drift Detected! Distance: 224.91670805644637\t\t\t(Index: 3343)\n",
      "batch: 4.317423234420946, train: 2.200820905397247, train+threshold: 1.1004104526986236\n",
      "[DRIFT][Small Window]: Multi-Dimensional 3rd Quarter Upwards Drift Detected! Distance: 4.317423234420946\t\t\t(Index: 3343)\n"
     ]
    },
    {
     "name": "stderr",
     "output_type": "stream",
     "text": [
      "Setting feature_perturbation = \"tree_path_dependent\" because no background data was given.\n"
     ]
    },
    {
     "name": "stdout",
     "output_type": "stream",
     "text": [
      "[DRIFT][Small Window]: Downwards Data Drift detected! (passenger_count 75%-Quantile: 1.4843492586490938)\t(Index: 3647)\n",
      "[DRIFT][Small Window]: Upwards Data Drift detected!. (manhattan AVG: 1.072369512254475)\t(Index: 3647)\n",
      "[DRIFT][Small Window]: Upwards Data Drift detected! (manhattan 25%-Quantile: 1.072369512254475)\t(Index: 3647)\n",
      "[DRIFT][Small Window]: Upwards Data Drift detected! (manhattan 75%-Quantile: 1.072369512254475)\t(Index: 3647)\n",
      "[DRIFT][Small Window]: Upwards Data Drift detected!. (euclidean AVG: 0.9250541779475809)\t(Index: 3647)\n",
      "[DRIFT][Small Window]: Upwards Data Drift detected! (euclidean 25%-Quantile: 0.9250541779475809)\t(Index: 3647)\n",
      "[DRIFT][Small Window]: Upwards Data Drift detected! (euclidean 75%-Quantile: 0.9250541779475809)\t(Index: 3647)\n",
      "[DRIFT][Small Window]: Upwards Data Drift detected!. (haversine AVG: 86.72572548943333)\t(Index: 3647)\n",
      "[DRIFT][Small Window]: Upwards Data Drift detected! (haversine 25%-Quantile: 86.72572548943333)\t(Index: 3647)\n",
      "[DRIFT][Small Window]: Upwards Data Drift detected! (haversine 75%-Quantile: 86.72572548943333)\t(Index: 3647)\n",
      "[DRIFT][Small Window]: KL-Divergence detected! (haversine Divergence: 312230.60850689304)\t(Index: 3647)\n",
      "[DRIFT][Small Window]: Wasserstein Distance detected! (haversine Distance: 83.38583557093243)\t(Index: 3647)\n"
     ]
    },
    {
     "name": "stderr",
     "output_type": "stream",
     "text": [
      "[Parallel(n_jobs=-1)]: Using backend ThreadingBackend with 4 concurrent workers.\n",
      "[Parallel(n_jobs=-1)]: Done  20 out of  20 | elapsed:    0.0s finished\n"
     ]
    },
    {
     "name": "stdout",
     "output_type": "stream",
     "text": [
      "[DRIFT][Small Window]: Multi-Dimensional Upwards Mean Drift Detected! Distance: 224.91670805644637\t\t\t(Index: 3647)\n",
      "batch: 6.212706998408082, train: 2.200820905397247, train+threshold: 1.1004104526986236\n",
      "[DRIFT][Small Window]: Multi-Dimensional 3rd Quarter Upwards Drift Detected! Distance: 6.212706998408082\t\t\t(Index: 3647)\n"
     ]
    },
    {
     "name": "stderr",
     "output_type": "stream",
     "text": [
      "Setting feature_perturbation = \"tree_path_dependent\" because no background data was given.\n"
     ]
    },
    {
     "name": "stdout",
     "output_type": "stream",
     "text": [
      "[DRIFT][Small Window]: Downwards Data Drift detected! (passenger_count 75%-Quantile: 1.42998352553542)\t(Index: 3951)\n",
      "[DRIFT][Small Window]: Upwards Data Drift detected!. (manhattan AVG: 1.0206316940286622)\t(Index: 3951)\n",
      "[DRIFT][Small Window]: Upwards Data Drift detected! (manhattan 25%-Quantile: 1.0206316940286622)\t(Index: 3951)\n",
      "[DRIFT][Small Window]: Upwards Data Drift detected! (manhattan 75%-Quantile: 1.0206316940286622)\t(Index: 3951)\n",
      "[DRIFT][Small Window]: Upwards Data Drift detected!. (euclidean AVG: 0.8835041811470706)\t(Index: 3951)\n",
      "[DRIFT][Small Window]: Upwards Data Drift detected! (euclidean 25%-Quantile: 0.8835041811470706)\t(Index: 3951)\n",
      "[DRIFT][Small Window]: Upwards Data Drift detected! (euclidean 75%-Quantile: 0.8835041811470706)\t(Index: 3951)\n",
      "[DRIFT][Small Window]: Upwards Data Drift detected!. (haversine AVG: 83.07717970264834)\t(Index: 3951)\n",
      "[DRIFT][Small Window]: Upwards Data Drift detected! (haversine 25%-Quantile: 83.07717970264834)\t(Index: 3951)\n",
      "[DRIFT][Small Window]: Upwards Data Drift detected! (haversine 75%-Quantile: 83.07717970264834)\t(Index: 3951)\n",
      "[DRIFT][Small Window]: KL-Divergence detected! (haversine Divergence: 296562.3576812403)\t(Index: 3951)\n",
      "[DRIFT][Small Window]: Wasserstein Distance detected! (haversine Distance: 79.73728978414744)\t(Index: 3951)\n"
     ]
    },
    {
     "name": "stderr",
     "output_type": "stream",
     "text": [
      "[Parallel(n_jobs=-1)]: Using backend ThreadingBackend with 4 concurrent workers.\n",
      "[Parallel(n_jobs=-1)]: Done  20 out of  20 | elapsed:    0.0s finished\n"
     ]
    },
    {
     "name": "stdout",
     "output_type": "stream",
     "text": [
      "[DRIFT][Small Window]: Multi-Dimensional Upwards Mean Drift Detected! Distance: 224.91670805644637\t\t\t(Index: 3951)\n",
      "batch: 8.96188954596597, train: 2.200820905397247, train+threshold: 1.1004104526986236\n",
      "[DRIFT][Small Window]: Multi-Dimensional 3rd Quarter Upwards Drift Detected! Distance: 8.96188954596597\t\t\t(Index: 3951)\n",
      "------------------------ INDEX: 4000 ------------------------\n"
     ]
    },
    {
     "name": "stderr",
     "output_type": "stream",
     "text": [
      "Setting feature_perturbation = \"tree_path_dependent\" because no background data was given.\n"
     ]
    },
    {
     "name": "stdout",
     "output_type": "stream",
     "text": [
      "[DRIFT][Small Window]: Downwards Data Drift detected! (passenger_count 75%-Quantile: 1.4843492586490938)\t(Index: 4255)\n",
      "[DRIFT][Small Window]: Upwards Data Drift detected!. (manhattan AVG: 0.9803149234231946)\t(Index: 4255)\n",
      "[DRIFT][Small Window]: Upwards Data Drift detected! (manhattan 25%-Quantile: 0.9803149234231946)\t(Index: 4255)\n",
      "[DRIFT][Small Window]: Upwards Data Drift detected! (manhattan 75%-Quantile: 0.9803149234231946)\t(Index: 4255)\n",
      "[DRIFT][Small Window]: Upwards Data Drift detected!. (euclidean AVG: 0.8286305988178455)\t(Index: 4255)\n",
      "[DRIFT][Small Window]: Upwards Data Drift detected! (euclidean 25%-Quantile: 0.8286305988178455)\t(Index: 4255)\n",
      "[DRIFT][Small Window]: Upwards Data Drift detected! (euclidean 75%-Quantile: 0.8286305988178455)\t(Index: 4255)\n",
      "[DRIFT][Small Window]: Upwards Data Drift detected!. (haversine AVG: 79.41281936138934)\t(Index: 4255)\n",
      "[DRIFT][Small Window]: Upwards Data Drift detected! (haversine 25%-Quantile: 79.41281936138934)\t(Index: 4255)\n",
      "[DRIFT][Small Window]: Upwards Data Drift detected! (haversine 75%-Quantile: 79.41281936138934)\t(Index: 4255)\n",
      "[DRIFT][Small Window]: KL-Divergence detected! (haversine Divergence: 293191.18974875356)\t(Index: 4255)\n",
      "[DRIFT][Small Window]: Wasserstein Distance detected! (haversine Distance: 76.07292944288842)\t(Index: 4255)\n"
     ]
    },
    {
     "name": "stderr",
     "output_type": "stream",
     "text": [
      "[Parallel(n_jobs=-1)]: Using backend ThreadingBackend with 4 concurrent workers.\n",
      "[Parallel(n_jobs=-1)]: Done  20 out of  20 | elapsed:    0.0s finished\n"
     ]
    },
    {
     "name": "stdout",
     "output_type": "stream",
     "text": [
      "[DRIFT][Small Window]: Multi-Dimensional Upwards Mean Drift Detected! Distance: 224.91670805644637\t\t\t(Index: 4255)\n",
      "batch: 18.713492949371442, train: 2.200820905397247, train+threshold: 1.1004104526986236\n",
      "[DRIFT][Small Window]: Multi-Dimensional 3rd Quarter Upwards Drift Detected! Distance: 18.713492949371442\t\t\t(Index: 4255)\n"
     ]
    },
    {
     "name": "stderr",
     "output_type": "stream",
     "text": [
      "Setting feature_perturbation = \"tree_path_dependent\" because no background data was given.\n"
     ]
    },
    {
     "name": "stdout",
     "output_type": "stream",
     "text": [
      "[DRIFT][Medium Window]: Upwards Data Drift detected! (fare_amount 25%-Quantile: 11.248309819025506)\t(Index: 4258)\n",
      "[DRIFT][Medium Window]: KL-Divergence detected! (fare_amount Divergence: 38562.07794504133)\t(Index: 4258)\n",
      "[DRIFT][Medium Window]: Wasserstein Distance detected! (fare_amount Distance: 0.7350751672064697)\t(Index: 4258)\n",
      "[DRIFT][Medium Window]: KL-Divergence detected! (fare-bin Divergence: 5311.193396645519)\t(Index: 4258)\n",
      "[DRIFT][Medium Window]: KL-Divergence detected! (pickup_longitude Divergence: 1722.3267098271426)\t(Index: 4258)\n",
      "[DRIFT][Medium Window]: Wasserstein Distance detected! (pickup_longitude Distance: 0.28327732321087173)\t(Index: 4258)\n",
      "[DRIFT][Medium Window]: KL-Divergence detected! (pickup_latitude Divergence: 1142.3677812285562)\t(Index: 4258)\n",
      "[DRIFT][Medium Window]: KL-Divergence detected! (passenger_count Divergence: 2442.5669717273986)\t(Index: 4258)\n",
      "[DRIFT][Medium Window]: Upwards Data Drift detected!. (manhattan AVG: 0.503054597450548)\t(Index: 4258)\n",
      "[DRIFT][Medium Window]: Upwards Data Drift detected! (manhattan 25%-Quantile: 0.503054597450548)\t(Index: 4258)\n",
      "[DRIFT][Medium Window]: Upwards Data Drift detected! (manhattan 75%-Quantile: 0.503054597450548)\t(Index: 4258)\n",
      "[DRIFT][Medium Window]: KL-Divergence detected! (manhattan Divergence: 12678.447213879846)\t(Index: 4258)\n",
      "[DRIFT][Medium Window]: Wasserstein Distance detected! (manhattan Distance: 0.45884955195578164)\t(Index: 4258)\n",
      "[DRIFT][Medium Window]: Upwards Data Drift detected!. (euclidean AVG: 0.42774958160856114)\t(Index: 4258)\n",
      "[DRIFT][Medium Window]: Upwards Data Drift detected! (euclidean 25%-Quantile: 0.42774958160856114)\t(Index: 4258)\n",
      "[DRIFT][Medium Window]: Upwards Data Drift detected! (euclidean 75%-Quantile: 0.42774958160856114)\t(Index: 4258)\n",
      "[DRIFT][Medium Window]: KL-Divergence detected! (euclidean Divergence: 10999.543113470712)\t(Index: 4258)\n",
      "[DRIFT][Medium Window]: Wasserstein Distance detected! (euclidean Distance: 0.39357565519618054)\t(Index: 4258)\n",
      "[DRIFT][Medium Window]: Upwards Data Drift detected!. (haversine AVG: 40.558385747034635)\t(Index: 4258)\n",
      "[DRIFT][Medium Window]: Upwards Data Drift detected! (haversine 25%-Quantile: 40.558385747034635)\t(Index: 4258)\n",
      "[DRIFT][Medium Window]: Upwards Data Drift detected! (haversine 75%-Quantile: 40.558385747034635)\t(Index: 4258)\n",
      "[DRIFT][Medium Window]: KL-Divergence detected! (haversine Divergence: 1033621.1518776352)\t(Index: 4258)\n",
      "[DRIFT][Medium Window]: Wasserstein Distance detected! (haversine Distance: 37.218495828533726)\t(Index: 4258)\n"
     ]
    },
    {
     "name": "stderr",
     "output_type": "stream",
     "text": [
      "[Parallel(n_jobs=-1)]: Using backend ThreadingBackend with 4 concurrent workers.\n",
      "[Parallel(n_jobs=-1)]: Done  20 out of  20 | elapsed:    0.1s finished\n",
      "Some inputs do not have OOB scores. This probably means too few trees were used to compute any reliable oob estimates.\n"
     ]
    },
    {
     "name": "stdout",
     "output_type": "stream",
     "text": [
      "[DRIFT][Medium Window]: Multi-Dimensional Upwards Mean Drift Detected! Distance: 224.91670805644637\t\t\t(Index: 4258)\n",
      "batch: 19.309364048075814, train: 2.200820905397247, train+threshold: 1.1004104526986236\n",
      "[DRIFT][Medium Window]: Multi-Dimensional 3rd Quarter Upwards Drift Detected! Distance: 19.309364048075814\t\t\t(Index: 4258)\n"
     ]
    },
    {
     "name": "stderr",
     "output_type": "stream",
     "text": [
      "Setting feature_perturbation = \"tree_path_dependent\" because no background data was given.\n"
     ]
    },
    {
     "name": "stdout",
     "output_type": "stream",
     "text": [
      "[DRIFT][Small Window]: Upwards Data Drift detected!. (manhattan AVG: 1.028209257806967)\t(Index: 4559)\n",
      "[DRIFT][Small Window]: Upwards Data Drift detected! (manhattan 25%-Quantile: 1.028209257806967)\t(Index: 4559)\n",
      "[DRIFT][Small Window]: Upwards Data Drift detected! (manhattan 75%-Quantile: 1.028209257806967)\t(Index: 4559)\n",
      "[DRIFT][Small Window]: Upwards Data Drift detected!. (euclidean AVG: 0.8639282948010545)\t(Index: 4559)\n",
      "[DRIFT][Small Window]: Upwards Data Drift detected! (euclidean 25%-Quantile: 0.8639282948010545)\t(Index: 4559)\n",
      "[DRIFT][Small Window]: Upwards Data Drift detected! (euclidean 75%-Quantile: 0.8639282948010545)\t(Index: 4559)\n",
      "[DRIFT][Small Window]: Upwards Data Drift detected!. (haversine AVG: 83.05785449332107)\t(Index: 4559)\n",
      "[DRIFT][Small Window]: Upwards Data Drift detected! (haversine 25%-Quantile: 83.05785449332107)\t(Index: 4559)\n",
      "[DRIFT][Small Window]: Upwards Data Drift detected! (haversine 75%-Quantile: 83.05785449332107)\t(Index: 4559)\n",
      "[DRIFT][Small Window]: KL-Divergence detected! (haversine Divergence: 307265.54857567995)\t(Index: 4559)\n",
      "[DRIFT][Small Window]: Wasserstein Distance detected! (haversine Distance: 79.71796457482016)\t(Index: 4559)\n"
     ]
    },
    {
     "name": "stderr",
     "output_type": "stream",
     "text": [
      "[Parallel(n_jobs=-1)]: Using backend ThreadingBackend with 4 concurrent workers.\n",
      "[Parallel(n_jobs=-1)]: Done  20 out of  20 | elapsed:    0.0s finished\n"
     ]
    },
    {
     "name": "stdout",
     "output_type": "stream",
     "text": [
      "[DRIFT][Small Window]: Multi-Dimensional Upwards Mean Drift Detected! Distance: 231.69845443381874\t\t\t(Index: 4559)\n",
      "batch: 34.11599945274389, train: 2.200820905397247, train+threshold: 1.1004104526986236\n",
      "[DRIFT][Small Window]: Multi-Dimensional 3rd Quarter Upwards Drift Detected! Distance: 34.11599945274389\t\t\t(Index: 4559)\n"
     ]
    },
    {
     "name": "stderr",
     "output_type": "stream",
     "text": [
      "Setting feature_perturbation = \"tree_path_dependent\" because no background data was given.\n"
     ]
    },
    {
     "name": "stdout",
     "output_type": "stream",
     "text": [
      "[DRIFT][Small Window]: Upwards Data Drift detected!. (manhattan AVG: 1.1225831394858683)\t(Index: 4863)\n",
      "[DRIFT][Small Window]: Upwards Data Drift detected! (manhattan 25%-Quantile: 1.1225831394858683)\t(Index: 4863)\n",
      "[DRIFT][Small Window]: Upwards Data Drift detected! (manhattan 75%-Quantile: 1.1225831394858683)\t(Index: 4863)\n",
      "[DRIFT][Small Window]: Upwards Data Drift detected!. (euclidean AVG: 0.9519369024754087)\t(Index: 4863)\n",
      "[DRIFT][Small Window]: Upwards Data Drift detected! (euclidean 25%-Quantile: 0.9519369024754087)\t(Index: 4863)\n",
      "[DRIFT][Small Window]: Upwards Data Drift detected! (euclidean 75%-Quantile: 0.9519369024754087)\t(Index: 4863)\n",
      "[DRIFT][Small Window]: Upwards Data Drift detected!. (haversine AVG: 91.3811143959439)\t(Index: 4863)\n",
      "[DRIFT][Small Window]: Upwards Data Drift detected! (haversine 25%-Quantile: 91.3811143959439)\t(Index: 4863)\n",
      "[DRIFT][Small Window]: Upwards Data Drift detected! (haversine 75%-Quantile: 91.3811143959439)\t(Index: 4863)\n",
      "[DRIFT][Small Window]: KL-Divergence detected! (haversine Divergence: 335075.7584523198)\t(Index: 4863)\n",
      "[DRIFT][Small Window]: Wasserstein Distance detected! (haversine Distance: 88.04122447744298)\t(Index: 4863)\n"
     ]
    },
    {
     "name": "stderr",
     "output_type": "stream",
     "text": [
      "[Parallel(n_jobs=-1)]: Using backend ThreadingBackend with 4 concurrent workers.\n",
      "[Parallel(n_jobs=-1)]: Done  20 out of  20 | elapsed:    0.0s finished\n"
     ]
    },
    {
     "name": "stdout",
     "output_type": "stream",
     "text": [
      "[DRIFT][Small Window]: Multi-Dimensional Upwards Mean Drift Detected! Distance: 231.69845443381874\t\t\t(Index: 4863)\n",
      "batch: 46.57187685884614, train: 2.200820905397247, train+threshold: 1.1004104526986236\n",
      "[DRIFT][Small Window]: Multi-Dimensional 3rd Quarter Upwards Drift Detected! Distance: 46.57187685884614\t\t\t(Index: 4863)\n",
      "------------------------ INDEX: 5000 ------------------------\n"
     ]
    },
    {
     "name": "stderr",
     "output_type": "stream",
     "text": [
      "Setting feature_perturbation = \"tree_path_dependent\" because no background data was given.\n"
     ]
    },
    {
     "name": "stdout",
     "output_type": "stream",
     "text": [
      "[DRIFT][Small Window]: Wasserstein Distance detected! (fare_amount Distance: 1.466942906166146)\t(Index: 5167)\n",
      "[DRIFT][Small Window]: Upwards Data Drift detected!. (manhattan AVG: 1.2152101864588742)\t(Index: 5167)\n",
      "[DRIFT][Small Window]: Upwards Data Drift detected! (manhattan 25%-Quantile: 1.2152101864588742)\t(Index: 5167)\n",
      "[DRIFT][Small Window]: Upwards Data Drift detected! (manhattan 75%-Quantile: 1.2152101864588742)\t(Index: 5167)\n",
      "[DRIFT][Small Window]: Upwards Data Drift detected!. (euclidean AVG: 1.0226229009364638)\t(Index: 5167)\n",
      "[DRIFT][Small Window]: Upwards Data Drift detected! (euclidean 25%-Quantile: 1.0226229009364638)\t(Index: 5167)\n",
      "[DRIFT][Small Window]: Upwards Data Drift detected! (euclidean 75%-Quantile: 1.0226229009364638)\t(Index: 5167)\n",
      "[DRIFT][Small Window]: Upwards Data Drift detected!. (haversine AVG: 98.10076729141115)\t(Index: 5167)\n",
      "[DRIFT][Small Window]: Upwards Data Drift detected! (haversine 25%-Quantile: 98.10076729141115)\t(Index: 5167)\n",
      "[DRIFT][Small Window]: Upwards Data Drift detected! (haversine 75%-Quantile: 98.10076729141115)\t(Index: 5167)\n",
      "[DRIFT][Small Window]: KL-Divergence detected! (haversine Divergence: 358798.0055886909)\t(Index: 5167)\n",
      "[DRIFT][Small Window]: Wasserstein Distance detected! (haversine Distance: 94.76087737291024)\t(Index: 5167)\n"
     ]
    },
    {
     "name": "stderr",
     "output_type": "stream",
     "text": [
      "[Parallel(n_jobs=-1)]: Using backend ThreadingBackend with 4 concurrent workers.\n",
      "[Parallel(n_jobs=-1)]: Done  20 out of  20 | elapsed:    0.0s finished\n"
     ]
    },
    {
     "name": "stdout",
     "output_type": "stream",
     "text": [
      "[DRIFT][Small Window]: Multi-Dimensional Upwards Mean Drift Detected! Distance: 231.69845443381874\t\t\t(Index: 5167)\n",
      "batch: 54.67857240220245, train: 2.200820905397247, train+threshold: 1.1004104526986236\n",
      "[DRIFT][Small Window]: Multi-Dimensional 3rd Quarter Upwards Drift Detected! Distance: 54.67857240220245\t\t\t(Index: 5167)\n"
     ]
    },
    {
     "name": "stderr",
     "output_type": "stream",
     "text": [
      "Setting feature_perturbation = \"tree_path_dependent\" because no background data was given.\n"
     ]
    },
    {
     "name": "stdout",
     "output_type": "stream",
     "text": [
      "[DRIFT][Small Window]: Wasserstein Distance detected! (fare_amount Distance: 1.2368913804329091)\t(Index: 5471)\n",
      "[DRIFT][Small Window]: Upwards Data Drift detected!. (manhattan AVG: 1.269969255615803)\t(Index: 5471)\n",
      "[DRIFT][Small Window]: Upwards Data Drift detected! (manhattan 25%-Quantile: 1.269969255615803)\t(Index: 5471)\n",
      "[DRIFT][Small Window]: Upwards Data Drift detected! (manhattan 75%-Quantile: 1.269969255615803)\t(Index: 5471)\n",
      "[DRIFT][Small Window]: Wasserstein Distance detected! (manhattan Distance: 1.2257642101210364)\t(Index: 5471)\n",
      "[DRIFT][Small Window]: Upwards Data Drift detected!. (euclidean AVG: 1.0687399788341039)\t(Index: 5471)\n",
      "[DRIFT][Small Window]: Upwards Data Drift detected! (euclidean 25%-Quantile: 1.0687399788341039)\t(Index: 5471)\n",
      "[DRIFT][Small Window]: Upwards Data Drift detected! (euclidean 75%-Quantile: 1.0687399788341039)\t(Index: 5471)\n",
      "[DRIFT][Small Window]: Upwards Data Drift detected!. (haversine AVG: 102.24251440291444)\t(Index: 5471)\n",
      "[DRIFT][Small Window]: Upwards Data Drift detected! (haversine 25%-Quantile: 102.24251440291444)\t(Index: 5471)\n",
      "[DRIFT][Small Window]: Upwards Data Drift detected! (haversine 75%-Quantile: 102.24251440291444)\t(Index: 5471)\n",
      "[DRIFT][Small Window]: KL-Divergence detected! (haversine Divergence: 375268.8322265954)\t(Index: 5471)\n",
      "[DRIFT][Small Window]: Wasserstein Distance detected! (haversine Distance: 98.90262448441351)\t(Index: 5471)\n"
     ]
    },
    {
     "name": "stderr",
     "output_type": "stream",
     "text": [
      "[Parallel(n_jobs=-1)]: Using backend ThreadingBackend with 4 concurrent workers.\n",
      "[Parallel(n_jobs=-1)]: Done  20 out of  20 | elapsed:    0.0s finished\n"
     ]
    },
    {
     "name": "stdout",
     "output_type": "stream",
     "text": [
      "[DRIFT][Small Window]: Multi-Dimensional Upwards Mean Drift Detected! Distance: 231.69845443381874\t\t\t(Index: 5471)\n",
      "batch: 63.61635238387079, train: 2.200820905397247, train+threshold: 1.1004104526986236\n",
      "[DRIFT][Small Window]: Multi-Dimensional 3rd Quarter Upwards Drift Detected! Distance: 63.61635238387079\t\t\t(Index: 5471)\n"
     ]
    },
    {
     "name": "stderr",
     "output_type": "stream",
     "text": [
      "Setting feature_perturbation = \"tree_path_dependent\" because no background data was given.\n"
     ]
    },
    {
     "name": "stdout",
     "output_type": "stream",
     "text": [
      "[DRIFT][Small Window]: Upwards Data Drift detected!. (manhattan AVG: 1.1785083309652842)\t(Index: 5775)\n",
      "[DRIFT][Small Window]: Upwards Data Drift detected! (manhattan 25%-Quantile: 1.1785083309652842)\t(Index: 5775)\n",
      "[DRIFT][Small Window]: Upwards Data Drift detected! (manhattan 75%-Quantile: 1.1785083309652842)\t(Index: 5775)\n",
      "[DRIFT][Small Window]: Upwards Data Drift detected!. (euclidean AVG: 1.003555164235473)\t(Index: 5775)\n",
      "[DRIFT][Small Window]: Upwards Data Drift detected! (euclidean 25%-Quantile: 1.003555164235473)\t(Index: 5775)\n",
      "[DRIFT][Small Window]: Upwards Data Drift detected! (euclidean 75%-Quantile: 1.003555164235473)\t(Index: 5775)\n",
      "[DRIFT][Small Window]: Upwards Data Drift detected!. (haversine AVG: 96.48105765133432)\t(Index: 5775)\n",
      "[DRIFT][Small Window]: Upwards Data Drift detected! (haversine 25%-Quantile: 96.48105765133432)\t(Index: 5775)\n",
      "[DRIFT][Small Window]: Upwards Data Drift detected! (haversine 75%-Quantile: 96.48105765133432)\t(Index: 5775)\n",
      "[DRIFT][Small Window]: KL-Divergence detected! (haversine Divergence: 356804.42118918366)\t(Index: 5775)\n",
      "[DRIFT][Small Window]: Wasserstein Distance detected! (haversine Distance: 93.14116773283342)\t(Index: 5775)\n"
     ]
    },
    {
     "name": "stderr",
     "output_type": "stream",
     "text": [
      "[Parallel(n_jobs=-1)]: Using backend ThreadingBackend with 4 concurrent workers.\n",
      "[Parallel(n_jobs=-1)]: Done  20 out of  20 | elapsed:    0.0s finished\n"
     ]
    },
    {
     "name": "stdout",
     "output_type": "stream",
     "text": [
      "[DRIFT][Small Window]: Multi-Dimensional Upwards Mean Drift Detected! Distance: 231.69845443381874\t\t\t(Index: 5775)\n",
      "batch: 67.49822939527071, train: 2.200820905397247, train+threshold: 1.1004104526986236\n",
      "[DRIFT][Small Window]: Multi-Dimensional 3rd Quarter Upwards Drift Detected! Distance: 67.49822939527071\t\t\t(Index: 5775)\n",
      "------------------------ INDEX: 6000 ------------------------\n"
     ]
    },
    {
     "name": "stderr",
     "output_type": "stream",
     "text": [
      "Setting feature_perturbation = \"tree_path_dependent\" because no background data was given.\n"
     ]
    },
    {
     "name": "stdout",
     "output_type": "stream",
     "text": [
      "[DRIFT][Small Window]: Upwards Data Drift detected!. (manhattan AVG: 1.0414112336196286)\t(Index: 6079)\n",
      "[DRIFT][Small Window]: Upwards Data Drift detected! (manhattan 25%-Quantile: 1.0414112336196286)\t(Index: 6079)\n",
      "[DRIFT][Small Window]: Upwards Data Drift detected! (manhattan 75%-Quantile: 1.0414112336196286)\t(Index: 6079)\n",
      "[DRIFT][Small Window]: Upwards Data Drift detected!. (euclidean AVG: 0.8912243208452741)\t(Index: 6079)\n",
      "[DRIFT][Small Window]: Upwards Data Drift detected! (euclidean 25%-Quantile: 0.8912243208452741)\t(Index: 6079)\n",
      "[DRIFT][Small Window]: Upwards Data Drift detected! (euclidean 75%-Quantile: 0.8912243208452741)\t(Index: 6079)\n",
      "[DRIFT][Small Window]: Upwards Data Drift detected!. (haversine AVG: 84.96426958623364)\t(Index: 6079)\n",
      "[DRIFT][Small Window]: Upwards Data Drift detected! (haversine 25%-Quantile: 84.96426958623364)\t(Index: 6079)\n",
      "[DRIFT][Small Window]: Upwards Data Drift detected! (haversine 75%-Quantile: 84.96426958623364)\t(Index: 6079)\n",
      "[DRIFT][Small Window]: KL-Divergence detected! (haversine Divergence: 301030.34561876795)\t(Index: 6079)\n",
      "[DRIFT][Small Window]: Wasserstein Distance detected! (haversine Distance: 81.62437966773275)\t(Index: 6079)\n"
     ]
    },
    {
     "name": "stderr",
     "output_type": "stream",
     "text": [
      "[Parallel(n_jobs=-1)]: Using backend ThreadingBackend with 4 concurrent workers.\n",
      "[Parallel(n_jobs=-1)]: Done  20 out of  20 | elapsed:    0.0s finished\n"
     ]
    },
    {
     "name": "stdout",
     "output_type": "stream",
     "text": [
      "[DRIFT][Small Window]: Multi-Dimensional Upwards Mean Drift Detected! Distance: 231.69845443381874\t\t\t(Index: 6079)\n",
      "batch: 69.805295804996, train: 2.200820905397247, train+threshold: 1.1004104526986236\n",
      "[DRIFT][Small Window]: Multi-Dimensional 3rd Quarter Upwards Drift Detected! Distance: 69.805295804996\t\t\t(Index: 6079)\n"
     ]
    },
    {
     "name": "stderr",
     "output_type": "stream",
     "text": [
      "Setting feature_perturbation = \"tree_path_dependent\" because no background data was given.\n"
     ]
    },
    {
     "name": "stdout",
     "output_type": "stream",
     "text": [
      "[DRIFT][Small Window]: Wasserstein Distance detected! (fare_amount Distance: 1.329940617379777)\t(Index: 6383)\n",
      "[DRIFT][Small Window]: Downwards Data Drift detected! (passenger_count 75%-Quantile: 1.4612850082372324)\t(Index: 6383)\n",
      "[DRIFT][Small Window]: Upwards Data Drift detected!. (manhattan AVG: 1.0557134333671456)\t(Index: 6383)\n",
      "[DRIFT][Small Window]: Upwards Data Drift detected! (manhattan 25%-Quantile: 1.0557134333671456)\t(Index: 6383)\n",
      "[DRIFT][Small Window]: Upwards Data Drift detected! (manhattan 75%-Quantile: 1.0557134333671456)\t(Index: 6383)\n",
      "[DRIFT][Small Window]: Upwards Data Drift detected!. (euclidean AVG: 0.9034205755194609)\t(Index: 6383)\n",
      "[DRIFT][Small Window]: Upwards Data Drift detected! (euclidean 25%-Quantile: 0.9034205755194609)\t(Index: 6383)\n",
      "[DRIFT][Small Window]: Upwards Data Drift detected! (euclidean 75%-Quantile: 0.9034205755194609)\t(Index: 6383)\n",
      "[DRIFT][Small Window]: Upwards Data Drift detected!. (haversine AVG: 84.8279026921227)\t(Index: 6383)\n",
      "[DRIFT][Small Window]: Upwards Data Drift detected! (haversine 25%-Quantile: 84.8279026921227)\t(Index: 6383)\n",
      "[DRIFT][Small Window]: Upwards Data Drift detected! (haversine 75%-Quantile: 84.8279026921227)\t(Index: 6383)\n",
      "[DRIFT][Small Window]: KL-Divergence detected! (haversine Divergence: 303954.9741786464)\t(Index: 6383)\n",
      "[DRIFT][Small Window]: Wasserstein Distance detected! (haversine Distance: 81.4880127736218)\t(Index: 6383)\n"
     ]
    },
    {
     "name": "stderr",
     "output_type": "stream",
     "text": [
      "[Parallel(n_jobs=-1)]: Using backend ThreadingBackend with 4 concurrent workers.\n",
      "[Parallel(n_jobs=-1)]: Done  20 out of  20 | elapsed:    0.0s finished\n"
     ]
    },
    {
     "name": "stdout",
     "output_type": "stream",
     "text": [
      "[DRIFT][Small Window]: Multi-Dimensional Upwards Mean Drift Detected! Distance: 231.69845443381874\t\t\t(Index: 6383)\n",
      "batch: 72.14077264934791, train: 2.200820905397247, train+threshold: 1.1004104526986236\n",
      "[DRIFT][Small Window]: Multi-Dimensional 3rd Quarter Upwards Drift Detected! Distance: 72.14077264934791\t\t\t(Index: 6383)\n"
     ]
    },
    {
     "name": "stderr",
     "output_type": "stream",
     "text": [
      "Setting feature_perturbation = \"tree_path_dependent\" because no background data was given.\n"
     ]
    },
    {
     "name": "stdout",
     "output_type": "stream",
     "text": [
      "[DRIFT][Small Window]: Wasserstein Distance detected! (fare_amount Distance: 1.2224801104772776)\t(Index: 6687)\n",
      "[DRIFT][Small Window]: Downwards Data Drift detected! (passenger_count 75%-Quantile: 1.42833607907743)\t(Index: 6687)\n",
      "[DRIFT][Small Window]: Upwards Data Drift detected!. (manhattan AVG: 0.9837428866294515)\t(Index: 6687)\n",
      "[DRIFT][Small Window]: Upwards Data Drift detected! (manhattan 25%-Quantile: 0.9837428866294515)\t(Index: 6687)\n",
      "[DRIFT][Small Window]: Upwards Data Drift detected! (manhattan 75%-Quantile: 0.9837428866294515)\t(Index: 6687)\n",
      "[DRIFT][Small Window]: Upwards Data Drift detected!. (euclidean AVG: 0.8494627813242555)\t(Index: 6687)\n",
      "[DRIFT][Small Window]: Upwards Data Drift detected! (euclidean 25%-Quantile: 0.8494627813242555)\t(Index: 6687)\n",
      "[DRIFT][Small Window]: Upwards Data Drift detected! (euclidean 75%-Quantile: 0.8494627813242555)\t(Index: 6687)\n",
      "[DRIFT][Small Window]: Upwards Data Drift detected!. (haversine AVG: 80.27948374363203)\t(Index: 6687)\n",
      "[DRIFT][Small Window]: Upwards Data Drift detected! (haversine 25%-Quantile: 80.27948374363203)\t(Index: 6687)\n",
      "[DRIFT][Small Window]: Upwards Data Drift detected! (haversine 75%-Quantile: 80.27948374363203)\t(Index: 6687)\n",
      "[DRIFT][Small Window]: KL-Divergence detected! (haversine Divergence: 288312.3944374619)\t(Index: 6687)\n",
      "[DRIFT][Small Window]: Wasserstein Distance detected! (haversine Distance: 76.93959382513113)\t(Index: 6687)\n"
     ]
    },
    {
     "name": "stderr",
     "output_type": "stream",
     "text": [
      "[Parallel(n_jobs=-1)]: Using backend ThreadingBackend with 4 concurrent workers.\n",
      "[Parallel(n_jobs=-1)]: Done  20 out of  20 | elapsed:    0.0s finished\n"
     ]
    },
    {
     "name": "stdout",
     "output_type": "stream",
     "text": [
      "[DRIFT][Small Window]: Multi-Dimensional Upwards Mean Drift Detected! Distance: 231.69845443381874\t\t\t(Index: 6687)\n",
      "batch: 72.91497277212324, train: 2.200820905397247, train+threshold: 1.1004104526986236\n",
      "[DRIFT][Small Window]: Multi-Dimensional 3rd Quarter Upwards Drift Detected! Distance: 72.91497277212324\t\t\t(Index: 6687)\n"
     ]
    },
    {
     "name": "stderr",
     "output_type": "stream",
     "text": [
      "Setting feature_perturbation = \"tree_path_dependent\" because no background data was given.\n"
     ]
    },
    {
     "name": "stdout",
     "output_type": "stream",
     "text": [
      "[DRIFT][Small Window]: Downwards Data Drift detected! (passenger_count 75%-Quantile: 1.4662273476112027)\t(Index: 6991)\n",
      "[DRIFT][Small Window]: Upwards Data Drift detected!. (manhattan AVG: 0.9233973508106966)\t(Index: 6991)\n",
      "[DRIFT][Small Window]: Upwards Data Drift detected! (manhattan 25%-Quantile: 0.9233973508106966)\t(Index: 6991)\n",
      "[DRIFT][Small Window]: Upwards Data Drift detected! (manhattan 75%-Quantile: 0.9233973508106966)\t(Index: 6991)\n",
      "[DRIFT][Small Window]: Upwards Data Drift detected!. (euclidean AVG: 0.7835029581077807)\t(Index: 6991)\n",
      "[DRIFT][Small Window]: Upwards Data Drift detected! (euclidean 25%-Quantile: 0.7835029581077807)\t(Index: 6991)\n",
      "[DRIFT][Small Window]: Upwards Data Drift detected! (euclidean 75%-Quantile: 0.7835029581077807)\t(Index: 6991)\n",
      "[DRIFT][Small Window]: Upwards Data Drift detected!. (haversine AVG: 74.47817800576384)\t(Index: 6991)\n",
      "[DRIFT][Small Window]: Upwards Data Drift detected! (haversine 25%-Quantile: 74.47817800576384)\t(Index: 6991)\n",
      "[DRIFT][Small Window]: Upwards Data Drift detected! (haversine 75%-Quantile: 74.47817800576384)\t(Index: 6991)\n",
      "[DRIFT][Small Window]: KL-Divergence detected! (haversine Divergence: 263092.8953640608)\t(Index: 6991)\n",
      "[DRIFT][Small Window]: Wasserstein Distance detected! (haversine Distance: 71.13828808726292)\t(Index: 6991)\n"
     ]
    },
    {
     "name": "stderr",
     "output_type": "stream",
     "text": [
      "[Parallel(n_jobs=-1)]: Using backend ThreadingBackend with 4 concurrent workers.\n",
      "[Parallel(n_jobs=-1)]: Done  20 out of  20 | elapsed:    0.0s finished\n",
      "Some inputs do not have OOB scores. This probably means too few trees were used to compute any reliable oob estimates.\n"
     ]
    },
    {
     "name": "stdout",
     "output_type": "stream",
     "text": [
      "[DRIFT][Small Window]: Multi-Dimensional Upwards Mean Drift Detected! Distance: 231.69845443381874\t\t\t(Index: 6991)\n",
      "batch: 73.76639454005442, train: 2.200820905397247, train+threshold: 1.1004104526986236\n",
      "[DRIFT][Small Window]: Multi-Dimensional 3rd Quarter Upwards Drift Detected! Distance: 73.76639454005442\t\t\t(Index: 6991)\n",
      "------------------------ INDEX: 7000 ------------------------\n"
     ]
    },
    {
     "name": "stderr",
     "output_type": "stream",
     "text": [
      "Setting feature_perturbation = \"tree_path_dependent\" because no background data was given.\n"
     ]
    },
    {
     "name": "stdout",
     "output_type": "stream",
     "text": [
      "[DRIFT][Small Window]: Downwards Data Drift detected! (passenger_count 75%-Quantile: 1.5024711696869852)\t(Index: 7295)\n",
      "[DRIFT][Small Window]: Upwards Data Drift detected!. (manhattan AVG: 0.9902334027811837)\t(Index: 7295)\n",
      "[DRIFT][Small Window]: Upwards Data Drift detected! (manhattan 25%-Quantile: 0.9902334027811837)\t(Index: 7295)\n",
      "[DRIFT][Small Window]: Upwards Data Drift detected! (manhattan 75%-Quantile: 0.9902334027811837)\t(Index: 7295)\n",
      "[DRIFT][Small Window]: Upwards Data Drift detected!. (euclidean AVG: 0.8308015599769583)\t(Index: 7295)\n",
      "[DRIFT][Small Window]: Upwards Data Drift detected! (euclidean 25%-Quantile: 0.8308015599769583)\t(Index: 7295)\n",
      "[DRIFT][Small Window]: Upwards Data Drift detected! (euclidean 75%-Quantile: 0.8308015599769583)\t(Index: 7295)\n",
      "[DRIFT][Small Window]: Upwards Data Drift detected!. (haversine AVG: 78.84320339333003)\t(Index: 7295)\n",
      "[DRIFT][Small Window]: Upwards Data Drift detected! (haversine 25%-Quantile: 78.84320339333003)\t(Index: 7295)\n",
      "[DRIFT][Small Window]: Upwards Data Drift detected! (haversine 75%-Quantile: 78.84320339333003)\t(Index: 7295)\n",
      "[DRIFT][Small Window]: KL-Divergence detected! (haversine Divergence: 287544.0275840342)\t(Index: 7295)\n",
      "[DRIFT][Small Window]: Wasserstein Distance detected! (haversine Distance: 75.50331347482913)\t(Index: 7295)\n",
      "[DRIFT][Small Window]: Pairwise Correlation Drift detected: dropoff_longitude <> passenger_count!\t(Index: 7295)\n"
     ]
    },
    {
     "name": "stderr",
     "output_type": "stream",
     "text": [
      "[Parallel(n_jobs=-1)]: Using backend ThreadingBackend with 4 concurrent workers.\n",
      "[Parallel(n_jobs=-1)]: Done  20 out of  20 | elapsed:    0.0s finished\n"
     ]
    },
    {
     "name": "stdout",
     "output_type": "stream",
     "text": [
      "[DRIFT][Small Window]: Multi-Dimensional Upwards Mean Drift Detected! Distance: 231.69845443381874\t\t\t(Index: 7295)\n",
      "batch: 75.00825313749648, train: 2.200820905397247, train+threshold: 1.1004104526986236\n",
      "[DRIFT][Small Window]: Multi-Dimensional 3rd Quarter Upwards Drift Detected! Distance: 75.00825313749648\t\t\t(Index: 7295)\n"
     ]
    },
    {
     "name": "stderr",
     "output_type": "stream",
     "text": [
      "Setting feature_perturbation = \"tree_path_dependent\" because no background data was given.\n"
     ]
    },
    {
     "name": "stdout",
     "output_type": "stream",
     "text": [
      "[DRIFT][Small Window]: Wasserstein Distance detected! (fare_amount Distance: 1.3330163767873906)\t(Index: 7599)\n",
      "[DRIFT][Small Window]: Downwards Data Drift detected! (passenger_count 75%-Quantile: 1.472817133443163)\t(Index: 7599)\n",
      "[DRIFT][Small Window]: Upwards Data Drift detected!. (manhattan AVG: 0.9775955975740918)\t(Index: 7599)\n",
      "[DRIFT][Small Window]: Upwards Data Drift detected! (manhattan 25%-Quantile: 0.9775955975740918)\t(Index: 7599)\n",
      "[DRIFT][Small Window]: Upwards Data Drift detected! (manhattan 75%-Quantile: 0.9775955975740918)\t(Index: 7599)\n",
      "[DRIFT][Small Window]: Upwards Data Drift detected!. (euclidean AVG: 0.837299512435743)\t(Index: 7599)\n",
      "[DRIFT][Small Window]: Upwards Data Drift detected! (euclidean 25%-Quantile: 0.837299512435743)\t(Index: 7599)\n",
      "[DRIFT][Small Window]: Upwards Data Drift detected! (euclidean 75%-Quantile: 0.837299512435743)\t(Index: 7599)\n",
      "[DRIFT][Small Window]: Upwards Data Drift detected!. (haversine AVG: 78.73857026872648)\t(Index: 7599)\n",
      "[DRIFT][Small Window]: Upwards Data Drift detected! (haversine 25%-Quantile: 78.73857026872648)\t(Index: 7599)\n",
      "[DRIFT][Small Window]: Upwards Data Drift detected! (haversine 75%-Quantile: 78.73857026872648)\t(Index: 7599)\n",
      "[DRIFT][Small Window]: KL-Divergence detected! (haversine Divergence: 276622.8199561105)\t(Index: 7599)\n",
      "[DRIFT][Small Window]: Wasserstein Distance detected! (haversine Distance: 75.39868035022556)\t(Index: 7599)\n",
      "[DRIFT][Small Window]: Pairwise Correlation Drift detected: dropoff_longitude <> passenger_count!\t(Index: 7599)\n"
     ]
    },
    {
     "name": "stderr",
     "output_type": "stream",
     "text": [
      "[Parallel(n_jobs=-1)]: Using backend ThreadingBackend with 4 concurrent workers.\n",
      "[Parallel(n_jobs=-1)]: Done  20 out of  20 | elapsed:    0.0s finished\n"
     ]
    },
    {
     "name": "stdout",
     "output_type": "stream",
     "text": [
      "[DRIFT][Small Window]: Multi-Dimensional Upwards Mean Drift Detected! Distance: 231.69845443381874\t\t\t(Index: 7599)\n",
      "batch: 76.08906067927313, train: 2.200820905397247, train+threshold: 1.1004104526986236\n",
      "[DRIFT][Small Window]: Multi-Dimensional 3rd Quarter Upwards Drift Detected! Distance: 76.08906067927313\t\t\t(Index: 7599)\n"
     ]
    },
    {
     "name": "stderr",
     "output_type": "stream",
     "text": [
      "Setting feature_perturbation = \"tree_path_dependent\" because no background data was given.\n"
     ]
    },
    {
     "name": "stdout",
     "output_type": "stream",
     "text": [
      "[DRIFT][Small Window]: Upwards Data Drift detected!. (manhattan AVG: 1.0272826332445701)\t(Index: 7903)\n",
      "[DRIFT][Small Window]: Upwards Data Drift detected! (manhattan 25%-Quantile: 1.0272826332445701)\t(Index: 7903)\n",
      "[DRIFT][Small Window]: Upwards Data Drift detected! (manhattan 75%-Quantile: 1.0272826332445701)\t(Index: 7903)\n",
      "[DRIFT][Small Window]: Upwards Data Drift detected!. (euclidean AVG: 0.8787679489522663)\t(Index: 7903)\n",
      "[DRIFT][Small Window]: Upwards Data Drift detected! (euclidean 25%-Quantile: 0.8787679489522663)\t(Index: 7903)\n",
      "[DRIFT][Small Window]: Upwards Data Drift detected! (euclidean 75%-Quantile: 0.8787679489522663)\t(Index: 7903)\n",
      "[DRIFT][Small Window]: Upwards Data Drift detected!. (haversine AVG: 83.29867749245967)\t(Index: 7903)\n",
      "[DRIFT][Small Window]: Upwards Data Drift detected! (haversine 25%-Quantile: 83.29867749245967)\t(Index: 7903)\n",
      "[DRIFT][Small Window]: Upwards Data Drift detected! (haversine 75%-Quantile: 83.29867749245967)\t(Index: 7903)\n",
      "[DRIFT][Small Window]: KL-Divergence detected! (haversine Divergence: 296958.9719903762)\t(Index: 7903)\n",
      "[DRIFT][Small Window]: Wasserstein Distance detected! (haversine Distance: 79.95878757395876)\t(Index: 7903)\n"
     ]
    },
    {
     "name": "stderr",
     "output_type": "stream",
     "text": [
      "[Parallel(n_jobs=-1)]: Using backend ThreadingBackend with 4 concurrent workers.\n",
      "[Parallel(n_jobs=-1)]: Done  20 out of  20 | elapsed:    0.0s finished\n"
     ]
    },
    {
     "name": "stdout",
     "output_type": "stream",
     "text": [
      "[DRIFT][Small Window]: Multi-Dimensional Upwards Mean Drift Detected! Distance: 231.69845443381874\t\t\t(Index: 7903)\n",
      "batch: 77.60711005142116, train: 2.200820905397247, train+threshold: 1.1004104526986236\n",
      "[DRIFT][Small Window]: Multi-Dimensional 3rd Quarter Upwards Drift Detected! Distance: 77.60711005142116\t\t\t(Index: 7903)\n",
      "------------------------ INDEX: 8000 ------------------------\n"
     ]
    },
    {
     "name": "stderr",
     "output_type": "stream",
     "text": [
      "Setting feature_perturbation = \"tree_path_dependent\" because no background data was given.\n"
     ]
    },
    {
     "name": "stdout",
     "output_type": "stream",
     "text": [
      "[DRIFT][Small Window]: Upwards Data Drift detected!. (manhattan AVG: 1.1008880487220192)\t(Index: 8207)\n",
      "[DRIFT][Small Window]: Upwards Data Drift detected! (manhattan 25%-Quantile: 1.1008880487220192)\t(Index: 8207)\n",
      "[DRIFT][Small Window]: Upwards Data Drift detected! (manhattan 75%-Quantile: 1.1008880487220192)\t(Index: 8207)\n",
      "[DRIFT][Small Window]: Upwards Data Drift detected!. (euclidean AVG: 0.9219095074797057)\t(Index: 8207)\n",
      "[DRIFT][Small Window]: Upwards Data Drift detected! (euclidean 25%-Quantile: 0.9219095074797057)\t(Index: 8207)\n",
      "[DRIFT][Small Window]: Upwards Data Drift detected! (euclidean 75%-Quantile: 0.9219095074797057)\t(Index: 8207)\n",
      "[DRIFT][Small Window]: Upwards Data Drift detected!. (haversine AVG: 87.94278173718554)\t(Index: 8207)\n",
      "[DRIFT][Small Window]: Upwards Data Drift detected! (haversine 25%-Quantile: 87.94278173718554)\t(Index: 8207)\n",
      "[DRIFT][Small Window]: Upwards Data Drift detected! (haversine 75%-Quantile: 87.94278173718554)\t(Index: 8207)\n",
      "[DRIFT][Small Window]: KL-Divergence detected! (haversine Divergence: 319702.0719745525)\t(Index: 8207)\n",
      "[DRIFT][Small Window]: Wasserstein Distance detected! (haversine Distance: 84.60289181868465)\t(Index: 8207)\n"
     ]
    },
    {
     "name": "stderr",
     "output_type": "stream",
     "text": [
      "[Parallel(n_jobs=-1)]: Using backend ThreadingBackend with 4 concurrent workers.\n",
      "[Parallel(n_jobs=-1)]: Done  20 out of  20 | elapsed:    0.0s finished\n"
     ]
    },
    {
     "name": "stdout",
     "output_type": "stream",
     "text": [
      "[DRIFT][Small Window]: Multi-Dimensional Upwards Mean Drift Detected! Distance: 231.69845443381874\t\t\t(Index: 8207)\n",
      "batch: 79.42600997557648, train: 2.200820905397247, train+threshold: 1.1004104526986236\n",
      "[DRIFT][Small Window]: Multi-Dimensional 3rd Quarter Upwards Drift Detected! Distance: 79.42600997557648\t\t\t(Index: 8207)\n"
     ]
    },
    {
     "name": "stderr",
     "output_type": "stream",
     "text": [
      "Setting feature_perturbation = \"tree_path_dependent\" because no background data was given.\n"
     ]
    },
    {
     "name": "stdout",
     "output_type": "stream",
     "text": [
      "[DRIFT][Small Window]: Wasserstein Distance detected! (fare_amount Distance: 1.4033259168663292)\t(Index: 8511)\n",
      "[DRIFT][Small Window]: Upwards Data Drift detected!. (manhattan AVG: 1.0674816868689598)\t(Index: 8511)\n",
      "[DRIFT][Small Window]: Upwards Data Drift detected! (manhattan 25%-Quantile: 1.0674816868689598)\t(Index: 8511)\n",
      "[DRIFT][Small Window]: Upwards Data Drift detected! (manhattan 75%-Quantile: 1.0674816868689598)\t(Index: 8511)\n",
      "[DRIFT][Small Window]: Upwards Data Drift detected!. (euclidean AVG: 0.9001714173163097)\t(Index: 8511)\n",
      "[DRIFT][Small Window]: Upwards Data Drift detected! (euclidean 25%-Quantile: 0.9001714173163097)\t(Index: 8511)\n",
      "[DRIFT][Small Window]: Upwards Data Drift detected! (euclidean 75%-Quantile: 0.9001714173163097)\t(Index: 8511)\n",
      "[DRIFT][Small Window]: Upwards Data Drift detected!. (haversine AVG: 85.52064731724498)\t(Index: 8511)\n",
      "[DRIFT][Small Window]: Upwards Data Drift detected! (haversine 25%-Quantile: 85.52064731724498)\t(Index: 8511)\n",
      "[DRIFT][Small Window]: Upwards Data Drift detected! (haversine 75%-Quantile: 85.52064731724498)\t(Index: 8511)\n",
      "[DRIFT][Small Window]: KL-Divergence detected! (haversine Divergence: 298783.9051217201)\t(Index: 8511)\n",
      "[DRIFT][Small Window]: Wasserstein Distance detected! (haversine Distance: 82.18075739874406)\t(Index: 8511)\n",
      "[DRIFT][Small Window]: Pairwise Correlation Drift detected: dropoff_longitude <> passenger_count!\t(Index: 8511)\n"
     ]
    },
    {
     "name": "stderr",
     "output_type": "stream",
     "text": [
      "[Parallel(n_jobs=-1)]: Using backend ThreadingBackend with 4 concurrent workers.\n",
      "[Parallel(n_jobs=-1)]: Done  20 out of  20 | elapsed:    0.0s finished\n"
     ]
    },
    {
     "name": "stdout",
     "output_type": "stream",
     "text": [
      "[DRIFT][Small Window]: Multi-Dimensional Upwards Mean Drift Detected! Distance: 231.69845443381874\t\t\t(Index: 8511)\n",
      "batch: 80.28001319232818, train: 2.200820905397247, train+threshold: 1.1004104526986236\n",
      "[DRIFT][Small Window]: Multi-Dimensional 3rd Quarter Upwards Drift Detected! Distance: 80.28001319232818\t\t\t(Index: 8511)\n"
     ]
    },
    {
     "name": "stderr",
     "output_type": "stream",
     "text": [
      "Setting feature_perturbation = \"tree_path_dependent\" because no background data was given.\n"
     ]
    },
    {
     "name": "stdout",
     "output_type": "stream",
     "text": [
      "[DRIFT][Medium Window]: Upwards Data Drift detected! (fare_amount 25%-Quantile: 11.128692662804552)\t(Index: 8517)\n",
      "[DRIFT][Medium Window]: KL-Divergence detected! (fare_amount Divergence: 36171.19565885541)\t(Index: 8517)\n",
      "[DRIFT][Medium Window]: Wasserstein Distance detected! (fare_amount Distance: 0.9901582323887353)\t(Index: 8517)\n",
      "[DRIFT][Medium Window]: KL-Divergence detected! (fare-bin Divergence: 4747.332710670575)\t(Index: 8517)\n",
      "[DRIFT][Medium Window]: KL-Divergence detected! (pickup_longitude Divergence: 3730.941305294738)\t(Index: 8517)\n",
      "[DRIFT][Medium Window]: Wasserstein Distance detected! (pickup_longitude Distance: 0.6139676680777965)\t(Index: 8517)\n",
      "[DRIFT][Medium Window]: KL-Divergence detected! (pickup_latitude Divergence: 2598.567652013607)\t(Index: 8517)\n",
      "[DRIFT][Medium Window]: Wasserstein Distance detected! (pickup_latitude Distance: 0.4162580912557737)\t(Index: 8517)\n",
      "[DRIFT][Medium Window]: KL-Divergence detected! (passenger_count Divergence: 2342.1051290942755)\t(Index: 8517)\n",
      "[DRIFT][Medium Window]: Upwards Data Drift detected!. (manhattan AVG: 1.0723434310203377)\t(Index: 8517)\n",
      "[DRIFT][Medium Window]: Upwards Data Drift detected! (manhattan 25%-Quantile: 1.0723434310203377)\t(Index: 8517)\n",
      "[DRIFT][Medium Window]: Upwards Data Drift detected! (manhattan 75%-Quantile: 1.0723434310203377)\t(Index: 8517)\n",
      "[DRIFT][Medium Window]: KL-Divergence detected! (manhattan Divergence: 28358.066499365723)\t(Index: 8517)\n",
      "[DRIFT][Medium Window]: Wasserstein Distance detected! (manhattan Distance: 1.0281383855255712)\t(Index: 8517)\n",
      "[DRIFT][Medium Window]: Upwards Data Drift detected!. (euclidean AVG: 0.9102388464985944)\t(Index: 8517)\n",
      "[DRIFT][Medium Window]: Upwards Data Drift detected! (euclidean 25%-Quantile: 0.9102388464985944)\t(Index: 8517)\n",
      "[DRIFT][Medium Window]: Upwards Data Drift detected! (euclidean 75%-Quantile: 0.9102388464985944)\t(Index: 8517)\n",
      "[DRIFT][Medium Window]: KL-Divergence detected! (euclidean Divergence: 24392.94113358775)\t(Index: 8517)\n",
      "[DRIFT][Medium Window]: Wasserstein Distance detected! (euclidean Distance: 0.8760649200862138)\t(Index: 8517)\n",
      "[DRIFT][Medium Window]: Upwards Data Drift detected!. (haversine AVG: 86.64863133235845)\t(Index: 8517)\n",
      "[DRIFT][Medium Window]: Upwards Data Drift detected! (haversine 25%-Quantile: 86.64863133235845)\t(Index: 8517)\n",
      "[DRIFT][Medium Window]: Upwards Data Drift detected! (haversine 75%-Quantile: 86.64863133235845)\t(Index: 8517)\n",
      "[DRIFT][Medium Window]: KL-Divergence detected! (haversine Divergence: 2307922.8599767005)\t(Index: 8517)\n",
      "[DRIFT][Medium Window]: Wasserstein Distance detected! (haversine Distance: 83.30874141385755)\t(Index: 8517)\n"
     ]
    },
    {
     "name": "stderr",
     "output_type": "stream",
     "text": [
      "[Parallel(n_jobs=-1)]: Using backend ThreadingBackend with 4 concurrent workers.\n",
      "[Parallel(n_jobs=-1)]: Done  20 out of  20 | elapsed:    0.2s finished\n"
     ]
    },
    {
     "name": "stdout",
     "output_type": "stream",
     "text": [
      "[DRIFT][Medium Window]: Multi-Dimensional Upwards Mean Drift Detected! Distance: 231.69845443381874\t\t\t(Index: 8517)\n",
      "batch: 80.32776308208082, train: 2.200820905397247, train+threshold: 1.1004104526986236\n",
      "[DRIFT][Medium Window]: Multi-Dimensional 3rd Quarter Upwards Drift Detected! Distance: 80.32776308208082\t\t\t(Index: 8517)\n"
     ]
    },
    {
     "name": "stderr",
     "output_type": "stream",
     "text": [
      "Setting feature_perturbation = \"tree_path_dependent\" because no background data was given.\n"
     ]
    },
    {
     "name": "stdout",
     "output_type": "stream",
     "text": [
      "[DRIFT][Small Window]: Upwards Data Drift detected!. (manhattan AVG: 1.0709177514437092)\t(Index: 8815)\n",
      "[DRIFT][Small Window]: Upwards Data Drift detected! (manhattan 25%-Quantile: 1.0709177514437092)\t(Index: 8815)\n",
      "[DRIFT][Small Window]: Upwards Data Drift detected! (manhattan 75%-Quantile: 1.0709177514437092)\t(Index: 8815)\n",
      "[DRIFT][Small Window]: Upwards Data Drift detected!. (euclidean AVG: 0.9162682352256479)\t(Index: 8815)\n",
      "[DRIFT][Small Window]: Upwards Data Drift detected! (euclidean 25%-Quantile: 0.9162682352256479)\t(Index: 8815)\n",
      "[DRIFT][Small Window]: Upwards Data Drift detected! (euclidean 75%-Quantile: 0.9162682352256479)\t(Index: 8815)\n",
      "[DRIFT][Small Window]: Upwards Data Drift detected!. (haversine AVG: 87.47802249837807)\t(Index: 8815)\n",
      "[DRIFT][Small Window]: Upwards Data Drift detected! (haversine 25%-Quantile: 87.47802249837807)\t(Index: 8815)\n",
      "[DRIFT][Small Window]: Upwards Data Drift detected! (haversine 75%-Quantile: 87.47802249837807)\t(Index: 8815)\n",
      "[DRIFT][Small Window]: KL-Divergence detected! (haversine Divergence: 313931.41038559005)\t(Index: 8815)\n",
      "[DRIFT][Small Window]: Wasserstein Distance detected! (haversine Distance: 84.13813257987718)\t(Index: 8815)\n",
      "[DRIFT][Small Window]: Pairwise Correlation Drift detected: pickup_longitude <> passenger_count!\t(Index: 8815)\n"
     ]
    },
    {
     "name": "stderr",
     "output_type": "stream",
     "text": [
      "[Parallel(n_jobs=-1)]: Using backend ThreadingBackend with 4 concurrent workers.\n",
      "[Parallel(n_jobs=-1)]: Done  20 out of  20 | elapsed:    0.1s finished\n"
     ]
    },
    {
     "name": "stdout",
     "output_type": "stream",
     "text": [
      "[DRIFT][Small Window]: Multi-Dimensional Upwards Mean Drift Detected! Distance: 231.69845443381874\t\t\t(Index: 8815)\n",
      "batch: 81.20934333207077, train: 2.200820905397247, train+threshold: 1.1004104526986236\n",
      "[DRIFT][Small Window]: Multi-Dimensional 3rd Quarter Upwards Drift Detected! Distance: 81.20934333207077\t\t\t(Index: 8815)\n",
      "------------------------ INDEX: 9000 ------------------------\n"
     ]
    },
    {
     "name": "stderr",
     "output_type": "stream",
     "text": [
      "Setting feature_perturbation = \"tree_path_dependent\" because no background data was given.\n"
     ]
    },
    {
     "name": "stdout",
     "output_type": "stream",
     "text": [
      "[DRIFT][Small Window]: Wasserstein Distance detected! (fare_amount Distance: 1.581847604513357)\t(Index: 9119)\n",
      "[DRIFT][Small Window]: Upwards Data Drift detected!. (manhattan AVG: 1.1115091308330705)\t(Index: 9119)\n",
      "[DRIFT][Small Window]: Upwards Data Drift detected! (manhattan 25%-Quantile: 1.1115091308330705)\t(Index: 9119)\n",
      "[DRIFT][Small Window]: Upwards Data Drift detected! (manhattan 75%-Quantile: 1.1115091308330705)\t(Index: 9119)\n",
      "[DRIFT][Small Window]: Upwards Data Drift detected!. (euclidean AVG: 0.9427993007659063)\t(Index: 9119)\n",
      "[DRIFT][Small Window]: Upwards Data Drift detected! (euclidean 25%-Quantile: 0.9427993007659063)\t(Index: 9119)\n",
      "[DRIFT][Small Window]: Upwards Data Drift detected! (euclidean 75%-Quantile: 0.9427993007659063)\t(Index: 9119)\n",
      "[DRIFT][Small Window]: Upwards Data Drift detected!. (haversine AVG: 90.08439256361487)\t(Index: 9119)\n",
      "[DRIFT][Small Window]: Upwards Data Drift detected! (haversine 25%-Quantile: 90.08439256361487)\t(Index: 9119)\n",
      "[DRIFT][Small Window]: Upwards Data Drift detected! (haversine 75%-Quantile: 90.08439256361487)\t(Index: 9119)\n",
      "[DRIFT][Small Window]: KL-Divergence detected! (haversine Divergence: 308008.54618438525)\t(Index: 9119)\n",
      "[DRIFT][Small Window]: Wasserstein Distance detected! (haversine Distance: 86.74450264511395)\t(Index: 9119)\n"
     ]
    },
    {
     "name": "stderr",
     "output_type": "stream",
     "text": [
      "[Parallel(n_jobs=-1)]: Using backend ThreadingBackend with 4 concurrent workers.\n",
      "[Parallel(n_jobs=-1)]: Done  20 out of  20 | elapsed:    0.0s finished\n"
     ]
    },
    {
     "name": "stdout",
     "output_type": "stream",
     "text": [
      "[DRIFT][Small Window]: Multi-Dimensional Upwards Mean Drift Detected! Distance: 231.69845443381874\t\t\t(Index: 9119)\n",
      "batch: 82.32698835209489, train: 2.200820905397247, train+threshold: 1.1004104526986236\n",
      "[DRIFT][Small Window]: Multi-Dimensional 3rd Quarter Upwards Drift Detected! Distance: 82.32698835209489\t\t\t(Index: 9119)\n"
     ]
    },
    {
     "name": "stderr",
     "output_type": "stream",
     "text": [
      "Setting feature_perturbation = \"tree_path_dependent\" because no background data was given.\n"
     ]
    },
    {
     "name": "stdout",
     "output_type": "stream",
     "text": [
      "[DRIFT][Small Window]: Wasserstein Distance detected! (fare_amount Distance: 1.330545126284104)\t(Index: 9423)\n",
      "[DRIFT][Small Window]: Upwards Data Drift detected!. (manhattan AVG: 1.1694826397847256)\t(Index: 9423)\n",
      "[DRIFT][Small Window]: Upwards Data Drift detected! (manhattan 25%-Quantile: 1.1694826397847256)\t(Index: 9423)\n",
      "[DRIFT][Small Window]: Upwards Data Drift detected! (manhattan 75%-Quantile: 1.1694826397847256)\t(Index: 9423)\n",
      "[DRIFT][Small Window]: Upwards Data Drift detected!. (euclidean AVG: 0.9834836274216636)\t(Index: 9423)\n",
      "[DRIFT][Small Window]: Upwards Data Drift detected! (euclidean 25%-Quantile: 0.9834836274216636)\t(Index: 9423)\n",
      "[DRIFT][Small Window]: Upwards Data Drift detected! (euclidean 75%-Quantile: 0.9834836274216636)\t(Index: 9423)\n",
      "[DRIFT][Small Window]: Upwards Data Drift detected!. (haversine AVG: 93.98200235694875)\t(Index: 9423)\n",
      "[DRIFT][Small Window]: Upwards Data Drift detected! (haversine 25%-Quantile: 93.98200235694875)\t(Index: 9423)\n",
      "[DRIFT][Small Window]: Upwards Data Drift detected! (haversine 75%-Quantile: 93.98200235694875)\t(Index: 9423)\n",
      "[DRIFT][Small Window]: KL-Divergence detected! (haversine Divergence: 334411.4592941354)\t(Index: 9423)\n",
      "[DRIFT][Small Window]: Wasserstein Distance detected! (haversine Distance: 90.64211243844787)\t(Index: 9423)\n"
     ]
    },
    {
     "name": "stderr",
     "output_type": "stream",
     "text": [
      "[Parallel(n_jobs=-1)]: Using backend ThreadingBackend with 4 concurrent workers.\n",
      "[Parallel(n_jobs=-1)]: Done  20 out of  20 | elapsed:    0.0s finished\n"
     ]
    },
    {
     "name": "stdout",
     "output_type": "stream",
     "text": [
      "[DRIFT][Small Window]: Multi-Dimensional Upwards Mean Drift Detected! Distance: 231.69845443381874\t\t\t(Index: 9423)\n",
      "batch: 83.56183741844606, train: 2.200820905397247, train+threshold: 1.1004104526986236\n",
      "[DRIFT][Small Window]: Multi-Dimensional 3rd Quarter Upwards Drift Detected! Distance: 83.56183741844606\t\t\t(Index: 9423)\n"
     ]
    },
    {
     "name": "stderr",
     "output_type": "stream",
     "text": [
      "Setting feature_perturbation = \"tree_path_dependent\" because no background data was given.\n"
     ]
    },
    {
     "name": "stdout",
     "output_type": "stream",
     "text": [
      "[DRIFT][Small Window]: Upwards Data Drift detected!. (manhattan AVG: 1.1998718546973541)\t(Index: 9727)\n",
      "[DRIFT][Small Window]: Upwards Data Drift detected! (manhattan 25%-Quantile: 1.1998718546973541)\t(Index: 9727)\n",
      "[DRIFT][Small Window]: Upwards Data Drift detected! (manhattan 75%-Quantile: 1.1998718546973541)\t(Index: 9727)\n",
      "[DRIFT][Small Window]: Upwards Data Drift detected!. (euclidean AVG: 1.018119889081952)\t(Index: 9727)\n",
      "[DRIFT][Small Window]: Upwards Data Drift detected! (euclidean 25%-Quantile: 1.018119889081952)\t(Index: 9727)\n",
      "[DRIFT][Small Window]: Upwards Data Drift detected! (euclidean 75%-Quantile: 1.018119889081952)\t(Index: 9727)\n",
      "[DRIFT][Small Window]: Upwards Data Drift detected!. (haversine AVG: 97.29862514778749)\t(Index: 9727)\n",
      "[DRIFT][Small Window]: Upwards Data Drift detected! (haversine 25%-Quantile: 97.29862514778749)\t(Index: 9727)\n",
      "[DRIFT][Small Window]: Upwards Data Drift detected! (haversine 75%-Quantile: 97.29862514778749)\t(Index: 9727)\n",
      "[DRIFT][Small Window]: KL-Divergence detected! (haversine Divergence: 342784.47803089756)\t(Index: 9727)\n",
      "[DRIFT][Small Window]: Wasserstein Distance detected! (haversine Distance: 93.95873522928659)\t(Index: 9727)\n"
     ]
    },
    {
     "name": "stderr",
     "output_type": "stream",
     "text": [
      "[Parallel(n_jobs=-1)]: Using backend ThreadingBackend with 4 concurrent workers.\n",
      "[Parallel(n_jobs=-1)]: Done  20 out of  20 | elapsed:    0.0s finished\n"
     ]
    },
    {
     "name": "stdout",
     "output_type": "stream",
     "text": [
      "[DRIFT][Small Window]: Multi-Dimensional Upwards Mean Drift Detected! Distance: 231.69845443381874\t\t\t(Index: 9727)\n",
      "batch: 85.13102425075901, train: 2.200820905397247, train+threshold: 1.1004104526986236\n",
      "[DRIFT][Small Window]: Multi-Dimensional 3rd Quarter Upwards Drift Detected! Distance: 85.13102425075901\t\t\t(Index: 9727)\n",
      "------------------------ INDEX: 10000 ------------------------\n"
     ]
    },
    {
     "name": "stderr",
     "output_type": "stream",
     "text": [
      "Setting feature_perturbation = \"tree_path_dependent\" because no background data was given.\n"
     ]
    },
    {
     "name": "stdout",
     "output_type": "stream",
     "text": [
      "[DRIFT][Small Window]: Upwards Data Drift detected!. (manhattan AVG: 1.1463606152038563)\t(Index: 10031)\n",
      "[DRIFT][Small Window]: Upwards Data Drift detected! (manhattan 25%-Quantile: 1.1463606152038563)\t(Index: 10031)\n",
      "[DRIFT][Small Window]: Upwards Data Drift detected! (manhattan 75%-Quantile: 1.1463606152038563)\t(Index: 10031)\n",
      "[DRIFT][Small Window]: Upwards Data Drift detected!. (euclidean AVG: 0.9731820891973645)\t(Index: 10031)\n",
      "[DRIFT][Small Window]: Upwards Data Drift detected! (euclidean 25%-Quantile: 0.9731820891973645)\t(Index: 10031)\n",
      "[DRIFT][Small Window]: Upwards Data Drift detected! (euclidean 75%-Quantile: 0.9731820891973645)\t(Index: 10031)\n",
      "[DRIFT][Small Window]: Upwards Data Drift detected!. (haversine AVG: 92.3840095623071)\t(Index: 10031)\n",
      "[DRIFT][Small Window]: Upwards Data Drift detected! (haversine 25%-Quantile: 92.3840095623071)\t(Index: 10031)\n",
      "[DRIFT][Small Window]: Upwards Data Drift detected! (haversine 75%-Quantile: 92.3840095623071)\t(Index: 10031)\n",
      "[DRIFT][Small Window]: KL-Divergence detected! (haversine Divergence: 322322.58498630783)\t(Index: 10031)\n",
      "[DRIFT][Small Window]: Wasserstein Distance detected! (haversine Distance: 89.0441196438062)\t(Index: 10031)\n"
     ]
    },
    {
     "name": "stderr",
     "output_type": "stream",
     "text": [
      "[Parallel(n_jobs=-1)]: Using backend ThreadingBackend with 4 concurrent workers.\n",
      "[Parallel(n_jobs=-1)]: Done  20 out of  20 | elapsed:    0.0s finished\n"
     ]
    },
    {
     "name": "stdout",
     "output_type": "stream",
     "text": [
      "[DRIFT][Small Window]: Multi-Dimensional Upwards Mean Drift Detected! Distance: 231.69845443381874\t\t\t(Index: 10031)\n",
      "batch: 85.67345725088742, train: 2.200820905397247, train+threshold: 1.1004104526986236\n",
      "[DRIFT][Small Window]: Multi-Dimensional 3rd Quarter Upwards Drift Detected! Distance: 85.67345725088742\t\t\t(Index: 10031)\n"
     ]
    },
    {
     "name": "stderr",
     "output_type": "stream",
     "text": [
      "Setting feature_perturbation = \"tree_path_dependent\" because no background data was given.\n"
     ]
    },
    {
     "name": "stdout",
     "output_type": "stream",
     "text": [
      "[DRIFT][Small Window]: Upwards Data Drift detected!. (manhattan AVG: 1.0704765752976702)\t(Index: 10335)\n",
      "[DRIFT][Small Window]: Upwards Data Drift detected! (manhattan 25%-Quantile: 1.0704765752976702)\t(Index: 10335)\n",
      "[DRIFT][Small Window]: Upwards Data Drift detected! (manhattan 75%-Quantile: 1.0704765752976702)\t(Index: 10335)\n",
      "[DRIFT][Small Window]: Upwards Data Drift detected!. (euclidean AVG: 0.9159103982299274)\t(Index: 10335)\n",
      "[DRIFT][Small Window]: Upwards Data Drift detected! (euclidean 25%-Quantile: 0.9159103982299274)\t(Index: 10335)\n",
      "[DRIFT][Small Window]: Upwards Data Drift detected! (euclidean 75%-Quantile: 0.9159103982299274)\t(Index: 10335)\n",
      "[DRIFT][Small Window]: Upwards Data Drift detected!. (haversine AVG: 86.86924396133125)\t(Index: 10335)\n",
      "[DRIFT][Small Window]: Upwards Data Drift detected! (haversine 25%-Quantile: 86.86924396133125)\t(Index: 10335)\n",
      "[DRIFT][Small Window]: Upwards Data Drift detected! (haversine 75%-Quantile: 86.86924396133125)\t(Index: 10335)\n",
      "[DRIFT][Small Window]: KL-Divergence detected! (haversine Divergence: 304741.38501340174)\t(Index: 10335)\n",
      "[DRIFT][Small Window]: Wasserstein Distance detected! (haversine Distance: 83.52935404283035)\t(Index: 10335)\n"
     ]
    },
    {
     "name": "stderr",
     "output_type": "stream",
     "text": [
      "[Parallel(n_jobs=-1)]: Using backend ThreadingBackend with 4 concurrent workers.\n",
      "[Parallel(n_jobs=-1)]: Done  20 out of  20 | elapsed:    0.0s finished\n"
     ]
    },
    {
     "name": "stdout",
     "output_type": "stream",
     "text": [
      "[DRIFT][Small Window]: Multi-Dimensional Upwards Mean Drift Detected! Distance: 231.69845443381874\t\t\t(Index: 10335)\n",
      "batch: 86.51324655888708, train: 2.200820905397247, train+threshold: 1.1004104526986236\n",
      "[DRIFT][Small Window]: Multi-Dimensional 3rd Quarter Upwards Drift Detected! Distance: 86.51324655888708\t\t\t(Index: 10335)\n"
     ]
    },
    {
     "name": "stderr",
     "output_type": "stream",
     "text": [
      "Setting feature_perturbation = \"tree_path_dependent\" because no background data was given.\n"
     ]
    },
    {
     "name": "stdout",
     "output_type": "stream",
     "text": [
      "[DRIFT][Small Window]: Downwards Data Drift detected! (passenger_count 75%-Quantile: 1.5107084019769357)\t(Index: 10639)\n",
      "[DRIFT][Small Window]: Upwards Data Drift detected!. (manhattan AVG: 1.022265324695138)\t(Index: 10639)\n",
      "[DRIFT][Small Window]: Upwards Data Drift detected! (manhattan 25%-Quantile: 1.022265324695138)\t(Index: 10639)\n",
      "[DRIFT][Small Window]: Upwards Data Drift detected! (manhattan 75%-Quantile: 1.022265324695138)\t(Index: 10639)\n",
      "[DRIFT][Small Window]: Upwards Data Drift detected!. (euclidean AVG: 0.8760609684708616)\t(Index: 10639)\n",
      "[DRIFT][Small Window]: Upwards Data Drift detected! (euclidean 25%-Quantile: 0.8760609684708616)\t(Index: 10639)\n",
      "[DRIFT][Small Window]: Upwards Data Drift detected! (euclidean 75%-Quantile: 0.8760609684708616)\t(Index: 10639)\n",
      "[DRIFT][Small Window]: Upwards Data Drift detected!. (haversine AVG: 83.56589247814397)\t(Index: 10639)\n",
      "[DRIFT][Small Window]: Upwards Data Drift detected! (haversine 25%-Quantile: 83.56589247814397)\t(Index: 10639)\n",
      "[DRIFT][Small Window]: Upwards Data Drift detected! (haversine 75%-Quantile: 83.56589247814397)\t(Index: 10639)\n",
      "[DRIFT][Small Window]: KL-Divergence detected! (haversine Divergence: 282215.76581175154)\t(Index: 10639)\n",
      "[DRIFT][Small Window]: Wasserstein Distance detected! (haversine Distance: 80.22600255964305)\t(Index: 10639)\n"
     ]
    },
    {
     "name": "stderr",
     "output_type": "stream",
     "text": [
      "[Parallel(n_jobs=-1)]: Using backend ThreadingBackend with 4 concurrent workers.\n",
      "[Parallel(n_jobs=-1)]: Done  20 out of  20 | elapsed:    0.0s finished\n"
     ]
    },
    {
     "name": "stdout",
     "output_type": "stream",
     "text": [
      "[DRIFT][Small Window]: Multi-Dimensional Upwards Mean Drift Detected! Distance: 231.69845443381874\t\t\t(Index: 10639)\n",
      "batch: 86.95074864877186, train: 2.200820905397247, train+threshold: 1.1004104526986236\n",
      "[DRIFT][Small Window]: Multi-Dimensional 3rd Quarter Upwards Drift Detected! Distance: 86.95074864877186\t\t\t(Index: 10639)\n"
     ]
    },
    {
     "name": "stderr",
     "output_type": "stream",
     "text": [
      "Setting feature_perturbation = \"tree_path_dependent\" because no background data was given.\n"
     ]
    },
    {
     "name": "stdout",
     "output_type": "stream",
     "text": [
      "[DRIFT][Small Window]: Wasserstein Distance detected! (fare_amount Distance: 1.448926640767926)\t(Index: 10943)\n",
      "[DRIFT][Small Window]: Downwards Data Drift detected! (passenger_count 75%-Quantile: 1.5650741350906097)\t(Index: 10943)\n",
      "[DRIFT][Small Window]: Upwards Data Drift detected!. (manhattan AVG: 1.04049260900012)\t(Index: 10943)\n",
      "[DRIFT][Small Window]: Upwards Data Drift detected! (manhattan 25%-Quantile: 1.04049260900012)\t(Index: 10943)\n",
      "[DRIFT][Small Window]: Upwards Data Drift detected! (manhattan 75%-Quantile: 1.04049260900012)\t(Index: 10943)\n",
      "[DRIFT][Small Window]: Upwards Data Drift detected!. (euclidean AVG: 0.8765235101034561)\t(Index: 10943)\n",
      "[DRIFT][Small Window]: Upwards Data Drift detected! (euclidean 25%-Quantile: 0.8765235101034561)\t(Index: 10943)\n",
      "[DRIFT][Small Window]: Upwards Data Drift detected! (euclidean 75%-Quantile: 0.8765235101034561)\t(Index: 10943)\n",
      "[DRIFT][Small Window]: Upwards Data Drift detected!. (haversine AVG: 83.65424059243203)\t(Index: 10943)\n",
      "[DRIFT][Small Window]: Upwards Data Drift detected! (haversine 25%-Quantile: 83.65424059243203)\t(Index: 10943)\n",
      "[DRIFT][Small Window]: Upwards Data Drift detected! (haversine 75%-Quantile: 83.65424059243203)\t(Index: 10943)\n",
      "[DRIFT][Small Window]: KL-Divergence detected! (haversine Divergence: 298100.6110591553)\t(Index: 10943)\n",
      "[DRIFT][Small Window]: Wasserstein Distance detected! (haversine Distance: 80.31435067393112)\t(Index: 10943)\n"
     ]
    },
    {
     "name": "stderr",
     "output_type": "stream",
     "text": [
      "[Parallel(n_jobs=-1)]: Using backend ThreadingBackend with 4 concurrent workers.\n",
      "[Parallel(n_jobs=-1)]: Done  20 out of  20 | elapsed:    0.1s finished\n"
     ]
    },
    {
     "name": "stdout",
     "output_type": "stream",
     "text": [
      "[DRIFT][Small Window]: Multi-Dimensional Upwards Mean Drift Detected! Distance: 231.69845443381874\t\t\t(Index: 10943)\n",
      "batch: 87.43283588561967, train: 2.200820905397247, train+threshold: 1.1004104526986236\n",
      "[DRIFT][Small Window]: Multi-Dimensional 3rd Quarter Upwards Drift Detected! Distance: 87.43283588561967\t\t\t(Index: 10943)\n",
      "------------------------ INDEX: 11000 ------------------------\n"
     ]
    },
    {
     "name": "stderr",
     "output_type": "stream",
     "text": [
      "Setting feature_perturbation = \"tree_path_dependent\" because no background data was given.\n"
     ]
    },
    {
     "name": "stdout",
     "output_type": "stream",
     "text": [
      "[DRIFT][Small Window]: Wasserstein Distance detected! (fare_amount Distance: 1.5916183332900387)\t(Index: 11247)\n",
      "[DRIFT][Small Window]: Downwards Data Drift detected! (passenger_count 75%-Quantile: 1.5321252059308073)\t(Index: 11247)\n",
      "[DRIFT][Small Window]: Upwards Data Drift detected!. (manhattan AVG: 1.0310460729284487)\t(Index: 11247)\n",
      "[DRIFT][Small Window]: Upwards Data Drift detected! (manhattan 25%-Quantile: 1.0310460729284487)\t(Index: 11247)\n",
      "[DRIFT][Small Window]: Upwards Data Drift detected! (manhattan 75%-Quantile: 1.0310460729284487)\t(Index: 11247)\n",
      "[DRIFT][Small Window]: Upwards Data Drift detected!. (euclidean AVG: 0.8826984541661141)\t(Index: 11247)\n",
      "[DRIFT][Small Window]: Upwards Data Drift detected! (euclidean 25%-Quantile: 0.8826984541661141)\t(Index: 11247)\n",
      "[DRIFT][Small Window]: Upwards Data Drift detected! (euclidean 75%-Quantile: 0.8826984541661141)\t(Index: 11247)\n",
      "[DRIFT][Small Window]: Upwards Data Drift detected!. (haversine AVG: 83.7980954835035)\t(Index: 11247)\n",
      "[DRIFT][Small Window]: Upwards Data Drift detected! (haversine 25%-Quantile: 83.7980954835035)\t(Index: 11247)\n",
      "[DRIFT][Small Window]: Upwards Data Drift detected! (haversine 75%-Quantile: 83.7980954835035)\t(Index: 11247)\n",
      "[DRIFT][Small Window]: KL-Divergence detected! (haversine Divergence: 294676.41862632084)\t(Index: 11247)\n",
      "[DRIFT][Small Window]: Wasserstein Distance detected! (haversine Distance: 80.4582055650026)\t(Index: 11247)\n",
      "[DRIFT][Small Window]: Pairwise Correlation Drift detected: dropoff_longitude <> passenger_count!\t(Index: 11247)\n"
     ]
    },
    {
     "name": "stderr",
     "output_type": "stream",
     "text": [
      "[Parallel(n_jobs=-1)]: Using backend ThreadingBackend with 4 concurrent workers.\n",
      "[Parallel(n_jobs=-1)]: Done  20 out of  20 | elapsed:    0.0s finished\n"
     ]
    },
    {
     "name": "stdout",
     "output_type": "stream",
     "text": [
      "[DRIFT][Small Window]: Multi-Dimensional Upwards Mean Drift Detected! Distance: 231.69845443381874\t\t\t(Index: 11247)\n",
      "batch: 87.73289320406889, train: 2.200820905397247, train+threshold: 1.1004104526986236\n",
      "[DRIFT][Small Window]: Multi-Dimensional 3rd Quarter Upwards Drift Detected! Distance: 87.73289320406889\t\t\t(Index: 11247)\n"
     ]
    },
    {
     "name": "stderr",
     "output_type": "stream",
     "text": [
      "Setting feature_perturbation = \"tree_path_dependent\" because no background data was given.\n"
     ]
    },
    {
     "name": "stdout",
     "output_type": "stream",
     "text": [
      "[DRIFT][Small Window]: Wasserstein Distance detected! (fare_amount Distance: 1.4595624441886916)\t(Index: 11551)\n",
      "[DRIFT][Small Window]: Upwards Data Drift detected!. (manhattan AVG: 0.9845600821437803)\t(Index: 11551)\n",
      "[DRIFT][Small Window]: Upwards Data Drift detected! (manhattan 25%-Quantile: 0.9845600821437803)\t(Index: 11551)\n",
      "[DRIFT][Small Window]: Upwards Data Drift detected! (manhattan 75%-Quantile: 0.9845600821437803)\t(Index: 11551)\n",
      "[DRIFT][Small Window]: Upwards Data Drift detected!. (euclidean AVG: 0.8461351808822982)\t(Index: 11551)\n",
      "[DRIFT][Small Window]: Upwards Data Drift detected! (euclidean 25%-Quantile: 0.8461351808822982)\t(Index: 11551)\n",
      "[DRIFT][Small Window]: Upwards Data Drift detected! (euclidean 75%-Quantile: 0.8461351808822982)\t(Index: 11551)\n",
      "[DRIFT][Small Window]: Upwards Data Drift detected!. (haversine AVG: 80.22343622658371)\t(Index: 11551)\n",
      "[DRIFT][Small Window]: Upwards Data Drift detected! (haversine 25%-Quantile: 80.22343622658371)\t(Index: 11551)\n",
      "[DRIFT][Small Window]: Upwards Data Drift detected! (haversine 75%-Quantile: 80.22343622658371)\t(Index: 11551)\n",
      "[DRIFT][Small Window]: KL-Divergence detected! (haversine Divergence: 279238.2036649801)\t(Index: 11551)\n",
      "[DRIFT][Small Window]: Wasserstein Distance detected! (haversine Distance: 76.88354630808283)\t(Index: 11551)\n"
     ]
    },
    {
     "name": "stderr",
     "output_type": "stream",
     "text": [
      "[Parallel(n_jobs=-1)]: Using backend ThreadingBackend with 4 concurrent workers.\n",
      "[Parallel(n_jobs=-1)]: Done  20 out of  20 | elapsed:    0.0s finished\n"
     ]
    },
    {
     "name": "stdout",
     "output_type": "stream",
     "text": [
      "[DRIFT][Small Window]: Multi-Dimensional Upwards Mean Drift Detected! Distance: 231.69845443381874\t\t\t(Index: 11551)\n",
      "batch: 87.91347899972784, train: 2.200820905397247, train+threshold: 1.1004104526986236\n",
      "[DRIFT][Small Window]: Multi-Dimensional 3rd Quarter Upwards Drift Detected! Distance: 87.91347899972784\t\t\t(Index: 11551)\n"
     ]
    },
    {
     "name": "stderr",
     "output_type": "stream",
     "text": [
      "Setting feature_perturbation = \"tree_path_dependent\" because no background data was given.\n"
     ]
    },
    {
     "name": "stdout",
     "output_type": "stream",
     "text": [
      "[DRIFT][Small Window]: Wasserstein Distance detected! (fare_amount Distance: 1.2779049414924126)\t(Index: 11855)\n",
      "[DRIFT][Small Window]: Upwards Data Drift detected!. (manhattan AVG: 1.0962877895910987)\t(Index: 11855)\n",
      "[DRIFT][Small Window]: Upwards Data Drift detected! (manhattan 25%-Quantile: 1.0962877895910987)\t(Index: 11855)\n",
      "[DRIFT][Small Window]: Upwards Data Drift detected! (manhattan 75%-Quantile: 1.0962877895910987)\t(Index: 11855)\n",
      "[DRIFT][Small Window]: Upwards Data Drift detected!. (euclidean AVG: 0.9344000725294842)\t(Index: 11855)\n",
      "[DRIFT][Small Window]: Upwards Data Drift detected! (euclidean 25%-Quantile: 0.9344000725294842)\t(Index: 11855)\n",
      "[DRIFT][Small Window]: Upwards Data Drift detected! (euclidean 75%-Quantile: 0.9344000725294842)\t(Index: 11855)\n",
      "[DRIFT][Small Window]: Upwards Data Drift detected!. (haversine AVG: 88.9271510086196)\t(Index: 11855)\n",
      "[DRIFT][Small Window]: Upwards Data Drift detected! (haversine 25%-Quantile: 88.9271510086196)\t(Index: 11855)\n",
      "[DRIFT][Small Window]: Upwards Data Drift detected! (haversine 75%-Quantile: 88.9271510086196)\t(Index: 11855)\n",
      "[DRIFT][Small Window]: KL-Divergence detected! (haversine Divergence: 318196.08142849104)\t(Index: 11855)\n",
      "[DRIFT][Small Window]: Wasserstein Distance detected! (haversine Distance: 85.58726109011867)\t(Index: 11855)\n"
     ]
    },
    {
     "name": "stderr",
     "output_type": "stream",
     "text": [
      "[Parallel(n_jobs=-1)]: Using backend ThreadingBackend with 4 concurrent workers.\n",
      "[Parallel(n_jobs=-1)]: Done  20 out of  20 | elapsed:    0.0s finished\n"
     ]
    },
    {
     "name": "stdout",
     "output_type": "stream",
     "text": [
      "[DRIFT][Small Window]: Multi-Dimensional Upwards Mean Drift Detected! Distance: 231.69845443381874\t\t\t(Index: 11855)\n",
      "batch: 89.00049208695111, train: 2.200820905397247, train+threshold: 1.1004104526986236\n",
      "[DRIFT][Small Window]: Multi-Dimensional 3rd Quarter Upwards Drift Detected! Distance: 89.00049208695111\t\t\t(Index: 11855)\n",
      "------------------------ INDEX: 12000 ------------------------\n"
     ]
    },
    {
     "name": "stderr",
     "output_type": "stream",
     "text": [
      "Setting feature_perturbation = \"tree_path_dependent\" because no background data was given.\n"
     ]
    },
    {
     "name": "stdout",
     "output_type": "stream",
     "text": [
      "[DRIFT][Small Window]: Downwards Data Drift detected! (passenger_count 75%-Quantile: 1.457990115321252)\t(Index: 12159)\n",
      "[DRIFT][Small Window]: Upwards Data Drift detected!. (manhattan AVG: 1.0846094887309765)\t(Index: 12159)\n",
      "[DRIFT][Small Window]: Upwards Data Drift detected! (manhattan 25%-Quantile: 1.0846094887309765)\t(Index: 12159)\n",
      "[DRIFT][Small Window]: Upwards Data Drift detected! (manhattan 75%-Quantile: 1.0846094887309765)\t(Index: 12159)\n",
      "[DRIFT][Small Window]: Upwards Data Drift detected!. (euclidean AVG: 0.9318820554181725)\t(Index: 12159)\n",
      "[DRIFT][Small Window]: Upwards Data Drift detected! (euclidean 25%-Quantile: 0.9318820554181725)\t(Index: 12159)\n",
      "[DRIFT][Small Window]: Upwards Data Drift detected! (euclidean 75%-Quantile: 0.9318820554181725)\t(Index: 12159)\n",
      "[DRIFT][Small Window]: Upwards Data Drift detected!. (haversine AVG: 88.62998168748658)\t(Index: 12159)\n",
      "[DRIFT][Small Window]: Upwards Data Drift detected! (haversine 25%-Quantile: 88.62998168748658)\t(Index: 12159)\n",
      "[DRIFT][Small Window]: Upwards Data Drift detected! (haversine 75%-Quantile: 88.62998168748658)\t(Index: 12159)\n",
      "[DRIFT][Small Window]: KL-Divergence detected! (haversine Divergence: 299400.37082233024)\t(Index: 12159)\n",
      "[DRIFT][Small Window]: Wasserstein Distance detected! (haversine Distance: 85.29009176898566)\t(Index: 12159)\n"
     ]
    },
    {
     "name": "stderr",
     "output_type": "stream",
     "text": [
      "[Parallel(n_jobs=-1)]: Using backend ThreadingBackend with 4 concurrent workers.\n",
      "[Parallel(n_jobs=-1)]: Done  20 out of  20 | elapsed:    0.0s finished\n"
     ]
    },
    {
     "name": "stdout",
     "output_type": "stream",
     "text": [
      "[DRIFT][Small Window]: Multi-Dimensional Upwards Mean Drift Detected! Distance: 231.69845443381874\t\t\t(Index: 12159)\n",
      "batch: 89.14183768795012, train: 2.200820905397247, train+threshold: 1.1004104526986236\n",
      "[DRIFT][Small Window]: Multi-Dimensional 3rd Quarter Upwards Drift Detected! Distance: 89.14183768795012\t\t\t(Index: 12159)\n"
     ]
    },
    {
     "name": "stderr",
     "output_type": "stream",
     "text": [
      "Setting feature_perturbation = \"tree_path_dependent\" because no background data was given.\n"
     ]
    },
    {
     "name": "stdout",
     "output_type": "stream",
     "text": [
      "[DRIFT][Small Window]: Upwards Data Drift detected!. (manhattan AVG: 1.16696961501112)\t(Index: 12463)\n",
      "[DRIFT][Small Window]: Upwards Data Drift detected! (manhattan 25%-Quantile: 1.16696961501112)\t(Index: 12463)\n",
      "[DRIFT][Small Window]: Upwards Data Drift detected! (manhattan 75%-Quantile: 1.16696961501112)\t(Index: 12463)\n",
      "[DRIFT][Small Window]: Upwards Data Drift detected!. (euclidean AVG: 0.9919449370130865)\t(Index: 12463)\n",
      "[DRIFT][Small Window]: Upwards Data Drift detected! (euclidean 25%-Quantile: 0.9919449370130865)\t(Index: 12463)\n",
      "[DRIFT][Small Window]: Upwards Data Drift detected! (euclidean 75%-Quantile: 0.9919449370130865)\t(Index: 12463)\n",
      "[DRIFT][Small Window]: Upwards Data Drift detected!. (haversine AVG: 93.86203418530705)\t(Index: 12463)\n",
      "[DRIFT][Small Window]: Upwards Data Drift detected! (haversine 25%-Quantile: 93.86203418530705)\t(Index: 12463)\n",
      "[DRIFT][Small Window]: Upwards Data Drift detected! (haversine 75%-Quantile: 93.86203418530705)\t(Index: 12463)\n",
      "[DRIFT][Small Window]: KL-Divergence detected! (haversine Divergence: 331137.7943536607)\t(Index: 12463)\n",
      "[DRIFT][Small Window]: Wasserstein Distance detected! (haversine Distance: 90.52214426680615)\t(Index: 12463)\n"
     ]
    },
    {
     "name": "stderr",
     "output_type": "stream",
     "text": [
      "[Parallel(n_jobs=-1)]: Using backend ThreadingBackend with 4 concurrent workers.\n",
      "[Parallel(n_jobs=-1)]: Done  20 out of  20 | elapsed:    0.0s finished\n"
     ]
    },
    {
     "name": "stdout",
     "output_type": "stream",
     "text": [
      "[DRIFT][Small Window]: Multi-Dimensional Upwards Mean Drift Detected! Distance: 231.69845443381874\t\t\t(Index: 12463)\n",
      "batch: 89.97545010066077, train: 2.200820905397247, train+threshold: 1.1004104526986236\n",
      "[DRIFT][Small Window]: Multi-Dimensional 3rd Quarter Upwards Drift Detected! Distance: 89.97545010066077\t\t\t(Index: 12463)\n"
     ]
    },
    {
     "name": "stderr",
     "output_type": "stream",
     "text": [
      "Setting feature_perturbation = \"tree_path_dependent\" because no background data was given.\n"
     ]
    },
    {
     "name": "stdout",
     "output_type": "stream",
     "text": [
      "[DRIFT][Small Window]: Wasserstein Distance detected! (fare_amount Distance: 1.4788458628392986)\t(Index: 12767)\n",
      "[DRIFT][Small Window]: Upwards Data Drift detected!. (manhattan AVG: 1.247877364275542)\t(Index: 12767)\n",
      "[DRIFT][Small Window]: Upwards Data Drift detected! (manhattan 25%-Quantile: 1.247877364275542)\t(Index: 12767)\n",
      "[DRIFT][Small Window]: Upwards Data Drift detected! (manhattan 75%-Quantile: 1.247877364275542)\t(Index: 12767)\n",
      "[DRIFT][Small Window]: Wasserstein Distance detected! (manhattan Distance: 1.2036723187807756)\t(Index: 12767)\n",
      "[DRIFT][Small Window]: Upwards Data Drift detected!. (euclidean AVG: 1.0588495282663932)\t(Index: 12767)\n",
      "[DRIFT][Small Window]: Upwards Data Drift detected! (euclidean 25%-Quantile: 1.0588495282663932)\t(Index: 12767)\n",
      "[DRIFT][Small Window]: Upwards Data Drift detected! (euclidean 75%-Quantile: 1.0588495282663932)\t(Index: 12767)\n",
      "[DRIFT][Small Window]: Upwards Data Drift detected!. (haversine AVG: 100.128240870604)\t(Index: 12767)\n",
      "[DRIFT][Small Window]: Upwards Data Drift detected! (haversine 25%-Quantile: 100.128240870604)\t(Index: 12767)\n",
      "[DRIFT][Small Window]: Upwards Data Drift detected! (haversine 75%-Quantile: 100.128240870604)\t(Index: 12767)\n",
      "[DRIFT][Small Window]: KL-Divergence detected! (haversine Divergence: 349075.2750464902)\t(Index: 12767)\n",
      "[DRIFT][Small Window]: Wasserstein Distance detected! (haversine Distance: 96.78835095210307)\t(Index: 12767)\n"
     ]
    },
    {
     "name": "stderr",
     "output_type": "stream",
     "text": [
      "[Parallel(n_jobs=-1)]: Using backend ThreadingBackend with 4 concurrent workers.\n",
      "[Parallel(n_jobs=-1)]: Done  20 out of  20 | elapsed:    0.0s finished\n"
     ]
    },
    {
     "name": "stdout",
     "output_type": "stream",
     "text": [
      "[DRIFT][Small Window]: Multi-Dimensional Upwards Mean Drift Detected! Distance: 231.69845443381874\t\t\t(Index: 12767)\n",
      "batch: 90.42773170978097, train: 2.200820905397247, train+threshold: 1.1004104526986236\n",
      "[DRIFT][Small Window]: Multi-Dimensional 3rd Quarter Upwards Drift Detected! Distance: 90.42773170978097\t\t\t(Index: 12767)\n"
     ]
    },
    {
     "name": "stderr",
     "output_type": "stream",
     "text": [
      "Setting feature_perturbation = \"tree_path_dependent\" because no background data was given.\n"
     ]
    },
    {
     "name": "stdout",
     "output_type": "stream",
     "text": [
      "[DRIFT][Medium Window]: Upwards Data Drift detected! (fare_amount 25%-Quantile: 11.096723032400364)\t(Index: 12776)\n",
      "[DRIFT][Medium Window]: KL-Divergence detected! (fare_amount Divergence: 36350.89711456151)\t(Index: 12776)\n",
      "[DRIFT][Medium Window]: Wasserstein Distance detected! (fare_amount Distance: 1.1047579348984333)\t(Index: 12776)\n",
      "[DRIFT][Medium Window]: KL-Divergence detected! (fare-bin Divergence: 4181.841238778413)\t(Index: 12776)\n",
      "[DRIFT][Medium Window]: KL-Divergence detected! (pickup_longitude Divergence: 3855.0168342973757)\t(Index: 12776)\n",
      "[DRIFT][Medium Window]: Wasserstein Distance detected! (pickup_longitude Distance: 0.634478884621541)\t(Index: 12776)\n",
      "[DRIFT][Medium Window]: KL-Divergence detected! (pickup_latitude Divergence: 2684.8394691527583)\t(Index: 12776)\n",
      "[DRIFT][Medium Window]: Wasserstein Distance detected! (pickup_latitude Distance: 0.429971972918666)\t(Index: 12776)\n",
      "[DRIFT][Medium Window]: KL-Divergence detected! (passenger_count Divergence: 2593.6900044865533)\t(Index: 12776)\n",
      "[DRIFT][Medium Window]: Upwards Data Drift detected!. (manhattan AVG: 1.1046487986756202)\t(Index: 12776)\n",
      "[DRIFT][Medium Window]: Upwards Data Drift detected! (manhattan 25%-Quantile: 1.1046487986756202)\t(Index: 12776)\n",
      "[DRIFT][Medium Window]: Upwards Data Drift detected! (manhattan 75%-Quantile: 1.1046487986756202)\t(Index: 12776)\n",
      "[DRIFT][Medium Window]: KL-Divergence detected! (manhattan Divergence: 28963.394392498536)\t(Index: 12776)\n",
      "[DRIFT][Medium Window]: Wasserstein Distance detected! (manhattan Distance: 1.0604437531808535)\t(Index: 12776)\n",
      "[DRIFT][Medium Window]: Upwards Data Drift detected!. (euclidean AVG: 0.9405090070477968)\t(Index: 12776)\n",
      "[DRIFT][Medium Window]: Upwards Data Drift detected! (euclidean 25%-Quantile: 0.9405090070477968)\t(Index: 12776)\n",
      "[DRIFT][Medium Window]: Upwards Data Drift detected! (euclidean 75%-Quantile: 0.9405090070477968)\t(Index: 12776)\n",
      "[DRIFT][Medium Window]: KL-Divergence detected! (euclidean Divergence: 25066.90108846772)\t(Index: 12776)\n",
      "[DRIFT][Medium Window]: Wasserstein Distance detected! (euclidean Distance: 0.9063350806354162)\t(Index: 12776)\n",
      "[DRIFT][Medium Window]: Upwards Data Drift detected!. (haversine AVG: 89.47089427644637)\t(Index: 12776)\n",
      "[DRIFT][Medium Window]: Upwards Data Drift detected! (haversine 25%-Quantile: 89.47089427644637)\t(Index: 12776)\n",
      "[DRIFT][Medium Window]: Upwards Data Drift detected! (haversine 75%-Quantile: 89.47089427644637)\t(Index: 12776)\n",
      "[DRIFT][Medium Window]: KL-Divergence detected! (haversine Divergence: 2369744.5459655304)\t(Index: 12776)\n",
      "[DRIFT][Medium Window]: Wasserstein Distance detected! (haversine Distance: 86.13100435794547)\t(Index: 12776)\n"
     ]
    },
    {
     "name": "stderr",
     "output_type": "stream",
     "text": [
      "[Parallel(n_jobs=-1)]: Using backend ThreadingBackend with 4 concurrent workers.\n",
      "[Parallel(n_jobs=-1)]: Done  20 out of  20 | elapsed:    0.1s finished\n"
     ]
    },
    {
     "name": "stdout",
     "output_type": "stream",
     "text": [
      "[DRIFT][Medium Window]: Multi-Dimensional Upwards Mean Drift Detected! Distance: 231.69845443381874\t\t\t(Index: 12776)\n",
      "batch: 90.4832530329512, train: 2.200820905397247, train+threshold: 1.1004104526986236\n",
      "[DRIFT][Medium Window]: Multi-Dimensional 3rd Quarter Upwards Drift Detected! Distance: 90.4832530329512\t\t\t(Index: 12776)\n",
      "------------------------ INDEX: 13000 ------------------------\n"
     ]
    },
    {
     "name": "stderr",
     "output_type": "stream",
     "text": [
      "Setting feature_perturbation = \"tree_path_dependent\" because no background data was given.\n"
     ]
    },
    {
     "name": "stdout",
     "output_type": "stream",
     "text": [
      "[DRIFT][Small Window]: Wasserstein Distance detected! (fare_amount Distance: 1.431211200591725)\t(Index: 13071)\n",
      "[DRIFT][Small Window]: Upwards Data Drift detected!. (manhattan AVG: 1.2338562297636606)\t(Index: 13071)\n",
      "[DRIFT][Small Window]: Upwards Data Drift detected! (manhattan 25%-Quantile: 1.2338562297636606)\t(Index: 13071)\n",
      "[DRIFT][Small Window]: Upwards Data Drift detected! (manhattan 75%-Quantile: 1.2338562297636606)\t(Index: 13071)\n",
      "[DRIFT][Small Window]: Upwards Data Drift detected!. (euclidean AVG: 1.0402825572263599)\t(Index: 13071)\n",
      "[DRIFT][Small Window]: Upwards Data Drift detected! (euclidean 25%-Quantile: 1.0402825572263599)\t(Index: 13071)\n",
      "[DRIFT][Small Window]: Upwards Data Drift detected! (euclidean 75%-Quantile: 1.0402825572263599)\t(Index: 13071)\n",
      "[DRIFT][Small Window]: Upwards Data Drift detected!. (haversine AVG: 99.3999191191895)\t(Index: 13071)\n",
      "[DRIFT][Small Window]: Upwards Data Drift detected! (haversine 25%-Quantile: 99.3999191191895)\t(Index: 13071)\n",
      "[DRIFT][Small Window]: Upwards Data Drift detected! (haversine 75%-Quantile: 99.3999191191895)\t(Index: 13071)\n",
      "[DRIFT][Small Window]: KL-Divergence detected! (haversine Divergence: 348468.8545137378)\t(Index: 13071)\n",
      "[DRIFT][Small Window]: Wasserstein Distance detected! (haversine Distance: 96.06002920068863)\t(Index: 13071)\n"
     ]
    },
    {
     "name": "stderr",
     "output_type": "stream",
     "text": [
      "[Parallel(n_jobs=-1)]: Using backend ThreadingBackend with 4 concurrent workers.\n",
      "[Parallel(n_jobs=-1)]: Done  20 out of  20 | elapsed:    0.0s finished\n"
     ]
    },
    {
     "name": "stdout",
     "output_type": "stream",
     "text": [
      "[DRIFT][Small Window]: Multi-Dimensional Upwards Mean Drift Detected! Distance: 231.69845443381874\t\t\t(Index: 13071)\n",
      "batch: 91.32646043739066, train: 2.200820905397247, train+threshold: 1.1004104526986236\n",
      "[DRIFT][Small Window]: Multi-Dimensional 3rd Quarter Upwards Drift Detected! Distance: 91.32646043739066\t\t\t(Index: 13071)\n"
     ]
    },
    {
     "name": "stderr",
     "output_type": "stream",
     "text": [
      "Setting feature_perturbation = \"tree_path_dependent\" because no background data was given.\n"
     ]
    },
    {
     "name": "stdout",
     "output_type": "stream",
     "text": [
      "[DRIFT][Small Window]: Upwards Data Drift detected!. (manhattan AVG: 1.190614935622896)\t(Index: 13375)\n",
      "[DRIFT][Small Window]: Upwards Data Drift detected! (manhattan 25%-Quantile: 1.190614935622896)\t(Index: 13375)\n",
      "[DRIFT][Small Window]: Upwards Data Drift detected! (manhattan 75%-Quantile: 1.190614935622896)\t(Index: 13375)\n",
      "[DRIFT][Small Window]: Upwards Data Drift detected!. (euclidean AVG: 1.0096187650889057)\t(Index: 13375)\n",
      "[DRIFT][Small Window]: Upwards Data Drift detected! (euclidean 25%-Quantile: 1.0096187650889057)\t(Index: 13375)\n",
      "[DRIFT][Small Window]: Upwards Data Drift detected! (euclidean 75%-Quantile: 1.0096187650889057)\t(Index: 13375)\n",
      "[DRIFT][Small Window]: Upwards Data Drift detected!. (haversine AVG: 96.14616138908835)\t(Index: 13375)\n",
      "[DRIFT][Small Window]: Upwards Data Drift detected! (haversine 25%-Quantile: 96.14616138908835)\t(Index: 13375)\n",
      "[DRIFT][Small Window]: Upwards Data Drift detected! (haversine 75%-Quantile: 96.14616138908835)\t(Index: 13375)\n",
      "[DRIFT][Small Window]: KL-Divergence detected! (haversine Divergence: 333096.6470793886)\t(Index: 13375)\n",
      "[DRIFT][Small Window]: Wasserstein Distance detected! (haversine Distance: 92.80627147058745)\t(Index: 13375)\n"
     ]
    },
    {
     "name": "stderr",
     "output_type": "stream",
     "text": [
      "[Parallel(n_jobs=-1)]: Using backend ThreadingBackend with 4 concurrent workers.\n",
      "[Parallel(n_jobs=-1)]: Done  20 out of  20 | elapsed:    0.0s finished\n"
     ]
    },
    {
     "name": "stdout",
     "output_type": "stream",
     "text": [
      "[DRIFT][Small Window]: Multi-Dimensional Upwards Mean Drift Detected! Distance: 231.69845443381874\t\t\t(Index: 13375)\n",
      "batch: 91.55383893538638, train: 2.200820905397247, train+threshold: 1.1004104526986236\n",
      "[DRIFT][Small Window]: Multi-Dimensional 3rd Quarter Upwards Drift Detected! Distance: 91.55383893538638\t\t\t(Index: 13375)\n"
     ]
    },
    {
     "name": "stderr",
     "output_type": "stream",
     "text": [
      "Setting feature_perturbation = \"tree_path_dependent\" because no background data was given.\n"
     ]
    },
    {
     "name": "stdout",
     "output_type": "stream",
     "text": [
      "[DRIFT][Small Window]: Upwards Data Drift detected!. (manhattan AVG: 1.0258911157641557)\t(Index: 13679)\n",
      "[DRIFT][Small Window]: Upwards Data Drift detected! (manhattan 25%-Quantile: 1.0258911157641557)\t(Index: 13679)\n",
      "[DRIFT][Small Window]: Upwards Data Drift detected! (manhattan 75%-Quantile: 1.0258911157641557)\t(Index: 13679)\n",
      "[DRIFT][Small Window]: Upwards Data Drift detected!. (euclidean AVG: 0.8845962421085616)\t(Index: 13679)\n",
      "[DRIFT][Small Window]: Upwards Data Drift detected! (euclidean 25%-Quantile: 0.8845962421085616)\t(Index: 13679)\n",
      "[DRIFT][Small Window]: Upwards Data Drift detected! (euclidean 75%-Quantile: 0.8845962421085616)\t(Index: 13679)\n",
      "[DRIFT][Small Window]: Upwards Data Drift detected!. (haversine AVG: 83.25684595452847)\t(Index: 13679)\n",
      "[DRIFT][Small Window]: Upwards Data Drift detected! (haversine 25%-Quantile: 83.25684595452847)\t(Index: 13679)\n",
      "[DRIFT][Small Window]: Upwards Data Drift detected! (haversine 75%-Quantile: 83.25684595452847)\t(Index: 13679)\n",
      "[DRIFT][Small Window]: KL-Divergence detected! (haversine Divergence: 287040.0803282148)\t(Index: 13679)\n",
      "[DRIFT][Small Window]: Wasserstein Distance detected! (haversine Distance: 79.91695603602759)\t(Index: 13679)\n"
     ]
    },
    {
     "name": "stderr",
     "output_type": "stream",
     "text": [
      "[Parallel(n_jobs=-1)]: Using backend ThreadingBackend with 4 concurrent workers.\n",
      "[Parallel(n_jobs=-1)]: Done  20 out of  20 | elapsed:    0.1s finished\n"
     ]
    },
    {
     "name": "stdout",
     "output_type": "stream",
     "text": [
      "[DRIFT][Small Window]: Multi-Dimensional Upwards Mean Drift Detected! Distance: 231.69845443381874\t\t\t(Index: 13679)\n",
      "batch: 91.84743458346362, train: 2.200820905397247, train+threshold: 1.1004104526986236\n",
      "[DRIFT][Small Window]: Multi-Dimensional 3rd Quarter Upwards Drift Detected! Distance: 91.84743458346362\t\t\t(Index: 13679)\n"
     ]
    },
    {
     "name": "stderr",
     "output_type": "stream",
     "text": [
      "Setting feature_perturbation = \"tree_path_dependent\" because no background data was given.\n"
     ]
    },
    {
     "name": "stdout",
     "output_type": "stream",
     "text": [
      "[DRIFT][Small Window]: Downwards Data Drift detected! (passenger_count 75%-Quantile: 1.4794069192751236)\t(Index: 13983)\n",
      "[DRIFT][Small Window]: Upwards Data Drift detected!. (manhattan AVG: 1.0156647456773695)\t(Index: 13983)\n",
      "[DRIFT][Small Window]: Upwards Data Drift detected! (manhattan 25%-Quantile: 1.0156647456773695)\t(Index: 13983)\n",
      "[DRIFT][Small Window]: Upwards Data Drift detected! (manhattan 75%-Quantile: 1.0156647456773695)\t(Index: 13983)\n",
      "[DRIFT][Small Window]: Upwards Data Drift detected!. (euclidean AVG: 0.8716389901092327)\t(Index: 13983)\n",
      "[DRIFT][Small Window]: Upwards Data Drift detected! (euclidean 25%-Quantile: 0.8716389901092327)\t(Index: 13983)\n",
      "[DRIFT][Small Window]: Upwards Data Drift detected! (euclidean 75%-Quantile: 0.8716389901092327)\t(Index: 13983)\n",
      "[DRIFT][Small Window]: Upwards Data Drift detected!. (haversine AVG: 82.88642668472266)\t(Index: 13983)\n",
      "[DRIFT][Small Window]: Upwards Data Drift detected! (haversine 25%-Quantile: 82.88642668472266)\t(Index: 13983)\n",
      "[DRIFT][Small Window]: Upwards Data Drift detected! (haversine 75%-Quantile: 82.88642668472266)\t(Index: 13983)\n",
      "[DRIFT][Small Window]: KL-Divergence detected! (haversine Divergence: 273989.79411887255)\t(Index: 13983)\n",
      "[DRIFT][Small Window]: Wasserstein Distance detected! (haversine Distance: 79.54653676622175)\t(Index: 13983)\n",
      "[DRIFT][Small Window]: Pairwise Correlation Drift detected: pickup_longitude <> passenger_count!\t(Index: 13983)\n"
     ]
    },
    {
     "name": "stderr",
     "output_type": "stream",
     "text": [
      "[Parallel(n_jobs=-1)]: Using backend ThreadingBackend with 4 concurrent workers.\n",
      "[Parallel(n_jobs=-1)]: Done  20 out of  20 | elapsed:    0.0s finished\n"
     ]
    },
    {
     "name": "stdout",
     "output_type": "stream",
     "text": [
      "[DRIFT][Small Window]: Multi-Dimensional Upwards Mean Drift Detected! Distance: 231.69845443381874\t\t\t(Index: 13983)\n",
      "batch: 92.10804860450158, train: 2.200820905397247, train+threshold: 1.1004104526986236\n",
      "[DRIFT][Small Window]: Multi-Dimensional 3rd Quarter Upwards Drift Detected! Distance: 92.10804860450158\t\t\t(Index: 13983)\n",
      "------------------------ INDEX: 14000 ------------------------\n"
     ]
    },
    {
     "name": "stderr",
     "output_type": "stream",
     "text": [
      "Setting feature_perturbation = \"tree_path_dependent\" because no background data was given.\n"
     ]
    },
    {
     "name": "stdout",
     "output_type": "stream",
     "text": [
      "[DRIFT][Small Window]: Upwards Data Drift detected!. (manhattan AVG: 1.093414261552769)\t(Index: 14287)\n",
      "[DRIFT][Small Window]: Upwards Data Drift detected! (manhattan 25%-Quantile: 1.093414261552769)\t(Index: 14287)\n",
      "[DRIFT][Small Window]: Upwards Data Drift detected! (manhattan 75%-Quantile: 1.093414261552769)\t(Index: 14287)\n",
      "[DRIFT][Small Window]: Upwards Data Drift detected!. (euclidean AVG: 0.9272922661465143)\t(Index: 14287)\n",
      "[DRIFT][Small Window]: Upwards Data Drift detected! (euclidean 25%-Quantile: 0.9272922661465143)\t(Index: 14287)\n",
      "[DRIFT][Small Window]: Upwards Data Drift detected! (euclidean 75%-Quantile: 0.9272922661465143)\t(Index: 14287)\n",
      "[DRIFT][Small Window]: Upwards Data Drift detected!. (haversine AVG: 89.18030630751403)\t(Index: 14287)\n",
      "[DRIFT][Small Window]: Upwards Data Drift detected! (haversine 25%-Quantile: 89.18030630751403)\t(Index: 14287)\n",
      "[DRIFT][Small Window]: Upwards Data Drift detected! (haversine 75%-Quantile: 89.18030630751403)\t(Index: 14287)\n",
      "[DRIFT][Small Window]: KL-Divergence detected! (haversine Divergence: 319113.7545556945)\t(Index: 14287)\n",
      "[DRIFT][Small Window]: Wasserstein Distance detected! (haversine Distance: 85.84041638901313)\t(Index: 14287)\n",
      "[DRIFT][Small Window]: Pairwise Correlation Drift detected: pickup_longitude <> passenger_count!\t(Index: 14287)\n"
     ]
    },
    {
     "name": "stderr",
     "output_type": "stream",
     "text": [
      "[Parallel(n_jobs=-1)]: Using backend ThreadingBackend with 4 concurrent workers.\n",
      "[Parallel(n_jobs=-1)]: Done  20 out of  20 | elapsed:    0.0s finished\n"
     ]
    },
    {
     "name": "stdout",
     "output_type": "stream",
     "text": [
      "[DRIFT][Small Window]: Multi-Dimensional Upwards Mean Drift Detected! Distance: 231.69845443381874\t\t\t(Index: 14287)\n",
      "batch: 92.61738114984684, train: 2.200820905397247, train+threshold: 1.1004104526986236\n",
      "[DRIFT][Small Window]: Multi-Dimensional 3rd Quarter Upwards Drift Detected! Distance: 92.61738114984684\t\t\t(Index: 14287)\n"
     ]
    },
    {
     "name": "stderr",
     "output_type": "stream",
     "text": [
      "Setting feature_perturbation = \"tree_path_dependent\" because no background data was given.\n"
     ]
    },
    {
     "name": "stdout",
     "output_type": "stream",
     "text": [
      "[DRIFT][Small Window]: Downwards Data Drift detected! (passenger_count 75%-Quantile: 1.471169686985173)\t(Index: 14591)\n",
      "[DRIFT][Small Window]: Upwards Data Drift detected!. (manhattan AVG: 1.091521099929478)\t(Index: 14591)\n",
      "[DRIFT][Small Window]: Upwards Data Drift detected! (manhattan 25%-Quantile: 1.091521099929478)\t(Index: 14591)\n",
      "[DRIFT][Small Window]: Upwards Data Drift detected! (manhattan 75%-Quantile: 1.091521099929478)\t(Index: 14591)\n",
      "[DRIFT][Small Window]: Upwards Data Drift detected!. (euclidean AVG: 0.9269854426049258)\t(Index: 14591)\n",
      "[DRIFT][Small Window]: Upwards Data Drift detected! (euclidean 25%-Quantile: 0.9269854426049258)\t(Index: 14591)\n",
      "[DRIFT][Small Window]: Upwards Data Drift detected! (euclidean 75%-Quantile: 0.9269854426049258)\t(Index: 14591)\n",
      "[DRIFT][Small Window]: Upwards Data Drift detected!. (haversine AVG: 88.90664908570926)\t(Index: 14591)\n",
      "[DRIFT][Small Window]: Upwards Data Drift detected! (haversine 25%-Quantile: 88.90664908570926)\t(Index: 14591)\n",
      "[DRIFT][Small Window]: Upwards Data Drift detected! (haversine 75%-Quantile: 88.90664908570926)\t(Index: 14591)\n",
      "[DRIFT][Small Window]: KL-Divergence detected! (haversine Divergence: 309470.415931518)\t(Index: 14591)\n",
      "[DRIFT][Small Window]: Wasserstein Distance detected! (haversine Distance: 85.56675916720837)\t(Index: 14591)\n",
      "[DRIFT][Small Window]: Pairwise Correlation Drift detected: dropoff_longitude <> passenger_count!\t(Index: 14591)\n"
     ]
    },
    {
     "name": "stderr",
     "output_type": "stream",
     "text": [
      "[Parallel(n_jobs=-1)]: Using backend ThreadingBackend with 4 concurrent workers.\n",
      "[Parallel(n_jobs=-1)]: Done  20 out of  20 | elapsed:    0.0s finished\n"
     ]
    },
    {
     "name": "stdout",
     "output_type": "stream",
     "text": [
      "[DRIFT][Small Window]: Multi-Dimensional Upwards Mean Drift Detected! Distance: 231.69845443381874\t\t\t(Index: 14591)\n",
      "batch: 92.75048653003638, train: 2.200820905397247, train+threshold: 1.1004104526986236\n",
      "[DRIFT][Small Window]: Multi-Dimensional 3rd Quarter Upwards Drift Detected! Distance: 92.75048653003638\t\t\t(Index: 14591)\n"
     ]
    },
    {
     "name": "stderr",
     "output_type": "stream",
     "text": [
      "Setting feature_perturbation = \"tree_path_dependent\" because no background data was given.\n"
     ]
    },
    {
     "name": "stdout",
     "output_type": "stream",
     "text": [
      "[DRIFT][Small Window]: Downwards Data Drift detected! (passenger_count 75%-Quantile: 1.4794069192751236)\t(Index: 14895)\n",
      "[DRIFT][Small Window]: Upwards Data Drift detected!. (manhattan AVG: 1.0357148865299932)\t(Index: 14895)\n",
      "[DRIFT][Small Window]: Upwards Data Drift detected! (manhattan 25%-Quantile: 1.0357148865299932)\t(Index: 14895)\n",
      "[DRIFT][Small Window]: Upwards Data Drift detected! (manhattan 75%-Quantile: 1.0357148865299932)\t(Index: 14895)\n",
      "[DRIFT][Small Window]: Upwards Data Drift detected!. (euclidean AVG: 0.884650545690408)\t(Index: 14895)\n",
      "[DRIFT][Small Window]: Upwards Data Drift detected! (euclidean 25%-Quantile: 0.884650545690408)\t(Index: 14895)\n",
      "[DRIFT][Small Window]: Upwards Data Drift detected! (euclidean 75%-Quantile: 0.884650545690408)\t(Index: 14895)\n",
      "[DRIFT][Small Window]: Upwards Data Drift detected!. (haversine AVG: 84.24646749740968)\t(Index: 14895)\n",
      "[DRIFT][Small Window]: Upwards Data Drift detected! (haversine 25%-Quantile: 84.24646749740968)\t(Index: 14895)\n",
      "[DRIFT][Small Window]: Upwards Data Drift detected! (haversine 75%-Quantile: 84.24646749740968)\t(Index: 14895)\n",
      "[DRIFT][Small Window]: KL-Divergence detected! (haversine Divergence: 298323.38386854215)\t(Index: 14895)\n",
      "[DRIFT][Small Window]: Wasserstein Distance detected! (haversine Distance: 80.90657757890878)\t(Index: 14895)\n"
     ]
    },
    {
     "name": "stderr",
     "output_type": "stream",
     "text": [
      "[Parallel(n_jobs=-1)]: Using backend ThreadingBackend with 4 concurrent workers.\n",
      "[Parallel(n_jobs=-1)]: Done  20 out of  20 | elapsed:    0.0s finished\n"
     ]
    },
    {
     "name": "stdout",
     "output_type": "stream",
     "text": [
      "[DRIFT][Small Window]: Multi-Dimensional Upwards Mean Drift Detected! Distance: 231.69845443381874\t\t\t(Index: 14895)\n",
      "batch: 92.99668545273215, train: 2.200820905397247, train+threshold: 1.1004104526986236\n",
      "[DRIFT][Small Window]: Multi-Dimensional 3rd Quarter Upwards Drift Detected! Distance: 92.99668545273215\t\t\t(Index: 14895)\n",
      "------------------------ INDEX: 15000 ------------------------\n"
     ]
    },
    {
     "name": "stderr",
     "output_type": "stream",
     "text": [
      "Setting feature_perturbation = \"tree_path_dependent\" because no background data was given.\n"
     ]
    },
    {
     "name": "stdout",
     "output_type": "stream",
     "text": [
      "[DRIFT][Small Window]: Upwards Data Drift detected!. (manhattan AVG: 1.0374518304840714)\t(Index: 15199)\n",
      "[DRIFT][Small Window]: Upwards Data Drift detected! (manhattan 25%-Quantile: 1.0374518304840714)\t(Index: 15199)\n",
      "[DRIFT][Small Window]: Upwards Data Drift detected! (manhattan 75%-Quantile: 1.0374518304840714)\t(Index: 15199)\n",
      "[DRIFT][Small Window]: Upwards Data Drift detected!. (euclidean AVG: 0.8751696941181464)\t(Index: 15199)\n",
      "[DRIFT][Small Window]: Upwards Data Drift detected! (euclidean 25%-Quantile: 0.8751696941181464)\t(Index: 15199)\n",
      "[DRIFT][Small Window]: Upwards Data Drift detected! (euclidean 75%-Quantile: 0.8751696941181464)\t(Index: 15199)\n",
      "[DRIFT][Small Window]: Upwards Data Drift detected!. (haversine AVG: 83.41441403033407)\t(Index: 15199)\n",
      "[DRIFT][Small Window]: Upwards Data Drift detected! (haversine 25%-Quantile: 83.41441403033407)\t(Index: 15199)\n",
      "[DRIFT][Small Window]: Upwards Data Drift detected! (haversine 75%-Quantile: 83.41441403033407)\t(Index: 15199)\n",
      "[DRIFT][Small Window]: KL-Divergence detected! (haversine Divergence: 284793.9940244295)\t(Index: 15199)\n",
      "[DRIFT][Small Window]: Wasserstein Distance detected! (haversine Distance: 80.07452411183318)\t(Index: 15199)\n"
     ]
    },
    {
     "name": "stderr",
     "output_type": "stream",
     "text": [
      "[Parallel(n_jobs=-1)]: Using backend ThreadingBackend with 4 concurrent workers.\n",
      "[Parallel(n_jobs=-1)]: Done  20 out of  20 | elapsed:    0.0s finished\n"
     ]
    },
    {
     "name": "stdout",
     "output_type": "stream",
     "text": [
      "[DRIFT][Small Window]: Multi-Dimensional Upwards Mean Drift Detected! Distance: 231.69845443381874\t\t\t(Index: 15199)\n",
      "batch: 93.00947079081631, train: 2.200820905397247, train+threshold: 1.1004104526986236\n",
      "[DRIFT][Small Window]: Multi-Dimensional 3rd Quarter Upwards Drift Detected! Distance: 93.00947079081631\t\t\t(Index: 15199)\n"
     ]
    },
    {
     "name": "stderr",
     "output_type": "stream",
     "text": [
      "Setting feature_perturbation = \"tree_path_dependent\" because no background data was given.\n"
     ]
    },
    {
     "name": "stdout",
     "output_type": "stream",
     "text": [
      "[DRIFT][Small Window]: Wasserstein Distance detected! (fare_amount Distance: 1.340182921615219)\t(Index: 15503)\n",
      "[DRIFT][Small Window]: Upwards Data Drift detected!. (manhattan AVG: 1.0403883777375913)\t(Index: 15503)\n",
      "[DRIFT][Small Window]: Upwards Data Drift detected! (manhattan 25%-Quantile: 1.0403883777375913)\t(Index: 15503)\n",
      "[DRIFT][Small Window]: Upwards Data Drift detected! (manhattan 75%-Quantile: 1.0403883777375913)\t(Index: 15503)\n",
      "[DRIFT][Small Window]: Upwards Data Drift detected!. (euclidean AVG: 0.8881356422372505)\t(Index: 15503)\n",
      "[DRIFT][Small Window]: Upwards Data Drift detected! (euclidean 25%-Quantile: 0.8881356422372505)\t(Index: 15503)\n",
      "[DRIFT][Small Window]: Upwards Data Drift detected! (euclidean 75%-Quantile: 0.8881356422372505)\t(Index: 15503)\n",
      "[DRIFT][Small Window]: Upwards Data Drift detected!. (haversine AVG: 84.79923897523186)\t(Index: 15503)\n",
      "[DRIFT][Small Window]: Upwards Data Drift detected! (haversine 25%-Quantile: 84.79923897523186)\t(Index: 15503)\n",
      "[DRIFT][Small Window]: Upwards Data Drift detected! (haversine 75%-Quantile: 84.79923897523186)\t(Index: 15503)\n",
      "[DRIFT][Small Window]: KL-Divergence detected! (haversine Divergence: 291412.4008298853)\t(Index: 15503)\n",
      "[DRIFT][Small Window]: Wasserstein Distance detected! (haversine Distance: 81.45934905673096)\t(Index: 15503)\n",
      "[DRIFT][Small Window]: Pairwise Correlation Drift detected: dropoff_longitude <> passenger_count!\t(Index: 15503)\n"
     ]
    },
    {
     "name": "stderr",
     "output_type": "stream",
     "text": [
      "[Parallel(n_jobs=-1)]: Using backend ThreadingBackend with 4 concurrent workers.\n",
      "[Parallel(n_jobs=-1)]: Done  20 out of  20 | elapsed:    0.0s finished\n"
     ]
    },
    {
     "name": "stdout",
     "output_type": "stream",
     "text": [
      "[DRIFT][Small Window]: Multi-Dimensional Upwards Mean Drift Detected! Distance: 231.69845443381874\t\t\t(Index: 15503)\n",
      "batch: 93.40528141376396, train: 2.200820905397247, train+threshold: 1.1004104526986236\n",
      "[DRIFT][Small Window]: Multi-Dimensional 3rd Quarter Upwards Drift Detected! Distance: 93.40528141376396\t\t\t(Index: 15503)\n"
     ]
    },
    {
     "name": "stderr",
     "output_type": "stream",
     "text": [
      "Setting feature_perturbation = \"tree_path_dependent\" because no background data was given.\n"
     ]
    },
    {
     "name": "stdout",
     "output_type": "stream",
     "text": [
      "[DRIFT][Small Window]: Wasserstein Distance detected! (fare_amount Distance: 1.3910172798453613)\t(Index: 15807)\n",
      "[DRIFT][Small Window]: Upwards Data Drift detected!. (manhattan AVG: 1.17062377194666)\t(Index: 15807)\n",
      "[DRIFT][Small Window]: Upwards Data Drift detected! (manhattan 25%-Quantile: 1.17062377194666)\t(Index: 15807)\n",
      "[DRIFT][Small Window]: Upwards Data Drift detected! (manhattan 75%-Quantile: 1.17062377194666)\t(Index: 15807)\n",
      "[DRIFT][Small Window]: Upwards Data Drift detected!. (euclidean AVG: 0.992986932191422)\t(Index: 15807)\n",
      "[DRIFT][Small Window]: Upwards Data Drift detected! (euclidean 25%-Quantile: 0.992986932191422)\t(Index: 15807)\n",
      "[DRIFT][Small Window]: Upwards Data Drift detected! (euclidean 75%-Quantile: 0.992986932191422)\t(Index: 15807)\n",
      "[DRIFT][Small Window]: Upwards Data Drift detected!. (haversine AVG: 95.967317576767)\t(Index: 15807)\n",
      "[DRIFT][Small Window]: Upwards Data Drift detected! (haversine 25%-Quantile: 95.967317576767)\t(Index: 15807)\n",
      "[DRIFT][Small Window]: Upwards Data Drift detected! (haversine 75%-Quantile: 95.967317576767)\t(Index: 15807)\n",
      "[DRIFT][Small Window]: KL-Divergence detected! (haversine Divergence: 333776.4014164929)\t(Index: 15807)\n",
      "[DRIFT][Small Window]: Wasserstein Distance detected! (haversine Distance: 92.62742765826609)\t(Index: 15807)\n"
     ]
    },
    {
     "name": "stderr",
     "output_type": "stream",
     "text": [
      "[Parallel(n_jobs=-1)]: Using backend ThreadingBackend with 4 concurrent workers.\n",
      "[Parallel(n_jobs=-1)]: Done  20 out of  20 | elapsed:    0.0s finished\n"
     ]
    },
    {
     "name": "stdout",
     "output_type": "stream",
     "text": [
      "[DRIFT][Small Window]: Multi-Dimensional Upwards Mean Drift Detected! Distance: 231.69845443381874\t\t\t(Index: 15807)\n",
      "batch: 93.76759473986937, train: 2.200820905397247, train+threshold: 1.1004104526986236\n",
      "[DRIFT][Small Window]: Multi-Dimensional 3rd Quarter Upwards Drift Detected! Distance: 93.76759473986937\t\t\t(Index: 15807)\n",
      "------------------------ INDEX: 16000 ------------------------\n"
     ]
    },
    {
     "name": "stderr",
     "output_type": "stream",
     "text": [
      "Setting feature_perturbation = \"tree_path_dependent\" because no background data was given.\n"
     ]
    },
    {
     "name": "stdout",
     "output_type": "stream",
     "text": [
      "[DRIFT][Small Window]: Wasserstein Distance detected! (fare_amount Distance: 1.3437431088078327)\t(Index: 16111)\n",
      "[DRIFT][Small Window]: Upwards Data Drift detected!. (manhattan AVG: 1.1976982739976463)\t(Index: 16111)\n",
      "[DRIFT][Small Window]: Upwards Data Drift detected! (manhattan 25%-Quantile: 1.1976982739976463)\t(Index: 16111)\n",
      "[DRIFT][Small Window]: Upwards Data Drift detected! (manhattan 75%-Quantile: 1.1976982739976463)\t(Index: 16111)\n",
      "[DRIFT][Small Window]: Upwards Data Drift detected!. (euclidean AVG: 1.0046844689122263)\t(Index: 16111)\n",
      "[DRIFT][Small Window]: Upwards Data Drift detected! (euclidean 25%-Quantile: 1.0046844689122263)\t(Index: 16111)\n",
      "[DRIFT][Small Window]: Upwards Data Drift detected! (euclidean 75%-Quantile: 1.0046844689122263)\t(Index: 16111)\n",
      "[DRIFT][Small Window]: Upwards Data Drift detected!. (haversine AVG: 97.38021873222465)\t(Index: 16111)\n",
      "[DRIFT][Small Window]: Upwards Data Drift detected! (haversine 25%-Quantile: 97.38021873222465)\t(Index: 16111)\n",
      "[DRIFT][Small Window]: Upwards Data Drift detected! (haversine 75%-Quantile: 97.38021873222465)\t(Index: 16111)\n",
      "[DRIFT][Small Window]: KL-Divergence detected! (haversine Divergence: 326243.2845391004)\t(Index: 16111)\n",
      "[DRIFT][Small Window]: Wasserstein Distance detected! (haversine Distance: 94.04032881372375)\t(Index: 16111)\n"
     ]
    },
    {
     "name": "stderr",
     "output_type": "stream",
     "text": [
      "[Parallel(n_jobs=-1)]: Using backend ThreadingBackend with 4 concurrent workers.\n",
      "[Parallel(n_jobs=-1)]: Done  20 out of  20 | elapsed:    0.0s finished\n"
     ]
    },
    {
     "name": "stdout",
     "output_type": "stream",
     "text": [
      "[DRIFT][Small Window]: Multi-Dimensional Upwards Mean Drift Detected! Distance: 231.69845443381874\t\t\t(Index: 16111)\n",
      "batch: 93.92036663729215, train: 2.200820905397247, train+threshold: 1.1004104526986236\n",
      "[DRIFT][Small Window]: Multi-Dimensional 3rd Quarter Upwards Drift Detected! Distance: 93.92036663729215\t\t\t(Index: 16111)\n"
     ]
    },
    {
     "name": "stderr",
     "output_type": "stream",
     "text": [
      "Setting feature_perturbation = \"tree_path_dependent\" because no background data was given.\n"
     ]
    },
    {
     "name": "stdout",
     "output_type": "stream",
     "text": [
      "[DRIFT][Small Window]: Wasserstein Distance detected! (fare_amount Distance: 1.6540528219681856)\t(Index: 16415)\n",
      "[DRIFT][Small Window]: Upwards Data Drift detected!. (manhattan AVG: 1.2191652527094048)\t(Index: 16415)\n",
      "[DRIFT][Small Window]: Upwards Data Drift detected! (manhattan 25%-Quantile: 1.2191652527094048)\t(Index: 16415)\n",
      "[DRIFT][Small Window]: Upwards Data Drift detected! (manhattan 75%-Quantile: 1.2191652527094048)\t(Index: 16415)\n",
      "[DRIFT][Small Window]: Upwards Data Drift detected!. (euclidean AVG: 1.0262155732222864)\t(Index: 16415)\n",
      "[DRIFT][Small Window]: Upwards Data Drift detected! (euclidean 25%-Quantile: 1.0262155732222864)\t(Index: 16415)\n",
      "[DRIFT][Small Window]: Upwards Data Drift detected! (euclidean 75%-Quantile: 1.0262155732222864)\t(Index: 16415)\n",
      "[DRIFT][Small Window]: Upwards Data Drift detected!. (haversine AVG: 98.72673496805943)\t(Index: 16415)\n",
      "[DRIFT][Small Window]: Upwards Data Drift detected! (haversine 25%-Quantile: 98.72673496805943)\t(Index: 16415)\n",
      "[DRIFT][Small Window]: Upwards Data Drift detected! (haversine 75%-Quantile: 98.72673496805943)\t(Index: 16415)\n",
      "[DRIFT][Small Window]: KL-Divergence detected! (haversine Divergence: 344772.8644679153)\t(Index: 16415)\n",
      "[DRIFT][Small Window]: Wasserstein Distance detected! (haversine Distance: 95.38684504955854)\t(Index: 16415)\n"
     ]
    },
    {
     "name": "stderr",
     "output_type": "stream",
     "text": [
      "[Parallel(n_jobs=-1)]: Using backend ThreadingBackend with 4 concurrent workers.\n",
      "[Parallel(n_jobs=-1)]: Done  20 out of  20 | elapsed:    0.0s finished\n"
     ]
    },
    {
     "name": "stdout",
     "output_type": "stream",
     "text": [
      "[DRIFT][Small Window]: Multi-Dimensional Upwards Mean Drift Detected! Distance: 231.69845443381874\t\t\t(Index: 16415)\n",
      "batch: 94.59243596823842, train: 2.200820905397247, train+threshold: 1.1004104526986236\n",
      "[DRIFT][Small Window]: Multi-Dimensional 3rd Quarter Upwards Drift Detected! Distance: 94.59243596823842\t\t\t(Index: 16415)\n"
     ]
    },
    {
     "name": "stderr",
     "output_type": "stream",
     "text": [
      "Setting feature_perturbation = \"tree_path_dependent\" because no background data was given.\n"
     ]
    },
    {
     "name": "stdout",
     "output_type": "stream",
     "text": [
      "[DRIFT][Small Window]: Upwards Data Drift detected!. (manhattan AVG: 1.2506519583849807)\t(Index: 16719)\n",
      "[DRIFT][Small Window]: Upwards Data Drift detected! (manhattan 25%-Quantile: 1.2506519583849807)\t(Index: 16719)\n",
      "[DRIFT][Small Window]: Upwards Data Drift detected! (manhattan 75%-Quantile: 1.2506519583849807)\t(Index: 16719)\n",
      "[DRIFT][Small Window]: Wasserstein Distance detected! (manhattan Distance: 1.2064469128902142)\t(Index: 16719)\n",
      "[DRIFT][Small Window]: Upwards Data Drift detected!. (euclidean AVG: 1.0500157198344562)\t(Index: 16719)\n",
      "[DRIFT][Small Window]: Upwards Data Drift detected! (euclidean 25%-Quantile: 1.0500157198344562)\t(Index: 16719)\n",
      "[DRIFT][Small Window]: Upwards Data Drift detected! (euclidean 75%-Quantile: 1.0500157198344562)\t(Index: 16719)\n",
      "[DRIFT][Small Window]: Upwards Data Drift detected!. (haversine AVG: 100.75618223072952)\t(Index: 16719)\n",
      "[DRIFT][Small Window]: Upwards Data Drift detected! (haversine 25%-Quantile: 100.75618223072952)\t(Index: 16719)\n",
      "[DRIFT][Small Window]: Upwards Data Drift detected! (haversine 75%-Quantile: 100.75618223072952)\t(Index: 16719)\n",
      "[DRIFT][Small Window]: KL-Divergence detected! (haversine Divergence: 343541.25914660556)\t(Index: 16719)\n",
      "[DRIFT][Small Window]: Wasserstein Distance detected! (haversine Distance: 97.41629231222862)\t(Index: 16719)\n"
     ]
    },
    {
     "name": "stderr",
     "output_type": "stream",
     "text": [
      "[Parallel(n_jobs=-1)]: Using backend ThreadingBackend with 4 concurrent workers.\n",
      "[Parallel(n_jobs=-1)]: Done  20 out of  20 | elapsed:    0.0s finished\n"
     ]
    },
    {
     "name": "stdout",
     "output_type": "stream",
     "text": [
      "[DRIFT][Small Window]: Multi-Dimensional Upwards Mean Drift Detected! Distance: 231.69845443381874\t\t\t(Index: 16719)\n",
      "batch: 94.93667518150896, train: 2.200820905397247, train+threshold: 1.1004104526986236\n",
      "[DRIFT][Small Window]: Multi-Dimensional 3rd Quarter Upwards Drift Detected! Distance: 94.93667518150896\t\t\t(Index: 16719)\n",
      "------------------------ INDEX: 17000 ------------------------\n"
     ]
    },
    {
     "name": "stderr",
     "output_type": "stream",
     "text": [
      "Setting feature_perturbation = \"tree_path_dependent\" because no background data was given.\n"
     ]
    },
    {
     "name": "stdout",
     "output_type": "stream",
     "text": [
      "[DRIFT][Small Window]: Upwards Data Drift detected!. (manhattan AVG: 1.1776419876270776)\t(Index: 17023)\n",
      "[DRIFT][Small Window]: Upwards Data Drift detected! (manhattan 25%-Quantile: 1.1776419876270776)\t(Index: 17023)\n",
      "[DRIFT][Small Window]: Upwards Data Drift detected! (manhattan 75%-Quantile: 1.1776419876270776)\t(Index: 17023)\n",
      "[DRIFT][Small Window]: Upwards Data Drift detected!. (euclidean AVG: 0.9884236873671832)\t(Index: 17023)\n",
      "[DRIFT][Small Window]: Upwards Data Drift detected! (euclidean 25%-Quantile: 0.9884236873671832)\t(Index: 17023)\n",
      "[DRIFT][Small Window]: Upwards Data Drift detected! (euclidean 75%-Quantile: 0.9884236873671832)\t(Index: 17023)\n",
      "[DRIFT][Small Window]: Upwards Data Drift detected!. (haversine AVG: 94.3721259095528)\t(Index: 17023)\n",
      "[DRIFT][Small Window]: Upwards Data Drift detected! (haversine 25%-Quantile: 94.3721259095528)\t(Index: 17023)\n",
      "[DRIFT][Small Window]: Upwards Data Drift detected! (haversine 75%-Quantile: 94.3721259095528)\t(Index: 17023)\n",
      "[DRIFT][Small Window]: KL-Divergence detected! (haversine Divergence: 332164.65567130444)\t(Index: 17023)\n",
      "[DRIFT][Small Window]: Wasserstein Distance detected! (haversine Distance: 91.03223599105188)\t(Index: 17023)\n"
     ]
    },
    {
     "name": "stderr",
     "output_type": "stream",
     "text": [
      "[Parallel(n_jobs=-1)]: Using backend ThreadingBackend with 4 concurrent workers.\n",
      "[Parallel(n_jobs=-1)]: Done  20 out of  20 | elapsed:    0.0s finished\n"
     ]
    },
    {
     "name": "stdout",
     "output_type": "stream",
     "text": [
      "[DRIFT][Small Window]: Multi-Dimensional Upwards Mean Drift Detected! Distance: 231.69845443381874\t\t\t(Index: 17023)\n",
      "batch: 95.32964093976432, train: 2.200820905397247, train+threshold: 1.1004104526986236\n",
      "[DRIFT][Small Window]: Multi-Dimensional 3rd Quarter Upwards Drift Detected! Distance: 95.32964093976432\t\t\t(Index: 17023)\n"
     ]
    },
    {
     "name": "stderr",
     "output_type": "stream",
     "text": [
      "Setting feature_perturbation = \"tree_path_dependent\" because no background data was given.\n"
     ]
    },
    {
     "name": "stdout",
     "output_type": "stream",
     "text": [
      "[DRIFT][Medium Window]: Upwards Data Drift detected! (fare_amount 25%-Quantile: 11.124581898679729)\t(Index: 17035)\n",
      "[DRIFT][Medium Window]: KL-Divergence detected! (fare_amount Divergence: 36550.56939977299)\t(Index: 17035)\n",
      "[DRIFT][Medium Window]: Wasserstein Distance detected! (fare_amount Distance: 1.0176005484002209)\t(Index: 17035)\n",
      "[DRIFT][Medium Window]: KL-Divergence detected! (fare-bin Divergence: 4408.569752308568)\t(Index: 17035)\n",
      "[DRIFT][Medium Window]: KL-Divergence detected! (pickup_longitude Divergence: 3822.8791342669906)\t(Index: 17035)\n",
      "[DRIFT][Medium Window]: Wasserstein Distance detected! (pickup_longitude Distance: 0.6292109432706567)\t(Index: 17035)\n",
      "[DRIFT][Medium Window]: KL-Divergence detected! (pickup_latitude Divergence: 2854.0312916616726)\t(Index: 17035)\n",
      "[DRIFT][Medium Window]: Wasserstein Distance detected! (pickup_latitude Distance: 0.45703853824246377)\t(Index: 17035)\n",
      "[DRIFT][Medium Window]: KL-Divergence detected! (passenger_count Divergence: 2519.6412756495247)\t(Index: 17035)\n",
      "[DRIFT][Medium Window]: Upwards Data Drift detected!. (manhattan AVG: 1.1286164344571612)\t(Index: 17035)\n",
      "[DRIFT][Medium Window]: Upwards Data Drift detected! (manhattan 25%-Quantile: 1.1286164344571612)\t(Index: 17035)\n",
      "[DRIFT][Medium Window]: Upwards Data Drift detected! (manhattan 75%-Quantile: 1.1286164344571612)\t(Index: 17035)\n",
      "[DRIFT][Medium Window]: KL-Divergence detected! (manhattan Divergence: 29470.923861568408)\t(Index: 17035)\n",
      "[DRIFT][Medium Window]: Wasserstein Distance detected! (manhattan Distance: 1.0844113889623945)\t(Index: 17035)\n",
      "[DRIFT][Medium Window]: Upwards Data Drift detected!. (euclidean AVG: 0.9556946095346797)\t(Index: 17035)\n",
      "[DRIFT][Medium Window]: Upwards Data Drift detected! (euclidean 25%-Quantile: 0.9556946095346797)\t(Index: 17035)\n",
      "[DRIFT][Medium Window]: Upwards Data Drift detected! (euclidean 75%-Quantile: 0.9556946095346797)\t(Index: 17035)\n",
      "[DRIFT][Medium Window]: KL-Divergence detected! (euclidean Divergence: 25299.052479175683)\t(Index: 17035)\n",
      "[DRIFT][Medium Window]: Wasserstein Distance detected! (euclidean Distance: 0.9215206831222993)\t(Index: 17035)\n",
      "[DRIFT][Medium Window]: Upwards Data Drift detected!. (haversine AVG: 91.46343706334173)\t(Index: 17035)\n",
      "[DRIFT][Medium Window]: Upwards Data Drift detected! (haversine 25%-Quantile: 91.46343706334173)\t(Index: 17035)\n",
      "[DRIFT][Medium Window]: Upwards Data Drift detected! (haversine 75%-Quantile: 91.46343706334173)\t(Index: 17035)\n",
      "[DRIFT][Medium Window]: KL-Divergence detected! (haversine Divergence: 2410386.284038159)\t(Index: 17035)\n",
      "[DRIFT][Medium Window]: Wasserstein Distance detected! (haversine Distance: 88.12354714484083)\t(Index: 17035)\n",
      "[DRIFT][Medium Window]: Pairwise Correlation Drift detected: pickup_longitude <> passenger_count!\t(Index: 17035)\n"
     ]
    },
    {
     "name": "stderr",
     "output_type": "stream",
     "text": [
      "[Parallel(n_jobs=-1)]: Using backend ThreadingBackend with 4 concurrent workers.\n",
      "[Parallel(n_jobs=-1)]: Done  20 out of  20 | elapsed:    0.1s finished\n"
     ]
    },
    {
     "name": "stdout",
     "output_type": "stream",
     "text": [
      "[DRIFT][Medium Window]: Multi-Dimensional Upwards Mean Drift Detected! Distance: 231.69845443381874\t\t\t(Index: 17035)\n",
      "batch: 95.32964093976432, train: 2.200820905397247, train+threshold: 1.1004104526986236\n",
      "[DRIFT][Medium Window]: Multi-Dimensional 3rd Quarter Upwards Drift Detected! Distance: 95.32964093976432\t\t\t(Index: 17035)\n"
     ]
    },
    {
     "name": "stderr",
     "output_type": "stream",
     "text": [
      "Setting feature_perturbation = \"tree_path_dependent\" because no background data was given.\n"
     ]
    },
    {
     "name": "stdout",
     "output_type": "stream",
     "text": [
      "[DRIFT][Small Window]: Downwards Data Drift detected! (passenger_count 75%-Quantile: 1.459637561779242)\t(Index: 17327)\n",
      "[DRIFT][Small Window]: Upwards Data Drift detected!. (manhattan AVG: 1.1157138412488399)\t(Index: 17327)\n",
      "[DRIFT][Small Window]: Upwards Data Drift detected! (manhattan 25%-Quantile: 1.1157138412488399)\t(Index: 17327)\n",
      "[DRIFT][Small Window]: Upwards Data Drift detected! (manhattan 75%-Quantile: 1.1157138412488399)\t(Index: 17327)\n",
      "[DRIFT][Small Window]: Upwards Data Drift detected!. (euclidean AVG: 0.9427629321811881)\t(Index: 17327)\n",
      "[DRIFT][Small Window]: Upwards Data Drift detected! (euclidean 25%-Quantile: 0.9427629321811881)\t(Index: 17327)\n",
      "[DRIFT][Small Window]: Upwards Data Drift detected! (euclidean 75%-Quantile: 0.9427629321811881)\t(Index: 17327)\n",
      "[DRIFT][Small Window]: Upwards Data Drift detected!. (haversine AVG: 90.37342088742092)\t(Index: 17327)\n",
      "[DRIFT][Small Window]: Upwards Data Drift detected! (haversine 25%-Quantile: 90.37342088742092)\t(Index: 17327)\n",
      "[DRIFT][Small Window]: Upwards Data Drift detected! (haversine 75%-Quantile: 90.37342088742092)\t(Index: 17327)\n",
      "[DRIFT][Small Window]: KL-Divergence detected! (haversine Divergence: 302926.45522128994)\t(Index: 17327)\n",
      "[DRIFT][Small Window]: Wasserstein Distance detected! (haversine Distance: 87.03353096892003)\t(Index: 17327)\n",
      "[DRIFT][Small Window]: Pairwise Correlation Drift detected: pickup_longitude <> passenger_count!\t(Index: 17327)\n"
     ]
    },
    {
     "name": "stderr",
     "output_type": "stream",
     "text": [
      "[Parallel(n_jobs=-1)]: Using backend ThreadingBackend with 4 concurrent workers.\n",
      "[Parallel(n_jobs=-1)]: Done  20 out of  20 | elapsed:    0.0s finished\n"
     ]
    },
    {
     "name": "stdout",
     "output_type": "stream",
     "text": [
      "[DRIFT][Small Window]: Multi-Dimensional Upwards Mean Drift Detected! Distance: 231.69845443381874\t\t\t(Index: 17327)\n",
      "batch: 95.43807922794677, train: 2.200820905397247, train+threshold: 1.1004104526986236\n",
      "[DRIFT][Small Window]: Multi-Dimensional 3rd Quarter Upwards Drift Detected! Distance: 95.43807922794677\t\t\t(Index: 17327)\n"
     ]
    },
    {
     "name": "stderr",
     "output_type": "stream",
     "text": [
      "Setting feature_perturbation = \"tree_path_dependent\" because no background data was given.\n"
     ]
    },
    {
     "name": "stdout",
     "output_type": "stream",
     "text": [
      "[DRIFT][Small Window]: Downwards Data Drift detected! (passenger_count 75%-Quantile: 1.3723228995057661)\t(Index: 17631)\n",
      "[DRIFT][Small Window]: Upwards Data Drift detected!. (manhattan AVG: 1.0569141999042329)\t(Index: 17631)\n",
      "[DRIFT][Small Window]: Upwards Data Drift detected! (manhattan 25%-Quantile: 1.0569141999042329)\t(Index: 17631)\n",
      "[DRIFT][Small Window]: Upwards Data Drift detected! (manhattan 75%-Quantile: 1.0569141999042329)\t(Index: 17631)\n",
      "[DRIFT][Small Window]: Upwards Data Drift detected!. (euclidean AVG: 0.8918506267455152)\t(Index: 17631)\n",
      "[DRIFT][Small Window]: Upwards Data Drift detected! (euclidean 25%-Quantile: 0.8918506267455152)\t(Index: 17631)\n",
      "[DRIFT][Small Window]: Upwards Data Drift detected! (euclidean 75%-Quantile: 0.8918506267455152)\t(Index: 17631)\n",
      "[DRIFT][Small Window]: Upwards Data Drift detected!. (haversine AVG: 85.47603249782061)\t(Index: 17631)\n",
      "[DRIFT][Small Window]: Upwards Data Drift detected! (haversine 25%-Quantile: 85.47603249782061)\t(Index: 17631)\n",
      "[DRIFT][Small Window]: Upwards Data Drift detected! (haversine 75%-Quantile: 85.47603249782061)\t(Index: 17631)\n",
      "[DRIFT][Small Window]: KL-Divergence detected! (haversine Divergence: 280746.79101154197)\t(Index: 17631)\n",
      "[DRIFT][Small Window]: Wasserstein Distance detected! (haversine Distance: 82.13614257931971)\t(Index: 17631)\n"
     ]
    },
    {
     "name": "stderr",
     "output_type": "stream",
     "text": [
      "[Parallel(n_jobs=-1)]: Using backend ThreadingBackend with 4 concurrent workers.\n",
      "[Parallel(n_jobs=-1)]: Done  20 out of  20 | elapsed:    0.0s finished\n"
     ]
    },
    {
     "name": "stdout",
     "output_type": "stream",
     "text": [
      "[DRIFT][Small Window]: Multi-Dimensional Upwards Mean Drift Detected! Distance: 231.69845443381874\t\t\t(Index: 17631)\n",
      "batch: 95.43616681615569, train: 2.200820905397247, train+threshold: 1.1004104526986236\n",
      "[DRIFT][Small Window]: Multi-Dimensional 3rd Quarter Upwards Drift Detected! Distance: 95.43616681615569\t\t\t(Index: 17631)\n"
     ]
    },
    {
     "name": "stderr",
     "output_type": "stream",
     "text": [
      "Setting feature_perturbation = \"tree_path_dependent\" because no background data was given.\n"
     ]
    },
    {
     "name": "stdout",
     "output_type": "stream",
     "text": [
      "[DRIFT][Small Window]: Downwards Data Drift detected! (passenger_count 75%-Quantile: 1.3805601317957166)\t(Index: 17935)\n",
      "[DRIFT][Small Window]: Upwards Data Drift detected!. (manhattan AVG: 1.1137315812173096)\t(Index: 17935)\n",
      "[DRIFT][Small Window]: Upwards Data Drift detected! (manhattan 25%-Quantile: 1.1137315812173096)\t(Index: 17935)\n",
      "[DRIFT][Small Window]: Upwards Data Drift detected! (manhattan 75%-Quantile: 1.1137315812173096)\t(Index: 17935)\n",
      "[DRIFT][Small Window]: Upwards Data Drift detected!. (euclidean AVG: 0.9410444300349567)\t(Index: 17935)\n",
      "[DRIFT][Small Window]: Upwards Data Drift detected! (euclidean 25%-Quantile: 0.9410444300349567)\t(Index: 17935)\n",
      "[DRIFT][Small Window]: Upwards Data Drift detected! (euclidean 75%-Quantile: 0.9410444300349567)\t(Index: 17935)\n",
      "[DRIFT][Small Window]: Upwards Data Drift detected!. (haversine AVG: 89.73802869812295)\t(Index: 17935)\n",
      "[DRIFT][Small Window]: Upwards Data Drift detected! (haversine 25%-Quantile: 89.73802869812295)\t(Index: 17935)\n",
      "[DRIFT][Small Window]: Upwards Data Drift detected! (haversine 75%-Quantile: 89.73802869812295)\t(Index: 17935)\n",
      "[DRIFT][Small Window]: KL-Divergence detected! (haversine Divergence: 307206.4091583254)\t(Index: 17935)\n",
      "[DRIFT][Small Window]: Wasserstein Distance detected! (haversine Distance: 86.39813877962204)\t(Index: 17935)\n"
     ]
    },
    {
     "name": "stderr",
     "output_type": "stream",
     "text": [
      "[Parallel(n_jobs=-1)]: Using backend ThreadingBackend with 4 concurrent workers.\n",
      "[Parallel(n_jobs=-1)]: Done  20 out of  20 | elapsed:    0.0s finished\n"
     ]
    },
    {
     "name": "stdout",
     "output_type": "stream",
     "text": [
      "[DRIFT][Small Window]: Multi-Dimensional Upwards Mean Drift Detected! Distance: 231.69845443381874\t\t\t(Index: 17935)\n",
      "batch: 95.67825903104192, train: 2.200820905397247, train+threshold: 1.1004104526986236\n",
      "[DRIFT][Small Window]: Multi-Dimensional 3rd Quarter Upwards Drift Detected! Distance: 95.67825903104192\t\t\t(Index: 17935)\n",
      "------------------------ INDEX: 18000 ------------------------\n"
     ]
    },
    {
     "name": "stderr",
     "output_type": "stream",
     "text": [
      "Setting feature_perturbation = \"tree_path_dependent\" because no background data was given.\n"
     ]
    },
    {
     "name": "stdout",
     "output_type": "stream",
     "text": [
      "[DRIFT][Small Window]: Wasserstein Distance detected! (fare_amount Distance: 1.428721839785159)\t(Index: 18239)\n",
      "[DRIFT][Small Window]: Upwards Data Drift detected!. (manhattan AVG: 1.2329640054702935)\t(Index: 18239)\n",
      "[DRIFT][Small Window]: Upwards Data Drift detected! (manhattan 25%-Quantile: 1.2329640054702935)\t(Index: 18239)\n",
      "[DRIFT][Small Window]: Upwards Data Drift detected! (manhattan 75%-Quantile: 1.2329640054702935)\t(Index: 18239)\n",
      "[DRIFT][Small Window]: Upwards Data Drift detected!. (euclidean AVG: 1.031143096353591)\t(Index: 18239)\n",
      "[DRIFT][Small Window]: Upwards Data Drift detected! (euclidean 25%-Quantile: 1.031143096353591)\t(Index: 18239)\n",
      "[DRIFT][Small Window]: Upwards Data Drift detected! (euclidean 75%-Quantile: 1.031143096353591)\t(Index: 18239)\n",
      "[DRIFT][Small Window]: Upwards Data Drift detected!. (haversine AVG: 98.57216519944218)\t(Index: 18239)\n",
      "[DRIFT][Small Window]: Upwards Data Drift detected! (haversine 25%-Quantile: 98.57216519944218)\t(Index: 18239)\n",
      "[DRIFT][Small Window]: Upwards Data Drift detected! (haversine 75%-Quantile: 98.57216519944218)\t(Index: 18239)\n",
      "[DRIFT][Small Window]: KL-Divergence detected! (haversine Divergence: 321283.34136246843)\t(Index: 18239)\n",
      "[DRIFT][Small Window]: Wasserstein Distance detected! (haversine Distance: 95.23227528094128)\t(Index: 18239)\n"
     ]
    },
    {
     "name": "stderr",
     "output_type": "stream",
     "text": [
      "[Parallel(n_jobs=-1)]: Using backend ThreadingBackend with 4 concurrent workers.\n",
      "[Parallel(n_jobs=-1)]: Done  20 out of  20 | elapsed:    0.1s finished\n",
      "Some inputs do not have OOB scores. This probably means too few trees were used to compute any reliable oob estimates.\n"
     ]
    },
    {
     "name": "stdout",
     "output_type": "stream",
     "text": [
      "[DRIFT][Small Window]: Multi-Dimensional Upwards Mean Drift Detected! Distance: 231.69845443381874\t\t\t(Index: 18239)\n",
      "batch: 96.10407631293563, train: 2.200820905397247, train+threshold: 1.1004104526986236\n",
      "[DRIFT][Small Window]: Multi-Dimensional 3rd Quarter Upwards Drift Detected! Distance: 96.10407631293563\t\t\t(Index: 18239)\n"
     ]
    },
    {
     "name": "stderr",
     "output_type": "stream",
     "text": [
      "Setting feature_perturbation = \"tree_path_dependent\" because no background data was given.\n"
     ]
    },
    {
     "name": "stdout",
     "output_type": "stream",
     "text": [
      "[DRIFT][Large Window]: Upwards Data Drift detected! (fare_amount 25%-Quantile: 11.151971435575424)\t(Index: 18256)\n",
      "[DRIFT][Large Window]: Downwards Data Drift detected! (fare_amount 75%-Quantile: 11.151971435575424)\t(Index: 18256)\n",
      "[DRIFT][Large Window]: KL-Divergence detected! (fare_amount Divergence: 154169.95835321094)\t(Index: 18256)\n",
      "[DRIFT][Large Window]: Wasserstein Distance detected! (fare_amount Distance: 0.9573032770806983)\t(Index: 18256)\n",
      "[DRIFT][Large Window]: KL-Divergence detected! (fare-bin Divergence: 21651.753662203748)\t(Index: 18256)\n",
      "[DRIFT][Large Window]: Wasserstein Distance detected! (fare-bin Distance: 0.21474341987164286)\t(Index: 18256)\n",
      "[DRIFT][Large Window]: KL-Divergence detected! (pickup_longitude Divergence: 14197.55593843703)\t(Index: 18256)\n",
      "[DRIFT][Large Window]: Wasserstein Distance detected! (pickup_longitude Distance: 0.544170701955629)\t(Index: 18256)\n",
      "[DRIFT][Large Window]: KL-Divergence detected! (pickup_latitude Divergence: 10111.640218500403)\t(Index: 18256)\n",
      "[DRIFT][Large Window]: Wasserstein Distance detected! (pickup_latitude Distance: 0.3774857655230069)\t(Index: 18256)\n",
      "[DRIFT][Large Window]: KL-Divergence detected! (dropoff_longitude Divergence: 1880.510894191024)\t(Index: 18256)\n",
      "[DRIFT][Large Window]: KL-Divergence detected! (dropoff_latitude Divergence: 1521.0708492737897)\t(Index: 18256)\n",
      "[DRIFT][Large Window]: KL-Divergence detected! (passenger_count Divergence: 10942.286005247537)\t(Index: 18256)\n",
      "[DRIFT][Large Window]: Upwards Data Drift detected!. (manhattan AVG: 0.9655901734382444)\t(Index: 18256)\n",
      "[DRIFT][Large Window]: Upwards Data Drift detected! (manhattan 25%-Quantile: 0.9655901734382444)\t(Index: 18256)\n",
      "[DRIFT][Large Window]: Upwards Data Drift detected! (manhattan 75%-Quantile: 0.9655901734382444)\t(Index: 18256)\n",
      "[DRIFT][Large Window]: KL-Divergence detected! (manhattan Divergence: 109267.33232359361)\t(Index: 18256)\n",
      "[DRIFT][Large Window]: Wasserstein Distance detected! (manhattan Distance: 0.9213851279434779)\t(Index: 18256)\n",
      "[DRIFT][Large Window]: Upwards Data Drift detected!. (euclidean AVG: 0.8192094762979535)\t(Index: 18256)\n",
      "[DRIFT][Large Window]: Upwards Data Drift detected! (euclidean 25%-Quantile: 0.8192094762979535)\t(Index: 18256)\n",
      "[DRIFT][Large Window]: Upwards Data Drift detected! (euclidean 75%-Quantile: 0.8192094762979535)\t(Index: 18256)\n",
      "[DRIFT][Large Window]: KL-Divergence detected! (euclidean Divergence: 94047.47390006729)\t(Index: 18256)\n",
      "[DRIFT][Large Window]: Wasserstein Distance detected! (euclidean Distance: 0.785035549885573)\t(Index: 18256)\n",
      "[DRIFT][Large Window]: Upwards Data Drift detected!. (haversine AVG: 78.08123330406968)\t(Index: 18256)\n",
      "[DRIFT][Large Window]: Upwards Data Drift detected! (haversine 25%-Quantile: 78.08123330406968)\t(Index: 18256)\n",
      "[DRIFT][Large Window]: Upwards Data Drift detected! (haversine 75%-Quantile: 78.08123330406968)\t(Index: 18256)\n",
      "[DRIFT][Large Window]: KL-Divergence detected! (haversine Divergence: 8908452.829826877)\t(Index: 18256)\n",
      "[DRIFT][Large Window]: Wasserstein Distance detected! (haversine Distance: 74.74134338556878)\t(Index: 18256)\n"
     ]
    },
    {
     "name": "stderr",
     "output_type": "stream",
     "text": [
      "[Parallel(n_jobs=-1)]: Using backend ThreadingBackend with 4 concurrent workers.\n",
      "[Parallel(n_jobs=-1)]: Done  20 out of  20 | elapsed:    0.7s finished\n",
      "Some inputs do not have OOB scores. This probably means too few trees were used to compute any reliable oob estimates.\n"
     ]
    },
    {
     "name": "stdout",
     "output_type": "stream",
     "text": [
      "[DRIFT][Large Window]: Multi-Dimensional Upwards Mean Drift Detected! Distance: 231.69845443381874\t\t\t(Index: 18256)\n",
      "batch: 96.21556540565807, train: 2.200820905397247, train+threshold: 1.1004104526986236\n",
      "[DRIFT][Large Window]: Multi-Dimensional 3rd Quarter Upwards Drift Detected! Distance: 96.21556540565807\t\t\t(Index: 18256)\n"
     ]
    },
    {
     "name": "stderr",
     "output_type": "stream",
     "text": [
      "Setting feature_perturbation = \"tree_path_dependent\" because no background data was given.\n"
     ]
    },
    {
     "name": "stdout",
     "output_type": "stream",
     "text": [
      "[DRIFT][Small Window]: Wasserstein Distance detected! (fare_amount Distance: 1.2058392950887304)\t(Index: 18543)\n",
      "[DRIFT][Small Window]: Upwards Data Drift detected!. (manhattan AVG: 1.207435195862394)\t(Index: 18543)\n",
      "[DRIFT][Small Window]: Upwards Data Drift detected! (manhattan 25%-Quantile: 1.207435195862394)\t(Index: 18543)\n",
      "[DRIFT][Small Window]: Upwards Data Drift detected! (manhattan 75%-Quantile: 1.207435195862394)\t(Index: 18543)\n",
      "[DRIFT][Small Window]: Upwards Data Drift detected!. (euclidean AVG: 1.0106543600730813)\t(Index: 18543)\n",
      "[DRIFT][Small Window]: Upwards Data Drift detected! (euclidean 25%-Quantile: 1.0106543600730813)\t(Index: 18543)\n",
      "[DRIFT][Small Window]: Upwards Data Drift detected! (euclidean 75%-Quantile: 1.0106543600730813)\t(Index: 18543)\n",
      "[DRIFT][Small Window]: Upwards Data Drift detected!. (haversine AVG: 96.22908807936334)\t(Index: 18543)\n",
      "[DRIFT][Small Window]: Upwards Data Drift detected! (haversine 25%-Quantile: 96.22908807936334)\t(Index: 18543)\n",
      "[DRIFT][Small Window]: Upwards Data Drift detected! (haversine 75%-Quantile: 96.22908807936334)\t(Index: 18543)\n",
      "[DRIFT][Small Window]: KL-Divergence detected! (haversine Divergence: 326814.10194364085)\t(Index: 18543)\n",
      "[DRIFT][Small Window]: Wasserstein Distance detected! (haversine Distance: 92.88919816086243)\t(Index: 18543)\n"
     ]
    },
    {
     "name": "stderr",
     "output_type": "stream",
     "text": [
      "[Parallel(n_jobs=-1)]: Using backend ThreadingBackend with 4 concurrent workers.\n",
      "[Parallel(n_jobs=-1)]: Done  20 out of  20 | elapsed:    0.0s finished\n"
     ]
    },
    {
     "name": "stdout",
     "output_type": "stream",
     "text": [
      "[DRIFT][Small Window]: Multi-Dimensional Upwards Mean Drift Detected! Distance: 231.69845443381874\t\t\t(Index: 18543)\n",
      "batch: 96.45195332006043, train: 2.200820905397247, train+threshold: 1.1004104526986236\n",
      "[DRIFT][Small Window]: Multi-Dimensional 3rd Quarter Upwards Drift Detected! Distance: 96.45195332006043\t\t\t(Index: 18543)\n"
     ]
    },
    {
     "name": "stderr",
     "output_type": "stream",
     "text": [
      "Setting feature_perturbation = \"tree_path_dependent\" because no background data was given.\n"
     ]
    },
    {
     "name": "stdout",
     "output_type": "stream",
     "text": [
      "[DRIFT][Small Window]: Downwards Data Drift detected! (passenger_count 75%-Quantile: 1.4744645799011533)\t(Index: 18847)\n",
      "[DRIFT][Small Window]: Upwards Data Drift detected!. (manhattan AVG: 1.164323988246484)\t(Index: 18847)\n",
      "[DRIFT][Small Window]: Upwards Data Drift detected! (manhattan 25%-Quantile: 1.164323988246484)\t(Index: 18847)\n",
      "[DRIFT][Small Window]: Upwards Data Drift detected! (manhattan 75%-Quantile: 1.164323988246484)\t(Index: 18847)\n",
      "[DRIFT][Small Window]: Upwards Data Drift detected!. (euclidean AVG: 0.97868875642557)\t(Index: 18847)\n",
      "[DRIFT][Small Window]: Upwards Data Drift detected! (euclidean 25%-Quantile: 0.97868875642557)\t(Index: 18847)\n",
      "[DRIFT][Small Window]: Upwards Data Drift detected! (euclidean 75%-Quantile: 0.97868875642557)\t(Index: 18847)\n",
      "[DRIFT][Small Window]: Upwards Data Drift detected!. (haversine AVG: 93.31943305449882)\t(Index: 18847)\n",
      "[DRIFT][Small Window]: Upwards Data Drift detected! (haversine 25%-Quantile: 93.31943305449882)\t(Index: 18847)\n",
      "[DRIFT][Small Window]: Upwards Data Drift detected! (haversine 75%-Quantile: 93.31943305449882)\t(Index: 18847)\n",
      "[DRIFT][Small Window]: KL-Divergence detected! (haversine Divergence: 308094.68648287974)\t(Index: 18847)\n",
      "[DRIFT][Small Window]: Wasserstein Distance detected! (haversine Distance: 89.97954313599791)\t(Index: 18847)\n"
     ]
    },
    {
     "name": "stderr",
     "output_type": "stream",
     "text": [
      "[Parallel(n_jobs=-1)]: Using backend ThreadingBackend with 4 concurrent workers.\n",
      "[Parallel(n_jobs=-1)]: Done  20 out of  20 | elapsed:    0.0s finished\n"
     ]
    },
    {
     "name": "stdout",
     "output_type": "stream",
     "text": [
      "[DRIFT][Small Window]: Multi-Dimensional Upwards Mean Drift Detected! Distance: 231.69845443381874\t\t\t(Index: 18847)\n",
      "batch: 96.67009551979855, train: 2.200820905397247, train+threshold: 1.1004104526986236\n",
      "[DRIFT][Small Window]: Multi-Dimensional 3rd Quarter Upwards Drift Detected! Distance: 96.67009551979855\t\t\t(Index: 18847)\n",
      "------------------------ INDEX: 19000 ------------------------\n"
     ]
    },
    {
     "name": "stderr",
     "output_type": "stream",
     "text": [
      "Setting feature_perturbation = \"tree_path_dependent\" because no background data was given.\n"
     ]
    },
    {
     "name": "stdout",
     "output_type": "stream",
     "text": [
      "[DRIFT][Small Window]: Wasserstein Distance detected! (fare_amount Distance: 1.4462695891942792)\t(Index: 19151)\n",
      "[DRIFT][Small Window]: Upwards Data Drift detected!. (manhattan AVG: 1.1187419345173275)\t(Index: 19151)\n",
      "[DRIFT][Small Window]: Upwards Data Drift detected! (manhattan 25%-Quantile: 1.1187419345173275)\t(Index: 19151)\n",
      "[DRIFT][Small Window]: Upwards Data Drift detected! (manhattan 75%-Quantile: 1.1187419345173275)\t(Index: 19151)\n",
      "[DRIFT][Small Window]: Upwards Data Drift detected!. (euclidean AVG: 0.9500054915558219)\t(Index: 19151)\n",
      "[DRIFT][Small Window]: Upwards Data Drift detected! (euclidean 25%-Quantile: 0.9500054915558219)\t(Index: 19151)\n",
      "[DRIFT][Small Window]: Upwards Data Drift detected! (euclidean 75%-Quantile: 0.9500054915558219)\t(Index: 19151)\n",
      "[DRIFT][Small Window]: Upwards Data Drift detected!. (haversine AVG: 91.05845098758572)\t(Index: 19151)\n",
      "[DRIFT][Small Window]: Upwards Data Drift detected! (haversine 25%-Quantile: 91.05845098758572)\t(Index: 19151)\n",
      "[DRIFT][Small Window]: Upwards Data Drift detected! (haversine 75%-Quantile: 91.05845098758572)\t(Index: 19151)\n",
      "[DRIFT][Small Window]: KL-Divergence detected! (haversine Divergence: 316359.7460340829)\t(Index: 19151)\n",
      "[DRIFT][Small Window]: Wasserstein Distance detected! (haversine Distance: 87.71856106908481)\t(Index: 19151)\n"
     ]
    },
    {
     "name": "stderr",
     "output_type": "stream",
     "text": [
      "[Parallel(n_jobs=-1)]: Using backend ThreadingBackend with 4 concurrent workers.\n",
      "[Parallel(n_jobs=-1)]: Done  20 out of  20 | elapsed:    0.0s finished\n"
     ]
    },
    {
     "name": "stdout",
     "output_type": "stream",
     "text": [
      "[DRIFT][Small Window]: Multi-Dimensional Upwards Mean Drift Detected! Distance: 231.69845443381874\t\t\t(Index: 19151)\n",
      "batch: 96.73782386030516, train: 2.200820905397247, train+threshold: 1.1004104526986236\n",
      "[DRIFT][Small Window]: Multi-Dimensional 3rd Quarter Upwards Drift Detected! Distance: 96.73782386030516\t\t\t(Index: 19151)\n"
     ]
    },
    {
     "name": "stderr",
     "output_type": "stream",
     "text": [
      "Setting feature_perturbation = \"tree_path_dependent\" because no background data was given.\n"
     ]
    },
    {
     "name": "stdout",
     "output_type": "stream",
     "text": [
      "[DRIFT][Small Window]: Wasserstein Distance detected! (fare_amount Distance: 1.3481301847417915)\t(Index: 19455)\n",
      "[DRIFT][Small Window]: Upwards Data Drift detected!. (manhattan AVG: 1.1507681581333153)\t(Index: 19455)\n",
      "[DRIFT][Small Window]: Upwards Data Drift detected! (manhattan 25%-Quantile: 1.1507681581333153)\t(Index: 19455)\n",
      "[DRIFT][Small Window]: Upwards Data Drift detected! (manhattan 75%-Quantile: 1.1507681581333153)\t(Index: 19455)\n",
      "[DRIFT][Small Window]: Upwards Data Drift detected!. (euclidean AVG: 0.9843518453091158)\t(Index: 19455)\n",
      "[DRIFT][Small Window]: Upwards Data Drift detected! (euclidean 25%-Quantile: 0.9843518453091158)\t(Index: 19455)\n",
      "[DRIFT][Small Window]: Upwards Data Drift detected! (euclidean 75%-Quantile: 0.9843518453091158)\t(Index: 19455)\n",
      "[DRIFT][Small Window]: Upwards Data Drift detected!. (haversine AVG: 95.17209744852126)\t(Index: 19455)\n",
      "[DRIFT][Small Window]: Upwards Data Drift detected! (haversine 25%-Quantile: 95.17209744852126)\t(Index: 19455)\n",
      "[DRIFT][Small Window]: Upwards Data Drift detected! (haversine 75%-Quantile: 95.17209744852126)\t(Index: 19455)\n",
      "[DRIFT][Small Window]: KL-Divergence detected! (haversine Divergence: 319993.7162524228)\t(Index: 19455)\n",
      "[DRIFT][Small Window]: Wasserstein Distance detected! (haversine Distance: 91.83220753002036)\t(Index: 19455)\n"
     ]
    },
    {
     "name": "stderr",
     "output_type": "stream",
     "text": [
      "[Parallel(n_jobs=-1)]: Using backend ThreadingBackend with 4 concurrent workers.\n",
      "[Parallel(n_jobs=-1)]: Done  20 out of  20 | elapsed:    0.0s finished\n"
     ]
    },
    {
     "name": "stdout",
     "output_type": "stream",
     "text": [
      "[DRIFT][Small Window]: Multi-Dimensional Upwards Mean Drift Detected! Distance: 231.69845443381874\t\t\t(Index: 19455)\n",
      "batch: 97.0997385726663, train: 2.200820905397247, train+threshold: 1.1004104526986236\n",
      "[DRIFT][Small Window]: Multi-Dimensional 3rd Quarter Upwards Drift Detected! Distance: 97.0997385726663\t\t\t(Index: 19455)\n"
     ]
    },
    {
     "name": "stderr",
     "output_type": "stream",
     "text": [
      "Setting feature_perturbation = \"tree_path_dependent\" because no background data was given.\n"
     ]
    },
    {
     "name": "stdout",
     "output_type": "stream",
     "text": [
      "[DRIFT][Small Window]: Upwards Data Drift detected!. (manhattan AVG: 1.259952669715484)\t(Index: 19759)\n",
      "[DRIFT][Small Window]: Upwards Data Drift detected! (manhattan 25%-Quantile: 1.259952669715484)\t(Index: 19759)\n",
      "[DRIFT][Small Window]: Upwards Data Drift detected! (manhattan 75%-Quantile: 1.259952669715484)\t(Index: 19759)\n",
      "[DRIFT][Small Window]: Wasserstein Distance detected! (manhattan Distance: 1.2157476242207175)\t(Index: 19759)\n",
      "[DRIFT][Small Window]: Upwards Data Drift detected!. (euclidean AVG: 1.0577135522940386)\t(Index: 19759)\n",
      "[DRIFT][Small Window]: Upwards Data Drift detected! (euclidean 25%-Quantile: 1.0577135522940386)\t(Index: 19759)\n",
      "[DRIFT][Small Window]: Upwards Data Drift detected! (euclidean 75%-Quantile: 1.0577135522940386)\t(Index: 19759)\n",
      "[DRIFT][Small Window]: Upwards Data Drift detected!. (haversine AVG: 103.24747183225098)\t(Index: 19759)\n",
      "[DRIFT][Small Window]: Upwards Data Drift detected! (haversine 25%-Quantile: 103.24747183225098)\t(Index: 19759)\n",
      "[DRIFT][Small Window]: Upwards Data Drift detected! (haversine 75%-Quantile: 103.24747183225098)\t(Index: 19759)\n",
      "[DRIFT][Small Window]: KL-Divergence detected! (haversine Divergence: 352093.97612709325)\t(Index: 19759)\n",
      "[DRIFT][Small Window]: Wasserstein Distance detected! (haversine Distance: 99.90758191375005)\t(Index: 19759)\n",
      "[DRIFT][Small Window]: Pairwise Correlation Drift detected: dropoff_longitude <> passenger_count!\t(Index: 19759)\n"
     ]
    },
    {
     "name": "stderr",
     "output_type": "stream",
     "text": [
      "[Parallel(n_jobs=-1)]: Using backend ThreadingBackend with 4 concurrent workers.\n",
      "[Parallel(n_jobs=-1)]: Done  20 out of  20 | elapsed:    0.0s finished\n"
     ]
    },
    {
     "name": "stdout",
     "output_type": "stream",
     "text": [
      "[DRIFT][Small Window]: Multi-Dimensional Upwards Mean Drift Detected! Distance: 231.69845443381874\t\t\t(Index: 19759)\n",
      "batch: 97.4759813714295, train: 2.200820905397247, train+threshold: 1.1004104526986236\n",
      "[DRIFT][Small Window]: Multi-Dimensional 3rd Quarter Upwards Drift Detected! Distance: 97.4759813714295\t\t\t(Index: 19759)\n",
      "------------------------ INDEX: 20000 ------------------------\n"
     ]
    },
    {
     "name": "stderr",
     "output_type": "stream",
     "text": [
      "Setting feature_perturbation = \"tree_path_dependent\" because no background data was given.\n"
     ]
    },
    {
     "name": "stdout",
     "output_type": "stream",
     "text": [
      "[DRIFT][Small Window]: Wasserstein Distance detected! (fare_amount Distance: 1.5021724603272424)\t(Index: 20063)\n",
      "[DRIFT][Small Window]: Upwards Data Drift detected!. (manhattan AVG: 1.2883702231998995)\t(Index: 20063)\n",
      "[DRIFT][Small Window]: Upwards Data Drift detected! (manhattan 25%-Quantile: 1.2883702231998995)\t(Index: 20063)\n",
      "[DRIFT][Small Window]: Upwards Data Drift detected! (manhattan 75%-Quantile: 1.2883702231998995)\t(Index: 20063)\n",
      "[DRIFT][Small Window]: Wasserstein Distance detected! (manhattan Distance: 1.2441651777051332)\t(Index: 20063)\n",
      "[DRIFT][Small Window]: Upwards Data Drift detected!. (euclidean AVG: 1.0721569515960028)\t(Index: 20063)\n",
      "[DRIFT][Small Window]: Upwards Data Drift detected! (euclidean 25%-Quantile: 1.0721569515960028)\t(Index: 20063)\n",
      "[DRIFT][Small Window]: Upwards Data Drift detected! (euclidean 75%-Quantile: 1.0721569515960028)\t(Index: 20063)\n",
      "[DRIFT][Small Window]: Upwards Data Drift detected!. (haversine AVG: 104.21306362936825)\t(Index: 20063)\n",
      "[DRIFT][Small Window]: Upwards Data Drift detected! (haversine 25%-Quantile: 104.21306362936825)\t(Index: 20063)\n",
      "[DRIFT][Small Window]: Upwards Data Drift detected! (haversine 75%-Quantile: 104.21306362936825)\t(Index: 20063)\n",
      "[DRIFT][Small Window]: KL-Divergence detected! (haversine Divergence: 338699.5952130057)\t(Index: 20063)\n",
      "[DRIFT][Small Window]: Wasserstein Distance detected! (haversine Distance: 100.87317371086733)\t(Index: 20063)\n"
     ]
    },
    {
     "name": "stderr",
     "output_type": "stream",
     "text": [
      "[Parallel(n_jobs=-1)]: Using backend ThreadingBackend with 4 concurrent workers.\n",
      "[Parallel(n_jobs=-1)]: Done  20 out of  20 | elapsed:    0.0s finished\n"
     ]
    },
    {
     "name": "stdout",
     "output_type": "stream",
     "text": [
      "[DRIFT][Small Window]: Multi-Dimensional Upwards Mean Drift Detected! Distance: 231.69845443381874\t\t\t(Index: 20063)\n",
      "batch: 97.65467319854164, train: 2.200820905397247, train+threshold: 1.1004104526986236\n",
      "[DRIFT][Small Window]: Multi-Dimensional 3rd Quarter Upwards Drift Detected! Distance: 97.65467319854164\t\t\t(Index: 20063)\n"
     ]
    },
    {
     "name": "stderr",
     "output_type": "stream",
     "text": [
      "Setting feature_perturbation = \"tree_path_dependent\" because no background data was given.\n"
     ]
    },
    {
     "name": "stdout",
     "output_type": "stream",
     "text": [
      "[DRIFT][Small Window]: Wasserstein Distance detected! (fare_amount Distance: 1.3317009618543592)\t(Index: 20367)\n",
      "[DRIFT][Small Window]: Upwards Data Drift detected!. (manhattan AVG: 1.250829469846362)\t(Index: 20367)\n",
      "[DRIFT][Small Window]: Upwards Data Drift detected! (manhattan 25%-Quantile: 1.250829469846362)\t(Index: 20367)\n",
      "[DRIFT][Small Window]: Upwards Data Drift detected! (manhattan 75%-Quantile: 1.250829469846362)\t(Index: 20367)\n",
      "[DRIFT][Small Window]: Wasserstein Distance detected! (manhattan Distance: 1.2066244243515953)\t(Index: 20367)\n",
      "[DRIFT][Small Window]: Upwards Data Drift detected!. (euclidean AVG: 1.0460937312259693)\t(Index: 20367)\n",
      "[DRIFT][Small Window]: Upwards Data Drift detected! (euclidean 25%-Quantile: 1.0460937312259693)\t(Index: 20367)\n",
      "[DRIFT][Small Window]: Upwards Data Drift detected! (euclidean 75%-Quantile: 1.0460937312259693)\t(Index: 20367)\n",
      "[DRIFT][Small Window]: Upwards Data Drift detected!. (haversine AVG: 100.70934062909555)\t(Index: 20367)\n",
      "[DRIFT][Small Window]: Upwards Data Drift detected! (haversine 25%-Quantile: 100.70934062909555)\t(Index: 20367)\n",
      "[DRIFT][Small Window]: Upwards Data Drift detected! (haversine 75%-Quantile: 100.70934062909555)\t(Index: 20367)\n",
      "[DRIFT][Small Window]: KL-Divergence detected! (haversine Divergence: 339863.26153387054)\t(Index: 20367)\n",
      "[DRIFT][Small Window]: Wasserstein Distance detected! (haversine Distance: 97.36945071059463)\t(Index: 20367)\n"
     ]
    },
    {
     "name": "stderr",
     "output_type": "stream",
     "text": [
      "[Parallel(n_jobs=-1)]: Using backend ThreadingBackend with 4 concurrent workers.\n",
      "[Parallel(n_jobs=-1)]: Done  20 out of  20 | elapsed:    0.0s finished\n"
     ]
    },
    {
     "name": "stdout",
     "output_type": "stream",
     "text": [
      "[DRIFT][Small Window]: Multi-Dimensional Upwards Mean Drift Detected! Distance: 231.69845443381874\t\t\t(Index: 20367)\n",
      "batch: 97.72581478849825, train: 2.200820905397247, train+threshold: 1.1004104526986236\n",
      "[DRIFT][Small Window]: Multi-Dimensional 3rd Quarter Upwards Drift Detected! Distance: 97.72581478849825\t\t\t(Index: 20367)\n"
     ]
    },
    {
     "name": "stderr",
     "output_type": "stream",
     "text": [
      "Setting feature_perturbation = \"tree_path_dependent\" because no background data was given.\n"
     ]
    },
    {
     "name": "stdout",
     "output_type": "stream",
     "text": [
      "[DRIFT][Small Window]: Upwards Data Drift detected!. (manhattan AVG: 1.163585228328901)\t(Index: 20671)\n",
      "[DRIFT][Small Window]: Upwards Data Drift detected! (manhattan 25%-Quantile: 1.163585228328901)\t(Index: 20671)\n",
      "[DRIFT][Small Window]: Upwards Data Drift detected! (manhattan 75%-Quantile: 1.163585228328901)\t(Index: 20671)\n",
      "[DRIFT][Small Window]: Upwards Data Drift detected!. (euclidean AVG: 0.9782965962814715)\t(Index: 20671)\n",
      "[DRIFT][Small Window]: Upwards Data Drift detected! (euclidean 25%-Quantile: 0.9782965962814715)\t(Index: 20671)\n",
      "[DRIFT][Small Window]: Upwards Data Drift detected! (euclidean 75%-Quantile: 0.9782965962814715)\t(Index: 20671)\n",
      "[DRIFT][Small Window]: Upwards Data Drift detected!. (haversine AVG: 94.65009918760303)\t(Index: 20671)\n",
      "[DRIFT][Small Window]: Upwards Data Drift detected! (haversine 25%-Quantile: 94.65009918760303)\t(Index: 20671)\n",
      "[DRIFT][Small Window]: Upwards Data Drift detected! (haversine 75%-Quantile: 94.65009918760303)\t(Index: 20671)\n",
      "[DRIFT][Small Window]: KL-Divergence detected! (haversine Divergence: 307922.0772549037)\t(Index: 20671)\n",
      "[DRIFT][Small Window]: Wasserstein Distance detected! (haversine Distance: 91.31020926910215)\t(Index: 20671)\n",
      "[DRIFT][Small Window]: Pairwise Correlation Drift detected: dropoff_longitude <> passenger_count!\t(Index: 20671)\n"
     ]
    },
    {
     "name": "stderr",
     "output_type": "stream",
     "text": [
      "[Parallel(n_jobs=-1)]: Using backend ThreadingBackend with 4 concurrent workers.\n",
      "[Parallel(n_jobs=-1)]: Done  20 out of  20 | elapsed:    0.0s finished\n"
     ]
    },
    {
     "name": "stdout",
     "output_type": "stream",
     "text": [
      "[DRIFT][Small Window]: Multi-Dimensional Upwards Mean Drift Detected! Distance: 231.69845443381874\t\t\t(Index: 20671)\n",
      "batch: 97.76957211123212, train: 2.200820905397247, train+threshold: 1.1004104526986236\n",
      "[DRIFT][Small Window]: Multi-Dimensional 3rd Quarter Upwards Drift Detected! Distance: 97.76957211123212\t\t\t(Index: 20671)\n"
     ]
    },
    {
     "name": "stderr",
     "output_type": "stream",
     "text": [
      "Setting feature_perturbation = \"tree_path_dependent\" because no background data was given.\n"
     ]
    },
    {
     "name": "stdout",
     "output_type": "stream",
     "text": [
      "[DRIFT][Small Window]: Downwards Data Drift detected! (passenger_count 75%-Quantile: 1.4530477759472817)\t(Index: 20975)\n",
      "[DRIFT][Small Window]: Upwards Data Drift detected!. (manhattan AVG: 1.0902971070789846)\t(Index: 20975)\n",
      "[DRIFT][Small Window]: Upwards Data Drift detected! (manhattan 25%-Quantile: 1.0902971070789846)\t(Index: 20975)\n",
      "[DRIFT][Small Window]: Upwards Data Drift detected! (manhattan 75%-Quantile: 1.0902971070789846)\t(Index: 20975)\n",
      "[DRIFT][Small Window]: Upwards Data Drift detected!. (euclidean AVG: 0.9202847100375892)\t(Index: 20975)\n",
      "[DRIFT][Small Window]: Upwards Data Drift detected! (euclidean 25%-Quantile: 0.9202847100375892)\t(Index: 20975)\n",
      "[DRIFT][Small Window]: Upwards Data Drift detected! (euclidean 75%-Quantile: 0.9202847100375892)\t(Index: 20975)\n",
      "[DRIFT][Small Window]: Upwards Data Drift detected!. (haversine AVG: 89.06403772962427)\t(Index: 20975)\n",
      "[DRIFT][Small Window]: Upwards Data Drift detected! (haversine 25%-Quantile: 89.06403772962427)\t(Index: 20975)\n",
      "[DRIFT][Small Window]: Upwards Data Drift detected! (haversine 75%-Quantile: 89.06403772962427)\t(Index: 20975)\n",
      "[DRIFT][Small Window]: KL-Divergence detected! (haversine Divergence: 290783.7994911933)\t(Index: 20975)\n",
      "[DRIFT][Small Window]: Wasserstein Distance detected! (haversine Distance: 85.72414781112336)\t(Index: 20975)\n"
     ]
    },
    {
     "name": "stderr",
     "output_type": "stream",
     "text": [
      "[Parallel(n_jobs=-1)]: Using backend ThreadingBackend with 4 concurrent workers.\n",
      "[Parallel(n_jobs=-1)]: Done  20 out of  20 | elapsed:    0.0s finished\n"
     ]
    },
    {
     "name": "stdout",
     "output_type": "stream",
     "text": [
      "[DRIFT][Small Window]: Multi-Dimensional Upwards Mean Drift Detected! Distance: 231.69845443381874\t\t\t(Index: 20975)\n",
      "batch: 97.80044536634738, train: 2.200820905397247, train+threshold: 1.1004104526986236\n",
      "[DRIFT][Small Window]: Multi-Dimensional 3rd Quarter Upwards Drift Detected! Distance: 97.80044536634738\t\t\t(Index: 20975)\n",
      "------------------------ INDEX: 21000 ------------------------\n"
     ]
    },
    {
     "name": "stderr",
     "output_type": "stream",
     "text": [
      "Setting feature_perturbation = \"tree_path_dependent\" because no background data was given.\n"
     ]
    },
    {
     "name": "stdout",
     "output_type": "stream",
     "text": [
      "[DRIFT][Small Window]: Downwards Data Drift detected! (passenger_count 75%-Quantile: 1.4645799011532126)\t(Index: 21279)\n",
      "[DRIFT][Small Window]: Upwards Data Drift detected!. (manhattan AVG: 1.097682794403785)\t(Index: 21279)\n",
      "[DRIFT][Small Window]: Upwards Data Drift detected! (manhattan 25%-Quantile: 1.097682794403785)\t(Index: 21279)\n",
      "[DRIFT][Small Window]: Upwards Data Drift detected! (manhattan 75%-Quantile: 1.097682794403785)\t(Index: 21279)\n",
      "[DRIFT][Small Window]: Upwards Data Drift detected!. (euclidean AVG: 0.9380134530841365)\t(Index: 21279)\n",
      "[DRIFT][Small Window]: Upwards Data Drift detected! (euclidean 25%-Quantile: 0.9380134530841365)\t(Index: 21279)\n",
      "[DRIFT][Small Window]: Upwards Data Drift detected! (euclidean 75%-Quantile: 0.9380134530841365)\t(Index: 21279)\n",
      "[DRIFT][Small Window]: Upwards Data Drift detected!. (haversine AVG: 89.48285940204094)\t(Index: 21279)\n",
      "[DRIFT][Small Window]: Upwards Data Drift detected! (haversine 25%-Quantile: 89.48285940204094)\t(Index: 21279)\n",
      "[DRIFT][Small Window]: Upwards Data Drift detected! (haversine 75%-Quantile: 89.48285940204094)\t(Index: 21279)\n",
      "[DRIFT][Small Window]: KL-Divergence detected! (haversine Divergence: 300531.18955286493)\t(Index: 21279)\n",
      "[DRIFT][Small Window]: Wasserstein Distance detected! (haversine Distance: 86.14296948354003)\t(Index: 21279)\n",
      "[DRIFT][Small Window]: Pairwise Correlation Drift detected: pickup_longitude <> passenger_count!\t(Index: 21279)\n",
      "[DRIFT][Small Window]: Pairwise Correlation Drift detected: dropoff_longitude <> passenger_count!\t(Index: 21279)\n"
     ]
    },
    {
     "name": "stderr",
     "output_type": "stream",
     "text": [
      "[Parallel(n_jobs=-1)]: Using backend ThreadingBackend with 4 concurrent workers.\n",
      "[Parallel(n_jobs=-1)]: Done  20 out of  20 | elapsed:    0.0s finished\n"
     ]
    },
    {
     "name": "stdout",
     "output_type": "stream",
     "text": [
      "[DRIFT][Small Window]: Multi-Dimensional Upwards Mean Drift Detected! Distance: 231.69845443381874\t\t\t(Index: 21279)\n",
      "batch: 97.91342766325286, train: 2.200820905397247, train+threshold: 1.1004104526986236\n",
      "[DRIFT][Small Window]: Multi-Dimensional 3rd Quarter Upwards Drift Detected! Distance: 97.91342766325286\t\t\t(Index: 21279)\n"
     ]
    },
    {
     "name": "stderr",
     "output_type": "stream",
     "text": [
      "Setting feature_perturbation = \"tree_path_dependent\" because no background data was given.\n"
     ]
    },
    {
     "name": "stdout",
     "output_type": "stream",
     "text": [
      "[DRIFT][Medium Window]: Upwards Data Drift detected! (fare_amount 25%-Quantile: 11.08510590970563)\t(Index: 21294)\n",
      "[DRIFT][Medium Window]: KL-Divergence detected! (fare_amount Divergence: 35259.23566600614)\t(Index: 21294)\n",
      "[DRIFT][Medium Window]: Wasserstein Distance detected! (fare_amount Distance: 1.0847010713993215)\t(Index: 21294)\n",
      "[DRIFT][Medium Window]: KL-Divergence detected! (fare-bin Divergence: 4029.481037794099)\t(Index: 21294)\n",
      "[DRIFT][Medium Window]: KL-Divergence detected! (pickup_longitude Divergence: 3681.6989714859124)\t(Index: 21294)\n",
      "[DRIFT][Medium Window]: Wasserstein Distance detected! (pickup_longitude Distance: 0.6057852376155954)\t(Index: 21294)\n",
      "[DRIFT][Medium Window]: KL-Divergence detected! (pickup_latitude Divergence: 3027.629929087677)\t(Index: 21294)\n",
      "[DRIFT][Medium Window]: Wasserstein Distance detected! (pickup_latitude Distance: 0.48479618380866524)\t(Index: 21294)\n",
      "[DRIFT][Medium Window]: KL-Divergence detected! (dropoff_longitude Divergence: 1139.298336433955)\t(Index: 21294)\n",
      "[DRIFT][Medium Window]: KL-Divergence detected! (passenger_count Divergence: 2319.5436781912495)\t(Index: 21294)\n",
      "[DRIFT][Medium Window]: Upwards Data Drift detected!. (manhattan AVG: 1.1647608736031163)\t(Index: 21294)\n",
      "[DRIFT][Medium Window]: Upwards Data Drift detected! (manhattan 25%-Quantile: 1.1647608736031163)\t(Index: 21294)\n",
      "[DRIFT][Medium Window]: Upwards Data Drift detected! (manhattan 75%-Quantile: 1.1647608736031163)\t(Index: 21294)\n",
      "[DRIFT][Medium Window]: KL-Divergence detected! (manhattan Divergence: 30567.272758497544)\t(Index: 21294)\n",
      "[DRIFT][Medium Window]: Wasserstein Distance detected! (manhattan Distance: 1.12055582810835)\t(Index: 21294)\n",
      "[DRIFT][Medium Window]: Upwards Data Drift detected!. (euclidean AVG: 0.9820077980172587)\t(Index: 21294)\n",
      "[DRIFT][Medium Window]: Upwards Data Drift detected! (euclidean 25%-Quantile: 0.9820077980172587)\t(Index: 21294)\n",
      "[DRIFT][Medium Window]: Upwards Data Drift detected! (euclidean 75%-Quantile: 0.9820077980172587)\t(Index: 21294)\n",
      "[DRIFT][Medium Window]: KL-Divergence detected! (euclidean Divergence: 26099.916009122622)\t(Index: 21294)\n",
      "[DRIFT][Medium Window]: Wasserstein Distance detected! (euclidean Distance: 0.9478338716048782)\t(Index: 21294)\n",
      "[DRIFT][Medium Window]: Upwards Data Drift detected!. (haversine AVG: 94.41947562049064)\t(Index: 21294)\n",
      "[DRIFT][Medium Window]: Upwards Data Drift detected! (haversine 25%-Quantile: 94.41947562049064)\t(Index: 21294)\n",
      "[DRIFT][Medium Window]: Upwards Data Drift detected! (haversine 75%-Quantile: 94.41947562049064)\t(Index: 21294)\n",
      "[DRIFT][Medium Window]: KL-Divergence detected! (haversine Divergence: 2499217.965786194)\t(Index: 21294)\n",
      "[DRIFT][Medium Window]: Wasserstein Distance detected! (haversine Distance: 91.07958570198974)\t(Index: 21294)\n"
     ]
    },
    {
     "name": "stderr",
     "output_type": "stream",
     "text": [
      "[Parallel(n_jobs=-1)]: Using backend ThreadingBackend with 4 concurrent workers.\n",
      "[Parallel(n_jobs=-1)]: Done  20 out of  20 | elapsed:    0.1s finished\n"
     ]
    },
    {
     "name": "stdout",
     "output_type": "stream",
     "text": [
      "[DRIFT][Medium Window]: Multi-Dimensional Upwards Mean Drift Detected! Distance: 231.69845443381874\t\t\t(Index: 21294)\n",
      "batch: 97.92698402123315, train: 2.200820905397247, train+threshold: 1.1004104526986236\n",
      "[DRIFT][Medium Window]: Multi-Dimensional 3rd Quarter Upwards Drift Detected! Distance: 97.92698402123315\t\t\t(Index: 21294)\n"
     ]
    },
    {
     "name": "stderr",
     "output_type": "stream",
     "text": [
      "Setting feature_perturbation = \"tree_path_dependent\" because no background data was given.\n"
     ]
    },
    {
     "name": "stdout",
     "output_type": "stream",
     "text": [
      "[DRIFT][Small Window]: Upwards Data Drift detected!. (manhattan AVG: 1.1363677914661956)\t(Index: 21583)\n",
      "[DRIFT][Small Window]: Upwards Data Drift detected! (manhattan 25%-Quantile: 1.1363677914661956)\t(Index: 21583)\n",
      "[DRIFT][Small Window]: Upwards Data Drift detected! (manhattan 75%-Quantile: 1.1363677914661956)\t(Index: 21583)\n",
      "[DRIFT][Small Window]: Upwards Data Drift detected!. (euclidean AVG: 0.9620646528290958)\t(Index: 21583)\n",
      "[DRIFT][Small Window]: Upwards Data Drift detected! (euclidean 25%-Quantile: 0.9620646528290958)\t(Index: 21583)\n",
      "[DRIFT][Small Window]: Upwards Data Drift detected! (euclidean 75%-Quantile: 0.9620646528290958)\t(Index: 21583)\n",
      "[DRIFT][Small Window]: Upwards Data Drift detected!. (haversine AVG: 91.37982703690068)\t(Index: 21583)\n",
      "[DRIFT][Small Window]: Upwards Data Drift detected! (haversine 25%-Quantile: 91.37982703690068)\t(Index: 21583)\n",
      "[DRIFT][Small Window]: Upwards Data Drift detected! (haversine 75%-Quantile: 91.37982703690068)\t(Index: 21583)\n",
      "[DRIFT][Small Window]: KL-Divergence detected! (haversine Divergence: 308049.92215031205)\t(Index: 21583)\n",
      "[DRIFT][Small Window]: Wasserstein Distance detected! (haversine Distance: 88.03993711839978)\t(Index: 21583)\n"
     ]
    },
    {
     "name": "stderr",
     "output_type": "stream",
     "text": [
      "[Parallel(n_jobs=-1)]: Using backend ThreadingBackend with 4 concurrent workers.\n",
      "[Parallel(n_jobs=-1)]: Done  20 out of  20 | elapsed:    0.0s finished\n"
     ]
    },
    {
     "name": "stdout",
     "output_type": "stream",
     "text": [
      "[DRIFT][Small Window]: Multi-Dimensional Upwards Mean Drift Detected! Distance: 231.69845443381874\t\t\t(Index: 21583)\n",
      "batch: 97.94392852696804, train: 2.200820905397247, train+threshold: 1.1004104526986236\n",
      "[DRIFT][Small Window]: Multi-Dimensional 3rd Quarter Upwards Drift Detected! Distance: 97.94392852696804\t\t\t(Index: 21583)\n"
     ]
    },
    {
     "name": "stderr",
     "output_type": "stream",
     "text": [
      "Setting feature_perturbation = \"tree_path_dependent\" because no background data was given.\n"
     ]
    },
    {
     "name": "stdout",
     "output_type": "stream",
     "text": [
      "[DRIFT][Small Window]: Downwards Data Drift detected! (passenger_count 75%-Quantile: 1.411861614497529)\t(Index: 21887)\n",
      "[DRIFT][Small Window]: Upwards Data Drift detected!. (manhattan AVG: 1.181017816373939)\t(Index: 21887)\n",
      "[DRIFT][Small Window]: Upwards Data Drift detected! (manhattan 25%-Quantile: 1.181017816373939)\t(Index: 21887)\n",
      "[DRIFT][Small Window]: Upwards Data Drift detected! (manhattan 75%-Quantile: 1.181017816373939)\t(Index: 21887)\n",
      "[DRIFT][Small Window]: Upwards Data Drift detected!. (euclidean AVG: 0.9963885677801689)\t(Index: 21887)\n",
      "[DRIFT][Small Window]: Upwards Data Drift detected! (euclidean 25%-Quantile: 0.9963885677801689)\t(Index: 21887)\n",
      "[DRIFT][Small Window]: Upwards Data Drift detected! (euclidean 75%-Quantile: 0.9963885677801689)\t(Index: 21887)\n",
      "[DRIFT][Small Window]: Upwards Data Drift detected!. (haversine AVG: 95.04294900152189)\t(Index: 21887)\n",
      "[DRIFT][Small Window]: Upwards Data Drift detected! (haversine 25%-Quantile: 95.04294900152189)\t(Index: 21887)\n",
      "[DRIFT][Small Window]: Upwards Data Drift detected! (haversine 75%-Quantile: 95.04294900152189)\t(Index: 21887)\n",
      "[DRIFT][Small Window]: KL-Divergence detected! (haversine Divergence: 319871.5283630904)\t(Index: 21887)\n",
      "[DRIFT][Small Window]: Wasserstein Distance detected! (haversine Distance: 91.70305908302097)\t(Index: 21887)\n"
     ]
    },
    {
     "name": "stderr",
     "output_type": "stream",
     "text": [
      "[Parallel(n_jobs=-1)]: Using backend ThreadingBackend with 4 concurrent workers.\n",
      "[Parallel(n_jobs=-1)]: Done  20 out of  20 | elapsed:    0.0s finished\n"
     ]
    },
    {
     "name": "stdout",
     "output_type": "stream",
     "text": [
      "[DRIFT][Small Window]: Multi-Dimensional Upwards Mean Drift Detected! Distance: 231.69845443381874\t\t\t(Index: 21887)\n",
      "batch: 98.20654493797585, train: 2.200820905397247, train+threshold: 1.1004104526986236\n",
      "[DRIFT][Small Window]: Multi-Dimensional 3rd Quarter Upwards Drift Detected! Distance: 98.20654493797585\t\t\t(Index: 21887)\n",
      "------------------------ INDEX: 22000 ------------------------\n"
     ]
    },
    {
     "name": "stderr",
     "output_type": "stream",
     "text": [
      "Setting feature_perturbation = \"tree_path_dependent\" because no background data was given.\n"
     ]
    },
    {
     "name": "stdout",
     "output_type": "stream",
     "text": [
      "[DRIFT][Small Window]: Downwards Data Drift detected! (passenger_count 75%-Quantile: 1.42833607907743)\t(Index: 22191)\n",
      "[DRIFT][Small Window]: Upwards Data Drift detected!. (manhattan AVG: 1.216275932316996)\t(Index: 22191)\n",
      "[DRIFT][Small Window]: Upwards Data Drift detected! (manhattan 25%-Quantile: 1.216275932316996)\t(Index: 22191)\n",
      "[DRIFT][Small Window]: Upwards Data Drift detected! (manhattan 75%-Quantile: 1.216275932316996)\t(Index: 22191)\n",
      "[DRIFT][Small Window]: Upwards Data Drift detected!. (euclidean AVG: 1.0241310810836755)\t(Index: 22191)\n",
      "[DRIFT][Small Window]: Upwards Data Drift detected! (euclidean 25%-Quantile: 1.0241310810836755)\t(Index: 22191)\n",
      "[DRIFT][Small Window]: Upwards Data Drift detected! (euclidean 75%-Quantile: 1.0241310810836755)\t(Index: 22191)\n",
      "[DRIFT][Small Window]: Upwards Data Drift detected!. (haversine AVG: 97.31883222908291)\t(Index: 22191)\n",
      "[DRIFT][Small Window]: Upwards Data Drift detected! (haversine 25%-Quantile: 97.31883222908291)\t(Index: 22191)\n",
      "[DRIFT][Small Window]: Upwards Data Drift detected! (haversine 75%-Quantile: 97.31883222908291)\t(Index: 22191)\n",
      "[DRIFT][Small Window]: KL-Divergence detected! (haversine Divergence: 323051.3269287713)\t(Index: 22191)\n",
      "[DRIFT][Small Window]: Wasserstein Distance detected! (haversine Distance: 93.97894231058201)\t(Index: 22191)\n"
     ]
    },
    {
     "name": "stderr",
     "output_type": "stream",
     "text": [
      "[Parallel(n_jobs=-1)]: Using backend ThreadingBackend with 4 concurrent workers.\n",
      "[Parallel(n_jobs=-1)]: Done  20 out of  20 | elapsed:    0.0s finished\n"
     ]
    },
    {
     "name": "stdout",
     "output_type": "stream",
     "text": [
      "[DRIFT][Small Window]: Multi-Dimensional Upwards Mean Drift Detected! Distance: 231.69845443381874\t\t\t(Index: 22191)\n",
      "batch: 98.38705914161865, train: 2.200820905397247, train+threshold: 1.1004104526986236\n",
      "[DRIFT][Small Window]: Multi-Dimensional 3rd Quarter Upwards Drift Detected! Distance: 98.38705914161865\t\t\t(Index: 22191)\n"
     ]
    },
    {
     "name": "stderr",
     "output_type": "stream",
     "text": [
      "Setting feature_perturbation = \"tree_path_dependent\" because no background data was given.\n"
     ]
    },
    {
     "name": "stdout",
     "output_type": "stream",
     "text": [
      "[DRIFT][Small Window]: Downwards Data Drift detected! (passenger_count 75%-Quantile: 1.4975288303130148)\t(Index: 22495)\n",
      "[DRIFT][Small Window]: Upwards Data Drift detected!. (manhattan AVG: 1.1472633662645464)\t(Index: 22495)\n",
      "[DRIFT][Small Window]: Upwards Data Drift detected! (manhattan 25%-Quantile: 1.1472633662645464)\t(Index: 22495)\n",
      "[DRIFT][Small Window]: Upwards Data Drift detected! (manhattan 75%-Quantile: 1.1472633662645464)\t(Index: 22495)\n",
      "[DRIFT][Small Window]: Upwards Data Drift detected!. (euclidean AVG: 0.960969056244001)\t(Index: 22495)\n",
      "[DRIFT][Small Window]: Upwards Data Drift detected! (euclidean 25%-Quantile: 0.960969056244001)\t(Index: 22495)\n",
      "[DRIFT][Small Window]: Upwards Data Drift detected! (euclidean 75%-Quantile: 0.960969056244001)\t(Index: 22495)\n",
      "[DRIFT][Small Window]: Upwards Data Drift detected!. (haversine AVG: 90.72867201259295)\t(Index: 22495)\n",
      "[DRIFT][Small Window]: Upwards Data Drift detected! (haversine 25%-Quantile: 90.72867201259295)\t(Index: 22495)\n",
      "[DRIFT][Small Window]: Upwards Data Drift detected! (haversine 75%-Quantile: 90.72867201259295)\t(Index: 22495)\n",
      "[DRIFT][Small Window]: KL-Divergence detected! (haversine Divergence: 302015.25245569926)\t(Index: 22495)\n",
      "[DRIFT][Small Window]: Wasserstein Distance detected! (haversine Distance: 87.38878209409204)\t(Index: 22495)\n"
     ]
    },
    {
     "name": "stderr",
     "output_type": "stream",
     "text": [
      "[Parallel(n_jobs=-1)]: Using backend ThreadingBackend with 4 concurrent workers.\n",
      "[Parallel(n_jobs=-1)]: Done  20 out of  20 | elapsed:    0.0s finished\n"
     ]
    },
    {
     "name": "stdout",
     "output_type": "stream",
     "text": [
      "[DRIFT][Small Window]: Multi-Dimensional Upwards Mean Drift Detected! Distance: 231.69845443381874\t\t\t(Index: 22495)\n",
      "batch: 98.4120241938619, train: 2.200820905397247, train+threshold: 1.1004104526986236\n",
      "[DRIFT][Small Window]: Multi-Dimensional 3rd Quarter Upwards Drift Detected! Distance: 98.4120241938619\t\t\t(Index: 22495)\n"
     ]
    },
    {
     "name": "stderr",
     "output_type": "stream",
     "text": [
      "Setting feature_perturbation = \"tree_path_dependent\" because no background data was given.\n"
     ]
    },
    {
     "name": "stdout",
     "output_type": "stream",
     "text": [
      "[DRIFT][Small Window]: Downwards Data Drift detected! (passenger_count 75%-Quantile: 1.4827018121911038)\t(Index: 22799)\n",
      "[DRIFT][Small Window]: Upwards Data Drift detected!. (manhattan AVG: 1.1577290887930165)\t(Index: 22799)\n",
      "[DRIFT][Small Window]: Upwards Data Drift detected! (manhattan 25%-Quantile: 1.1577290887930165)\t(Index: 22799)\n",
      "[DRIFT][Small Window]: Upwards Data Drift detected! (manhattan 75%-Quantile: 1.1577290887930165)\t(Index: 22799)\n",
      "[DRIFT][Small Window]: Upwards Data Drift detected!. (euclidean AVG: 0.9750074289276043)\t(Index: 22799)\n",
      "[DRIFT][Small Window]: Upwards Data Drift detected! (euclidean 25%-Quantile: 0.9750074289276043)\t(Index: 22799)\n",
      "[DRIFT][Small Window]: Upwards Data Drift detected! (euclidean 75%-Quantile: 0.9750074289276043)\t(Index: 22799)\n",
      "[DRIFT][Small Window]: Upwards Data Drift detected!. (haversine AVG: 92.18186786756716)\t(Index: 22799)\n",
      "[DRIFT][Small Window]: Upwards Data Drift detected! (haversine 25%-Quantile: 92.18186786756716)\t(Index: 22799)\n",
      "[DRIFT][Small Window]: Upwards Data Drift detected! (haversine 75%-Quantile: 92.18186786756716)\t(Index: 22799)\n",
      "[DRIFT][Small Window]: KL-Divergence detected! (haversine Divergence: 303703.82560992317)\t(Index: 22799)\n",
      "[DRIFT][Small Window]: Wasserstein Distance detected! (haversine Distance: 88.84197794906623)\t(Index: 22799)\n"
     ]
    },
    {
     "name": "stderr",
     "output_type": "stream",
     "text": [
      "[Parallel(n_jobs=-1)]: Using backend ThreadingBackend with 4 concurrent workers.\n",
      "[Parallel(n_jobs=-1)]: Done  20 out of  20 | elapsed:    0.0s finished\n"
     ]
    },
    {
     "name": "stdout",
     "output_type": "stream",
     "text": [
      "[DRIFT][Small Window]: Multi-Dimensional Upwards Mean Drift Detected! Distance: 231.69845443381874\t\t\t(Index: 22799)\n",
      "batch: 98.59226998606576, train: 2.200820905397247, train+threshold: 1.1004104526986236\n",
      "[DRIFT][Small Window]: Multi-Dimensional 3rd Quarter Upwards Drift Detected! Distance: 98.59226998606576\t\t\t(Index: 22799)\n",
      "------------------------ INDEX: 23000 ------------------------\n"
     ]
    },
    {
     "name": "stderr",
     "output_type": "stream",
     "text": [
      "Setting feature_perturbation = \"tree_path_dependent\" because no background data was given.\n"
     ]
    },
    {
     "name": "stdout",
     "output_type": "stream",
     "text": [
      "[DRIFT][Small Window]: Downwards Data Drift detected! (passenger_count 75%-Quantile: 1.4678747940691927)\t(Index: 23103)\n",
      "[DRIFT][Small Window]: Upwards Data Drift detected!. (manhattan AVG: 1.2528055924847992)\t(Index: 23103)\n",
      "[DRIFT][Small Window]: Upwards Data Drift detected! (manhattan 25%-Quantile: 1.2528055924847992)\t(Index: 23103)\n",
      "[DRIFT][Small Window]: Upwards Data Drift detected! (manhattan 75%-Quantile: 1.2528055924847992)\t(Index: 23103)\n",
      "[DRIFT][Small Window]: Wasserstein Distance detected! (manhattan Distance: 1.2086005469900327)\t(Index: 23103)\n",
      "[DRIFT][Small Window]: Upwards Data Drift detected!. (euclidean AVG: 1.043606063346216)\t(Index: 23103)\n",
      "[DRIFT][Small Window]: Upwards Data Drift detected! (euclidean 25%-Quantile: 1.043606063346216)\t(Index: 23103)\n",
      "[DRIFT][Small Window]: Upwards Data Drift detected! (euclidean 75%-Quantile: 1.043606063346216)\t(Index: 23103)\n",
      "[DRIFT][Small Window]: Upwards Data Drift detected!. (haversine AVG: 99.76188005060577)\t(Index: 23103)\n",
      "[DRIFT][Small Window]: Upwards Data Drift detected! (haversine 25%-Quantile: 99.76188005060577)\t(Index: 23103)\n",
      "[DRIFT][Small Window]: Upwards Data Drift detected! (haversine 75%-Quantile: 99.76188005060577)\t(Index: 23103)\n",
      "[DRIFT][Small Window]: KL-Divergence detected! (haversine Divergence: 333244.296865028)\t(Index: 23103)\n",
      "[DRIFT][Small Window]: Wasserstein Distance detected! (haversine Distance: 96.42199013210487)\t(Index: 23103)\n",
      "[DRIFT][Small Window]: Pairwise Correlation Drift detected: dropoff_longitude <> passenger_count!\t(Index: 23103)\n"
     ]
    },
    {
     "name": "stderr",
     "output_type": "stream",
     "text": [
      "[Parallel(n_jobs=-1)]: Using backend ThreadingBackend with 4 concurrent workers.\n",
      "[Parallel(n_jobs=-1)]: Done  20 out of  20 | elapsed:    0.0s finished\n"
     ]
    },
    {
     "name": "stdout",
     "output_type": "stream",
     "text": [
      "[DRIFT][Small Window]: Multi-Dimensional Upwards Mean Drift Detected! Distance: 231.69845443381874\t\t\t(Index: 23103)\n",
      "batch: 98.7957512150252, train: 2.200820905397247, train+threshold: 1.1004104526986236\n",
      "[DRIFT][Small Window]: Multi-Dimensional 3rd Quarter Upwards Drift Detected! Distance: 98.7957512150252\t\t\t(Index: 23103)\n"
     ]
    },
    {
     "name": "stderr",
     "output_type": "stream",
     "text": [
      "Setting feature_perturbation = \"tree_path_dependent\" because no background data was given.\n"
     ]
    },
    {
     "name": "stdout",
     "output_type": "stream",
     "text": [
      "[DRIFT][Small Window]: Upwards Data Drift detected!. (manhattan AVG: 1.2249720361095)\t(Index: 23407)\n",
      "[DRIFT][Small Window]: Upwards Data Drift detected! (manhattan 25%-Quantile: 1.2249720361095)\t(Index: 23407)\n",
      "[DRIFT][Small Window]: Upwards Data Drift detected! (manhattan 75%-Quantile: 1.2249720361095)\t(Index: 23407)\n",
      "[DRIFT][Small Window]: Upwards Data Drift detected!. (euclidean AVG: 1.0150839217186647)\t(Index: 23407)\n",
      "[DRIFT][Small Window]: Upwards Data Drift detected! (euclidean 25%-Quantile: 1.0150839217186647)\t(Index: 23407)\n",
      "[DRIFT][Small Window]: Upwards Data Drift detected! (euclidean 75%-Quantile: 1.0150839217186647)\t(Index: 23407)\n",
      "[DRIFT][Small Window]: Upwards Data Drift detected!. (haversine AVG: 97.66524909787972)\t(Index: 23407)\n",
      "[DRIFT][Small Window]: Upwards Data Drift detected! (haversine 25%-Quantile: 97.66524909787972)\t(Index: 23407)\n",
      "[DRIFT][Small Window]: Upwards Data Drift detected! (haversine 75%-Quantile: 97.66524909787972)\t(Index: 23407)\n",
      "[DRIFT][Small Window]: KL-Divergence detected! (haversine Divergence: 329608.9454331689)\t(Index: 23407)\n",
      "[DRIFT][Small Window]: Wasserstein Distance detected! (haversine Distance: 94.32535917937881)\t(Index: 23407)\n",
      "[DRIFT][Small Window]: Pairwise Correlation Drift detected: pickup_longitude <> passenger_count!\t(Index: 23407)\n"
     ]
    },
    {
     "name": "stderr",
     "output_type": "stream",
     "text": [
      "[Parallel(n_jobs=-1)]: Using backend ThreadingBackend with 4 concurrent workers.\n",
      "[Parallel(n_jobs=-1)]: Done  20 out of  20 | elapsed:    0.0s finished\n"
     ]
    },
    {
     "name": "stdout",
     "output_type": "stream",
     "text": [
      "[DRIFT][Small Window]: Multi-Dimensional Upwards Mean Drift Detected! Distance: 231.69845443381874\t\t\t(Index: 23407)\n",
      "batch: 98.84647749621831, train: 2.200820905397247, train+threshold: 1.1004104526986236\n",
      "[DRIFT][Small Window]: Multi-Dimensional 3rd Quarter Upwards Drift Detected! Distance: 98.84647749621831\t\t\t(Index: 23407)\n"
     ]
    },
    {
     "name": "stderr",
     "output_type": "stream",
     "text": [
      "Setting feature_perturbation = \"tree_path_dependent\" because no background data was given.\n"
     ]
    },
    {
     "name": "stdout",
     "output_type": "stream",
     "text": [
      "[DRIFT][Small Window]: Upwards Data Drift detected!. (manhattan AVG: 1.238366545465519)\t(Index: 23711)\n",
      "[DRIFT][Small Window]: Upwards Data Drift detected! (manhattan 25%-Quantile: 1.238366545465519)\t(Index: 23711)\n",
      "[DRIFT][Small Window]: Upwards Data Drift detected! (manhattan 75%-Quantile: 1.238366545465519)\t(Index: 23711)\n",
      "[DRIFT][Small Window]: Upwards Data Drift detected!. (euclidean AVG: 1.0282427770028348)\t(Index: 23711)\n",
      "[DRIFT][Small Window]: Upwards Data Drift detected! (euclidean 25%-Quantile: 1.0282427770028348)\t(Index: 23711)\n",
      "[DRIFT][Small Window]: Upwards Data Drift detected! (euclidean 75%-Quantile: 1.0282427770028348)\t(Index: 23711)\n",
      "[DRIFT][Small Window]: Upwards Data Drift detected!. (haversine AVG: 99.49818833251513)\t(Index: 23711)\n",
      "[DRIFT][Small Window]: Upwards Data Drift detected! (haversine 25%-Quantile: 99.49818833251513)\t(Index: 23711)\n",
      "[DRIFT][Small Window]: Upwards Data Drift detected! (haversine 75%-Quantile: 99.49818833251513)\t(Index: 23711)\n",
      "[DRIFT][Small Window]: KL-Divergence detected! (haversine Divergence: 333158.3167276915)\t(Index: 23711)\n",
      "[DRIFT][Small Window]: Wasserstein Distance detected! (haversine Distance: 96.15829841401421)\t(Index: 23711)\n"
     ]
    },
    {
     "name": "stderr",
     "output_type": "stream",
     "text": [
      "[Parallel(n_jobs=-1)]: Using backend ThreadingBackend with 4 concurrent workers.\n",
      "[Parallel(n_jobs=-1)]: Done  20 out of  20 | elapsed:    0.0s finished\n"
     ]
    },
    {
     "name": "stdout",
     "output_type": "stream",
     "text": [
      "[DRIFT][Small Window]: Multi-Dimensional Upwards Mean Drift Detected! Distance: 231.69845443381874\t\t\t(Index: 23711)\n",
      "batch: 98.9993420585904, train: 2.200820905397247, train+threshold: 1.1004104526986236\n",
      "[DRIFT][Small Window]: Multi-Dimensional 3rd Quarter Upwards Drift Detected! Distance: 98.9993420585904\t\t\t(Index: 23711)\n",
      "------------------------ INDEX: 24000 ------------------------\n"
     ]
    },
    {
     "name": "stderr",
     "output_type": "stream",
     "text": [
      "Setting feature_perturbation = \"tree_path_dependent\" because no background data was given.\n"
     ]
    },
    {
     "name": "stdout",
     "output_type": "stream",
     "text": [
      "[DRIFT][Small Window]: Wasserstein Distance detected! (fare_amount Distance: 1.2078904632958347)\t(Index: 24015)\n",
      "[DRIFT][Small Window]: Upwards Data Drift detected!. (manhattan AVG: 1.2388042199479505)\t(Index: 24015)\n",
      "[DRIFT][Small Window]: Upwards Data Drift detected! (manhattan 25%-Quantile: 1.2388042199479505)\t(Index: 24015)\n",
      "[DRIFT][Small Window]: Upwards Data Drift detected! (manhattan 75%-Quantile: 1.2388042199479505)\t(Index: 24015)\n",
      "[DRIFT][Small Window]: Upwards Data Drift detected!. (euclidean AVG: 1.0289547112904183)\t(Index: 24015)\n",
      "[DRIFT][Small Window]: Upwards Data Drift detected! (euclidean 25%-Quantile: 1.0289547112904183)\t(Index: 24015)\n",
      "[DRIFT][Small Window]: Upwards Data Drift detected! (euclidean 75%-Quantile: 1.0289547112904183)\t(Index: 24015)\n",
      "[DRIFT][Small Window]: Upwards Data Drift detected!. (haversine AVG: 99.38418620057311)\t(Index: 24015)\n",
      "[DRIFT][Small Window]: Upwards Data Drift detected! (haversine 25%-Quantile: 99.38418620057311)\t(Index: 24015)\n",
      "[DRIFT][Small Window]: Upwards Data Drift detected! (haversine 75%-Quantile: 99.38418620057311)\t(Index: 24015)\n",
      "[DRIFT][Small Window]: KL-Divergence detected! (haversine Divergence: 325992.97674694017)\t(Index: 24015)\n",
      "[DRIFT][Small Window]: Wasserstein Distance detected! (haversine Distance: 96.04429628207222)\t(Index: 24015)\n"
     ]
    },
    {
     "name": "stderr",
     "output_type": "stream",
     "text": [
      "[Parallel(n_jobs=-1)]: Using backend ThreadingBackend with 4 concurrent workers.\n",
      "[Parallel(n_jobs=-1)]: Done  20 out of  20 | elapsed:    0.0s finished\n"
     ]
    },
    {
     "name": "stdout",
     "output_type": "stream",
     "text": [
      "[DRIFT][Small Window]: Multi-Dimensional Upwards Mean Drift Detected! Distance: 231.69845443381874\t\t\t(Index: 24015)\n",
      "batch: 99.03269868447906, train: 2.200820905397247, train+threshold: 1.1004104526986236\n",
      "[DRIFT][Small Window]: Multi-Dimensional 3rd Quarter Upwards Drift Detected! Distance: 99.03269868447906\t\t\t(Index: 24015)\n"
     ]
    },
    {
     "name": "stderr",
     "output_type": "stream",
     "text": [
      "Setting feature_perturbation = \"tree_path_dependent\" because no background data was given.\n"
     ]
    },
    {
     "name": "stdout",
     "output_type": "stream",
     "text": [
      "[DRIFT][Small Window]: Wasserstein Distance detected! (fare_amount Distance: 1.4580683750577346)\t(Index: 24319)\n",
      "[DRIFT][Small Window]: Upwards Data Drift detected!. (manhattan AVG: 1.281098585699172)\t(Index: 24319)\n",
      "[DRIFT][Small Window]: Upwards Data Drift detected! (manhattan 25%-Quantile: 1.281098585699172)\t(Index: 24319)\n",
      "[DRIFT][Small Window]: Upwards Data Drift detected! (manhattan 75%-Quantile: 1.281098585699172)\t(Index: 24319)\n",
      "[DRIFT][Small Window]: Wasserstein Distance detected! (manhattan Distance: 1.2368935402044052)\t(Index: 24319)\n",
      "[DRIFT][Small Window]: Upwards Data Drift detected!. (euclidean AVG: 1.0595382205134307)\t(Index: 24319)\n",
      "[DRIFT][Small Window]: Upwards Data Drift detected! (euclidean 25%-Quantile: 1.0595382205134307)\t(Index: 24319)\n",
      "[DRIFT][Small Window]: Upwards Data Drift detected! (euclidean 75%-Quantile: 1.0595382205134307)\t(Index: 24319)\n",
      "[DRIFT][Small Window]: Upwards Data Drift detected!. (haversine AVG: 102.37083856433145)\t(Index: 24319)\n",
      "[DRIFT][Small Window]: Upwards Data Drift detected! (haversine 25%-Quantile: 102.37083856433145)\t(Index: 24319)\n",
      "[DRIFT][Small Window]: Upwards Data Drift detected! (haversine 75%-Quantile: 102.37083856433145)\t(Index: 24319)\n",
      "[DRIFT][Small Window]: KL-Divergence detected! (haversine Divergence: 365646.3967290548)\t(Index: 24319)\n",
      "[DRIFT][Small Window]: Wasserstein Distance detected! (haversine Distance: 99.03094864583053)\t(Index: 24319)\n"
     ]
    },
    {
     "name": "stderr",
     "output_type": "stream",
     "text": [
      "[Parallel(n_jobs=-1)]: Using backend ThreadingBackend with 4 concurrent workers.\n",
      "[Parallel(n_jobs=-1)]: Done  20 out of  20 | elapsed:    0.0s finished\n"
     ]
    },
    {
     "name": "stdout",
     "output_type": "stream",
     "text": [
      "[DRIFT][Small Window]: Multi-Dimensional Upwards Mean Drift Detected! Distance: 231.69845443381874\t\t\t(Index: 24319)\n",
      "batch: 99.42265550512494, train: 2.200820905397247, train+threshold: 1.1004104526986236\n",
      "[DRIFT][Small Window]: Multi-Dimensional 3rd Quarter Upwards Drift Detected! Distance: 99.42265550512494\t\t\t(Index: 24319)\n"
     ]
    },
    {
     "name": "stderr",
     "output_type": "stream",
     "text": [
      "Setting feature_perturbation = \"tree_path_dependent\" because no background data was given.\n"
     ]
    },
    {
     "name": "stdout",
     "output_type": "stream",
     "text": [
      "[DRIFT][Small Window]: Upwards Data Drift detected!. (manhattan AVG: 1.3123152787214072)\t(Index: 24623)\n",
      "[DRIFT][Small Window]: Upwards Data Drift detected! (manhattan 25%-Quantile: 1.3123152787214072)\t(Index: 24623)\n",
      "[DRIFT][Small Window]: Upwards Data Drift detected! (manhattan 75%-Quantile: 1.3123152787214072)\t(Index: 24623)\n",
      "[DRIFT][Small Window]: Wasserstein Distance detected! (manhattan Distance: 1.2681102332266405)\t(Index: 24623)\n",
      "[DRIFT][Small Window]: Upwards Data Drift detected!. (euclidean AVG: 1.0929723813588985)\t(Index: 24623)\n",
      "[DRIFT][Small Window]: Upwards Data Drift detected! (euclidean 25%-Quantile: 1.0929723813588985)\t(Index: 24623)\n",
      "[DRIFT][Small Window]: Upwards Data Drift detected! (euclidean 75%-Quantile: 1.0929723813588985)\t(Index: 24623)\n",
      "[DRIFT][Small Window]: Upwards Data Drift detected!. (haversine AVG: 105.58596752337995)\t(Index: 24623)\n",
      "[DRIFT][Small Window]: Upwards Data Drift detected! (haversine 25%-Quantile: 105.58596752337995)\t(Index: 24623)\n",
      "[DRIFT][Small Window]: Upwards Data Drift detected! (haversine 75%-Quantile: 105.58596752337995)\t(Index: 24623)\n",
      "[DRIFT][Small Window]: KL-Divergence detected! (haversine Divergence: 342606.18587931857)\t(Index: 24623)\n",
      "[DRIFT][Small Window]: Wasserstein Distance detected! (haversine Distance: 102.24607760487903)\t(Index: 24623)\n"
     ]
    },
    {
     "name": "stderr",
     "output_type": "stream",
     "text": [
      "[Parallel(n_jobs=-1)]: Using backend ThreadingBackend with 4 concurrent workers.\n",
      "[Parallel(n_jobs=-1)]: Done  20 out of  20 | elapsed:    0.0s finished\n"
     ]
    },
    {
     "name": "stdout",
     "output_type": "stream",
     "text": [
      "[DRIFT][Small Window]: Multi-Dimensional Upwards Mean Drift Detected! Distance: 231.69845443381874\t\t\t(Index: 24623)\n",
      "batch: 99.66543954240052, train: 2.200820905397247, train+threshold: 1.1004104526986236\n",
      "[DRIFT][Small Window]: Multi-Dimensional 3rd Quarter Upwards Drift Detected! Distance: 99.66543954240052\t\t\t(Index: 24623)\n"
     ]
    },
    {
     "name": "stderr",
     "output_type": "stream",
     "text": [
      "Setting feature_perturbation = \"tree_path_dependent\" because no background data was given.\n"
     ]
    },
    {
     "name": "stdout",
     "output_type": "stream",
     "text": [
      "[DRIFT][Small Window]: Upwards Data Drift detected!. (manhattan AVG: 1.2298590798814408)\t(Index: 24927)\n",
      "[DRIFT][Small Window]: Upwards Data Drift detected! (manhattan 25%-Quantile: 1.2298590798814408)\t(Index: 24927)\n",
      "[DRIFT][Small Window]: Upwards Data Drift detected! (manhattan 75%-Quantile: 1.2298590798814408)\t(Index: 24927)\n",
      "[DRIFT][Small Window]: Upwards Data Drift detected!. (euclidean AVG: 1.0444651930119917)\t(Index: 24927)\n",
      "[DRIFT][Small Window]: Upwards Data Drift detected! (euclidean 25%-Quantile: 1.0444651930119917)\t(Index: 24927)\n",
      "[DRIFT][Small Window]: Upwards Data Drift detected! (euclidean 75%-Quantile: 1.0444651930119917)\t(Index: 24927)\n",
      "[DRIFT][Small Window]: Upwards Data Drift detected!. (haversine AVG: 100.73614103259794)\t(Index: 24927)\n",
      "[DRIFT][Small Window]: Upwards Data Drift detected! (haversine 25%-Quantile: 100.73614103259794)\t(Index: 24927)\n",
      "[DRIFT][Small Window]: Upwards Data Drift detected! (haversine 75%-Quantile: 100.73614103259794)\t(Index: 24927)\n",
      "[DRIFT][Small Window]: KL-Divergence detected! (haversine Divergence: 342866.3152291897)\t(Index: 24927)\n",
      "[DRIFT][Small Window]: Wasserstein Distance detected! (haversine Distance: 97.39625111409703)\t(Index: 24927)\n"
     ]
    },
    {
     "name": "stderr",
     "output_type": "stream",
     "text": [
      "[Parallel(n_jobs=-1)]: Using backend ThreadingBackend with 4 concurrent workers.\n",
      "[Parallel(n_jobs=-1)]: Done  20 out of  20 | elapsed:    0.0s finished\n"
     ]
    },
    {
     "name": "stdout",
     "output_type": "stream",
     "text": [
      "[DRIFT][Small Window]: Multi-Dimensional Upwards Mean Drift Detected! Distance: 231.69845443381874\t\t\t(Index: 24927)\n",
      "batch: 99.9108225447664, train: 2.200820905397247, train+threshold: 1.1004104526986236\n",
      "[DRIFT][Small Window]: Multi-Dimensional 3rd Quarter Upwards Drift Detected! Distance: 99.9108225447664\t\t\t(Index: 24927)\n",
      "------------------------ INDEX: 25000 ------------------------\n"
     ]
    },
    {
     "name": "stderr",
     "output_type": "stream",
     "text": [
      "Setting feature_perturbation = \"tree_path_dependent\" because no background data was given.\n"
     ]
    },
    {
     "name": "stdout",
     "output_type": "stream",
     "text": [
      "[DRIFT][Small Window]: Upwards Data Drift detected!. (manhattan AVG: 1.2461131260829088)\t(Index: 25231)\n",
      "[DRIFT][Small Window]: Upwards Data Drift detected! (manhattan 25%-Quantile: 1.2461131260829088)\t(Index: 25231)\n",
      "[DRIFT][Small Window]: Upwards Data Drift detected! (manhattan 75%-Quantile: 1.2461131260829088)\t(Index: 25231)\n",
      "[DRIFT][Small Window]: Wasserstein Distance detected! (manhattan Distance: 1.2019080805881424)\t(Index: 25231)\n",
      "[DRIFT][Small Window]: Upwards Data Drift detected!. (euclidean AVG: 1.0490345620898)\t(Index: 25231)\n",
      "[DRIFT][Small Window]: Upwards Data Drift detected! (euclidean 25%-Quantile: 1.0490345620898)\t(Index: 25231)\n",
      "[DRIFT][Small Window]: Upwards Data Drift detected! (euclidean 75%-Quantile: 1.0490345620898)\t(Index: 25231)\n",
      "[DRIFT][Small Window]: Upwards Data Drift detected!. (haversine AVG: 101.2828451927714)\t(Index: 25231)\n",
      "[DRIFT][Small Window]: Upwards Data Drift detected! (haversine 25%-Quantile: 101.2828451927714)\t(Index: 25231)\n",
      "[DRIFT][Small Window]: Upwards Data Drift detected! (haversine 75%-Quantile: 101.2828451927714)\t(Index: 25231)\n",
      "[DRIFT][Small Window]: KL-Divergence detected! (haversine Divergence: 330022.4266275267)\t(Index: 25231)\n",
      "[DRIFT][Small Window]: Wasserstein Distance detected! (haversine Distance: 97.94295527427049)\t(Index: 25231)\n"
     ]
    },
    {
     "name": "stderr",
     "output_type": "stream",
     "text": [
      "[Parallel(n_jobs=-1)]: Using backend ThreadingBackend with 4 concurrent workers.\n",
      "[Parallel(n_jobs=-1)]: Done  20 out of  20 | elapsed:    0.0s finished\n"
     ]
    },
    {
     "name": "stdout",
     "output_type": "stream",
     "text": [
      "[DRIFT][Small Window]: Multi-Dimensional Upwards Mean Drift Detected! Distance: 231.69845443381874\t\t\t(Index: 25231)\n",
      "batch: 99.94502026421357, train: 2.200820905397247, train+threshold: 1.1004104526986236\n",
      "[DRIFT][Small Window]: Multi-Dimensional 3rd Quarter Upwards Drift Detected! Distance: 99.94502026421357\t\t\t(Index: 25231)\n"
     ]
    },
    {
     "name": "stderr",
     "output_type": "stream",
     "text": [
      "Setting feature_perturbation = \"tree_path_dependent\" because no background data was given.\n"
     ]
    },
    {
     "name": "stdout",
     "output_type": "stream",
     "text": [
      "[DRIFT][Small Window]: Wasserstein Distance detected! (fare_amount Distance: 1.3233891644161322)\t(Index: 25535)\n",
      "[DRIFT][Small Window]: Upwards Data Drift detected!. (manhattan AVG: 1.2299619018161616)\t(Index: 25535)\n",
      "[DRIFT][Small Window]: Upwards Data Drift detected! (manhattan 25%-Quantile: 1.2299619018161616)\t(Index: 25535)\n",
      "[DRIFT][Small Window]: Upwards Data Drift detected! (manhattan 75%-Quantile: 1.2299619018161616)\t(Index: 25535)\n",
      "[DRIFT][Small Window]: Upwards Data Drift detected!. (euclidean AVG: 1.0349691384389301)\t(Index: 25535)\n",
      "[DRIFT][Small Window]: Upwards Data Drift detected! (euclidean 25%-Quantile: 1.0349691384389301)\t(Index: 25535)\n",
      "[DRIFT][Small Window]: Upwards Data Drift detected! (euclidean 75%-Quantile: 1.0349691384389301)\t(Index: 25535)\n",
      "[DRIFT][Small Window]: Upwards Data Drift detected!. (haversine AVG: 98.799860224613)\t(Index: 25535)\n",
      "[DRIFT][Small Window]: Upwards Data Drift detected! (haversine 25%-Quantile: 98.799860224613)\t(Index: 25535)\n",
      "[DRIFT][Small Window]: Upwards Data Drift detected! (haversine 75%-Quantile: 98.799860224613)\t(Index: 25535)\n",
      "[DRIFT][Small Window]: KL-Divergence detected! (haversine Divergence: 328069.11083761876)\t(Index: 25535)\n",
      "[DRIFT][Small Window]: Wasserstein Distance detected! (haversine Distance: 95.45997030611207)\t(Index: 25535)\n"
     ]
    },
    {
     "name": "stderr",
     "output_type": "stream",
     "text": [
      "[Parallel(n_jobs=-1)]: Using backend ThreadingBackend with 4 concurrent workers.\n",
      "[Parallel(n_jobs=-1)]: Done  20 out of  20 | elapsed:    0.0s finished\n"
     ]
    },
    {
     "name": "stdout",
     "output_type": "stream",
     "text": [
      "[DRIFT][Small Window]: Multi-Dimensional Upwards Mean Drift Detected! Distance: 231.69845443381874\t\t\t(Index: 25535)\n",
      "batch: 100.16025712133104, train: 2.200820905397247, train+threshold: 1.1004104526986236\n",
      "[DRIFT][Small Window]: Multi-Dimensional 3rd Quarter Upwards Drift Detected! Distance: 100.16025712133104\t\t\t(Index: 25535)\n"
     ]
    },
    {
     "name": "stderr",
     "output_type": "stream",
     "text": [
      "Setting feature_perturbation = \"tree_path_dependent\" because no background data was given.\n"
     ]
    },
    {
     "name": "stdout",
     "output_type": "stream",
     "text": [
      "[DRIFT][Medium Window]: Upwards Data Drift detected! (fare_amount 25%-Quantile: 11.403291300813324)\t(Index: 25553)\n",
      "[DRIFT][Medium Window]: KL-Divergence detected! (fare_amount Divergence: 39401.642735911344)\t(Index: 25553)\n",
      "[DRIFT][Medium Window]: Wasserstein Distance detected! (fare_amount Distance: 0.8031522475425127)\t(Index: 25553)\n",
      "[DRIFT][Medium Window]: KL-Divergence detected! (fare-bin Divergence: 4459.265959641774)\t(Index: 25553)\n",
      "[DRIFT][Medium Window]: KL-Divergence detected! (pickup_longitude Divergence: 3947.1652779563638)\t(Index: 25553)\n",
      "[DRIFT][Medium Window]: Wasserstein Distance detected! (pickup_longitude Distance: 0.6496621682239547)\t(Index: 25553)\n",
      "[DRIFT][Medium Window]: KL-Divergence detected! (pickup_latitude Divergence: 3110.0300987039336)\t(Index: 25553)\n",
      "[DRIFT][Medium Window]: Wasserstein Distance detected! (pickup_latitude Distance: 0.49782833505253143)\t(Index: 25553)\n",
      "[DRIFT][Medium Window]: KL-Divergence detected! (dropoff_longitude Divergence: 1183.6531770657161)\t(Index: 25553)\n",
      "[DRIFT][Medium Window]: KL-Divergence detected! (dropoff_latitude Divergence: 1005.568110764293)\t(Index: 25553)\n",
      "[DRIFT][Medium Window]: KL-Divergence detected! (passenger_count Divergence: 2333.2746059081983)\t(Index: 25553)\n",
      "[DRIFT][Medium Window]: Upwards Data Drift detected!. (manhattan AVG: 1.2200473288913536)\t(Index: 25553)\n",
      "[DRIFT][Medium Window]: Upwards Data Drift detected! (manhattan 25%-Quantile: 1.2200473288913536)\t(Index: 25553)\n",
      "[DRIFT][Medium Window]: Upwards Data Drift detected! (manhattan 75%-Quantile: 1.2200473288913536)\t(Index: 25553)\n",
      "[DRIFT][Medium Window]: KL-Divergence detected! (manhattan Divergence: 31943.46449336659)\t(Index: 25553)\n",
      "[DRIFT][Medium Window]: Wasserstein Distance detected! (manhattan Distance: 1.1758422833965871)\t(Index: 25553)\n",
      "[DRIFT][Medium Window]: Upwards Data Drift detected!. (euclidean AVG: 1.0218483400059106)\t(Index: 25553)\n",
      "[DRIFT][Medium Window]: Upwards Data Drift detected! (euclidean 25%-Quantile: 1.0218483400059106)\t(Index: 25553)\n",
      "[DRIFT][Medium Window]: Upwards Data Drift detected! (euclidean 75%-Quantile: 1.0218483400059106)\t(Index: 25553)\n",
      "[DRIFT][Medium Window]: KL-Divergence detected! (euclidean Divergence: 27090.858744166857)\t(Index: 25553)\n",
      "[DRIFT][Medium Window]: Wasserstein Distance detected! (euclidean Distance: 0.9876744135935303)\t(Index: 25553)\n",
      "[DRIFT][Medium Window]: Upwards Data Drift detected!. (haversine AVG: 97.94019173483005)\t(Index: 25553)\n",
      "[DRIFT][Medium Window]: Upwards Data Drift detected! (haversine 25%-Quantile: 97.94019173483005)\t(Index: 25553)\n",
      "[DRIFT][Medium Window]: Upwards Data Drift detected! (haversine 75%-Quantile: 97.94019173483005)\t(Index: 25553)\n",
      "[DRIFT][Medium Window]: KL-Divergence detected! (haversine Divergence: 2584180.9731428386)\t(Index: 25553)\n",
      "[DRIFT][Medium Window]: Wasserstein Distance detected! (haversine Distance: 94.60030181632914)\t(Index: 25553)\n",
      "[DRIFT][Medium Window]: Pairwise Correlation Drift detected: dropoff_longitude <> passenger_count!\t(Index: 25553)\n"
     ]
    },
    {
     "name": "stderr",
     "output_type": "stream",
     "text": [
      "[Parallel(n_jobs=-1)]: Using backend ThreadingBackend with 4 concurrent workers.\n",
      "[Parallel(n_jobs=-1)]: Done  20 out of  20 | elapsed:    0.1s finished\n"
     ]
    },
    {
     "name": "stdout",
     "output_type": "stream",
     "text": [
      "[DRIFT][Medium Window]: Multi-Dimensional Upwards Mean Drift Detected! Distance: 231.69845443381874\t\t\t(Index: 25553)\n",
      "batch: 100.16256094767306, train: 2.200820905397247, train+threshold: 1.1004104526986236\n",
      "[DRIFT][Medium Window]: Multi-Dimensional 3rd Quarter Upwards Drift Detected! Distance: 100.16256094767306\t\t\t(Index: 25553)\n"
     ]
    },
    {
     "name": "stderr",
     "output_type": "stream",
     "text": [
      "Setting feature_perturbation = \"tree_path_dependent\" because no background data was given.\n"
     ]
    },
    {
     "name": "stdout",
     "output_type": "stream",
     "text": [
      "[DRIFT][Small Window]: Downwards Data Drift detected! (passenger_count 75%-Quantile: 1.4398682042833608)\t(Index: 25839)\n",
      "[DRIFT][Small Window]: Upwards Data Drift detected!. (manhattan AVG: 1.181150201357476)\t(Index: 25839)\n",
      "[DRIFT][Small Window]: Upwards Data Drift detected! (manhattan 25%-Quantile: 1.181150201357476)\t(Index: 25839)\n",
      "[DRIFT][Small Window]: Upwards Data Drift detected! (manhattan 75%-Quantile: 1.181150201357476)\t(Index: 25839)\n",
      "[DRIFT][Small Window]: Upwards Data Drift detected!. (euclidean AVG: 1.0055150798311847)\t(Index: 25839)\n",
      "[DRIFT][Small Window]: Upwards Data Drift detected! (euclidean 25%-Quantile: 1.0055150798311847)\t(Index: 25839)\n",
      "[DRIFT][Small Window]: Upwards Data Drift detected! (euclidean 75%-Quantile: 1.0055150798311847)\t(Index: 25839)\n",
      "[DRIFT][Small Window]: Upwards Data Drift detected!. (haversine AVG: 96.0185816837533)\t(Index: 25839)\n",
      "[DRIFT][Small Window]: Upwards Data Drift detected! (haversine 25%-Quantile: 96.0185816837533)\t(Index: 25839)\n",
      "[DRIFT][Small Window]: Upwards Data Drift detected! (haversine 75%-Quantile: 96.0185816837533)\t(Index: 25839)\n",
      "[DRIFT][Small Window]: KL-Divergence detected! (haversine Divergence: 313326.3268161991)\t(Index: 25839)\n",
      "[DRIFT][Small Window]: Wasserstein Distance detected! (haversine Distance: 92.67869176525238)\t(Index: 25839)\n"
     ]
    },
    {
     "name": "stderr",
     "output_type": "stream",
     "text": [
      "[Parallel(n_jobs=-1)]: Using backend ThreadingBackend with 4 concurrent workers.\n",
      "[Parallel(n_jobs=-1)]: Done  20 out of  20 | elapsed:    0.0s finished\n"
     ]
    },
    {
     "name": "stdout",
     "output_type": "stream",
     "text": [
      "[DRIFT][Small Window]: Multi-Dimensional Upwards Mean Drift Detected! Distance: 231.69845443381874\t\t\t(Index: 25839)\n",
      "batch: 100.2694659837067, train: 2.200820905397247, train+threshold: 1.1004104526986236\n",
      "[DRIFT][Small Window]: Multi-Dimensional 3rd Quarter Upwards Drift Detected! Distance: 100.2694659837067\t\t\t(Index: 25839)\n",
      "------------------------ INDEX: 26000 ------------------------\n"
     ]
    },
    {
     "name": "stderr",
     "output_type": "stream",
     "text": [
      "Setting feature_perturbation = \"tree_path_dependent\" because no background data was given.\n"
     ]
    },
    {
     "name": "stdout",
     "output_type": "stream",
     "text": [
      "[DRIFT][Small Window]: Downwards Data Drift detected! (passenger_count 75%-Quantile: 1.472817133443163)\t(Index: 26143)\n",
      "[DRIFT][Small Window]: Upwards Data Drift detected!. (manhattan AVG: 1.0964751099905532)\t(Index: 26143)\n",
      "[DRIFT][Small Window]: Upwards Data Drift detected! (manhattan 25%-Quantile: 1.0964751099905532)\t(Index: 26143)\n",
      "[DRIFT][Small Window]: Upwards Data Drift detected! (manhattan 75%-Quantile: 1.0964751099905532)\t(Index: 26143)\n",
      "[DRIFT][Small Window]: Upwards Data Drift detected!. (euclidean AVG: 0.9299498400113614)\t(Index: 26143)\n",
      "[DRIFT][Small Window]: Upwards Data Drift detected! (euclidean 25%-Quantile: 0.9299498400113614)\t(Index: 26143)\n",
      "[DRIFT][Small Window]: Upwards Data Drift detected! (euclidean 75%-Quantile: 0.9299498400113614)\t(Index: 26143)\n",
      "[DRIFT][Small Window]: Upwards Data Drift detected!. (haversine AVG: 89.0717976575627)\t(Index: 26143)\n",
      "[DRIFT][Small Window]: Upwards Data Drift detected! (haversine 25%-Quantile: 89.0717976575627)\t(Index: 26143)\n",
      "[DRIFT][Small Window]: Upwards Data Drift detected! (haversine 75%-Quantile: 89.0717976575627)\t(Index: 26143)\n",
      "[DRIFT][Small Window]: KL-Divergence detected! (haversine Divergence: 288053.25502583775)\t(Index: 26143)\n",
      "[DRIFT][Small Window]: Wasserstein Distance detected! (haversine Distance: 85.73190773906181)\t(Index: 26143)\n"
     ]
    },
    {
     "name": "stderr",
     "output_type": "stream",
     "text": [
      "[Parallel(n_jobs=-1)]: Using backend ThreadingBackend with 4 concurrent workers.\n",
      "[Parallel(n_jobs=-1)]: Done  20 out of  20 | elapsed:    0.0s finished\n"
     ]
    },
    {
     "name": "stdout",
     "output_type": "stream",
     "text": [
      "[DRIFT][Small Window]: Multi-Dimensional Upwards Mean Drift Detected! Distance: 231.69845443381874\t\t\t(Index: 26143)\n",
      "batch: 100.25250828922032, train: 2.200820905397247, train+threshold: 1.1004104526986236\n",
      "[DRIFT][Small Window]: Multi-Dimensional 3rd Quarter Upwards Drift Detected! Distance: 100.25250828922032\t\t\t(Index: 26143)\n"
     ]
    },
    {
     "name": "stderr",
     "output_type": "stream",
     "text": [
      "Setting feature_perturbation = \"tree_path_dependent\" because no background data was given.\n"
     ]
    },
    {
     "name": "stdout",
     "output_type": "stream",
     "text": [
      "[DRIFT][Small Window]: Downwards Data Drift detected! (passenger_count 75%-Quantile: 1.4876441515650742)\t(Index: 26447)\n",
      "[DRIFT][Small Window]: Upwards Data Drift detected!. (manhattan AVG: 1.1104908287478845)\t(Index: 26447)\n",
      "[DRIFT][Small Window]: Upwards Data Drift detected! (manhattan 25%-Quantile: 1.1104908287478845)\t(Index: 26447)\n",
      "[DRIFT][Small Window]: Upwards Data Drift detected! (manhattan 75%-Quantile: 1.1104908287478845)\t(Index: 26447)\n",
      "[DRIFT][Small Window]: Upwards Data Drift detected!. (euclidean AVG: 0.9313598563199801)\t(Index: 26447)\n",
      "[DRIFT][Small Window]: Upwards Data Drift detected! (euclidean 25%-Quantile: 0.9313598563199801)\t(Index: 26447)\n",
      "[DRIFT][Small Window]: Upwards Data Drift detected! (euclidean 75%-Quantile: 0.9313598563199801)\t(Index: 26447)\n",
      "[DRIFT][Small Window]: Upwards Data Drift detected!. (haversine AVG: 89.95825830967456)\t(Index: 26447)\n",
      "[DRIFT][Small Window]: Upwards Data Drift detected! (haversine 25%-Quantile: 89.95825830967456)\t(Index: 26447)\n",
      "[DRIFT][Small Window]: Upwards Data Drift detected! (haversine 75%-Quantile: 89.95825830967456)\t(Index: 26447)\n",
      "[DRIFT][Small Window]: KL-Divergence detected! (haversine Divergence: 298212.3082165278)\t(Index: 26447)\n",
      "[DRIFT][Small Window]: Wasserstein Distance detected! (haversine Distance: 86.61836839117365)\t(Index: 26447)\n"
     ]
    },
    {
     "name": "stderr",
     "output_type": "stream",
     "text": [
      "[Parallel(n_jobs=-1)]: Using backend ThreadingBackend with 4 concurrent workers.\n",
      "[Parallel(n_jobs=-1)]: Done  20 out of  20 | elapsed:    0.0s finished\n"
     ]
    },
    {
     "name": "stdout",
     "output_type": "stream",
     "text": [
      "[DRIFT][Small Window]: Multi-Dimensional Upwards Mean Drift Detected! Distance: 231.69845443381874\t\t\t(Index: 26447)\n",
      "batch: 100.38953371316565, train: 2.200820905397247, train+threshold: 1.1004104526986236\n",
      "[DRIFT][Small Window]: Multi-Dimensional 3rd Quarter Upwards Drift Detected! Distance: 100.38953371316565\t\t\t(Index: 26447)\n"
     ]
    },
    {
     "name": "stderr",
     "output_type": "stream",
     "text": [
      "Setting feature_perturbation = \"tree_path_dependent\" because no background data was given.\n"
     ]
    },
    {
     "name": "stdout",
     "output_type": "stream",
     "text": [
      "[DRIFT][Small Window]: Downwards Data Drift detected! (passenger_count 75%-Quantile: 1.485996705107084)\t(Index: 26751)\n",
      "[DRIFT][Small Window]: Upwards Data Drift detected!. (manhattan AVG: 1.132590155441876)\t(Index: 26751)\n",
      "[DRIFT][Small Window]: Upwards Data Drift detected! (manhattan 25%-Quantile: 1.132590155441876)\t(Index: 26751)\n",
      "[DRIFT][Small Window]: Upwards Data Drift detected! (manhattan 75%-Quantile: 1.132590155441876)\t(Index: 26751)\n",
      "[DRIFT][Small Window]: Upwards Data Drift detected!. (euclidean AVG: 0.9425004613902473)\t(Index: 26751)\n",
      "[DRIFT][Small Window]: Upwards Data Drift detected! (euclidean 25%-Quantile: 0.9425004613902473)\t(Index: 26751)\n",
      "[DRIFT][Small Window]: Upwards Data Drift detected! (euclidean 75%-Quantile: 0.9425004613902473)\t(Index: 26751)\n",
      "[DRIFT][Small Window]: Upwards Data Drift detected!. (haversine AVG: 91.33062016584904)\t(Index: 26751)\n",
      "[DRIFT][Small Window]: Upwards Data Drift detected! (haversine 25%-Quantile: 91.33062016584904)\t(Index: 26751)\n",
      "[DRIFT][Small Window]: Upwards Data Drift detected! (haversine 75%-Quantile: 91.33062016584904)\t(Index: 26751)\n",
      "[DRIFT][Small Window]: KL-Divergence detected! (haversine Divergence: 300322.8677434225)\t(Index: 26751)\n",
      "[DRIFT][Small Window]: Wasserstein Distance detected! (haversine Distance: 87.99073024734814)\t(Index: 26751)\n"
     ]
    },
    {
     "name": "stderr",
     "output_type": "stream",
     "text": [
      "[Parallel(n_jobs=-1)]: Using backend ThreadingBackend with 4 concurrent workers.\n",
      "[Parallel(n_jobs=-1)]: Done  20 out of  20 | elapsed:    0.0s finished\n"
     ]
    },
    {
     "name": "stdout",
     "output_type": "stream",
     "text": [
      "[DRIFT][Small Window]: Multi-Dimensional Upwards Mean Drift Detected! Distance: 231.69845443381874\t\t\t(Index: 26751)\n",
      "batch: 100.39232060971065, train: 2.200820905397247, train+threshold: 1.1004104526986236\n",
      "[DRIFT][Small Window]: Multi-Dimensional 3rd Quarter Upwards Drift Detected! Distance: 100.39232060971065\t\t\t(Index: 26751)\n",
      "------------------------ INDEX: 27000 ------------------------\n"
     ]
    },
    {
     "name": "stderr",
     "output_type": "stream",
     "text": [
      "Setting feature_perturbation = \"tree_path_dependent\" because no background data was given.\n"
     ]
    },
    {
     "name": "stdout",
     "output_type": "stream",
     "text": [
      "[DRIFT][Small Window]: Wasserstein Distance detected! (fare_amount Distance: 1.3166335330023757)\t(Index: 27055)\n",
      "[DRIFT][Small Window]: Downwards Data Drift detected! (passenger_count 75%-Quantile: 1.4975288303130148)\t(Index: 27055)\n",
      "[DRIFT][Small Window]: Upwards Data Drift detected!. (manhattan AVG: 1.2063653276970276)\t(Index: 27055)\n",
      "[DRIFT][Small Window]: Upwards Data Drift detected! (manhattan 25%-Quantile: 1.2063653276970276)\t(Index: 27055)\n",
      "[DRIFT][Small Window]: Upwards Data Drift detected! (manhattan 75%-Quantile: 1.2063653276970276)\t(Index: 27055)\n",
      "[DRIFT][Small Window]: Upwards Data Drift detected!. (euclidean AVG: 1.0018119757458832)\t(Index: 27055)\n",
      "[DRIFT][Small Window]: Upwards Data Drift detected! (euclidean 25%-Quantile: 1.0018119757458832)\t(Index: 27055)\n",
      "[DRIFT][Small Window]: Upwards Data Drift detected! (euclidean 75%-Quantile: 1.0018119757458832)\t(Index: 27055)\n",
      "[DRIFT][Small Window]: Upwards Data Drift detected!. (haversine AVG: 96.64627147482442)\t(Index: 27055)\n",
      "[DRIFT][Small Window]: Upwards Data Drift detected! (haversine 25%-Quantile: 96.64627147482442)\t(Index: 27055)\n",
      "[DRIFT][Small Window]: Upwards Data Drift detected! (haversine 75%-Quantile: 96.64627147482442)\t(Index: 27055)\n",
      "[DRIFT][Small Window]: KL-Divergence detected! (haversine Divergence: 318612.6852052356)\t(Index: 27055)\n",
      "[DRIFT][Small Window]: Wasserstein Distance detected! (haversine Distance: 93.3063815563235)\t(Index: 27055)\n"
     ]
    },
    {
     "name": "stderr",
     "output_type": "stream",
     "text": [
      "[Parallel(n_jobs=-1)]: Using backend ThreadingBackend with 4 concurrent workers.\n",
      "[Parallel(n_jobs=-1)]: Done  20 out of  20 | elapsed:    0.0s finished\n"
     ]
    },
    {
     "name": "stdout",
     "output_type": "stream",
     "text": [
      "[DRIFT][Small Window]: Multi-Dimensional Upwards Mean Drift Detected! Distance: 231.69845443381874\t\t\t(Index: 27055)\n",
      "batch: 100.57223164863478, train: 2.200820905397247, train+threshold: 1.1004104526986236\n",
      "[DRIFT][Small Window]: Multi-Dimensional 3rd Quarter Upwards Drift Detected! Distance: 100.57223164863478\t\t\t(Index: 27055)\n"
     ]
    },
    {
     "name": "stderr",
     "output_type": "stream",
     "text": [
      "Setting feature_perturbation = \"tree_path_dependent\" because no background data was given.\n"
     ]
    },
    {
     "name": "stdout",
     "output_type": "stream",
     "text": [
      "[DRIFT][Small Window]: Wasserstein Distance detected! (fare_amount Distance: 1.432380279523141)\t(Index: 27359)\n",
      "[DRIFT][Small Window]: Downwards Data Drift detected! (passenger_count 75%-Quantile: 1.5304777594728172)\t(Index: 27359)\n",
      "[DRIFT][Small Window]: Upwards Data Drift detected!. (manhattan AVG: 1.185756214250546)\t(Index: 27359)\n",
      "[DRIFT][Small Window]: Upwards Data Drift detected! (manhattan 25%-Quantile: 1.185756214250546)\t(Index: 27359)\n",
      "[DRIFT][Small Window]: Upwards Data Drift detected! (manhattan 75%-Quantile: 1.185756214250546)\t(Index: 27359)\n",
      "[DRIFT][Small Window]: Upwards Data Drift detected!. (euclidean AVG: 0.9962233212396606)\t(Index: 27359)\n",
      "[DRIFT][Small Window]: Upwards Data Drift detected! (euclidean 25%-Quantile: 0.9962233212396606)\t(Index: 27359)\n",
      "[DRIFT][Small Window]: Upwards Data Drift detected! (euclidean 75%-Quantile: 0.9962233212396606)\t(Index: 27359)\n",
      "[DRIFT][Small Window]: Upwards Data Drift detected!. (haversine AVG: 95.89681100367349)\t(Index: 27359)\n",
      "[DRIFT][Small Window]: Upwards Data Drift detected! (haversine 25%-Quantile: 95.89681100367349)\t(Index: 27359)\n",
      "[DRIFT][Small Window]: Upwards Data Drift detected! (haversine 75%-Quantile: 95.89681100367349)\t(Index: 27359)\n",
      "[DRIFT][Small Window]: KL-Divergence detected! (haversine Divergence: 302679.61955258955)\t(Index: 27359)\n",
      "[DRIFT][Small Window]: Wasserstein Distance detected! (haversine Distance: 92.55692108517258)\t(Index: 27359)\n"
     ]
    },
    {
     "name": "stderr",
     "output_type": "stream",
     "text": [
      "[Parallel(n_jobs=-1)]: Using backend ThreadingBackend with 4 concurrent workers.\n",
      "[Parallel(n_jobs=-1)]: Done  20 out of  20 | elapsed:    0.0s finished\n"
     ]
    },
    {
     "name": "stdout",
     "output_type": "stream",
     "text": [
      "[DRIFT][Small Window]: Multi-Dimensional Upwards Mean Drift Detected! Distance: 231.69845443381874\t\t\t(Index: 27359)\n",
      "batch: 100.61310627001578, train: 2.200820905397247, train+threshold: 1.1004104526986236\n",
      "[DRIFT][Small Window]: Multi-Dimensional 3rd Quarter Upwards Drift Detected! Distance: 100.61310627001578\t\t\t(Index: 27359)\n"
     ]
    },
    {
     "name": "stderr",
     "output_type": "stream",
     "text": [
      "Setting feature_perturbation = \"tree_path_dependent\" because no background data was given.\n"
     ]
    },
    {
     "name": "stdout",
     "output_type": "stream",
     "text": [
      "[DRIFT][Small Window]: Wasserstein Distance detected! (fare_amount Distance: 1.2784236198420533)\t(Index: 27663)\n",
      "[DRIFT][Small Window]: Upwards Data Drift detected!. (manhattan AVG: 1.2407211949533592)\t(Index: 27663)\n",
      "[DRIFT][Small Window]: Upwards Data Drift detected! (manhattan 25%-Quantile: 1.2407211949533592)\t(Index: 27663)\n",
      "[DRIFT][Small Window]: Upwards Data Drift detected! (manhattan 75%-Quantile: 1.2407211949533592)\t(Index: 27663)\n",
      "[DRIFT][Small Window]: Upwards Data Drift detected!. (euclidean AVG: 1.0462709116033695)\t(Index: 27663)\n",
      "[DRIFT][Small Window]: Upwards Data Drift detected! (euclidean 25%-Quantile: 1.0462709116033695)\t(Index: 27663)\n",
      "[DRIFT][Small Window]: Upwards Data Drift detected! (euclidean 75%-Quantile: 1.0462709116033695)\t(Index: 27663)\n",
      "[DRIFT][Small Window]: Upwards Data Drift detected!. (haversine AVG: 100.39669301059)\t(Index: 27663)\n",
      "[DRIFT][Small Window]: Upwards Data Drift detected! (haversine 25%-Quantile: 100.39669301059)\t(Index: 27663)\n",
      "[DRIFT][Small Window]: Upwards Data Drift detected! (haversine 75%-Quantile: 100.39669301059)\t(Index: 27663)\n",
      "[DRIFT][Small Window]: KL-Divergence detected! (haversine Divergence: 336925.21158141084)\t(Index: 27663)\n",
      "[DRIFT][Small Window]: Wasserstein Distance detected! (haversine Distance: 97.0568030920891)\t(Index: 27663)\n"
     ]
    },
    {
     "name": "stderr",
     "output_type": "stream",
     "text": [
      "[Parallel(n_jobs=-1)]: Using backend ThreadingBackend with 4 concurrent workers.\n",
      "[Parallel(n_jobs=-1)]: Done  20 out of  20 | elapsed:    0.0s finished\n"
     ]
    },
    {
     "name": "stdout",
     "output_type": "stream",
     "text": [
      "[DRIFT][Small Window]: Multi-Dimensional Upwards Mean Drift Detected! Distance: 231.69845443381874\t\t\t(Index: 27663)\n",
      "batch: 100.83125463268584, train: 2.200820905397247, train+threshold: 1.1004104526986236\n",
      "[DRIFT][Small Window]: Multi-Dimensional 3rd Quarter Upwards Drift Detected! Distance: 100.83125463268584\t\t\t(Index: 27663)\n"
     ]
    },
    {
     "name": "stderr",
     "output_type": "stream",
     "text": [
      "Setting feature_perturbation = \"tree_path_dependent\" because no background data was given.\n"
     ]
    },
    {
     "name": "stdout",
     "output_type": "stream",
     "text": [
      "[DRIFT][Small Window]: Upwards Data Drift detected!. (manhattan AVG: 1.2667784275635319)\t(Index: 27967)\n",
      "[DRIFT][Small Window]: Upwards Data Drift detected! (manhattan 25%-Quantile: 1.2667784275635319)\t(Index: 27967)\n",
      "[DRIFT][Small Window]: Upwards Data Drift detected! (manhattan 75%-Quantile: 1.2667784275635319)\t(Index: 27967)\n",
      "[DRIFT][Small Window]: Wasserstein Distance detected! (manhattan Distance: 1.2225733820687654)\t(Index: 27967)\n",
      "[DRIFT][Small Window]: Upwards Data Drift detected!. (euclidean AVG: 1.0588037229689002)\t(Index: 27967)\n",
      "[DRIFT][Small Window]: Upwards Data Drift detected! (euclidean 25%-Quantile: 1.0588037229689002)\t(Index: 27967)\n",
      "[DRIFT][Small Window]: Upwards Data Drift detected! (euclidean 75%-Quantile: 1.0588037229689002)\t(Index: 27967)\n",
      "[DRIFT][Small Window]: Upwards Data Drift detected!. (haversine AVG: 101.82443384082598)\t(Index: 27967)\n",
      "[DRIFT][Small Window]: Upwards Data Drift detected! (haversine 25%-Quantile: 101.82443384082598)\t(Index: 27967)\n",
      "[DRIFT][Small Window]: Upwards Data Drift detected! (haversine 75%-Quantile: 101.82443384082598)\t(Index: 27967)\n",
      "[DRIFT][Small Window]: KL-Divergence detected! (haversine Divergence: 329964.4406833121)\t(Index: 27967)\n",
      "[DRIFT][Small Window]: Wasserstein Distance detected! (haversine Distance: 98.48454392232507)\t(Index: 27967)\n",
      "[DRIFT][Small Window]: Pairwise Correlation Drift detected: pickup_longitude <> passenger_count!\t(Index: 27967)\n"
     ]
    },
    {
     "name": "stderr",
     "output_type": "stream",
     "text": [
      "[Parallel(n_jobs=-1)]: Using backend ThreadingBackend with 4 concurrent workers.\n",
      "[Parallel(n_jobs=-1)]: Done  20 out of  20 | elapsed:    0.0s finished\n"
     ]
    },
    {
     "name": "stdout",
     "output_type": "stream",
     "text": [
      "[DRIFT][Small Window]: Multi-Dimensional Upwards Mean Drift Detected! Distance: 231.69845443381874\t\t\t(Index: 27967)\n",
      "batch: 100.84234918151479, train: 2.200820905397247, train+threshold: 1.1004104526986236\n",
      "[DRIFT][Small Window]: Multi-Dimensional 3rd Quarter Upwards Drift Detected! Distance: 100.84234918151479\t\t\t(Index: 27967)\n",
      "------------------------ INDEX: 28000 ------------------------\n"
     ]
    },
    {
     "name": "stderr",
     "output_type": "stream",
     "text": [
      "Setting feature_perturbation = \"tree_path_dependent\" because no background data was given.\n"
     ]
    },
    {
     "name": "stdout",
     "output_type": "stream",
     "text": [
      "[DRIFT][Small Window]: Upwards Data Drift detected!. (manhattan AVG: 1.184676647422603)\t(Index: 28271)\n",
      "[DRIFT][Small Window]: Upwards Data Drift detected! (manhattan 25%-Quantile: 1.184676647422603)\t(Index: 28271)\n",
      "[DRIFT][Small Window]: Upwards Data Drift detected! (manhattan 75%-Quantile: 1.184676647422603)\t(Index: 28271)\n",
      "[DRIFT][Small Window]: Upwards Data Drift detected!. (euclidean AVG: 0.9885280878243549)\t(Index: 28271)\n",
      "[DRIFT][Small Window]: Upwards Data Drift detected! (euclidean 25%-Quantile: 0.9885280878243549)\t(Index: 28271)\n",
      "[DRIFT][Small Window]: Upwards Data Drift detected! (euclidean 75%-Quantile: 0.9885280878243549)\t(Index: 28271)\n",
      "[DRIFT][Small Window]: Upwards Data Drift detected!. (haversine AVG: 96.64391916800643)\t(Index: 28271)\n",
      "[DRIFT][Small Window]: Upwards Data Drift detected! (haversine 25%-Quantile: 96.64391916800643)\t(Index: 28271)\n",
      "[DRIFT][Small Window]: Upwards Data Drift detected! (haversine 75%-Quantile: 96.64391916800643)\t(Index: 28271)\n",
      "[DRIFT][Small Window]: KL-Divergence detected! (haversine Divergence: 317462.6549635046)\t(Index: 28271)\n",
      "[DRIFT][Small Window]: Wasserstein Distance detected! (haversine Distance: 93.30402924950555)\t(Index: 28271)\n"
     ]
    },
    {
     "name": "stderr",
     "output_type": "stream",
     "text": [
      "[Parallel(n_jobs=-1)]: Using backend ThreadingBackend with 4 concurrent workers.\n",
      "[Parallel(n_jobs=-1)]: Done  20 out of  20 | elapsed:    0.0s finished\n"
     ]
    },
    {
     "name": "stdout",
     "output_type": "stream",
     "text": [
      "[DRIFT][Small Window]: Multi-Dimensional Upwards Mean Drift Detected! Distance: 231.69845443381874\t\t\t(Index: 28271)\n",
      "batch: 101.07481997556334, train: 2.200820905397247, train+threshold: 1.1004104526986236\n",
      "[DRIFT][Small Window]: Multi-Dimensional 3rd Quarter Upwards Drift Detected! Distance: 101.07481997556334\t\t\t(Index: 28271)\n"
     ]
    },
    {
     "name": "stderr",
     "output_type": "stream",
     "text": [
      "Setting feature_perturbation = \"tree_path_dependent\" because no background data was given.\n"
     ]
    },
    {
     "name": "stdout",
     "output_type": "stream",
     "text": [
      "[DRIFT][Small Window]: Upwards Data Drift detected!. (manhattan AVG: 1.2360786737531424)\t(Index: 28575)\n",
      "[DRIFT][Small Window]: Upwards Data Drift detected! (manhattan 25%-Quantile: 1.2360786737531424)\t(Index: 28575)\n",
      "[DRIFT][Small Window]: Upwards Data Drift detected! (manhattan 75%-Quantile: 1.2360786737531424)\t(Index: 28575)\n",
      "[DRIFT][Small Window]: Upwards Data Drift detected!. (euclidean AVG: 1.031532136994264)\t(Index: 28575)\n",
      "[DRIFT][Small Window]: Upwards Data Drift detected! (euclidean 25%-Quantile: 1.031532136994264)\t(Index: 28575)\n",
      "[DRIFT][Small Window]: Upwards Data Drift detected! (euclidean 75%-Quantile: 1.031532136994264)\t(Index: 28575)\n",
      "[DRIFT][Small Window]: Upwards Data Drift detected!. (haversine AVG: 100.87377948521844)\t(Index: 28575)\n",
      "[DRIFT][Small Window]: Upwards Data Drift detected! (haversine 25%-Quantile: 100.87377948521844)\t(Index: 28575)\n",
      "[DRIFT][Small Window]: Upwards Data Drift detected! (haversine 75%-Quantile: 100.87377948521844)\t(Index: 28575)\n",
      "[DRIFT][Small Window]: KL-Divergence detected! (haversine Divergence: 327817.1602664059)\t(Index: 28575)\n",
      "[DRIFT][Small Window]: Wasserstein Distance detected! (haversine Distance: 97.53388956671753)\t(Index: 28575)\n"
     ]
    },
    {
     "name": "stderr",
     "output_type": "stream",
     "text": [
      "[Parallel(n_jobs=-1)]: Using backend ThreadingBackend with 4 concurrent workers.\n",
      "[Parallel(n_jobs=-1)]: Done  20 out of  20 | elapsed:    0.0s finished\n"
     ]
    },
    {
     "name": "stdout",
     "output_type": "stream",
     "text": [
      "[DRIFT][Small Window]: Multi-Dimensional Upwards Mean Drift Detected! Distance: 231.69845443381874\t\t\t(Index: 28575)\n",
      "batch: 101.18063821051645, train: 2.200820905397247, train+threshold: 1.1004104526986236\n",
      "[DRIFT][Small Window]: Multi-Dimensional 3rd Quarter Upwards Drift Detected! Distance: 101.18063821051645\t\t\t(Index: 28575)\n"
     ]
    },
    {
     "name": "stderr",
     "output_type": "stream",
     "text": [
      "Setting feature_perturbation = \"tree_path_dependent\" because no background data was given.\n"
     ]
    },
    {
     "name": "stdout",
     "output_type": "stream",
     "text": [
      "[DRIFT][Small Window]: Downwards Data Drift detected! (passenger_count 75%-Quantile: 1.5041186161449753)\t(Index: 28879)\n",
      "[DRIFT][Small Window]: Upwards Data Drift detected!. (manhattan AVG: 1.056217838055995)\t(Index: 28879)\n",
      "[DRIFT][Small Window]: Upwards Data Drift detected! (manhattan 25%-Quantile: 1.056217838055995)\t(Index: 28879)\n",
      "[DRIFT][Small Window]: Upwards Data Drift detected! (manhattan 75%-Quantile: 1.056217838055995)\t(Index: 28879)\n",
      "[DRIFT][Small Window]: Upwards Data Drift detected!. (euclidean AVG: 0.882810148408082)\t(Index: 28879)\n",
      "[DRIFT][Small Window]: Upwards Data Drift detected! (euclidean 25%-Quantile: 0.882810148408082)\t(Index: 28879)\n",
      "[DRIFT][Small Window]: Upwards Data Drift detected! (euclidean 75%-Quantile: 0.882810148408082)\t(Index: 28879)\n",
      "[DRIFT][Small Window]: Upwards Data Drift detected!. (haversine AVG: 85.75487982587919)\t(Index: 28879)\n",
      "[DRIFT][Small Window]: Upwards Data Drift detected! (haversine 25%-Quantile: 85.75487982587919)\t(Index: 28879)\n",
      "[DRIFT][Small Window]: Upwards Data Drift detected! (haversine 75%-Quantile: 85.75487982587919)\t(Index: 28879)\n",
      "[DRIFT][Small Window]: KL-Divergence detected! (haversine Divergence: 267008.0663094512)\t(Index: 28879)\n",
      "[DRIFT][Small Window]: Wasserstein Distance detected! (haversine Distance: 82.41498990737827)\t(Index: 28879)\n"
     ]
    },
    {
     "name": "stderr",
     "output_type": "stream",
     "text": [
      "[Parallel(n_jobs=-1)]: Using backend ThreadingBackend with 4 concurrent workers.\n",
      "[Parallel(n_jobs=-1)]: Done  20 out of  20 | elapsed:    0.0s finished\n"
     ]
    },
    {
     "name": "stdout",
     "output_type": "stream",
     "text": [
      "[DRIFT][Small Window]: Multi-Dimensional Upwards Mean Drift Detected! Distance: 231.69845443381874\t\t\t(Index: 28879)\n",
      "batch: 101.07481997556334, train: 2.200820905397247, train+threshold: 1.1004104526986236\n",
      "[DRIFT][Small Window]: Multi-Dimensional 3rd Quarter Upwards Drift Detected! Distance: 101.07481997556334\t\t\t(Index: 28879)\n",
      "------------------------ INDEX: 29000 ------------------------\n"
     ]
    },
    {
     "name": "stderr",
     "output_type": "stream",
     "text": [
      "Setting feature_perturbation = \"tree_path_dependent\" because no background data was given.\n"
     ]
    },
    {
     "name": "stdout",
     "output_type": "stream",
     "text": [
      "[DRIFT][Small Window]: Downwards Data Drift detected! (passenger_count 75%-Quantile: 1.4843492586490938)\t(Index: 29183)\n",
      "[DRIFT][Small Window]: Upwards Data Drift detected!. (manhattan AVG: 0.9842510780895514)\t(Index: 29183)\n",
      "[DRIFT][Small Window]: Upwards Data Drift detected! (manhattan 25%-Quantile: 0.9842510780895514)\t(Index: 29183)\n",
      "[DRIFT][Small Window]: Upwards Data Drift detected! (manhattan 75%-Quantile: 0.9842510780895514)\t(Index: 29183)\n",
      "[DRIFT][Small Window]: Upwards Data Drift detected!. (euclidean AVG: 0.8236451838284187)\t(Index: 29183)\n",
      "[DRIFT][Small Window]: Upwards Data Drift detected! (euclidean 25%-Quantile: 0.8236451838284187)\t(Index: 29183)\n",
      "[DRIFT][Small Window]: Upwards Data Drift detected! (euclidean 75%-Quantile: 0.8236451838284187)\t(Index: 29183)\n",
      "[DRIFT][Small Window]: Upwards Data Drift detected!. (haversine AVG: 79.88336072445225)\t(Index: 29183)\n",
      "[DRIFT][Small Window]: Upwards Data Drift detected! (haversine 25%-Quantile: 79.88336072445225)\t(Index: 29183)\n",
      "[DRIFT][Small Window]: Upwards Data Drift detected! (haversine 75%-Quantile: 79.88336072445225)\t(Index: 29183)\n",
      "[DRIFT][Small Window]: KL-Divergence detected! (haversine Divergence: 254140.6285492191)\t(Index: 29183)\n",
      "[DRIFT][Small Window]: Wasserstein Distance detected! (haversine Distance: 76.54347080595133)\t(Index: 29183)\n",
      "[DRIFT][Small Window]: Pairwise Correlation Drift detected: dropoff_longitude <> passenger_count!\t(Index: 29183)\n"
     ]
    },
    {
     "name": "stderr",
     "output_type": "stream",
     "text": [
      "[Parallel(n_jobs=-1)]: Using backend ThreadingBackend with 4 concurrent workers.\n",
      "[Parallel(n_jobs=-1)]: Done  20 out of  20 | elapsed:    0.0s finished\n"
     ]
    },
    {
     "name": "stdout",
     "output_type": "stream",
     "text": [
      "[DRIFT][Small Window]: Multi-Dimensional Upwards Mean Drift Detected! Distance: 231.69845443381874\t\t\t(Index: 29183)\n",
      "batch: 101.08357273547553, train: 2.200820905397247, train+threshold: 1.1004104526986236\n",
      "[DRIFT][Small Window]: Multi-Dimensional 3rd Quarter Upwards Drift Detected! Distance: 101.08357273547553\t\t\t(Index: 29183)\n"
     ]
    },
    {
     "name": "stderr",
     "output_type": "stream",
     "text": [
      "Setting feature_perturbation = \"tree_path_dependent\" because no background data was given.\n"
     ]
    },
    {
     "name": "stdout",
     "output_type": "stream",
     "text": [
      "[DRIFT][Small Window]: Wasserstein Distance detected! (fare_amount Distance: 1.6280625769030848)\t(Index: 29487)\n",
      "[DRIFT][Small Window]: Downwards Data Drift detected! (passenger_count 75%-Quantile: 1.4925864909390445)\t(Index: 29487)\n",
      "[DRIFT][Small Window]: Upwards Data Drift detected!. (manhattan AVG: 1.021025300922638)\t(Index: 29487)\n",
      "[DRIFT][Small Window]: Upwards Data Drift detected! (manhattan 25%-Quantile: 1.021025300922638)\t(Index: 29487)\n",
      "[DRIFT][Small Window]: Upwards Data Drift detected! (manhattan 75%-Quantile: 1.021025300922638)\t(Index: 29487)\n",
      "[DRIFT][Small Window]: Upwards Data Drift detected!. (euclidean AVG: 0.8558476840038975)\t(Index: 29487)\n",
      "[DRIFT][Small Window]: Upwards Data Drift detected! (euclidean 25%-Quantile: 0.8558476840038975)\t(Index: 29487)\n",
      "[DRIFT][Small Window]: Upwards Data Drift detected! (euclidean 75%-Quantile: 0.8558476840038975)\t(Index: 29487)\n",
      "[DRIFT][Small Window]: Upwards Data Drift detected!. (haversine AVG: 81.55079498573117)\t(Index: 29487)\n",
      "[DRIFT][Small Window]: Upwards Data Drift detected! (haversine 25%-Quantile: 81.55079498573117)\t(Index: 29487)\n",
      "[DRIFT][Small Window]: Upwards Data Drift detected! (haversine 75%-Quantile: 81.55079498573117)\t(Index: 29487)\n",
      "[DRIFT][Small Window]: KL-Divergence detected! (haversine Divergence: 263475.0833715803)\t(Index: 29487)\n",
      "[DRIFT][Small Window]: Wasserstein Distance detected! (haversine Distance: 78.21090506723024)\t(Index: 29487)\n"
     ]
    },
    {
     "name": "stderr",
     "output_type": "stream",
     "text": [
      "[Parallel(n_jobs=-1)]: Using backend ThreadingBackend with 4 concurrent workers.\n",
      "[Parallel(n_jobs=-1)]: Done  20 out of  20 | elapsed:    0.0s finished\n"
     ]
    },
    {
     "name": "stdout",
     "output_type": "stream",
     "text": [
      "[DRIFT][Small Window]: Multi-Dimensional Upwards Mean Drift Detected! Distance: 231.69845443381874\t\t\t(Index: 29487)\n",
      "batch: 100.95954171526428, train: 2.200820905397247, train+threshold: 1.1004104526986236\n",
      "[DRIFT][Small Window]: Multi-Dimensional 3rd Quarter Upwards Drift Detected! Distance: 100.95954171526428\t\t\t(Index: 29487)\n"
     ]
    },
    {
     "name": "stderr",
     "output_type": "stream",
     "text": [
      "Setting feature_perturbation = \"tree_path_dependent\" because no background data was given.\n"
     ]
    },
    {
     "name": "stdout",
     "output_type": "stream",
     "text": [
      "[DRIFT][Small Window]: Wasserstein Distance detected! (fare_amount Distance: 1.7676323742569227)\t(Index: 29791)\n",
      "[DRIFT][Small Window]: Downwards Data Drift detected! (passenger_count 75%-Quantile: 1.4464579901153212)\t(Index: 29791)\n",
      "[DRIFT][Small Window]: Upwards Data Drift detected!. (manhattan AVG: 1.109167671765526)\t(Index: 29791)\n",
      "[DRIFT][Small Window]: Upwards Data Drift detected! (manhattan 25%-Quantile: 1.109167671765526)\t(Index: 29791)\n",
      "[DRIFT][Small Window]: Upwards Data Drift detected! (manhattan 75%-Quantile: 1.109167671765526)\t(Index: 29791)\n",
      "[DRIFT][Small Window]: Upwards Data Drift detected!. (euclidean AVG: 0.9299168454457352)\t(Index: 29791)\n",
      "[DRIFT][Small Window]: Upwards Data Drift detected! (euclidean 25%-Quantile: 0.9299168454457352)\t(Index: 29791)\n",
      "[DRIFT][Small Window]: Upwards Data Drift detected! (euclidean 75%-Quantile: 0.9299168454457352)\t(Index: 29791)\n",
      "[DRIFT][Small Window]: Upwards Data Drift detected!. (haversine AVG: 88.82898161336837)\t(Index: 29791)\n",
      "[DRIFT][Small Window]: Upwards Data Drift detected! (haversine 25%-Quantile: 88.82898161336837)\t(Index: 29791)\n",
      "[DRIFT][Small Window]: Upwards Data Drift detected! (haversine 75%-Quantile: 88.82898161336837)\t(Index: 29791)\n",
      "[DRIFT][Small Window]: KL-Divergence detected! (haversine Divergence: 292174.1632472121)\t(Index: 29791)\n",
      "[DRIFT][Small Window]: Wasserstein Distance detected! (haversine Distance: 85.48909169486747)\t(Index: 29791)\n"
     ]
    },
    {
     "name": "stderr",
     "output_type": "stream",
     "text": [
      "[Parallel(n_jobs=-1)]: Using backend ThreadingBackend with 4 concurrent workers.\n",
      "[Parallel(n_jobs=-1)]: Done  20 out of  20 | elapsed:    0.0s finished\n"
     ]
    },
    {
     "name": "stdout",
     "output_type": "stream",
     "text": [
      "[DRIFT][Small Window]: Multi-Dimensional Upwards Mean Drift Detected! Distance: 231.69845443381874\t\t\t(Index: 29791)\n",
      "batch: 101.05546032390998, train: 2.200820905397247, train+threshold: 1.1004104526986236\n",
      "[DRIFT][Small Window]: Multi-Dimensional 3rd Quarter Upwards Drift Detected! Distance: 101.05546032390998\t\t\t(Index: 29791)\n"
     ]
    },
    {
     "name": "stderr",
     "output_type": "stream",
     "text": [
      "Setting feature_perturbation = \"tree_path_dependent\" because no background data was given.\n"
     ]
    },
    {
     "name": "stdout",
     "output_type": "stream",
     "text": [
      "[DRIFT][Medium Window]: Upwards Data Drift detected! (fare_amount 25%-Quantile: 11.069283707308914)\t(Index: 29812)\n",
      "[DRIFT][Medium Window]: KL-Divergence detected! (fare_amount Divergence: 35083.29632565898)\t(Index: 29812)\n",
      "[DRIFT][Medium Window]: Wasserstein Distance detected! (fare_amount Distance: 1.1200320735818894)\t(Index: 29812)\n",
      "[DRIFT][Medium Window]: KL-Divergence detected! (fare-bin Divergence: 3458.052623576179)\t(Index: 29812)\n",
      "[DRIFT][Medium Window]: KL-Divergence detected! (pickup_longitude Divergence: 3614.3478814654177)\t(Index: 29812)\n",
      "[DRIFT][Medium Window]: Wasserstein Distance detected! (pickup_longitude Distance: 0.5947253625971363)\t(Index: 29812)\n",
      "[DRIFT][Medium Window]: KL-Divergence detected! (pickup_latitude Divergence: 3016.2199398887046)\t(Index: 29812)\n",
      "[DRIFT][Medium Window]: Wasserstein Distance detected! (pickup_latitude Distance: 0.4830046593286112)\t(Index: 29812)\n",
      "[DRIFT][Medium Window]: KL-Divergence detected! (dropoff_longitude Divergence: 1117.6428185916975)\t(Index: 29812)\n",
      "[DRIFT][Medium Window]: KL-Divergence detected! (dropoff_latitude Divergence: 1002.0004162537124)\t(Index: 29812)\n",
      "[DRIFT][Medium Window]: KL-Divergence detected! (passenger_count Divergence: 2279.631711570016)\t(Index: 29812)\n",
      "[DRIFT][Medium Window]: Upwards Data Drift detected!. (manhattan AVG: 1.1443215235942839)\t(Index: 29812)\n",
      "[DRIFT][Medium Window]: Upwards Data Drift detected! (manhattan 25%-Quantile: 1.1443215235942839)\t(Index: 29812)\n",
      "[DRIFT][Medium Window]: Upwards Data Drift detected! (manhattan 75%-Quantile: 1.1443215235942839)\t(Index: 29812)\n",
      "[DRIFT][Medium Window]: KL-Divergence detected! (manhattan Divergence: 29752.624647005454)\t(Index: 29812)\n",
      "[DRIFT][Medium Window]: Wasserstein Distance detected! (manhattan Distance: 1.1001164780995172)\t(Index: 29812)\n",
      "[DRIFT][Medium Window]: Upwards Data Drift detected!. (euclidean AVG: 0.9586671279575211)\t(Index: 29812)\n",
      "[DRIFT][Medium Window]: Upwards Data Drift detected! (euclidean 25%-Quantile: 0.9586671279575211)\t(Index: 29812)\n",
      "[DRIFT][Medium Window]: Upwards Data Drift detected! (euclidean 75%-Quantile: 0.9586671279575211)\t(Index: 29812)\n",
      "[DRIFT][Medium Window]: KL-Divergence detected! (euclidean Divergence: 25169.039192527314)\t(Index: 29812)\n",
      "[DRIFT][Medium Window]: Wasserstein Distance detected! (euclidean Distance: 0.9244932015451405)\t(Index: 29812)\n",
      "[DRIFT][Medium Window]: Upwards Data Drift detected!. (haversine AVG: 92.49757689917054)\t(Index: 29812)\n",
      "[DRIFT][Medium Window]: Upwards Data Drift detected! (haversine 25%-Quantile: 92.49757689917054)\t(Index: 29812)\n",
      "[DRIFT][Medium Window]: Upwards Data Drift detected! (haversine 75%-Quantile: 92.49757689917054)\t(Index: 29812)\n",
      "[DRIFT][Medium Window]: KL-Divergence detected! (haversine Divergence: 2420860.4610069906)\t(Index: 29812)\n",
      "[DRIFT][Medium Window]: Wasserstein Distance detected! (haversine Distance: 89.15768698066964)\t(Index: 29812)\n"
     ]
    },
    {
     "name": "stderr",
     "output_type": "stream",
     "text": [
      "[Parallel(n_jobs=-1)]: Using backend ThreadingBackend with 4 concurrent workers.\n",
      "[Parallel(n_jobs=-1)]: Done  20 out of  20 | elapsed:    0.1s finished\n"
     ]
    },
    {
     "name": "stdout",
     "output_type": "stream",
     "text": [
      "[DRIFT][Medium Window]: Multi-Dimensional Upwards Mean Drift Detected! Distance: 231.69845443381874\t\t\t(Index: 29812)\n",
      "batch: 101.05526709945737, train: 2.200820905397247, train+threshold: 1.1004104526986236\n",
      "[DRIFT][Medium Window]: Multi-Dimensional 3rd Quarter Upwards Drift Detected! Distance: 101.05526709945737\t\t\t(Index: 29812)\n",
      "------------------------ INDEX: 30000 ------------------------\n"
     ]
    },
    {
     "name": "stderr",
     "output_type": "stream",
     "text": [
      "Setting feature_perturbation = \"tree_path_dependent\" because no background data was given.\n"
     ]
    },
    {
     "name": "stdout",
     "output_type": "stream",
     "text": [
      "[DRIFT][Small Window]: Wasserstein Distance detected! (fare_amount Distance: 1.4215709926002276)\t(Index: 30095)\n",
      "[DRIFT][Small Window]: Downwards Data Drift detected! (passenger_count 75%-Quantile: 1.4019769357495881)\t(Index: 30095)\n",
      "[DRIFT][Small Window]: Upwards Data Drift detected!. (manhattan AVG: 1.1761007539922852)\t(Index: 30095)\n",
      "[DRIFT][Small Window]: Upwards Data Drift detected! (manhattan 25%-Quantile: 1.1761007539922852)\t(Index: 30095)\n",
      "[DRIFT][Small Window]: Upwards Data Drift detected! (manhattan 75%-Quantile: 1.1761007539922852)\t(Index: 30095)\n",
      "[DRIFT][Small Window]: Upwards Data Drift detected!. (euclidean AVG: 0.9884631825623691)\t(Index: 30095)\n",
      "[DRIFT][Small Window]: Upwards Data Drift detected! (euclidean 25%-Quantile: 0.9884631825623691)\t(Index: 30095)\n",
      "[DRIFT][Small Window]: Upwards Data Drift detected! (euclidean 75%-Quantile: 0.9884631825623691)\t(Index: 30095)\n",
      "[DRIFT][Small Window]: Upwards Data Drift detected!. (haversine AVG: 95.47579298564624)\t(Index: 30095)\n",
      "[DRIFT][Small Window]: Upwards Data Drift detected! (haversine 25%-Quantile: 95.47579298564624)\t(Index: 30095)\n",
      "[DRIFT][Small Window]: Upwards Data Drift detected! (haversine 75%-Quantile: 95.47579298564624)\t(Index: 30095)\n",
      "[DRIFT][Small Window]: KL-Divergence detected! (haversine Divergence: 306212.57132021396)\t(Index: 30095)\n",
      "[DRIFT][Small Window]: Wasserstein Distance detected! (haversine Distance: 92.13590306714534)\t(Index: 30095)\n"
     ]
    },
    {
     "name": "stderr",
     "output_type": "stream",
     "text": [
      "[Parallel(n_jobs=-1)]: Using backend ThreadingBackend with 4 concurrent workers.\n",
      "[Parallel(n_jobs=-1)]: Done  20 out of  20 | elapsed:    0.0s finished\n"
     ]
    },
    {
     "name": "stdout",
     "output_type": "stream",
     "text": [
      "[DRIFT][Small Window]: Multi-Dimensional Upwards Mean Drift Detected! Distance: 231.69845443381874\t\t\t(Index: 30095)\n",
      "batch: 101.10299186359177, train: 2.200820905397247, train+threshold: 1.1004104526986236\n",
      "[DRIFT][Small Window]: Multi-Dimensional 3rd Quarter Upwards Drift Detected! Distance: 101.10299186359177\t\t\t(Index: 30095)\n"
     ]
    },
    {
     "name": "stderr",
     "output_type": "stream",
     "text": [
      "Setting feature_perturbation = \"tree_path_dependent\" because no background data was given.\n"
     ]
    },
    {
     "name": "stdout",
     "output_type": "stream",
     "text": [
      "[DRIFT][Small Window]: Downwards Data Drift detected! (passenger_count 75%-Quantile: 1.456342668863262)\t(Index: 30399)\n",
      "[DRIFT][Small Window]: Upwards Data Drift detected!. (manhattan AVG: 1.1938211879111382)\t(Index: 30399)\n",
      "[DRIFT][Small Window]: Upwards Data Drift detected! (manhattan 25%-Quantile: 1.1938211879111382)\t(Index: 30399)\n",
      "[DRIFT][Small Window]: Upwards Data Drift detected! (manhattan 75%-Quantile: 1.1938211879111382)\t(Index: 30399)\n",
      "[DRIFT][Small Window]: Upwards Data Drift detected!. (euclidean AVG: 1.007479363701856)\t(Index: 30399)\n",
      "[DRIFT][Small Window]: Upwards Data Drift detected! (euclidean 25%-Quantile: 1.007479363701856)\t(Index: 30399)\n",
      "[DRIFT][Small Window]: Upwards Data Drift detected! (euclidean 75%-Quantile: 1.007479363701856)\t(Index: 30399)\n",
      "[DRIFT][Small Window]: Upwards Data Drift detected!. (haversine AVG: 96.9671597681515)\t(Index: 30399)\n",
      "[DRIFT][Small Window]: Upwards Data Drift detected! (haversine 25%-Quantile: 96.9671597681515)\t(Index: 30399)\n",
      "[DRIFT][Small Window]: Upwards Data Drift detected! (haversine 75%-Quantile: 96.9671597681515)\t(Index: 30399)\n",
      "[DRIFT][Small Window]: KL-Divergence detected! (haversine Divergence: 321226.5708673806)\t(Index: 30399)\n",
      "[DRIFT][Small Window]: Wasserstein Distance detected! (haversine Distance: 93.62726984965057)\t(Index: 30399)\n"
     ]
    },
    {
     "name": "stderr",
     "output_type": "stream",
     "text": [
      "[Parallel(n_jobs=-1)]: Using backend ThreadingBackend with 4 concurrent workers.\n",
      "[Parallel(n_jobs=-1)]: Done  20 out of  20 | elapsed:    0.0s finished\n"
     ]
    },
    {
     "name": "stdout",
     "output_type": "stream",
     "text": [
      "[DRIFT][Small Window]: Multi-Dimensional Upwards Mean Drift Detected! Distance: 231.69845443381874\t\t\t(Index: 30399)\n",
      "batch: 101.23158146677802, train: 2.200820905397247, train+threshold: 1.1004104526986236\n",
      "[DRIFT][Small Window]: Multi-Dimensional 3rd Quarter Upwards Drift Detected! Distance: 101.23158146677802\t\t\t(Index: 30399)\n"
     ]
    },
    {
     "name": "stderr",
     "output_type": "stream",
     "text": [
      "Setting feature_perturbation = \"tree_path_dependent\" because no background data was given.\n"
     ]
    },
    {
     "name": "stdout",
     "output_type": "stream",
     "text": [
      "[DRIFT][Small Window]: Downwards Data Drift detected! (passenger_count 75%-Quantile: 1.4909390444810544)\t(Index: 30703)\n",
      "[DRIFT][Small Window]: Upwards Data Drift detected!. (manhattan AVG: 1.1713482103068877)\t(Index: 30703)\n",
      "[DRIFT][Small Window]: Upwards Data Drift detected! (manhattan 25%-Quantile: 1.1713482103068877)\t(Index: 30703)\n",
      "[DRIFT][Small Window]: Upwards Data Drift detected! (manhattan 75%-Quantile: 1.1713482103068877)\t(Index: 30703)\n",
      "[DRIFT][Small Window]: Upwards Data Drift detected!. (euclidean AVG: 0.9946950173041634)\t(Index: 30703)\n",
      "[DRIFT][Small Window]: Upwards Data Drift detected! (euclidean 25%-Quantile: 0.9946950173041634)\t(Index: 30703)\n",
      "[DRIFT][Small Window]: Upwards Data Drift detected! (euclidean 75%-Quantile: 0.9946950173041634)\t(Index: 30703)\n",
      "[DRIFT][Small Window]: Upwards Data Drift detected!. (haversine AVG: 95.51545911519439)\t(Index: 30703)\n",
      "[DRIFT][Small Window]: Upwards Data Drift detected! (haversine 25%-Quantile: 95.51545911519439)\t(Index: 30703)\n",
      "[DRIFT][Small Window]: Upwards Data Drift detected! (haversine 75%-Quantile: 95.51545911519439)\t(Index: 30703)\n",
      "[DRIFT][Small Window]: KL-Divergence detected! (haversine Divergence: 312115.4664166795)\t(Index: 30703)\n",
      "[DRIFT][Small Window]: Wasserstein Distance detected! (haversine Distance: 92.17556919669349)\t(Index: 30703)\n"
     ]
    },
    {
     "name": "stderr",
     "output_type": "stream",
     "text": [
      "[Parallel(n_jobs=-1)]: Using backend ThreadingBackend with 4 concurrent workers.\n",
      "[Parallel(n_jobs=-1)]: Done  20 out of  20 | elapsed:    0.0s finished\n"
     ]
    },
    {
     "name": "stdout",
     "output_type": "stream",
     "text": [
      "[DRIFT][Small Window]: Multi-Dimensional Upwards Mean Drift Detected! Distance: 231.69845443381874\t\t\t(Index: 30703)\n",
      "batch: 101.2582809865325, train: 2.200820905397247, train+threshold: 1.1004104526986236\n",
      "[DRIFT][Small Window]: Multi-Dimensional 3rd Quarter Upwards Drift Detected! Distance: 101.2582809865325\t\t\t(Index: 30703)\n",
      "------------------------ INDEX: 31000 ------------------------\n"
     ]
    },
    {
     "name": "stderr",
     "output_type": "stream",
     "text": [
      "Setting feature_perturbation = \"tree_path_dependent\" because no background data was given.\n"
     ]
    },
    {
     "name": "stdout",
     "output_type": "stream",
     "text": [
      "[DRIFT][Small Window]: Upwards Data Drift detected!. (manhattan AVG: 1.186238890962231)\t(Index: 31007)\n",
      "[DRIFT][Small Window]: Upwards Data Drift detected! (manhattan 25%-Quantile: 1.186238890962231)\t(Index: 31007)\n",
      "[DRIFT][Small Window]: Upwards Data Drift detected! (manhattan 75%-Quantile: 1.186238890962231)\t(Index: 31007)\n",
      "[DRIFT][Small Window]: Upwards Data Drift detected!. (euclidean AVG: 1.0051197398469072)\t(Index: 31007)\n",
      "[DRIFT][Small Window]: Upwards Data Drift detected! (euclidean 25%-Quantile: 1.0051197398469072)\t(Index: 31007)\n",
      "[DRIFT][Small Window]: Upwards Data Drift detected! (euclidean 75%-Quantile: 1.0051197398469072)\t(Index: 31007)\n",
      "[DRIFT][Small Window]: Upwards Data Drift detected!. (haversine AVG: 97.01639411005564)\t(Index: 31007)\n",
      "[DRIFT][Small Window]: Upwards Data Drift detected! (haversine 25%-Quantile: 97.01639411005564)\t(Index: 31007)\n",
      "[DRIFT][Small Window]: Upwards Data Drift detected! (haversine 75%-Quantile: 97.01639411005564)\t(Index: 31007)\n",
      "[DRIFT][Small Window]: KL-Divergence detected! (haversine Divergence: 313337.28975244047)\t(Index: 31007)\n",
      "[DRIFT][Small Window]: Wasserstein Distance detected! (haversine Distance: 93.67650419155474)\t(Index: 31007)\n"
     ]
    },
    {
     "name": "stderr",
     "output_type": "stream",
     "text": [
      "[Parallel(n_jobs=-1)]: Using backend ThreadingBackend with 4 concurrent workers.\n",
      "[Parallel(n_jobs=-1)]: Done  20 out of  20 | elapsed:    0.0s finished\n"
     ]
    },
    {
     "name": "stdout",
     "output_type": "stream",
     "text": [
      "[DRIFT][Small Window]: Multi-Dimensional Upwards Mean Drift Detected! Distance: 231.69845443381874\t\t\t(Index: 31007)\n",
      "batch: 101.40407388457594, train: 2.200820905397247, train+threshold: 1.1004104526986236\n",
      "[DRIFT][Small Window]: Multi-Dimensional 3rd Quarter Upwards Drift Detected! Distance: 101.40407388457594\t\t\t(Index: 31007)\n"
     ]
    },
    {
     "name": "stderr",
     "output_type": "stream",
     "text": [
      "Setting feature_perturbation = \"tree_path_dependent\" because no background data was given.\n"
     ]
    },
    {
     "name": "stdout",
     "output_type": "stream",
     "text": [
      "[DRIFT][Small Window]: Upwards Data Drift detected!. (manhattan AVG: 1.1702278373047712)\t(Index: 31311)\n",
      "[DRIFT][Small Window]: Upwards Data Drift detected! (manhattan 25%-Quantile: 1.1702278373047712)\t(Index: 31311)\n",
      "[DRIFT][Small Window]: Upwards Data Drift detected! (manhattan 75%-Quantile: 1.1702278373047712)\t(Index: 31311)\n",
      "[DRIFT][Small Window]: Upwards Data Drift detected!. (euclidean AVG: 0.9867838006683941)\t(Index: 31311)\n",
      "[DRIFT][Small Window]: Upwards Data Drift detected! (euclidean 25%-Quantile: 0.9867838006683941)\t(Index: 31311)\n",
      "[DRIFT][Small Window]: Upwards Data Drift detected! (euclidean 75%-Quantile: 0.9867838006683941)\t(Index: 31311)\n",
      "[DRIFT][Small Window]: Upwards Data Drift detected!. (haversine AVG: 95.07611121743602)\t(Index: 31311)\n",
      "[DRIFT][Small Window]: Upwards Data Drift detected! (haversine 25%-Quantile: 95.07611121743602)\t(Index: 31311)\n",
      "[DRIFT][Small Window]: Upwards Data Drift detected! (haversine 75%-Quantile: 95.07611121743602)\t(Index: 31311)\n",
      "[DRIFT][Small Window]: KL-Divergence detected! (haversine Divergence: 296967.6219512149)\t(Index: 31311)\n",
      "[DRIFT][Small Window]: Wasserstein Distance detected! (haversine Distance: 91.7362212989351)\t(Index: 31311)\n"
     ]
    },
    {
     "name": "stderr",
     "output_type": "stream",
     "text": [
      "[Parallel(n_jobs=-1)]: Using backend ThreadingBackend with 4 concurrent workers.\n",
      "[Parallel(n_jobs=-1)]: Done  20 out of  20 | elapsed:    0.0s finished\n"
     ]
    },
    {
     "name": "stdout",
     "output_type": "stream",
     "text": [
      "[DRIFT][Small Window]: Multi-Dimensional Upwards Mean Drift Detected! Distance: 231.97093457947543\t\t\t(Index: 31311)\n",
      "batch: 101.39923145218748, train: 2.200820905397247, train+threshold: 1.1004104526986236\n",
      "[DRIFT][Small Window]: Multi-Dimensional 3rd Quarter Upwards Drift Detected! Distance: 101.39923145218748\t\t\t(Index: 31311)\n"
     ]
    },
    {
     "name": "stderr",
     "output_type": "stream",
     "text": [
      "Setting feature_perturbation = \"tree_path_dependent\" because no background data was given.\n"
     ]
    },
    {
     "name": "stdout",
     "output_type": "stream",
     "text": [
      "[DRIFT][Small Window]: Upwards Data Drift detected!. (manhattan AVG: 1.206567798134613)\t(Index: 31615)\n",
      "[DRIFT][Small Window]: Upwards Data Drift detected! (manhattan 25%-Quantile: 1.206567798134613)\t(Index: 31615)\n",
      "[DRIFT][Small Window]: Upwards Data Drift detected! (manhattan 75%-Quantile: 1.206567798134613)\t(Index: 31615)\n",
      "[DRIFT][Small Window]: Upwards Data Drift detected!. (euclidean AVG: 1.009182208457601)\t(Index: 31615)\n",
      "[DRIFT][Small Window]: Upwards Data Drift detected! (euclidean 25%-Quantile: 1.009182208457601)\t(Index: 31615)\n",
      "[DRIFT][Small Window]: Upwards Data Drift detected! (euclidean 75%-Quantile: 1.009182208457601)\t(Index: 31615)\n",
      "[DRIFT][Small Window]: Upwards Data Drift detected!. (haversine AVG: 97.40829025272996)\t(Index: 31615)\n",
      "[DRIFT][Small Window]: Upwards Data Drift detected! (haversine 25%-Quantile: 97.40829025272996)\t(Index: 31615)\n",
      "[DRIFT][Small Window]: Upwards Data Drift detected! (haversine 75%-Quantile: 97.40829025272996)\t(Index: 31615)\n",
      "[DRIFT][Small Window]: KL-Divergence detected! (haversine Divergence: 323125.58250187506)\t(Index: 31615)\n",
      "[DRIFT][Small Window]: Wasserstein Distance detected! (haversine Distance: 94.06840033422904)\t(Index: 31615)\n"
     ]
    },
    {
     "name": "stderr",
     "output_type": "stream",
     "text": [
      "[Parallel(n_jobs=-1)]: Using backend ThreadingBackend with 4 concurrent workers.\n",
      "[Parallel(n_jobs=-1)]: Done  20 out of  20 | elapsed:    0.0s finished\n"
     ]
    },
    {
     "name": "stdout",
     "output_type": "stream",
     "text": [
      "[DRIFT][Small Window]: Multi-Dimensional Upwards Mean Drift Detected! Distance: 231.97093457947543\t\t\t(Index: 31615)\n",
      "batch: 101.48477951896943, train: 2.200820905397247, train+threshold: 1.1004104526986236\n",
      "[DRIFT][Small Window]: Multi-Dimensional 3rd Quarter Upwards Drift Detected! Distance: 101.48477951896943\t\t\t(Index: 31615)\n"
     ]
    },
    {
     "name": "stderr",
     "output_type": "stream",
     "text": [
      "Setting feature_perturbation = \"tree_path_dependent\" because no background data was given.\n"
     ]
    },
    {
     "name": "stdout",
     "output_type": "stream",
     "text": [
      "[DRIFT][Small Window]: Upwards Data Drift detected!. (manhattan AVG: 1.2952860817691934)\t(Index: 31919)\n",
      "[DRIFT][Small Window]: Upwards Data Drift detected! (manhattan 25%-Quantile: 1.2952860817691934)\t(Index: 31919)\n",
      "[DRIFT][Small Window]: Upwards Data Drift detected! (manhattan 75%-Quantile: 1.2952860817691934)\t(Index: 31919)\n",
      "[DRIFT][Small Window]: Wasserstein Distance detected! (manhattan Distance: 1.2510810362744271)\t(Index: 31919)\n",
      "[DRIFT][Small Window]: Upwards Data Drift detected!. (euclidean AVG: 1.0771799821998407)\t(Index: 31919)\n",
      "[DRIFT][Small Window]: Upwards Data Drift detected! (euclidean 25%-Quantile: 1.0771799821998407)\t(Index: 31919)\n",
      "[DRIFT][Small Window]: Upwards Data Drift detected! (euclidean 75%-Quantile: 1.0771799821998407)\t(Index: 31919)\n",
      "[DRIFT][Small Window]: Upwards Data Drift detected!. (haversine AVG: 103.9509153060336)\t(Index: 31919)\n",
      "[DRIFT][Small Window]: Upwards Data Drift detected! (haversine 25%-Quantile: 103.9509153060336)\t(Index: 31919)\n",
      "[DRIFT][Small Window]: Upwards Data Drift detected! (haversine 75%-Quantile: 103.9509153060336)\t(Index: 31919)\n",
      "[DRIFT][Small Window]: KL-Divergence detected! (haversine Divergence: 344693.93426861934)\t(Index: 31919)\n",
      "[DRIFT][Small Window]: Wasserstein Distance detected! (haversine Distance: 100.61102538753268)\t(Index: 31919)\n"
     ]
    },
    {
     "name": "stderr",
     "output_type": "stream",
     "text": [
      "[Parallel(n_jobs=-1)]: Using backend ThreadingBackend with 4 concurrent workers.\n",
      "[Parallel(n_jobs=-1)]: Done  20 out of  20 | elapsed:    0.0s finished\n"
     ]
    },
    {
     "name": "stdout",
     "output_type": "stream",
     "text": [
      "[DRIFT][Small Window]: Multi-Dimensional Upwards Mean Drift Detected! Distance: 231.97093457947543\t\t\t(Index: 31919)\n",
      "batch: 101.50915124829521, train: 2.200820905397247, train+threshold: 1.1004104526986236\n",
      "[DRIFT][Small Window]: Multi-Dimensional 3rd Quarter Upwards Drift Detected! Distance: 101.50915124829521\t\t\t(Index: 31919)\n",
      "------------------------ INDEX: 32000 ------------------------\n"
     ]
    },
    {
     "name": "stderr",
     "output_type": "stream",
     "text": [
      "Setting feature_perturbation = \"tree_path_dependent\" because no background data was given.\n"
     ]
    },
    {
     "name": "stdout",
     "output_type": "stream",
     "text": [
      "[DRIFT][Small Window]: Wasserstein Distance detected! (fare_amount Distance: 1.5933113648583674)\t(Index: 32223)\n",
      "[DRIFT][Small Window]: Upwards Data Drift detected!. (manhattan AVG: 1.2354183952498117)\t(Index: 32223)\n",
      "[DRIFT][Small Window]: Upwards Data Drift detected! (manhattan 25%-Quantile: 1.2354183952498117)\t(Index: 32223)\n",
      "[DRIFT][Small Window]: Upwards Data Drift detected! (manhattan 75%-Quantile: 1.2354183952498117)\t(Index: 32223)\n",
      "[DRIFT][Small Window]: Upwards Data Drift detected!. (euclidean AVG: 1.039320332860473)\t(Index: 32223)\n",
      "[DRIFT][Small Window]: Upwards Data Drift detected! (euclidean 25%-Quantile: 1.039320332860473)\t(Index: 32223)\n",
      "[DRIFT][Small Window]: Upwards Data Drift detected! (euclidean 75%-Quantile: 1.039320332860473)\t(Index: 32223)\n",
      "[DRIFT][Small Window]: Upwards Data Drift detected!. (haversine AVG: 100.01399166979864)\t(Index: 32223)\n",
      "[DRIFT][Small Window]: Upwards Data Drift detected! (haversine 25%-Quantile: 100.01399166979864)\t(Index: 32223)\n",
      "[DRIFT][Small Window]: Upwards Data Drift detected! (haversine 75%-Quantile: 100.01399166979864)\t(Index: 32223)\n",
      "[DRIFT][Small Window]: KL-Divergence detected! (haversine Divergence: 323532.2894933628)\t(Index: 32223)\n",
      "[DRIFT][Small Window]: Wasserstein Distance detected! (haversine Distance: 96.67410175129773)\t(Index: 32223)\n",
      "[DRIFT][Small Window]: Pairwise Correlation Drift detected: dropoff_longitude <> passenger_count!\t(Index: 32223)\n"
     ]
    },
    {
     "name": "stderr",
     "output_type": "stream",
     "text": [
      "[Parallel(n_jobs=-1)]: Using backend ThreadingBackend with 4 concurrent workers.\n",
      "[Parallel(n_jobs=-1)]: Done  20 out of  20 | elapsed:    0.0s finished\n",
      "Some inputs do not have OOB scores. This probably means too few trees were used to compute any reliable oob estimates.\n"
     ]
    },
    {
     "name": "stdout",
     "output_type": "stream",
     "text": [
      "[DRIFT][Small Window]: Multi-Dimensional Upwards Mean Drift Detected! Distance: 231.97093457947543\t\t\t(Index: 32223)\n",
      "batch: 101.58902221267152, train: 2.200820905397247, train+threshold: 1.1004104526986236\n",
      "[DRIFT][Small Window]: Multi-Dimensional 3rd Quarter Upwards Drift Detected! Distance: 101.58902221267152\t\t\t(Index: 32223)\n"
     ]
    },
    {
     "name": "stderr",
     "output_type": "stream",
     "text": [
      "Setting feature_perturbation = \"tree_path_dependent\" because no background data was given.\n"
     ]
    },
    {
     "name": "stdout",
     "output_type": "stream",
     "text": [
      "[DRIFT][Small Window]: Wasserstein Distance detected! (fare_amount Distance: 1.3793125893680995)\t(Index: 32527)\n",
      "[DRIFT][Small Window]: Upwards Data Drift detected!. (manhattan AVG: 1.2537315057691256)\t(Index: 32527)\n",
      "[DRIFT][Small Window]: Upwards Data Drift detected! (manhattan 25%-Quantile: 1.2537315057691256)\t(Index: 32527)\n",
      "[DRIFT][Small Window]: Upwards Data Drift detected! (manhattan 75%-Quantile: 1.2537315057691256)\t(Index: 32527)\n",
      "[DRIFT][Small Window]: Wasserstein Distance detected! (manhattan Distance: 1.2095264602743592)\t(Index: 32527)\n",
      "[DRIFT][Small Window]: Upwards Data Drift detected!. (euclidean AVG: 1.0586052572655065)\t(Index: 32527)\n",
      "[DRIFT][Small Window]: Upwards Data Drift detected! (euclidean 25%-Quantile: 1.0586052572655065)\t(Index: 32527)\n",
      "[DRIFT][Small Window]: Upwards Data Drift detected! (euclidean 75%-Quantile: 1.0586052572655065)\t(Index: 32527)\n",
      "[DRIFT][Small Window]: Upwards Data Drift detected!. (haversine AVG: 102.1906712218916)\t(Index: 32527)\n",
      "[DRIFT][Small Window]: Upwards Data Drift detected! (haversine 25%-Quantile: 102.1906712218916)\t(Index: 32527)\n",
      "[DRIFT][Small Window]: Upwards Data Drift detected! (haversine 75%-Quantile: 102.1906712218916)\t(Index: 32527)\n",
      "[DRIFT][Small Window]: KL-Divergence detected! (haversine Divergence: 334904.83104422776)\t(Index: 32527)\n",
      "[DRIFT][Small Window]: Wasserstein Distance detected! (haversine Distance: 98.85078130339068)\t(Index: 32527)\n"
     ]
    },
    {
     "name": "stderr",
     "output_type": "stream",
     "text": [
      "[Parallel(n_jobs=-1)]: Using backend ThreadingBackend with 4 concurrent workers.\n",
      "[Parallel(n_jobs=-1)]: Done  20 out of  20 | elapsed:    0.0s finished\n"
     ]
    },
    {
     "name": "stdout",
     "output_type": "stream",
     "text": [
      "[DRIFT][Small Window]: Multi-Dimensional Upwards Mean Drift Detected! Distance: 231.97093457947543\t\t\t(Index: 32527)\n",
      "batch: 101.70878181314544, train: 2.200820905397247, train+threshold: 1.1004104526986236\n",
      "[DRIFT][Small Window]: Multi-Dimensional 3rd Quarter Upwards Drift Detected! Distance: 101.70878181314544\t\t\t(Index: 32527)\n"
     ]
    },
    {
     "name": "stderr",
     "output_type": "stream",
     "text": [
      "Setting feature_perturbation = \"tree_path_dependent\" because no background data was given.\n"
     ]
    },
    {
     "name": "stdout",
     "output_type": "stream",
     "text": [
      "[DRIFT][Small Window]: Upwards Data Drift detected!. (manhattan AVG: 1.1567675879742636)\t(Index: 32831)\n",
      "[DRIFT][Small Window]: Upwards Data Drift detected! (manhattan 25%-Quantile: 1.1567675879742636)\t(Index: 32831)\n",
      "[DRIFT][Small Window]: Upwards Data Drift detected! (manhattan 75%-Quantile: 1.1567675879742636)\t(Index: 32831)\n",
      "[DRIFT][Small Window]: Upwards Data Drift detected!. (euclidean AVG: 0.9766987225927853)\t(Index: 32831)\n",
      "[DRIFT][Small Window]: Upwards Data Drift detected! (euclidean 25%-Quantile: 0.9766987225927853)\t(Index: 32831)\n",
      "[DRIFT][Small Window]: Upwards Data Drift detected! (euclidean 75%-Quantile: 0.9766987225927853)\t(Index: 32831)\n",
      "[DRIFT][Small Window]: Upwards Data Drift detected!. (haversine AVG: 94.02127747291131)\t(Index: 32831)\n",
      "[DRIFT][Small Window]: Upwards Data Drift detected! (haversine 25%-Quantile: 94.02127747291131)\t(Index: 32831)\n",
      "[DRIFT][Small Window]: Upwards Data Drift detected! (haversine 75%-Quantile: 94.02127747291131)\t(Index: 32831)\n",
      "[DRIFT][Small Window]: KL-Divergence detected! (haversine Divergence: 273433.30924371246)\t(Index: 32831)\n",
      "[DRIFT][Small Window]: Wasserstein Distance detected! (haversine Distance: 90.68138755441039)\t(Index: 32831)\n"
     ]
    },
    {
     "name": "stderr",
     "output_type": "stream",
     "text": [
      "[Parallel(n_jobs=-1)]: Using backend ThreadingBackend with 4 concurrent workers.\n",
      "[Parallel(n_jobs=-1)]: Done  20 out of  20 | elapsed:    0.0s finished\n"
     ]
    },
    {
     "name": "stdout",
     "output_type": "stream",
     "text": [
      "[DRIFT][Small Window]: Multi-Dimensional Upwards Mean Drift Detected! Distance: 231.97093457947543\t\t\t(Index: 32831)\n",
      "batch: 101.7130026313965, train: 2.200820905397247, train+threshold: 1.1004104526986236\n",
      "[DRIFT][Small Window]: Multi-Dimensional 3rd Quarter Upwards Drift Detected! Distance: 101.7130026313965\t\t\t(Index: 32831)\n",
      "------------------------ INDEX: 33000 ------------------------\n"
     ]
    },
    {
     "name": "stderr",
     "output_type": "stream",
     "text": [
      "Setting feature_perturbation = \"tree_path_dependent\" because no background data was given.\n"
     ]
    },
    {
     "name": "stdout",
     "output_type": "stream",
     "text": [
      "[DRIFT][Small Window]: Upwards Data Drift detected!. (manhattan AVG: 1.0947693568208126)\t(Index: 33135)\n",
      "[DRIFT][Small Window]: Upwards Data Drift detected! (manhattan 25%-Quantile: 1.0947693568208126)\t(Index: 33135)\n",
      "[DRIFT][Small Window]: Upwards Data Drift detected! (manhattan 75%-Quantile: 1.0947693568208126)\t(Index: 33135)\n",
      "[DRIFT][Small Window]: Upwards Data Drift detected!. (euclidean AVG: 0.9200021855594684)\t(Index: 33135)\n",
      "[DRIFT][Small Window]: Upwards Data Drift detected! (euclidean 25%-Quantile: 0.9200021855594684)\t(Index: 33135)\n",
      "[DRIFT][Small Window]: Upwards Data Drift detected! (euclidean 75%-Quantile: 0.9200021855594684)\t(Index: 33135)\n",
      "[DRIFT][Small Window]: Upwards Data Drift detected!. (haversine AVG: 88.27646596863188)\t(Index: 33135)\n",
      "[DRIFT][Small Window]: Upwards Data Drift detected! (haversine 25%-Quantile: 88.27646596863188)\t(Index: 33135)\n",
      "[DRIFT][Small Window]: Upwards Data Drift detected! (haversine 75%-Quantile: 88.27646596863188)\t(Index: 33135)\n",
      "[DRIFT][Small Window]: KL-Divergence detected! (haversine Divergence: 286186.7712519418)\t(Index: 33135)\n",
      "[DRIFT][Small Window]: Wasserstein Distance detected! (haversine Distance: 84.93657605013098)\t(Index: 33135)\n"
     ]
    },
    {
     "name": "stderr",
     "output_type": "stream",
     "text": [
      "[Parallel(n_jobs=-1)]: Using backend ThreadingBackend with 4 concurrent workers.\n",
      "[Parallel(n_jobs=-1)]: Done  20 out of  20 | elapsed:    0.0s finished\n"
     ]
    },
    {
     "name": "stdout",
     "output_type": "stream",
     "text": [
      "[DRIFT][Small Window]: Multi-Dimensional Upwards Mean Drift Detected! Distance: 231.97093457947543\t\t\t(Index: 33135)\n",
      "batch: 101.73155943699277, train: 2.200820905397247, train+threshold: 1.1004104526986236\n",
      "[DRIFT][Small Window]: Multi-Dimensional 3rd Quarter Upwards Drift Detected! Distance: 101.73155943699277\t\t\t(Index: 33135)\n"
     ]
    },
    {
     "name": "stderr",
     "output_type": "stream",
     "text": [
      "Setting feature_perturbation = \"tree_path_dependent\" because no background data was given.\n"
     ]
    },
    {
     "name": "stdout",
     "output_type": "stream",
     "text": [
      "[DRIFT][Small Window]: Upwards Data Drift detected!. (manhattan AVG: 1.1104251746489546)\t(Index: 33439)\n",
      "[DRIFT][Small Window]: Upwards Data Drift detected! (manhattan 25%-Quantile: 1.1104251746489546)\t(Index: 33439)\n",
      "[DRIFT][Small Window]: Upwards Data Drift detected! (manhattan 75%-Quantile: 1.1104251746489546)\t(Index: 33439)\n",
      "[DRIFT][Small Window]: Upwards Data Drift detected!. (euclidean AVG: 0.9391352902666735)\t(Index: 33439)\n",
      "[DRIFT][Small Window]: Upwards Data Drift detected! (euclidean 25%-Quantile: 0.9391352902666735)\t(Index: 33439)\n",
      "[DRIFT][Small Window]: Upwards Data Drift detected! (euclidean 75%-Quantile: 0.9391352902666735)\t(Index: 33439)\n",
      "[DRIFT][Small Window]: Upwards Data Drift detected!. (haversine AVG: 89.2925376396891)\t(Index: 33439)\n",
      "[DRIFT][Small Window]: Upwards Data Drift detected! (haversine 25%-Quantile: 89.2925376396891)\t(Index: 33439)\n",
      "[DRIFT][Small Window]: Upwards Data Drift detected! (haversine 75%-Quantile: 89.2925376396891)\t(Index: 33439)\n",
      "[DRIFT][Small Window]: KL-Divergence detected! (haversine Divergence: 280028.77833424753)\t(Index: 33439)\n",
      "[DRIFT][Small Window]: Wasserstein Distance detected! (haversine Distance: 85.9526477211882)\t(Index: 33439)\n",
      "[DRIFT][Small Window]: Pairwise Correlation Drift detected: dropoff_longitude <> passenger_count!\t(Index: 33439)\n"
     ]
    },
    {
     "name": "stderr",
     "output_type": "stream",
     "text": [
      "[Parallel(n_jobs=-1)]: Using backend ThreadingBackend with 4 concurrent workers.\n",
      "[Parallel(n_jobs=-1)]: Done  20 out of  20 | elapsed:    0.0s finished\n"
     ]
    },
    {
     "name": "stdout",
     "output_type": "stream",
     "text": [
      "[DRIFT][Small Window]: Multi-Dimensional Upwards Mean Drift Detected! Distance: 231.97093457947543\t\t\t(Index: 33439)\n",
      "batch: 101.7619509613715, train: 2.200820905397247, train+threshold: 1.1004104526986236\n",
      "[DRIFT][Small Window]: Multi-Dimensional 3rd Quarter Upwards Drift Detected! Distance: 101.7619509613715\t\t\t(Index: 33439)\n"
     ]
    },
    {
     "name": "stderr",
     "output_type": "stream",
     "text": [
      "Setting feature_perturbation = \"tree_path_dependent\" because no background data was given.\n"
     ]
    },
    {
     "name": "stdout",
     "output_type": "stream",
     "text": [
      "[DRIFT][Small Window]: Upwards Data Drift detected!. (manhattan AVG: 1.123080801982084)\t(Index: 33743)\n",
      "[DRIFT][Small Window]: Upwards Data Drift detected! (manhattan 25%-Quantile: 1.123080801982084)\t(Index: 33743)\n",
      "[DRIFT][Small Window]: Upwards Data Drift detected! (manhattan 75%-Quantile: 1.123080801982084)\t(Index: 33743)\n",
      "[DRIFT][Small Window]: Upwards Data Drift detected!. (euclidean AVG: 0.957049231064373)\t(Index: 33743)\n",
      "[DRIFT][Small Window]: Upwards Data Drift detected! (euclidean 25%-Quantile: 0.957049231064373)\t(Index: 33743)\n",
      "[DRIFT][Small Window]: Upwards Data Drift detected! (euclidean 75%-Quantile: 0.957049231064373)\t(Index: 33743)\n",
      "[DRIFT][Small Window]: Upwards Data Drift detected!. (haversine AVG: 90.9768616699416)\t(Index: 33743)\n",
      "[DRIFT][Small Window]: Upwards Data Drift detected! (haversine 25%-Quantile: 90.9768616699416)\t(Index: 33743)\n",
      "[DRIFT][Small Window]: Upwards Data Drift detected! (haversine 75%-Quantile: 90.9768616699416)\t(Index: 33743)\n",
      "[DRIFT][Small Window]: KL-Divergence detected! (haversine Divergence: 282113.0933494785)\t(Index: 33743)\n",
      "[DRIFT][Small Window]: Wasserstein Distance detected! (haversine Distance: 87.63697175144068)\t(Index: 33743)\n"
     ]
    },
    {
     "name": "stderr",
     "output_type": "stream",
     "text": [
      "[Parallel(n_jobs=-1)]: Using backend ThreadingBackend with 4 concurrent workers.\n",
      "[Parallel(n_jobs=-1)]: Done  20 out of  20 | elapsed:    0.0s finished\n"
     ]
    },
    {
     "name": "stdout",
     "output_type": "stream",
     "text": [
      "[DRIFT][Small Window]: Multi-Dimensional Upwards Mean Drift Detected! Distance: 231.97093457947543\t\t\t(Index: 33743)\n",
      "batch: 101.78141793722202, train: 2.200820905397247, train+threshold: 1.1004104526986236\n",
      "[DRIFT][Small Window]: Multi-Dimensional 3rd Quarter Upwards Drift Detected! Distance: 101.78141793722202\t\t\t(Index: 33743)\n",
      "------------------------ INDEX: 34000 ------------------------\n"
     ]
    },
    {
     "name": "stderr",
     "output_type": "stream",
     "text": [
      "Setting feature_perturbation = \"tree_path_dependent\" because no background data was given.\n"
     ]
    },
    {
     "name": "stdout",
     "output_type": "stream",
     "text": [
      "[DRIFT][Small Window]: Upwards Data Drift detected!. (manhattan AVG: 1.1020063254488204)\t(Index: 34047)\n",
      "[DRIFT][Small Window]: Upwards Data Drift detected! (manhattan 25%-Quantile: 1.1020063254488204)\t(Index: 34047)\n",
      "[DRIFT][Small Window]: Upwards Data Drift detected! (manhattan 75%-Quantile: 1.1020063254488204)\t(Index: 34047)\n",
      "[DRIFT][Small Window]: Upwards Data Drift detected!. (euclidean AVG: 0.9285583585844822)\t(Index: 34047)\n",
      "[DRIFT][Small Window]: Upwards Data Drift detected! (euclidean 25%-Quantile: 0.9285583585844822)\t(Index: 34047)\n",
      "[DRIFT][Small Window]: Upwards Data Drift detected! (euclidean 75%-Quantile: 0.9285583585844822)\t(Index: 34047)\n",
      "[DRIFT][Small Window]: Upwards Data Drift detected!. (haversine AVG: 88.52583891481105)\t(Index: 34047)\n",
      "[DRIFT][Small Window]: Upwards Data Drift detected! (haversine 25%-Quantile: 88.52583891481105)\t(Index: 34047)\n",
      "[DRIFT][Small Window]: Upwards Data Drift detected! (haversine 75%-Quantile: 88.52583891481105)\t(Index: 34047)\n",
      "[DRIFT][Small Window]: KL-Divergence detected! (haversine Divergence: 284529.2459862919)\t(Index: 34047)\n",
      "[DRIFT][Small Window]: Wasserstein Distance detected! (haversine Distance: 85.18594899631016)\t(Index: 34047)\n"
     ]
    },
    {
     "name": "stderr",
     "output_type": "stream",
     "text": [
      "[Parallel(n_jobs=-1)]: Using backend ThreadingBackend with 4 concurrent workers.\n",
      "[Parallel(n_jobs=-1)]: Done  20 out of  20 | elapsed:    0.1s finished\n"
     ]
    },
    {
     "name": "stdout",
     "output_type": "stream",
     "text": [
      "[DRIFT][Small Window]: Multi-Dimensional Upwards Mean Drift Detected! Distance: 231.97093457947543\t\t\t(Index: 34047)\n",
      "batch: 101.76098749471095, train: 2.200820905397247, train+threshold: 1.1004104526986236\n",
      "[DRIFT][Small Window]: Multi-Dimensional 3rd Quarter Upwards Drift Detected! Distance: 101.76098749471095\t\t\t(Index: 34047)\n"
     ]
    },
    {
     "name": "stderr",
     "output_type": "stream",
     "text": [
      "Setting feature_perturbation = \"tree_path_dependent\" because no background data was given.\n"
     ]
    },
    {
     "name": "stdout",
     "output_type": "stream",
     "text": [
      "[DRIFT][Medium Window]: Upwards Data Drift detected! (fare_amount 25%-Quantile: 11.324245612868838)\t(Index: 34071)\n",
      "[DRIFT][Medium Window]: KL-Divergence detected! (fare_amount Divergence: 38183.4420402578)\t(Index: 34071)\n",
      "[DRIFT][Medium Window]: Wasserstein Distance detected! (fare_amount Distance: 0.9181531162948436)\t(Index: 34071)\n",
      "[DRIFT][Medium Window]: KL-Divergence detected! (fare-bin Divergence: 4116.231983027375)\t(Index: 34071)\n",
      "[DRIFT][Medium Window]: KL-Divergence detected! (pickup_longitude Divergence: 3771.1747425494473)\t(Index: 34071)\n",
      "[DRIFT][Medium Window]: Wasserstein Distance detected! (pickup_longitude Distance: 0.6207160277813875)\t(Index: 34071)\n",
      "[DRIFT][Medium Window]: KL-Divergence detected! (pickup_latitude Divergence: 2939.7733566952334)\t(Index: 34071)\n",
      "[DRIFT][Medium Window]: Wasserstein Distance detected! (pickup_latitude Distance: 0.4706984187390861)\t(Index: 34071)\n",
      "[DRIFT][Medium Window]: KL-Divergence detected! (dropoff_longitude Divergence: 1098.213258461334)\t(Index: 34071)\n",
      "[DRIFT][Medium Window]: KL-Divergence detected! (passenger_count Divergence: 2203.749934334872)\t(Index: 34071)\n",
      "[DRIFT][Medium Window]: Upwards Data Drift detected!. (manhattan AVG: 1.1707343199690268)\t(Index: 34071)\n",
      "[DRIFT][Medium Window]: Upwards Data Drift detected! (manhattan 25%-Quantile: 1.1707343199690268)\t(Index: 34071)\n",
      "[DRIFT][Medium Window]: Upwards Data Drift detected! (manhattan 75%-Quantile: 1.1707343199690268)\t(Index: 34071)\n",
      "[DRIFT][Medium Window]: KL-Divergence detected! (manhattan Divergence: 30458.04902462215)\t(Index: 34071)\n",
      "[DRIFT][Medium Window]: Wasserstein Distance detected! (manhattan Distance: 1.1265292744742599)\t(Index: 34071)\n",
      "[DRIFT][Medium Window]: Upwards Data Drift detected!. (euclidean AVG: 0.9873900368951143)\t(Index: 34071)\n",
      "[DRIFT][Medium Window]: Upwards Data Drift detected! (euclidean 25%-Quantile: 0.9873900368951143)\t(Index: 34071)\n",
      "[DRIFT][Medium Window]: Upwards Data Drift detected! (euclidean 75%-Quantile: 0.9873900368951143)\t(Index: 34071)\n",
      "[DRIFT][Medium Window]: KL-Divergence detected! (euclidean Divergence: 26017.21316541514)\t(Index: 34071)\n",
      "[DRIFT][Medium Window]: Wasserstein Distance detected! (euclidean Distance: 0.9532161104827336)\t(Index: 34071)\n",
      "[DRIFT][Medium Window]: Upwards Data Drift detected!. (haversine AVG: 94.79709636859886)\t(Index: 34071)\n",
      "[DRIFT][Medium Window]: Upwards Data Drift detected! (haversine 25%-Quantile: 94.79709636859886)\t(Index: 34071)\n",
      "[DRIFT][Medium Window]: Upwards Data Drift detected! (haversine 75%-Quantile: 94.79709636859886)\t(Index: 34071)\n",
      "[DRIFT][Medium Window]: KL-Divergence detected! (haversine Divergence: 2484844.085809799)\t(Index: 34071)\n",
      "[DRIFT][Medium Window]: Wasserstein Distance detected! (haversine Distance: 91.45720645009794)\t(Index: 34071)\n"
     ]
    },
    {
     "name": "stderr",
     "output_type": "stream",
     "text": [
      "[Parallel(n_jobs=-1)]: Using backend ThreadingBackend with 4 concurrent workers.\n",
      "[Parallel(n_jobs=-1)]: Done  20 out of  20 | elapsed:    0.1s finished\n",
      "Some inputs do not have OOB scores. This probably means too few trees were used to compute any reliable oob estimates.\n"
     ]
    },
    {
     "name": "stdout",
     "output_type": "stream",
     "text": [
      "[DRIFT][Medium Window]: Multi-Dimensional Upwards Mean Drift Detected! Distance: 231.97093457947543\t\t\t(Index: 34071)\n",
      "batch: 101.76329494307925, train: 2.200820905397247, train+threshold: 1.1004104526986236\n",
      "[DRIFT][Medium Window]: Multi-Dimensional 3rd Quarter Upwards Drift Detected! Distance: 101.76329494307925\t\t\t(Index: 34071)\n"
     ]
    },
    {
     "name": "stderr",
     "output_type": "stream",
     "text": [
      "Setting feature_perturbation = \"tree_path_dependent\" because no background data was given.\n"
     ]
    },
    {
     "name": "stdout",
     "output_type": "stream",
     "text": [
      "[DRIFT][Small Window]: Downwards Data Drift detected! (passenger_count 75%-Quantile: 1.4382207578253707)\t(Index: 34351)\n",
      "[DRIFT][Small Window]: Upwards Data Drift detected!. (manhattan AVG: 1.130753348472273)\t(Index: 34351)\n",
      "[DRIFT][Small Window]: Upwards Data Drift detected! (manhattan 25%-Quantile: 1.130753348472273)\t(Index: 34351)\n",
      "[DRIFT][Small Window]: Upwards Data Drift detected! (manhattan 75%-Quantile: 1.130753348472273)\t(Index: 34351)\n",
      "[DRIFT][Small Window]: Upwards Data Drift detected!. (euclidean AVG: 0.957095677161146)\t(Index: 34351)\n",
      "[DRIFT][Small Window]: Upwards Data Drift detected! (euclidean 25%-Quantile: 0.957095677161146)\t(Index: 34351)\n",
      "[DRIFT][Small Window]: Upwards Data Drift detected! (euclidean 75%-Quantile: 0.957095677161146)\t(Index: 34351)\n",
      "[DRIFT][Small Window]: Upwards Data Drift detected!. (haversine AVG: 91.41093231599514)\t(Index: 34351)\n",
      "[DRIFT][Small Window]: Upwards Data Drift detected! (haversine 25%-Quantile: 91.41093231599514)\t(Index: 34351)\n",
      "[DRIFT][Small Window]: Upwards Data Drift detected! (haversine 75%-Quantile: 91.41093231599514)\t(Index: 34351)\n",
      "[DRIFT][Small Window]: KL-Divergence detected! (haversine Divergence: 301321.7131382547)\t(Index: 34351)\n",
      "[DRIFT][Small Window]: Wasserstein Distance detected! (haversine Distance: 88.07104239749422)\t(Index: 34351)\n"
     ]
    },
    {
     "name": "stderr",
     "output_type": "stream",
     "text": [
      "[Parallel(n_jobs=-1)]: Using backend ThreadingBackend with 4 concurrent workers.\n",
      "[Parallel(n_jobs=-1)]: Done  20 out of  20 | elapsed:    0.0s finished\n"
     ]
    },
    {
     "name": "stdout",
     "output_type": "stream",
     "text": [
      "[DRIFT][Small Window]: Multi-Dimensional Upwards Mean Drift Detected! Distance: 231.97093457947543\t\t\t(Index: 34351)\n",
      "batch: 101.92285981569263, train: 2.200820905397247, train+threshold: 1.1004104526986236\n",
      "[DRIFT][Small Window]: Multi-Dimensional 3rd Quarter Upwards Drift Detected! Distance: 101.92285981569263\t\t\t(Index: 34351)\n"
     ]
    },
    {
     "name": "stderr",
     "output_type": "stream",
     "text": [
      "Setting feature_perturbation = \"tree_path_dependent\" because no background data was given.\n"
     ]
    },
    {
     "name": "stdout",
     "output_type": "stream",
     "text": [
      "[DRIFT][Small Window]: Upwards Data Drift detected!. (manhattan AVG: 1.147642798783851)\t(Index: 34655)\n",
      "[DRIFT][Small Window]: Upwards Data Drift detected! (manhattan 25%-Quantile: 1.147642798783851)\t(Index: 34655)\n",
      "[DRIFT][Small Window]: Upwards Data Drift detected! (manhattan 75%-Quantile: 1.147642798783851)\t(Index: 34655)\n",
      "[DRIFT][Small Window]: Upwards Data Drift detected!. (euclidean AVG: 0.9732153521821151)\t(Index: 34655)\n",
      "[DRIFT][Small Window]: Upwards Data Drift detected! (euclidean 25%-Quantile: 0.9732153521821151)\t(Index: 34655)\n",
      "[DRIFT][Small Window]: Upwards Data Drift detected! (euclidean 75%-Quantile: 0.9732153521821151)\t(Index: 34655)\n",
      "[DRIFT][Small Window]: Upwards Data Drift detected!. (haversine AVG: 92.65662837340736)\t(Index: 34655)\n",
      "[DRIFT][Small Window]: Upwards Data Drift detected! (haversine 25%-Quantile: 92.65662837340736)\t(Index: 34655)\n",
      "[DRIFT][Small Window]: Upwards Data Drift detected! (haversine 75%-Quantile: 92.65662837340736)\t(Index: 34655)\n",
      "[DRIFT][Small Window]: KL-Divergence detected! (haversine Divergence: 297824.217877528)\t(Index: 34655)\n",
      "[DRIFT][Small Window]: Wasserstein Distance detected! (haversine Distance: 89.31673845490643)\t(Index: 34655)\n"
     ]
    },
    {
     "name": "stderr",
     "output_type": "stream",
     "text": [
      "[Parallel(n_jobs=-1)]: Using backend ThreadingBackend with 4 concurrent workers.\n",
      "[Parallel(n_jobs=-1)]: Done  20 out of  20 | elapsed:    0.0s finished\n"
     ]
    },
    {
     "name": "stdout",
     "output_type": "stream",
     "text": [
      "[DRIFT][Small Window]: Multi-Dimensional Upwards Mean Drift Detected! Distance: 231.97093457947543\t\t\t(Index: 34655)\n",
      "batch: 101.88914414904649, train: 2.200820905397247, train+threshold: 1.1004104526986236\n",
      "[DRIFT][Small Window]: Multi-Dimensional 3rd Quarter Upwards Drift Detected! Distance: 101.88914414904649\t\t\t(Index: 34655)\n"
     ]
    },
    {
     "name": "stderr",
     "output_type": "stream",
     "text": [
      "Setting feature_perturbation = \"tree_path_dependent\" because no background data was given.\n"
     ]
    },
    {
     "name": "stdout",
     "output_type": "stream",
     "text": [
      "[DRIFT][Small Window]: Upwards Data Drift detected!. (manhattan AVG: 1.112324191119156)\t(Index: 34959)\n",
      "[DRIFT][Small Window]: Upwards Data Drift detected! (manhattan 25%-Quantile: 1.112324191119156)\t(Index: 34959)\n",
      "[DRIFT][Small Window]: Upwards Data Drift detected! (manhattan 75%-Quantile: 1.112324191119156)\t(Index: 34959)\n",
      "[DRIFT][Small Window]: Upwards Data Drift detected!. (euclidean AVG: 0.9404010273991371)\t(Index: 34959)\n",
      "[DRIFT][Small Window]: Upwards Data Drift detected! (euclidean 25%-Quantile: 0.9404010273991371)\t(Index: 34959)\n",
      "[DRIFT][Small Window]: Upwards Data Drift detected! (euclidean 75%-Quantile: 0.9404010273991371)\t(Index: 34959)\n",
      "[DRIFT][Small Window]: Upwards Data Drift detected!. (haversine AVG: 90.19730173305982)\t(Index: 34959)\n",
      "[DRIFT][Small Window]: Upwards Data Drift detected! (haversine 25%-Quantile: 90.19730173305982)\t(Index: 34959)\n",
      "[DRIFT][Small Window]: Upwards Data Drift detected! (haversine 75%-Quantile: 90.19730173305982)\t(Index: 34959)\n",
      "[DRIFT][Small Window]: KL-Divergence detected! (haversine Divergence: 282851.8561601098)\t(Index: 34959)\n",
      "[DRIFT][Small Window]: Wasserstein Distance detected! (haversine Distance: 86.8574118145589)\t(Index: 34959)\n"
     ]
    },
    {
     "name": "stderr",
     "output_type": "stream",
     "text": [
      "[Parallel(n_jobs=-1)]: Using backend ThreadingBackend with 4 concurrent workers.\n",
      "[Parallel(n_jobs=-1)]: Done  20 out of  20 | elapsed:    0.0s finished\n"
     ]
    },
    {
     "name": "stdout",
     "output_type": "stream",
     "text": [
      "[DRIFT][Small Window]: Multi-Dimensional Upwards Mean Drift Detected! Distance: 231.97093457947543\t\t\t(Index: 34959)\n",
      "batch: 102.02134845925211, train: 2.200820905397247, train+threshold: 1.1004104526986236\n",
      "[DRIFT][Small Window]: Multi-Dimensional 3rd Quarter Upwards Drift Detected! Distance: 102.02134845925211\t\t\t(Index: 34959)\n",
      "------------------------ INDEX: 35000 ------------------------\n"
     ]
    },
    {
     "name": "stderr",
     "output_type": "stream",
     "text": [
      "Setting feature_perturbation = \"tree_path_dependent\" because no background data was given.\n"
     ]
    },
    {
     "name": "stdout",
     "output_type": "stream",
     "text": [
      "[DRIFT][Small Window]: Upwards Data Drift detected!. (manhattan AVG: 1.2029607321124498)\t(Index: 35263)\n",
      "[DRIFT][Small Window]: Upwards Data Drift detected! (manhattan 25%-Quantile: 1.2029607321124498)\t(Index: 35263)\n",
      "[DRIFT][Small Window]: Upwards Data Drift detected! (manhattan 75%-Quantile: 1.2029607321124498)\t(Index: 35263)\n",
      "[DRIFT][Small Window]: Upwards Data Drift detected!. (euclidean AVG: 1.0023574814207874)\t(Index: 35263)\n",
      "[DRIFT][Small Window]: Upwards Data Drift detected! (euclidean 25%-Quantile: 1.0023574814207874)\t(Index: 35263)\n",
      "[DRIFT][Small Window]: Upwards Data Drift detected! (euclidean 75%-Quantile: 1.0023574814207874)\t(Index: 35263)\n",
      "[DRIFT][Small Window]: Upwards Data Drift detected!. (haversine AVG: 97.25397006858482)\t(Index: 35263)\n",
      "[DRIFT][Small Window]: Upwards Data Drift detected! (haversine 25%-Quantile: 97.25397006858482)\t(Index: 35263)\n",
      "[DRIFT][Small Window]: Upwards Data Drift detected! (haversine 75%-Quantile: 97.25397006858482)\t(Index: 35263)\n",
      "[DRIFT][Small Window]: KL-Divergence detected! (haversine Divergence: 317372.7147946263)\t(Index: 35263)\n",
      "[DRIFT][Small Window]: Wasserstein Distance detected! (haversine Distance: 93.91408015008392)\t(Index: 35263)\n"
     ]
    },
    {
     "name": "stderr",
     "output_type": "stream",
     "text": [
      "[Parallel(n_jobs=-1)]: Using backend ThreadingBackend with 4 concurrent workers.\n",
      "[Parallel(n_jobs=-1)]: Done  20 out of  20 | elapsed:    0.0s finished\n"
     ]
    },
    {
     "name": "stdout",
     "output_type": "stream",
     "text": [
      "[DRIFT][Small Window]: Multi-Dimensional Upwards Mean Drift Detected! Distance: 231.97093457947543\t\t\t(Index: 35263)\n",
      "batch: 102.06834566726803, train: 2.200820905397247, train+threshold: 1.1004104526986236\n",
      "[DRIFT][Small Window]: Multi-Dimensional 3rd Quarter Upwards Drift Detected! Distance: 102.06834566726803\t\t\t(Index: 35263)\n"
     ]
    },
    {
     "name": "stderr",
     "output_type": "stream",
     "text": [
      "Setting feature_perturbation = \"tree_path_dependent\" because no background data was given.\n"
     ]
    },
    {
     "name": "stdout",
     "output_type": "stream",
     "text": [
      "[DRIFT][Small Window]: Upwards Data Drift detected!. (manhattan AVG: 1.2582155589291375)\t(Index: 35567)\n",
      "[DRIFT][Small Window]: Upwards Data Drift detected! (manhattan 25%-Quantile: 1.2582155589291375)\t(Index: 35567)\n",
      "[DRIFT][Small Window]: Upwards Data Drift detected! (manhattan 75%-Quantile: 1.2582155589291375)\t(Index: 35567)\n",
      "[DRIFT][Small Window]: Wasserstein Distance detected! (manhattan Distance: 1.214010513434371)\t(Index: 35567)\n",
      "[DRIFT][Small Window]: Upwards Data Drift detected!. (euclidean AVG: 1.0448942493545377)\t(Index: 35567)\n",
      "[DRIFT][Small Window]: Upwards Data Drift detected! (euclidean 25%-Quantile: 1.0448942493545377)\t(Index: 35567)\n",
      "[DRIFT][Small Window]: Upwards Data Drift detected! (euclidean 75%-Quantile: 1.0448942493545377)\t(Index: 35567)\n",
      "[DRIFT][Small Window]: Upwards Data Drift detected!. (haversine AVG: 101.18548653097447)\t(Index: 35567)\n",
      "[DRIFT][Small Window]: Upwards Data Drift detected! (haversine 25%-Quantile: 101.18548653097447)\t(Index: 35567)\n",
      "[DRIFT][Small Window]: Upwards Data Drift detected! (haversine 75%-Quantile: 101.18548653097447)\t(Index: 35567)\n",
      "[DRIFT][Small Window]: KL-Divergence detected! (haversine Divergence: 327962.8198725739)\t(Index: 35567)\n",
      "[DRIFT][Small Window]: Wasserstein Distance detected! (haversine Distance: 97.84559661247356)\t(Index: 35567)\n",
      "[DRIFT][Small Window]: Pairwise Correlation Drift detected: dropoff_longitude <> passenger_count!\t(Index: 35567)\n"
     ]
    },
    {
     "name": "stderr",
     "output_type": "stream",
     "text": [
      "[Parallel(n_jobs=-1)]: Using backend ThreadingBackend with 4 concurrent workers.\n",
      "[Parallel(n_jobs=-1)]: Done  20 out of  20 | elapsed:    0.0s finished\n"
     ]
    },
    {
     "name": "stdout",
     "output_type": "stream",
     "text": [
      "[DRIFT][Small Window]: Multi-Dimensional Upwards Mean Drift Detected! Distance: 231.97093457947543\t\t\t(Index: 35567)\n",
      "batch: 102.10476990459831, train: 2.200820905397247, train+threshold: 1.1004104526986236\n",
      "[DRIFT][Small Window]: Multi-Dimensional 3rd Quarter Upwards Drift Detected! Distance: 102.10476990459831\t\t\t(Index: 35567)\n"
     ]
    },
    {
     "name": "stderr",
     "output_type": "stream",
     "text": [
      "Setting feature_perturbation = \"tree_path_dependent\" because no background data was given.\n"
     ]
    },
    {
     "name": "stdout",
     "output_type": "stream",
     "text": [
      "[DRIFT][Small Window]: Wasserstein Distance detected! (fare_amount Distance: 1.4394694875638196)\t(Index: 35871)\n",
      "[DRIFT][Small Window]: Upwards Data Drift detected!. (manhattan AVG: 1.2490025064157413)\t(Index: 35871)\n",
      "[DRIFT][Small Window]: Upwards Data Drift detected! (manhattan 25%-Quantile: 1.2490025064157413)\t(Index: 35871)\n",
      "[DRIFT][Small Window]: Upwards Data Drift detected! (manhattan 75%-Quantile: 1.2490025064157413)\t(Index: 35871)\n",
      "[DRIFT][Small Window]: Wasserstein Distance detected! (manhattan Distance: 1.2047974609209748)\t(Index: 35871)\n",
      "[DRIFT][Small Window]: Upwards Data Drift detected!. (euclidean AVG: 1.0394830274508038)\t(Index: 35871)\n",
      "[DRIFT][Small Window]: Upwards Data Drift detected! (euclidean 25%-Quantile: 1.0394830274508038)\t(Index: 35871)\n",
      "[DRIFT][Small Window]: Upwards Data Drift detected! (euclidean 75%-Quantile: 1.0394830274508038)\t(Index: 35871)\n",
      "[DRIFT][Small Window]: Upwards Data Drift detected!. (haversine AVG: 101.1275513741244)\t(Index: 35871)\n",
      "[DRIFT][Small Window]: Upwards Data Drift detected! (haversine 25%-Quantile: 101.1275513741244)\t(Index: 35871)\n",
      "[DRIFT][Small Window]: Upwards Data Drift detected! (haversine 75%-Quantile: 101.1275513741244)\t(Index: 35871)\n",
      "[DRIFT][Small Window]: KL-Divergence detected! (haversine Divergence: 320446.2647814008)\t(Index: 35871)\n",
      "[DRIFT][Small Window]: Wasserstein Distance detected! (haversine Distance: 97.78766145562349)\t(Index: 35871)\n"
     ]
    },
    {
     "name": "stderr",
     "output_type": "stream",
     "text": [
      "[Parallel(n_jobs=-1)]: Using backend ThreadingBackend with 4 concurrent workers.\n",
      "[Parallel(n_jobs=-1)]: Done  20 out of  20 | elapsed:    0.0s finished\n"
     ]
    },
    {
     "name": "stdout",
     "output_type": "stream",
     "text": [
      "[DRIFT][Small Window]: Multi-Dimensional Upwards Mean Drift Detected! Distance: 231.97093457947543\t\t\t(Index: 35871)\n",
      "batch: 102.14763241566106, train: 2.200820905397247, train+threshold: 1.1004104526986236\n",
      "[DRIFT][Small Window]: Multi-Dimensional 3rd Quarter Upwards Drift Detected! Distance: 102.14763241566106\t\t\t(Index: 35871)\n",
      "------------------------ INDEX: 36000 ------------------------\n"
     ]
    },
    {
     "name": "stderr",
     "output_type": "stream",
     "text": [
      "Setting feature_perturbation = \"tree_path_dependent\" because no background data was given.\n"
     ]
    },
    {
     "name": "stdout",
     "output_type": "stream",
     "text": [
      "[DRIFT][Small Window]: Upwards Data Drift detected!. (manhattan AVG: 1.2349634521740014)\t(Index: 36175)\n",
      "[DRIFT][Small Window]: Upwards Data Drift detected! (manhattan 25%-Quantile: 1.2349634521740014)\t(Index: 36175)\n",
      "[DRIFT][Small Window]: Upwards Data Drift detected! (manhattan 75%-Quantile: 1.2349634521740014)\t(Index: 36175)\n",
      "[DRIFT][Small Window]: Upwards Data Drift detected!. (euclidean AVG: 1.0299081315176102)\t(Index: 36175)\n",
      "[DRIFT][Small Window]: Upwards Data Drift detected! (euclidean 25%-Quantile: 1.0299081315176102)\t(Index: 36175)\n",
      "[DRIFT][Small Window]: Upwards Data Drift detected! (euclidean 75%-Quantile: 1.0299081315176102)\t(Index: 36175)\n",
      "[DRIFT][Small Window]: Upwards Data Drift detected!. (haversine AVG: 99.64243722254082)\t(Index: 36175)\n",
      "[DRIFT][Small Window]: Upwards Data Drift detected! (haversine 25%-Quantile: 99.64243722254082)\t(Index: 36175)\n",
      "[DRIFT][Small Window]: Upwards Data Drift detected! (haversine 75%-Quantile: 99.64243722254082)\t(Index: 36175)\n",
      "[DRIFT][Small Window]: KL-Divergence detected! (haversine Divergence: 321091.39507111773)\t(Index: 36175)\n",
      "[DRIFT][Small Window]: Wasserstein Distance detected! (haversine Distance: 96.30254730403992)\t(Index: 36175)\n"
     ]
    },
    {
     "name": "stderr",
     "output_type": "stream",
     "text": [
      "[Parallel(n_jobs=-1)]: Using backend ThreadingBackend with 4 concurrent workers.\n",
      "[Parallel(n_jobs=-1)]: Done  20 out of  20 | elapsed:    0.0s finished\n"
     ]
    },
    {
     "name": "stdout",
     "output_type": "stream",
     "text": [
      "[DRIFT][Small Window]: Multi-Dimensional Upwards Mean Drift Detected! Distance: 234.4607089201066\t\t\t(Index: 36175)\n",
      "batch: 102.18130952783801, train: 2.200820905397247, train+threshold: 1.1004104526986236\n",
      "[DRIFT][Small Window]: Multi-Dimensional 3rd Quarter Upwards Drift Detected! Distance: 102.18130952783801\t\t\t(Index: 36175)\n"
     ]
    },
    {
     "name": "stderr",
     "output_type": "stream",
     "text": [
      "Setting feature_perturbation = \"tree_path_dependent\" because no background data was given.\n"
     ]
    },
    {
     "name": "stdout",
     "output_type": "stream",
     "text": [
      "[DRIFT][Small Window]: Upwards Data Drift detected!. (manhattan AVG: 1.2222796218008547)\t(Index: 36479)\n",
      "[DRIFT][Small Window]: Upwards Data Drift detected! (manhattan 25%-Quantile: 1.2222796218008547)\t(Index: 36479)\n",
      "[DRIFT][Small Window]: Upwards Data Drift detected! (manhattan 75%-Quantile: 1.2222796218008547)\t(Index: 36479)\n",
      "[DRIFT][Small Window]: Upwards Data Drift detected!. (euclidean AVG: 1.016210939742524)\t(Index: 36479)\n",
      "[DRIFT][Small Window]: Upwards Data Drift detected! (euclidean 25%-Quantile: 1.016210939742524)\t(Index: 36479)\n",
      "[DRIFT][Small Window]: Upwards Data Drift detected! (euclidean 75%-Quantile: 1.016210939742524)\t(Index: 36479)\n",
      "[DRIFT][Small Window]: Upwards Data Drift detected!. (haversine AVG: 97.27474421625733)\t(Index: 36479)\n",
      "[DRIFT][Small Window]: Upwards Data Drift detected! (haversine 25%-Quantile: 97.27474421625733)\t(Index: 36479)\n",
      "[DRIFT][Small Window]: Upwards Data Drift detected! (haversine 75%-Quantile: 97.27474421625733)\t(Index: 36479)\n",
      "[DRIFT][Small Window]: KL-Divergence detected! (haversine Divergence: 311181.6473170939)\t(Index: 36479)\n",
      "[DRIFT][Small Window]: Wasserstein Distance detected! (haversine Distance: 93.9348542977564)\t(Index: 36479)\n"
     ]
    },
    {
     "name": "stderr",
     "output_type": "stream",
     "text": [
      "[Parallel(n_jobs=-1)]: Using backend ThreadingBackend with 4 concurrent workers.\n",
      "[Parallel(n_jobs=-1)]: Done  20 out of  20 | elapsed:    0.0s finished\n"
     ]
    },
    {
     "name": "stdout",
     "output_type": "stream",
     "text": [
      "[DRIFT][Small Window]: Multi-Dimensional Upwards Mean Drift Detected! Distance: 234.4607089201066\t\t\t(Index: 36479)\n",
      "batch: 102.18555582722907, train: 2.200820905397247, train+threshold: 1.1004104526986236\n",
      "[DRIFT][Small Window]: Multi-Dimensional 3rd Quarter Upwards Drift Detected! Distance: 102.18555582722907\t\t\t(Index: 36479)\n"
     ]
    },
    {
     "name": "stderr",
     "output_type": "stream",
     "text": [
      "Setting feature_perturbation = \"tree_path_dependent\" because no background data was given.\n"
     ]
    },
    {
     "name": "stdout",
     "output_type": "stream",
     "text": [
      "[DRIFT][Large Window]: Upwards Data Drift detected! (fare_amount 25%-Quantile: 11.26727160883909)\t(Index: 36513)\n",
      "[DRIFT][Large Window]: Downwards Data Drift detected! (fare_amount 75%-Quantile: 11.26727160883909)\t(Index: 36513)\n",
      "[DRIFT][Large Window]: KL-Divergence detected! (fare_amount Divergence: 157824.3418463927)\t(Index: 36513)\n",
      "[DRIFT][Large Window]: Wasserstein Distance detected! (fare_amount Distance: 0.9475891418747262)\t(Index: 36513)\n",
      "[DRIFT][Large Window]: KL-Divergence detected! (fare-bin Divergence: 21658.144167789465)\t(Index: 36513)\n",
      "[DRIFT][Large Window]: KL-Divergence detected! (pickup_longitude Divergence: 16209.046007503088)\t(Index: 36513)\n",
      "[DRIFT][Large Window]: Wasserstein Distance detected! (pickup_longitude Distance: 0.6213922464098327)\t(Index: 36513)\n",
      "[DRIFT][Large Window]: KL-Divergence detected! (pickup_latitude Divergence: 13118.859253111823)\t(Index: 36513)\n",
      "[DRIFT][Large Window]: Wasserstein Distance detected! (pickup_latitude Distance: 0.48948755777840774)\t(Index: 36513)\n",
      "[DRIFT][Large Window]: KL-Divergence detected! (dropoff_longitude Divergence: 4845.700176349535)\t(Index: 36513)\n",
      "[DRIFT][Large Window]: KL-Divergence detected! (dropoff_latitude Divergence: 4310.4094280412)\t(Index: 36513)\n",
      "[DRIFT][Large Window]: KL-Divergence detected! (passenger_count Divergence: 10607.87844200248)\t(Index: 36513)\n",
      "[DRIFT][Large Window]: Upwards Data Drift detected!. (manhattan AVG: 1.1807280718762954)\t(Index: 36513)\n",
      "[DRIFT][Large Window]: Upwards Data Drift detected! (manhattan 25%-Quantile: 1.1807280718762954)\t(Index: 36513)\n",
      "[DRIFT][Large Window]: Upwards Data Drift detected! (manhattan 75%-Quantile: 1.1807280718762954)\t(Index: 36513)\n",
      "[DRIFT][Large Window]: KL-Divergence detected! (manhattan Divergence: 134114.07000847303)\t(Index: 36513)\n",
      "[DRIFT][Large Window]: Wasserstein Distance detected! (manhattan Distance: 1.136523026381529)\t(Index: 36513)\n",
      "[DRIFT][Large Window]: Upwards Data Drift detected!. (euclidean AVG: 0.9917463317210341)\t(Index: 36513)\n",
      "[DRIFT][Large Window]: Upwards Data Drift detected! (euclidean 25%-Quantile: 0.9917463317210341)\t(Index: 36513)\n",
      "[DRIFT][Large Window]: Upwards Data Drift detected! (euclidean 75%-Quantile: 0.9917463317210341)\t(Index: 36513)\n",
      "[DRIFT][Large Window]: KL-Divergence detected! (euclidean Divergence: 113998.13641579164)\t(Index: 36513)\n",
      "[DRIFT][Large Window]: Wasserstein Distance detected! (euclidean Distance: 0.9575724053086535)\t(Index: 36513)\n",
      "[DRIFT][Large Window]: Upwards Data Drift detected!. (haversine AVG: 95.38489840844308)\t(Index: 36513)\n",
      "[DRIFT][Large Window]: Upwards Data Drift detected! (haversine 25%-Quantile: 95.38489840844308)\t(Index: 36513)\n",
      "[DRIFT][Large Window]: Upwards Data Drift detected! (haversine 75%-Quantile: 95.38489840844308)\t(Index: 36513)\n",
      "[DRIFT][Large Window]: KL-Divergence detected! (haversine Divergence: 10918483.299531544)\t(Index: 36513)\n",
      "[DRIFT][Large Window]: Wasserstein Distance detected! (haversine Distance: 92.04500848994215)\t(Index: 36513)\n"
     ]
    },
    {
     "name": "stderr",
     "output_type": "stream",
     "text": [
      "[Parallel(n_jobs=-1)]: Using backend ThreadingBackend with 4 concurrent workers.\n",
      "[Parallel(n_jobs=-1)]: Done  20 out of  20 | elapsed:    0.7s finished\n"
     ]
    },
    {
     "name": "stdout",
     "output_type": "stream",
     "text": [
      "[DRIFT][Large Window]: Multi-Dimensional Upwards Mean Drift Detected! Distance: 234.4607089201066\t\t\t(Index: 36513)\n",
      "batch: 102.20925234621845, train: 2.200820905397247, train+threshold: 1.1004104526986236\n",
      "[DRIFT][Large Window]: Multi-Dimensional 3rd Quarter Upwards Drift Detected! Distance: 102.20925234621845\t\t\t(Index: 36513)\n"
     ]
    },
    {
     "name": "stderr",
     "output_type": "stream",
     "text": [
      "Setting feature_perturbation = \"tree_path_dependent\" because no background data was given.\n"
     ]
    },
    {
     "name": "stdout",
     "output_type": "stream",
     "text": [
      "[DRIFT][Small Window]: Upwards Data Drift detected!. (manhattan AVG: 1.1596744417999718)\t(Index: 36783)\n",
      "[DRIFT][Small Window]: Upwards Data Drift detected! (manhattan 25%-Quantile: 1.1596744417999718)\t(Index: 36783)\n",
      "[DRIFT][Small Window]: Upwards Data Drift detected! (manhattan 75%-Quantile: 1.1596744417999718)\t(Index: 36783)\n",
      "[DRIFT][Small Window]: Upwards Data Drift detected!. (euclidean AVG: 0.9683300502919325)\t(Index: 36783)\n",
      "[DRIFT][Small Window]: Upwards Data Drift detected! (euclidean 25%-Quantile: 0.9683300502919325)\t(Index: 36783)\n",
      "[DRIFT][Small Window]: Upwards Data Drift detected! (euclidean 75%-Quantile: 0.9683300502919325)\t(Index: 36783)\n",
      "[DRIFT][Small Window]: Upwards Data Drift detected!. (haversine AVG: 92.82657921382214)\t(Index: 36783)\n",
      "[DRIFT][Small Window]: Upwards Data Drift detected! (haversine 25%-Quantile: 92.82657921382214)\t(Index: 36783)\n",
      "[DRIFT][Small Window]: Upwards Data Drift detected! (haversine 75%-Quantile: 92.82657921382214)\t(Index: 36783)\n",
      "[DRIFT][Small Window]: KL-Divergence detected! (haversine Divergence: 290269.51904186205)\t(Index: 36783)\n",
      "[DRIFT][Small Window]: Wasserstein Distance detected! (haversine Distance: 89.48668929532124)\t(Index: 36783)\n",
      "[DRIFT][Small Window]: Pairwise Correlation Drift detected: dropoff_longitude <> passenger_count!\t(Index: 36783)\n"
     ]
    },
    {
     "name": "stderr",
     "output_type": "stream",
     "text": [
      "[Parallel(n_jobs=-1)]: Using backend ThreadingBackend with 4 concurrent workers.\n",
      "[Parallel(n_jobs=-1)]: Done  20 out of  20 | elapsed:    0.0s finished\n"
     ]
    },
    {
     "name": "stdout",
     "output_type": "stream",
     "text": [
      "[DRIFT][Small Window]: Multi-Dimensional Upwards Mean Drift Detected! Distance: 234.4607089201066\t\t\t(Index: 36783)\n",
      "batch: 102.21254078784708, train: 2.200820905397247, train+threshold: 1.1004104526986236\n",
      "[DRIFT][Small Window]: Multi-Dimensional 3rd Quarter Upwards Drift Detected! Distance: 102.21254078784708\t\t\t(Index: 36783)\n",
      "------------------------ INDEX: 37000 ------------------------\n"
     ]
    },
    {
     "name": "stderr",
     "output_type": "stream",
     "text": [
      "Setting feature_perturbation = \"tree_path_dependent\" because no background data was given.\n"
     ]
    },
    {
     "name": "stdout",
     "output_type": "stream",
     "text": [
      "[DRIFT][Small Window]: Downwards Data Drift detected! (passenger_count 75%-Quantile: 1.4958813838550247)\t(Index: 37087)\n",
      "[DRIFT][Small Window]: Upwards Data Drift detected!. (manhattan AVG: 1.1339368935620535)\t(Index: 37087)\n",
      "[DRIFT][Small Window]: Upwards Data Drift detected! (manhattan 25%-Quantile: 1.1339368935620535)\t(Index: 37087)\n",
      "[DRIFT][Small Window]: Upwards Data Drift detected! (manhattan 75%-Quantile: 1.1339368935620535)\t(Index: 37087)\n",
      "[DRIFT][Small Window]: Upwards Data Drift detected!. (euclidean AVG: 0.9597000215417099)\t(Index: 37087)\n",
      "[DRIFT][Small Window]: Upwards Data Drift detected! (euclidean 25%-Quantile: 0.9597000215417099)\t(Index: 37087)\n",
      "[DRIFT][Small Window]: Upwards Data Drift detected! (euclidean 75%-Quantile: 0.9597000215417099)\t(Index: 37087)\n",
      "[DRIFT][Small Window]: Upwards Data Drift detected!. (haversine AVG: 91.90535337063686)\t(Index: 37087)\n",
      "[DRIFT][Small Window]: Upwards Data Drift detected! (haversine 25%-Quantile: 91.90535337063686)\t(Index: 37087)\n",
      "[DRIFT][Small Window]: Upwards Data Drift detected! (haversine 75%-Quantile: 91.90535337063686)\t(Index: 37087)\n",
      "[DRIFT][Small Window]: KL-Divergence detected! (haversine Divergence: 294257.6821833702)\t(Index: 37087)\n",
      "[DRIFT][Small Window]: Wasserstein Distance detected! (haversine Distance: 88.56546345213594)\t(Index: 37087)\n"
     ]
    },
    {
     "name": "stderr",
     "output_type": "stream",
     "text": [
      "[Parallel(n_jobs=-1)]: Using backend ThreadingBackend with 4 concurrent workers.\n",
      "[Parallel(n_jobs=-1)]: Done  20 out of  20 | elapsed:    0.0s finished\n"
     ]
    },
    {
     "name": "stdout",
     "output_type": "stream",
     "text": [
      "[DRIFT][Small Window]: Multi-Dimensional Upwards Mean Drift Detected! Distance: 234.4607089201066\t\t\t(Index: 37087)\n",
      "batch: 102.2260922306892, train: 2.200820905397247, train+threshold: 1.1004104526986236\n",
      "[DRIFT][Small Window]: Multi-Dimensional 3rd Quarter Upwards Drift Detected! Distance: 102.2260922306892\t\t\t(Index: 37087)\n"
     ]
    },
    {
     "name": "stderr",
     "output_type": "stream",
     "text": [
      "Setting feature_perturbation = \"tree_path_dependent\" because no background data was given.\n"
     ]
    },
    {
     "name": "stdout",
     "output_type": "stream",
     "text": [
      "[DRIFT][Small Window]: Downwards Data Drift detected! (passenger_count 75%-Quantile: 1.5255354200988467)\t(Index: 37391)\n",
      "[DRIFT][Small Window]: Upwards Data Drift detected!. (manhattan AVG: 1.1390122697282385)\t(Index: 37391)\n",
      "[DRIFT][Small Window]: Upwards Data Drift detected! (manhattan 25%-Quantile: 1.1390122697282385)\t(Index: 37391)\n",
      "[DRIFT][Small Window]: Upwards Data Drift detected! (manhattan 75%-Quantile: 1.1390122697282385)\t(Index: 37391)\n",
      "[DRIFT][Small Window]: Upwards Data Drift detected!. (euclidean AVG: 0.957242841693398)\t(Index: 37391)\n",
      "[DRIFT][Small Window]: Upwards Data Drift detected! (euclidean 25%-Quantile: 0.957242841693398)\t(Index: 37391)\n",
      "[DRIFT][Small Window]: Upwards Data Drift detected! (euclidean 75%-Quantile: 0.957242841693398)\t(Index: 37391)\n",
      "[DRIFT][Small Window]: Upwards Data Drift detected!. (haversine AVG: 92.22167369837376)\t(Index: 37391)\n",
      "[DRIFT][Small Window]: Upwards Data Drift detected! (haversine 25%-Quantile: 92.22167369837376)\t(Index: 37391)\n",
      "[DRIFT][Small Window]: Upwards Data Drift detected! (haversine 75%-Quantile: 92.22167369837376)\t(Index: 37391)\n",
      "[DRIFT][Small Window]: KL-Divergence detected! (haversine Divergence: 290230.1155768546)\t(Index: 37391)\n",
      "[DRIFT][Small Window]: Wasserstein Distance detected! (haversine Distance: 88.88178377987288)\t(Index: 37391)\n"
     ]
    },
    {
     "name": "stderr",
     "output_type": "stream",
     "text": [
      "[Parallel(n_jobs=-1)]: Using backend ThreadingBackend with 4 concurrent workers.\n",
      "[Parallel(n_jobs=-1)]: Done  20 out of  20 | elapsed:    0.0s finished\n"
     ]
    },
    {
     "name": "stdout",
     "output_type": "stream",
     "text": [
      "[DRIFT][Small Window]: Multi-Dimensional Upwards Mean Drift Detected! Distance: 234.4607089201066\t\t\t(Index: 37391)\n",
      "batch: 102.22042506462134, train: 2.200820905397247, train+threshold: 1.1004104526986236\n",
      "[DRIFT][Small Window]: Multi-Dimensional 3rd Quarter Upwards Drift Detected! Distance: 102.22042506462134\t\t\t(Index: 37391)\n"
     ]
    },
    {
     "name": "stderr",
     "output_type": "stream",
     "text": [
      "Setting feature_perturbation = \"tree_path_dependent\" because no background data was given.\n"
     ]
    },
    {
     "name": "stdout",
     "output_type": "stream",
     "text": [
      "[DRIFT][Small Window]: Upwards Data Drift detected!. (manhattan AVG: 1.0886371461194688)\t(Index: 37695)\n",
      "[DRIFT][Small Window]: Upwards Data Drift detected! (manhattan 25%-Quantile: 1.0886371461194688)\t(Index: 37695)\n",
      "[DRIFT][Small Window]: Upwards Data Drift detected! (manhattan 75%-Quantile: 1.0886371461194688)\t(Index: 37695)\n",
      "[DRIFT][Small Window]: Upwards Data Drift detected!. (euclidean AVG: 0.9150329426876134)\t(Index: 37695)\n",
      "[DRIFT][Small Window]: Upwards Data Drift detected! (euclidean 25%-Quantile: 0.9150329426876134)\t(Index: 37695)\n",
      "[DRIFT][Small Window]: Upwards Data Drift detected! (euclidean 75%-Quantile: 0.9150329426876134)\t(Index: 37695)\n",
      "[DRIFT][Small Window]: Upwards Data Drift detected!. (haversine AVG: 88.78688120720027)\t(Index: 37695)\n",
      "[DRIFT][Small Window]: Upwards Data Drift detected! (haversine 25%-Quantile: 88.78688120720027)\t(Index: 37695)\n",
      "[DRIFT][Small Window]: Upwards Data Drift detected! (haversine 75%-Quantile: 88.78688120720027)\t(Index: 37695)\n",
      "[DRIFT][Small Window]: KL-Divergence detected! (haversine Divergence: 270976.9259620257)\t(Index: 37695)\n",
      "[DRIFT][Small Window]: Wasserstein Distance detected! (haversine Distance: 85.44699128869937)\t(Index: 37695)\n"
     ]
    },
    {
     "name": "stderr",
     "output_type": "stream",
     "text": [
      "[Parallel(n_jobs=-1)]: Using backend ThreadingBackend with 4 concurrent workers.\n",
      "[Parallel(n_jobs=-1)]: Done  20 out of  20 | elapsed:    0.0s finished\n"
     ]
    },
    {
     "name": "stdout",
     "output_type": "stream",
     "text": [
      "[DRIFT][Small Window]: Multi-Dimensional Upwards Mean Drift Detected! Distance: 234.4607089201066\t\t\t(Index: 37695)\n",
      "batch: 102.22042506462134, train: 2.200820905397247, train+threshold: 1.1004104526986236\n",
      "[DRIFT][Small Window]: Multi-Dimensional 3rd Quarter Upwards Drift Detected! Distance: 102.22042506462134\t\t\t(Index: 37695)\n"
     ]
    },
    {
     "name": "stderr",
     "output_type": "stream",
     "text": [
      "Setting feature_perturbation = \"tree_path_dependent\" because no background data was given.\n"
     ]
    },
    {
     "name": "stdout",
     "output_type": "stream",
     "text": [
      "[DRIFT][Small Window]: Upwards Data Drift detected!. (manhattan AVG: 1.1280928952800897)\t(Index: 37999)\n",
      "[DRIFT][Small Window]: Upwards Data Drift detected! (manhattan 25%-Quantile: 1.1280928952800897)\t(Index: 37999)\n",
      "[DRIFT][Small Window]: Upwards Data Drift detected! (manhattan 75%-Quantile: 1.1280928952800897)\t(Index: 37999)\n",
      "[DRIFT][Small Window]: Upwards Data Drift detected!. (euclidean AVG: 0.94997414442522)\t(Index: 37999)\n",
      "[DRIFT][Small Window]: Upwards Data Drift detected! (euclidean 25%-Quantile: 0.94997414442522)\t(Index: 37999)\n",
      "[DRIFT][Small Window]: Upwards Data Drift detected! (euclidean 75%-Quantile: 0.94997414442522)\t(Index: 37999)\n",
      "[DRIFT][Small Window]: Upwards Data Drift detected!. (haversine AVG: 91.21613595362197)\t(Index: 37999)\n",
      "[DRIFT][Small Window]: Upwards Data Drift detected! (haversine 25%-Quantile: 91.21613595362197)\t(Index: 37999)\n",
      "[DRIFT][Small Window]: Upwards Data Drift detected! (haversine 75%-Quantile: 91.21613595362197)\t(Index: 37999)\n",
      "[DRIFT][Small Window]: KL-Divergence detected! (haversine Divergence: 289728.68053923297)\t(Index: 37999)\n",
      "[DRIFT][Small Window]: Wasserstein Distance detected! (haversine Distance: 87.87624603512108)\t(Index: 37999)\n"
     ]
    },
    {
     "name": "stderr",
     "output_type": "stream",
     "text": [
      "[Parallel(n_jobs=-1)]: Using backend ThreadingBackend with 4 concurrent workers.\n",
      "[Parallel(n_jobs=-1)]: Done  20 out of  20 | elapsed:    0.0s finished\n",
      "Some inputs do not have OOB scores. This probably means too few trees were used to compute any reliable oob estimates.\n"
     ]
    },
    {
     "name": "stdout",
     "output_type": "stream",
     "text": [
      "[DRIFT][Small Window]: Multi-Dimensional Upwards Mean Drift Detected! Distance: 234.4607089201066\t\t\t(Index: 37999)\n",
      "batch: 102.23130421339359, train: 2.200820905397247, train+threshold: 1.1004104526986236\n",
      "[DRIFT][Small Window]: Multi-Dimensional 3rd Quarter Upwards Drift Detected! Distance: 102.23130421339359\t\t\t(Index: 37999)\n",
      "------------------------ INDEX: 38000 ------------------------\n"
     ]
    },
    {
     "name": "stderr",
     "output_type": "stream",
     "text": [
      "Setting feature_perturbation = \"tree_path_dependent\" because no background data was given.\n"
     ]
    },
    {
     "name": "stdout",
     "output_type": "stream",
     "text": [
      "[DRIFT][Small Window]: Downwards Data Drift detected! (passenger_count 75%-Quantile: 1.398682042833608)\t(Index: 38303)\n",
      "[DRIFT][Small Window]: Upwards Data Drift detected!. (manhattan AVG: 1.1149829816701102)\t(Index: 38303)\n",
      "[DRIFT][Small Window]: Upwards Data Drift detected! (manhattan 25%-Quantile: 1.1149829816701102)\t(Index: 38303)\n",
      "[DRIFT][Small Window]: Upwards Data Drift detected! (manhattan 75%-Quantile: 1.1149829816701102)\t(Index: 38303)\n",
      "[DRIFT][Small Window]: Upwards Data Drift detected!. (euclidean AVG: 0.9406484594959487)\t(Index: 38303)\n",
      "[DRIFT][Small Window]: Upwards Data Drift detected! (euclidean 25%-Quantile: 0.9406484594959487)\t(Index: 38303)\n",
      "[DRIFT][Small Window]: Upwards Data Drift detected! (euclidean 75%-Quantile: 0.9406484594959487)\t(Index: 38303)\n",
      "[DRIFT][Small Window]: Upwards Data Drift detected!. (haversine AVG: 90.24411061474262)\t(Index: 38303)\n",
      "[DRIFT][Small Window]: Upwards Data Drift detected! (haversine 25%-Quantile: 90.24411061474262)\t(Index: 38303)\n",
      "[DRIFT][Small Window]: Upwards Data Drift detected! (haversine 75%-Quantile: 90.24411061474262)\t(Index: 38303)\n",
      "[DRIFT][Small Window]: KL-Divergence detected! (haversine Divergence: 287865.10718152573)\t(Index: 38303)\n",
      "[DRIFT][Small Window]: Wasserstein Distance detected! (haversine Distance: 86.90422069624174)\t(Index: 38303)\n"
     ]
    },
    {
     "name": "stderr",
     "output_type": "stream",
     "text": [
      "[Parallel(n_jobs=-1)]: Using backend ThreadingBackend with 4 concurrent workers.\n",
      "[Parallel(n_jobs=-1)]: Done  20 out of  20 | elapsed:    0.0s finished\n"
     ]
    },
    {
     "name": "stdout",
     "output_type": "stream",
     "text": [
      "[DRIFT][Small Window]: Multi-Dimensional Upwards Mean Drift Detected! Distance: 234.4607089201066\t\t\t(Index: 38303)\n",
      "batch: 102.18843977303521, train: 2.200820905397247, train+threshold: 1.1004104526986236\n",
      "[DRIFT][Small Window]: Multi-Dimensional 3rd Quarter Upwards Drift Detected! Distance: 102.18843977303521\t\t\t(Index: 38303)\n"
     ]
    },
    {
     "name": "stderr",
     "output_type": "stream",
     "text": [
      "Setting feature_perturbation = \"tree_path_dependent\" because no background data was given.\n"
     ]
    },
    {
     "name": "stdout",
     "output_type": "stream",
     "text": [
      "[DRIFT][Medium Window]: Upwards Data Drift detected! (fare_amount 25%-Quantile: 11.461972864317666)\t(Index: 38330)\n",
      "[DRIFT][Medium Window]: KL-Divergence detected! (fare_amount Divergence: 39417.20983205534)\t(Index: 38330)\n",
      "[DRIFT][Medium Window]: Wasserstein Distance detected! (fare_amount Distance: 0.7989223447237694)\t(Index: 38330)\n",
      "[DRIFT][Medium Window]: KL-Divergence detected! (fare-bin Divergence: 4089.693588653352)\t(Index: 38330)\n",
      "[DRIFT][Medium Window]: KL-Divergence detected! (pickup_longitude Divergence: 3715.0868623037295)\t(Index: 38330)\n",
      "[DRIFT][Medium Window]: Wasserstein Distance detected! (pickup_longitude Distance: 0.6113479651101946)\t(Index: 38330)\n",
      "[DRIFT][Medium Window]: KL-Divergence detected! (pickup_latitude Divergence: 3022.0896972077953)\t(Index: 38330)\n",
      "[DRIFT][Medium Window]: Wasserstein Distance detected! (pickup_latitude Distance: 0.4838933002598638)\t(Index: 38330)\n",
      "[DRIFT][Medium Window]: KL-Divergence detected! (dropoff_longitude Divergence: 1135.7697816316913)\t(Index: 38330)\n",
      "[DRIFT][Medium Window]: KL-Divergence detected! (dropoff_latitude Divergence: 1023.8207241055406)\t(Index: 38330)\n",
      "[DRIFT][Medium Window]: KL-Divergence detected! (passenger_count Divergence: 2449.960474007943)\t(Index: 38330)\n",
      "[DRIFT][Medium Window]: Upwards Data Drift detected!. (manhattan AVG: 1.1637913284459624)\t(Index: 38330)\n",
      "[DRIFT][Medium Window]: Upwards Data Drift detected! (manhattan 25%-Quantile: 1.1637913284459624)\t(Index: 38330)\n",
      "[DRIFT][Medium Window]: Upwards Data Drift detected! (manhattan 75%-Quantile: 1.1637913284459624)\t(Index: 38330)\n",
      "[DRIFT][Medium Window]: KL-Divergence detected! (manhattan Divergence: 30248.276578518322)\t(Index: 38330)\n",
      "[DRIFT][Medium Window]: Wasserstein Distance detected! (manhattan Distance: 1.119586282951196)\t(Index: 38330)\n",
      "[DRIFT][Medium Window]: Upwards Data Drift detected!. (euclidean AVG: 0.9764579962827565)\t(Index: 38330)\n",
      "[DRIFT][Medium Window]: Upwards Data Drift detected! (euclidean 25%-Quantile: 0.9764579962827565)\t(Index: 38330)\n",
      "[DRIFT][Medium Window]: Upwards Data Drift detected! (euclidean 75%-Quantile: 0.9764579962827565)\t(Index: 38330)\n",
      "[DRIFT][Medium Window]: KL-Divergence detected! (euclidean Divergence: 25639.371162553605)\t(Index: 38330)\n",
      "[DRIFT][Medium Window]: Wasserstein Distance detected! (euclidean Distance: 0.9422840698703758)\t(Index: 38330)\n",
      "[DRIFT][Medium Window]: Upwards Data Drift detected!. (haversine AVG: 94.03765945149603)\t(Index: 38330)\n",
      "[DRIFT][Medium Window]: Upwards Data Drift detected! (haversine 25%-Quantile: 94.03765945149603)\t(Index: 38330)\n",
      "[DRIFT][Medium Window]: Upwards Data Drift detected! (haversine 75%-Quantile: 94.03765945149603)\t(Index: 38330)\n",
      "[DRIFT][Medium Window]: KL-Divergence detected! (haversine Divergence: 2460643.5905488175)\t(Index: 38330)\n",
      "[DRIFT][Medium Window]: Wasserstein Distance detected! (haversine Distance: 90.69776953299511)\t(Index: 38330)\n",
      "[DRIFT][Medium Window]: Pairwise Correlation Drift detected: dropoff_longitude <> passenger_count!\t(Index: 38330)\n"
     ]
    },
    {
     "name": "stderr",
     "output_type": "stream",
     "text": [
      "[Parallel(n_jobs=-1)]: Using backend ThreadingBackend with 4 concurrent workers.\n",
      "[Parallel(n_jobs=-1)]: Done  20 out of  20 | elapsed:    0.1s finished\n",
      "Some inputs do not have OOB scores. This probably means too few trees were used to compute any reliable oob estimates.\n"
     ]
    },
    {
     "name": "stdout",
     "output_type": "stream",
     "text": [
      "[DRIFT][Medium Window]: Multi-Dimensional Upwards Mean Drift Detected! Distance: 234.4607089201066\t\t\t(Index: 38330)\n",
      "batch: 102.18015071603698, train: 2.200820905397247, train+threshold: 1.1004104526986236\n",
      "[DRIFT][Medium Window]: Multi-Dimensional 3rd Quarter Upwards Drift Detected! Distance: 102.18015071603698\t\t\t(Index: 38330)\n"
     ]
    },
    {
     "name": "stderr",
     "output_type": "stream",
     "text": [
      "Setting feature_perturbation = \"tree_path_dependent\" because no background data was given.\n"
     ]
    },
    {
     "name": "stdout",
     "output_type": "stream",
     "text": [
      "[DRIFT][Small Window]: Downwards Data Drift detected! (passenger_count 75%-Quantile: 1.4349258649093903)\t(Index: 38607)\n",
      "[DRIFT][Small Window]: Upwards Data Drift detected!. (manhattan AVG: 1.1121575125185423)\t(Index: 38607)\n",
      "[DRIFT][Small Window]: Upwards Data Drift detected! (manhattan 25%-Quantile: 1.1121575125185423)\t(Index: 38607)\n",
      "[DRIFT][Small Window]: Upwards Data Drift detected! (manhattan 75%-Quantile: 1.1121575125185423)\t(Index: 38607)\n",
      "[DRIFT][Small Window]: Upwards Data Drift detected!. (euclidean AVG: 0.9285479026890283)\t(Index: 38607)\n",
      "[DRIFT][Small Window]: Upwards Data Drift detected! (euclidean 25%-Quantile: 0.9285479026890283)\t(Index: 38607)\n",
      "[DRIFT][Small Window]: Upwards Data Drift detected! (euclidean 75%-Quantile: 0.9285479026890283)\t(Index: 38607)\n",
      "[DRIFT][Small Window]: Upwards Data Drift detected!. (haversine AVG: 89.80477346643016)\t(Index: 38607)\n",
      "[DRIFT][Small Window]: Upwards Data Drift detected! (haversine 25%-Quantile: 89.80477346643016)\t(Index: 38607)\n",
      "[DRIFT][Small Window]: Upwards Data Drift detected! (haversine 75%-Quantile: 89.80477346643016)\t(Index: 38607)\n",
      "[DRIFT][Small Window]: KL-Divergence detected! (haversine Divergence: 287050.98263145477)\t(Index: 38607)\n",
      "[DRIFT][Small Window]: Wasserstein Distance detected! (haversine Distance: 86.46488354792928)\t(Index: 38607)\n"
     ]
    },
    {
     "name": "stderr",
     "output_type": "stream",
     "text": [
      "[Parallel(n_jobs=-1)]: Using backend ThreadingBackend with 4 concurrent workers.\n",
      "[Parallel(n_jobs=-1)]: Done  20 out of  20 | elapsed:    0.0s finished\n"
     ]
    },
    {
     "name": "stdout",
     "output_type": "stream",
     "text": [
      "[DRIFT][Small Window]: Multi-Dimensional Upwards Mean Drift Detected! Distance: 234.4607089201066\t\t\t(Index: 38607)\n",
      "batch: 102.21929169139335, train: 2.200820905397247, train+threshold: 1.1004104526986236\n",
      "[DRIFT][Small Window]: Multi-Dimensional 3rd Quarter Upwards Drift Detected! Distance: 102.21929169139335\t\t\t(Index: 38607)\n"
     ]
    },
    {
     "name": "stderr",
     "output_type": "stream",
     "text": [
      "Setting feature_perturbation = \"tree_path_dependent\" because no background data was given.\n"
     ]
    },
    {
     "name": "stdout",
     "output_type": "stream",
     "text": [
      "[DRIFT][Small Window]: Downwards Data Drift detected! (passenger_count 75%-Quantile: 1.5008237232289952)\t(Index: 38911)\n",
      "[DRIFT][Small Window]: Upwards Data Drift detected!. (manhattan AVG: 1.191694413629663)\t(Index: 38911)\n",
      "[DRIFT][Small Window]: Upwards Data Drift detected! (manhattan 25%-Quantile: 1.191694413629663)\t(Index: 38911)\n",
      "[DRIFT][Small Window]: Upwards Data Drift detected! (manhattan 75%-Quantile: 1.191694413629663)\t(Index: 38911)\n",
      "[DRIFT][Small Window]: Upwards Data Drift detected!. (euclidean AVG: 0.9846497821259155)\t(Index: 38911)\n",
      "[DRIFT][Small Window]: Upwards Data Drift detected! (euclidean 25%-Quantile: 0.9846497821259155)\t(Index: 38911)\n",
      "[DRIFT][Small Window]: Upwards Data Drift detected! (euclidean 75%-Quantile: 0.9846497821259155)\t(Index: 38911)\n",
      "[DRIFT][Small Window]: Upwards Data Drift detected!. (haversine AVG: 95.36148412442046)\t(Index: 38911)\n",
      "[DRIFT][Small Window]: Upwards Data Drift detected! (haversine 25%-Quantile: 95.36148412442046)\t(Index: 38911)\n",
      "[DRIFT][Small Window]: Upwards Data Drift detected! (haversine 75%-Quantile: 95.36148412442046)\t(Index: 38911)\n",
      "[DRIFT][Small Window]: KL-Divergence detected! (haversine Divergence: 307633.90122561454)\t(Index: 38911)\n",
      "[DRIFT][Small Window]: Wasserstein Distance detected! (haversine Distance: 92.02159420591953)\t(Index: 38911)\n"
     ]
    },
    {
     "name": "stderr",
     "output_type": "stream",
     "text": [
      "[Parallel(n_jobs=-1)]: Using backend ThreadingBackend with 4 concurrent workers.\n",
      "[Parallel(n_jobs=-1)]: Done  20 out of  20 | elapsed:    0.0s finished\n"
     ]
    },
    {
     "name": "stdout",
     "output_type": "stream",
     "text": [
      "[DRIFT][Small Window]: Multi-Dimensional Upwards Mean Drift Detected! Distance: 234.4607089201066\t\t\t(Index: 38911)\n",
      "batch: 102.30966885244507, train: 2.200820905397247, train+threshold: 1.1004104526986236\n",
      "[DRIFT][Small Window]: Multi-Dimensional 3rd Quarter Upwards Drift Detected! Distance: 102.30966885244507\t\t\t(Index: 38911)\n",
      "------------------------ INDEX: 39000 ------------------------\n"
     ]
    },
    {
     "name": "stderr",
     "output_type": "stream",
     "text": [
      "Setting feature_perturbation = \"tree_path_dependent\" because no background data was given.\n"
     ]
    },
    {
     "name": "stdout",
     "output_type": "stream",
     "text": [
      "[DRIFT][Small Window]: Upwards Data Drift detected!. (manhattan AVG: 1.1857994666366314)\t(Index: 39215)\n",
      "[DRIFT][Small Window]: Upwards Data Drift detected! (manhattan 25%-Quantile: 1.1857994666366314)\t(Index: 39215)\n",
      "[DRIFT][Small Window]: Upwards Data Drift detected! (manhattan 75%-Quantile: 1.1857994666366314)\t(Index: 39215)\n",
      "[DRIFT][Small Window]: Upwards Data Drift detected!. (euclidean AVG: 0.9905983311695018)\t(Index: 39215)\n",
      "[DRIFT][Small Window]: Upwards Data Drift detected! (euclidean 25%-Quantile: 0.9905983311695018)\t(Index: 39215)\n",
      "[DRIFT][Small Window]: Upwards Data Drift detected! (euclidean 75%-Quantile: 0.9905983311695018)\t(Index: 39215)\n",
      "[DRIFT][Small Window]: Upwards Data Drift detected!. (haversine AVG: 95.02935351321072)\t(Index: 39215)\n",
      "[DRIFT][Small Window]: Upwards Data Drift detected! (haversine 25%-Quantile: 95.02935351321072)\t(Index: 39215)\n",
      "[DRIFT][Small Window]: Upwards Data Drift detected! (haversine 75%-Quantile: 95.02935351321072)\t(Index: 39215)\n",
      "[DRIFT][Small Window]: KL-Divergence detected! (haversine Divergence: 285867.73860405595)\t(Index: 39215)\n",
      "[DRIFT][Small Window]: Wasserstein Distance detected! (haversine Distance: 91.68946359470982)\t(Index: 39215)\n"
     ]
    },
    {
     "name": "stderr",
     "output_type": "stream",
     "text": [
      "[Parallel(n_jobs=-1)]: Using backend ThreadingBackend with 4 concurrent workers.\n",
      "[Parallel(n_jobs=-1)]: Done  20 out of  20 | elapsed:    0.0s finished\n",
      "Some inputs do not have OOB scores. This probably means too few trees were used to compute any reliable oob estimates.\n"
     ]
    },
    {
     "name": "stdout",
     "output_type": "stream",
     "text": [
      "[DRIFT][Small Window]: Multi-Dimensional Upwards Mean Drift Detected! Distance: 234.4607089201066\t\t\t(Index: 39215)\n",
      "batch: 102.3340123973557, train: 2.200820905397247, train+threshold: 1.1004104526986236\n",
      "[DRIFT][Small Window]: Multi-Dimensional 3rd Quarter Upwards Drift Detected! Distance: 102.3340123973557\t\t\t(Index: 39215)\n"
     ]
    },
    {
     "name": "stderr",
     "output_type": "stream",
     "text": [
      "Setting feature_perturbation = \"tree_path_dependent\" because no background data was given.\n"
     ]
    },
    {
     "name": "stdout",
     "output_type": "stream",
     "text": [
      "[DRIFT][Small Window]: Wasserstein Distance detected! (fare_amount Distance: 1.332800912399986)\t(Index: 39519)\n",
      "[DRIFT][Small Window]: Upwards Data Drift detected!. (manhattan AVG: 1.2143363263062272)\t(Index: 39519)\n",
      "[DRIFT][Small Window]: Upwards Data Drift detected! (manhattan 25%-Quantile: 1.2143363263062272)\t(Index: 39519)\n",
      "[DRIFT][Small Window]: Upwards Data Drift detected! (manhattan 75%-Quantile: 1.2143363263062272)\t(Index: 39519)\n",
      "[DRIFT][Small Window]: Upwards Data Drift detected!. (euclidean AVG: 1.0175780753369497)\t(Index: 39519)\n",
      "[DRIFT][Small Window]: Upwards Data Drift detected! (euclidean 25%-Quantile: 1.0175780753369497)\t(Index: 39519)\n",
      "[DRIFT][Small Window]: Upwards Data Drift detected! (euclidean 75%-Quantile: 1.0175780753369497)\t(Index: 39519)\n",
      "[DRIFT][Small Window]: Upwards Data Drift detected!. (haversine AVG: 97.97730019504608)\t(Index: 39519)\n",
      "[DRIFT][Small Window]: Upwards Data Drift detected! (haversine 25%-Quantile: 97.97730019504608)\t(Index: 39519)\n",
      "[DRIFT][Small Window]: Upwards Data Drift detected! (haversine 75%-Quantile: 97.97730019504608)\t(Index: 39519)\n",
      "[DRIFT][Small Window]: KL-Divergence detected! (haversine Divergence: 314725.5979063479)\t(Index: 39519)\n",
      "[DRIFT][Small Window]: Wasserstein Distance detected! (haversine Distance: 94.63741027654518)\t(Index: 39519)\n"
     ]
    },
    {
     "name": "stderr",
     "output_type": "stream",
     "text": [
      "[Parallel(n_jobs=-1)]: Using backend ThreadingBackend with 4 concurrent workers.\n",
      "[Parallel(n_jobs=-1)]: Done  20 out of  20 | elapsed:    0.0s finished\n"
     ]
    },
    {
     "name": "stdout",
     "output_type": "stream",
     "text": [
      "[DRIFT][Small Window]: Multi-Dimensional Upwards Mean Drift Detected! Distance: 234.4607089201066\t\t\t(Index: 39519)\n",
      "batch: 102.39976516830907, train: 2.200820905397247, train+threshold: 1.1004104526986236\n",
      "[DRIFT][Small Window]: Multi-Dimensional 3rd Quarter Upwards Drift Detected! Distance: 102.39976516830907\t\t\t(Index: 39519)\n"
     ]
    },
    {
     "name": "stderr",
     "output_type": "stream",
     "text": [
      "Setting feature_perturbation = \"tree_path_dependent\" because no background data was given.\n"
     ]
    },
    {
     "name": "stdout",
     "output_type": "stream",
     "text": [
      "[DRIFT][Small Window]: Wasserstein Distance detected! (fare_amount Distance: 1.5126997426204667)\t(Index: 39823)\n",
      "[DRIFT][Small Window]: Upwards Data Drift detected!. (manhattan AVG: 1.2665187580698796)\t(Index: 39823)\n",
      "[DRIFT][Small Window]: Upwards Data Drift detected! (manhattan 25%-Quantile: 1.2665187580698796)\t(Index: 39823)\n",
      "[DRIFT][Small Window]: Upwards Data Drift detected! (manhattan 75%-Quantile: 1.2665187580698796)\t(Index: 39823)\n",
      "[DRIFT][Small Window]: Wasserstein Distance detected! (manhattan Distance: 1.2223137125751131)\t(Index: 39823)\n",
      "[DRIFT][Small Window]: Upwards Data Drift detected!. (euclidean AVG: 1.0540284923000276)\t(Index: 39823)\n",
      "[DRIFT][Small Window]: Upwards Data Drift detected! (euclidean 25%-Quantile: 1.0540284923000276)\t(Index: 39823)\n",
      "[DRIFT][Small Window]: Upwards Data Drift detected! (euclidean 75%-Quantile: 1.0540284923000276)\t(Index: 39823)\n",
      "[DRIFT][Small Window]: Upwards Data Drift detected!. (haversine AVG: 101.41775613317786)\t(Index: 39823)\n",
      "[DRIFT][Small Window]: Upwards Data Drift detected! (haversine 25%-Quantile: 101.41775613317786)\t(Index: 39823)\n",
      "[DRIFT][Small Window]: Upwards Data Drift detected! (haversine 75%-Quantile: 101.41775613317786)\t(Index: 39823)\n",
      "[DRIFT][Small Window]: KL-Divergence detected! (haversine Divergence: 304754.6214722648)\t(Index: 39823)\n",
      "[DRIFT][Small Window]: Wasserstein Distance detected! (haversine Distance: 98.07786621467693)\t(Index: 39823)\n"
     ]
    },
    {
     "name": "stderr",
     "output_type": "stream",
     "text": [
      "[Parallel(n_jobs=-1)]: Using backend ThreadingBackend with 4 concurrent workers.\n",
      "[Parallel(n_jobs=-1)]: Done  20 out of  20 | elapsed:    0.0s finished\n"
     ]
    },
    {
     "name": "stdout",
     "output_type": "stream",
     "text": [
      "[DRIFT][Small Window]: Multi-Dimensional Upwards Mean Drift Detected! Distance: 234.4607089201066\t\t\t(Index: 39823)\n",
      "batch: 102.52032670308583, train: 2.200820905397247, train+threshold: 1.1004104526986236\n",
      "[DRIFT][Small Window]: Multi-Dimensional 3rd Quarter Upwards Drift Detected! Distance: 102.52032670308583\t\t\t(Index: 39823)\n",
      "------------------------ INDEX: 40000 ------------------------\n"
     ]
    },
    {
     "name": "stderr",
     "output_type": "stream",
     "text": [
      "Setting feature_perturbation = \"tree_path_dependent\" because no background data was given.\n"
     ]
    },
    {
     "name": "stdout",
     "output_type": "stream",
     "text": [
      "[DRIFT][Small Window]: Upwards Data Drift detected!. (manhattan AVG: 1.244828948850243)\t(Index: 40127)\n",
      "[DRIFT][Small Window]: Upwards Data Drift detected! (manhattan 25%-Quantile: 1.244828948850243)\t(Index: 40127)\n",
      "[DRIFT][Small Window]: Upwards Data Drift detected! (manhattan 75%-Quantile: 1.244828948850243)\t(Index: 40127)\n",
      "[DRIFT][Small Window]: Wasserstein Distance detected! (manhattan Distance: 1.2006239033554764)\t(Index: 40127)\n",
      "[DRIFT][Small Window]: Upwards Data Drift detected!. (euclidean AVG: 1.0335098712839084)\t(Index: 40127)\n",
      "[DRIFT][Small Window]: Upwards Data Drift detected! (euclidean 25%-Quantile: 1.0335098712839084)\t(Index: 40127)\n",
      "[DRIFT][Small Window]: Upwards Data Drift detected! (euclidean 75%-Quantile: 1.0335098712839084)\t(Index: 40127)\n",
      "[DRIFT][Small Window]: Upwards Data Drift detected!. (haversine AVG: 99.21441052473082)\t(Index: 40127)\n",
      "[DRIFT][Small Window]: Upwards Data Drift detected! (haversine 25%-Quantile: 99.21441052473082)\t(Index: 40127)\n",
      "[DRIFT][Small Window]: Upwards Data Drift detected! (haversine 75%-Quantile: 99.21441052473082)\t(Index: 40127)\n",
      "[DRIFT][Small Window]: KL-Divergence detected! (haversine Divergence: 321040.32845607883)\t(Index: 40127)\n",
      "[DRIFT][Small Window]: Wasserstein Distance detected! (haversine Distance: 95.87452060622994)\t(Index: 40127)\n"
     ]
    },
    {
     "name": "stderr",
     "output_type": "stream",
     "text": [
      "[Parallel(n_jobs=-1)]: Using backend ThreadingBackend with 4 concurrent workers.\n",
      "[Parallel(n_jobs=-1)]: Done  20 out of  20 | elapsed:    0.0s finished\n"
     ]
    },
    {
     "name": "stdout",
     "output_type": "stream",
     "text": [
      "[DRIFT][Small Window]: Multi-Dimensional Upwards Mean Drift Detected! Distance: 234.4607089201066\t\t\t(Index: 40127)\n",
      "batch: 102.57959658512095, train: 2.200820905397247, train+threshold: 1.1004104526986236\n",
      "[DRIFT][Small Window]: Multi-Dimensional 3rd Quarter Upwards Drift Detected! Distance: 102.57959658512095\t\t\t(Index: 40127)\n"
     ]
    },
    {
     "name": "stderr",
     "output_type": "stream",
     "text": [
      "Setting feature_perturbation = \"tree_path_dependent\" because no background data was given.\n"
     ]
    },
    {
     "name": "stdout",
     "output_type": "stream",
     "text": [
      "[DRIFT][Small Window]: Upwards Data Drift detected!. (manhattan AVG: 1.211652832774636)\t(Index: 40431)\n",
      "[DRIFT][Small Window]: Upwards Data Drift detected! (manhattan 25%-Quantile: 1.211652832774636)\t(Index: 40431)\n",
      "[DRIFT][Small Window]: Upwards Data Drift detected! (manhattan 75%-Quantile: 1.211652832774636)\t(Index: 40431)\n",
      "[DRIFT][Small Window]: Upwards Data Drift detected!. (euclidean AVG: 1.0008625642696767)\t(Index: 40431)\n",
      "[DRIFT][Small Window]: Upwards Data Drift detected! (euclidean 25%-Quantile: 1.0008625642696767)\t(Index: 40431)\n",
      "[DRIFT][Small Window]: Upwards Data Drift detected! (euclidean 75%-Quantile: 1.0008625642696767)\t(Index: 40431)\n",
      "[DRIFT][Small Window]: Upwards Data Drift detected!. (haversine AVG: 96.85697779143123)\t(Index: 40431)\n",
      "[DRIFT][Small Window]: Upwards Data Drift detected! (haversine 25%-Quantile: 96.85697779143123)\t(Index: 40431)\n",
      "[DRIFT][Small Window]: Upwards Data Drift detected! (haversine 75%-Quantile: 96.85697779143123)\t(Index: 40431)\n",
      "[DRIFT][Small Window]: KL-Divergence detected! (haversine Divergence: 288597.5444229017)\t(Index: 40431)\n",
      "[DRIFT][Small Window]: Wasserstein Distance detected! (haversine Distance: 93.51708787293035)\t(Index: 40431)\n",
      "[DRIFT][Small Window]: Pairwise Correlation Drift detected: dropoff_longitude <> passenger_count!\t(Index: 40431)\n"
     ]
    },
    {
     "name": "stderr",
     "output_type": "stream",
     "text": [
      "[Parallel(n_jobs=-1)]: Using backend ThreadingBackend with 4 concurrent workers.\n",
      "[Parallel(n_jobs=-1)]: Done  20 out of  20 | elapsed:    0.0s finished\n"
     ]
    },
    {
     "name": "stdout",
     "output_type": "stream",
     "text": [
      "[DRIFT][Small Window]: Multi-Dimensional Upwards Mean Drift Detected! Distance: 234.4607089201066\t\t\t(Index: 40431)\n",
      "batch: 102.5846387352461, train: 2.200820905397247, train+threshold: 1.1004104526986236\n",
      "[DRIFT][Small Window]: Multi-Dimensional 3rd Quarter Upwards Drift Detected! Distance: 102.5846387352461\t\t\t(Index: 40431)\n"
     ]
    },
    {
     "name": "stderr",
     "output_type": "stream",
     "text": [
      "Setting feature_perturbation = \"tree_path_dependent\" because no background data was given.\n"
     ]
    },
    {
     "name": "stdout",
     "output_type": "stream",
     "text": [
      "[DRIFT][Small Window]: KL-Divergence detected! (fare_amount Divergence: 6679.2501411453)\t(Index: 40735)\n",
      "[DRIFT][Small Window]: Wasserstein Distance detected! (fare_amount Distance: 1.2205772942665303)\t(Index: 40735)\n",
      "[DRIFT][Small Window]: Upwards Data Drift detected!. (manhattan AVG: 1.1620927101285474)\t(Index: 40735)\n",
      "[DRIFT][Small Window]: Upwards Data Drift detected! (manhattan 25%-Quantile: 1.1620927101285474)\t(Index: 40735)\n",
      "[DRIFT][Small Window]: Upwards Data Drift detected! (manhattan 75%-Quantile: 1.1620927101285474)\t(Index: 40735)\n",
      "[DRIFT][Small Window]: Upwards Data Drift detected!. (euclidean AVG: 0.9701570460113479)\t(Index: 40735)\n",
      "[DRIFT][Small Window]: Upwards Data Drift detected! (euclidean 25%-Quantile: 0.9701570460113479)\t(Index: 40735)\n",
      "[DRIFT][Small Window]: Upwards Data Drift detected! (euclidean 75%-Quantile: 0.9701570460113479)\t(Index: 40735)\n",
      "[DRIFT][Small Window]: Upwards Data Drift detected!. (haversine AVG: 93.12176002713116)\t(Index: 40735)\n",
      "[DRIFT][Small Window]: Upwards Data Drift detected! (haversine 25%-Quantile: 93.12176002713116)\t(Index: 40735)\n",
      "[DRIFT][Small Window]: Upwards Data Drift detected! (haversine 75%-Quantile: 93.12176002713116)\t(Index: 40735)\n",
      "[DRIFT][Small Window]: KL-Divergence detected! (haversine Divergence: 294265.95459783095)\t(Index: 40735)\n",
      "[DRIFT][Small Window]: Wasserstein Distance detected! (haversine Distance: 89.78187010863026)\t(Index: 40735)\n"
     ]
    },
    {
     "name": "stderr",
     "output_type": "stream",
     "text": [
      "[Parallel(n_jobs=-1)]: Using backend ThreadingBackend with 4 concurrent workers.\n",
      "[Parallel(n_jobs=-1)]: Done  20 out of  20 | elapsed:    0.0s finished\n"
     ]
    },
    {
     "name": "stdout",
     "output_type": "stream",
     "text": [
      "[DRIFT][Small Window]: Multi-Dimensional Upwards Mean Drift Detected! Distance: 234.4607089201066\t\t\t(Index: 40735)\n",
      "batch: 102.61906915964383, train: 2.200820905397247, train+threshold: 1.1004104526986236\n",
      "[DRIFT][Small Window]: Multi-Dimensional 3rd Quarter Upwards Drift Detected! Distance: 102.61906915964383\t\t\t(Index: 40735)\n",
      "------------------------ INDEX: 41000 ------------------------\n"
     ]
    },
    {
     "name": "stderr",
     "output_type": "stream",
     "text": [
      "Setting feature_perturbation = \"tree_path_dependent\" because no background data was given.\n"
     ]
    },
    {
     "name": "stdout",
     "output_type": "stream",
     "text": [
      "[DRIFT][Small Window]: Upwards Data Drift detected!. (manhattan AVG: 1.1405322520429853)\t(Index: 41039)\n",
      "[DRIFT][Small Window]: Upwards Data Drift detected! (manhattan 25%-Quantile: 1.1405322520429853)\t(Index: 41039)\n",
      "[DRIFT][Small Window]: Upwards Data Drift detected! (manhattan 75%-Quantile: 1.1405322520429853)\t(Index: 41039)\n",
      "[DRIFT][Small Window]: Upwards Data Drift detected!. (euclidean AVG: 0.9622611043068197)\t(Index: 41039)\n",
      "[DRIFT][Small Window]: Upwards Data Drift detected! (euclidean 25%-Quantile: 0.9622611043068197)\t(Index: 41039)\n",
      "[DRIFT][Small Window]: Upwards Data Drift detected! (euclidean 75%-Quantile: 0.9622611043068197)\t(Index: 41039)\n",
      "[DRIFT][Small Window]: Upwards Data Drift detected!. (haversine AVG: 92.19453194409027)\t(Index: 41039)\n",
      "[DRIFT][Small Window]: Upwards Data Drift detected! (haversine 25%-Quantile: 92.19453194409027)\t(Index: 41039)\n",
      "[DRIFT][Small Window]: Upwards Data Drift detected! (haversine 75%-Quantile: 92.19453194409027)\t(Index: 41039)\n",
      "[DRIFT][Small Window]: KL-Divergence detected! (haversine Divergence: 294599.7918856444)\t(Index: 41039)\n",
      "[DRIFT][Small Window]: Wasserstein Distance detected! (haversine Distance: 88.85464202558937)\t(Index: 41039)\n",
      "[DRIFT][Small Window]: Pairwise Correlation Drift detected: dropoff_longitude <> passenger_count!\t(Index: 41039)\n"
     ]
    },
    {
     "name": "stderr",
     "output_type": "stream",
     "text": [
      "[Parallel(n_jobs=-1)]: Using backend ThreadingBackend with 4 concurrent workers.\n",
      "[Parallel(n_jobs=-1)]: Done  20 out of  20 | elapsed:    0.0s finished\n"
     ]
    },
    {
     "name": "stdout",
     "output_type": "stream",
     "text": [
      "[DRIFT][Small Window]: Multi-Dimensional Upwards Mean Drift Detected! Distance: 234.4607089201066\t\t\t(Index: 41039)\n",
      "batch: 102.63430278309517, train: 2.200820905397247, train+threshold: 1.1004104526986236\n",
      "[DRIFT][Small Window]: Multi-Dimensional 3rd Quarter Upwards Drift Detected! Distance: 102.63430278309517\t\t\t(Index: 41039)\n"
     ]
    },
    {
     "name": "stderr",
     "output_type": "stream",
     "text": [
      "Setting feature_perturbation = \"tree_path_dependent\" because no background data was given.\n"
     ]
    },
    {
     "name": "stdout",
     "output_type": "stream",
     "text": [
      "[DRIFT][Small Window]: Upwards Data Drift detected!. (manhattan AVG: 1.1307643640030747)\t(Index: 41343)\n",
      "[DRIFT][Small Window]: Upwards Data Drift detected! (manhattan 25%-Quantile: 1.1307643640030747)\t(Index: 41343)\n",
      "[DRIFT][Small Window]: Upwards Data Drift detected! (manhattan 75%-Quantile: 1.1307643640030747)\t(Index: 41343)\n",
      "[DRIFT][Small Window]: Upwards Data Drift detected!. (euclidean AVG: 0.9572434845230077)\t(Index: 41343)\n",
      "[DRIFT][Small Window]: Upwards Data Drift detected! (euclidean 25%-Quantile: 0.9572434845230077)\t(Index: 41343)\n",
      "[DRIFT][Small Window]: Upwards Data Drift detected! (euclidean 75%-Quantile: 0.9572434845230077)\t(Index: 41343)\n",
      "[DRIFT][Small Window]: Upwards Data Drift detected!. (haversine AVG: 91.79030030418875)\t(Index: 41343)\n",
      "[DRIFT][Small Window]: Upwards Data Drift detected! (haversine 25%-Quantile: 91.79030030418875)\t(Index: 41343)\n",
      "[DRIFT][Small Window]: Upwards Data Drift detected! (haversine 75%-Quantile: 91.79030030418875)\t(Index: 41343)\n",
      "[DRIFT][Small Window]: KL-Divergence detected! (haversine Divergence: 277550.5008399681)\t(Index: 41343)\n",
      "[DRIFT][Small Window]: Wasserstein Distance detected! (haversine Distance: 88.45041038568786)\t(Index: 41343)\n"
     ]
    },
    {
     "name": "stderr",
     "output_type": "stream",
     "text": [
      "[Parallel(n_jobs=-1)]: Using backend ThreadingBackend with 4 concurrent workers.\n",
      "[Parallel(n_jobs=-1)]: Done  20 out of  20 | elapsed:    0.0s finished\n"
     ]
    },
    {
     "name": "stdout",
     "output_type": "stream",
     "text": [
      "[DRIFT][Small Window]: Multi-Dimensional Upwards Mean Drift Detected! Distance: 234.4607089201066\t\t\t(Index: 41343)\n",
      "batch: 102.6368864257029, train: 2.200820905397247, train+threshold: 1.1004104526986236\n",
      "[DRIFT][Small Window]: Multi-Dimensional 3rd Quarter Upwards Drift Detected! Distance: 102.6368864257029\t\t\t(Index: 41343)\n"
     ]
    },
    {
     "name": "stderr",
     "output_type": "stream",
     "text": [
      "Setting feature_perturbation = \"tree_path_dependent\" because no background data was given.\n"
     ]
    },
    {
     "name": "stdout",
     "output_type": "stream",
     "text": [
      "[DRIFT][Small Window]: Upwards Data Drift detected!. (manhattan AVG: 1.1198938225783257)\t(Index: 41647)\n",
      "[DRIFT][Small Window]: Upwards Data Drift detected! (manhattan 25%-Quantile: 1.1198938225783257)\t(Index: 41647)\n",
      "[DRIFT][Small Window]: Upwards Data Drift detected! (manhattan 75%-Quantile: 1.1198938225783257)\t(Index: 41647)\n",
      "[DRIFT][Small Window]: Upwards Data Drift detected!. (euclidean AVG: 0.9526199924234474)\t(Index: 41647)\n",
      "[DRIFT][Small Window]: Upwards Data Drift detected! (euclidean 25%-Quantile: 0.9526199924234474)\t(Index: 41647)\n",
      "[DRIFT][Small Window]: Upwards Data Drift detected! (euclidean 75%-Quantile: 0.9526199924234474)\t(Index: 41647)\n",
      "[DRIFT][Small Window]: Upwards Data Drift detected!. (haversine AVG: 91.08248798135014)\t(Index: 41647)\n",
      "[DRIFT][Small Window]: Upwards Data Drift detected! (haversine 25%-Quantile: 91.08248798135014)\t(Index: 41647)\n",
      "[DRIFT][Small Window]: Upwards Data Drift detected! (haversine 75%-Quantile: 91.08248798135014)\t(Index: 41647)\n",
      "[DRIFT][Small Window]: KL-Divergence detected! (haversine Divergence: 293126.9029618297)\t(Index: 41647)\n",
      "[DRIFT][Small Window]: Wasserstein Distance detected! (haversine Distance: 87.74259806284924)\t(Index: 41647)\n",
      "[DRIFT][Small Window]: Pairwise Correlation Drift detected: pickup_longitude <> passenger_count!\t(Index: 41647)\n"
     ]
    },
    {
     "name": "stderr",
     "output_type": "stream",
     "text": [
      "[Parallel(n_jobs=-1)]: Using backend ThreadingBackend with 4 concurrent workers.\n",
      "[Parallel(n_jobs=-1)]: Done  20 out of  20 | elapsed:    0.0s finished\n"
     ]
    },
    {
     "name": "stdout",
     "output_type": "stream",
     "text": [
      "[DRIFT][Small Window]: Multi-Dimensional Upwards Mean Drift Detected! Distance: 234.4607089201066\t\t\t(Index: 41647)\n",
      "batch: 102.66800726789751, train: 2.200820905397247, train+threshold: 1.1004104526986236\n",
      "[DRIFT][Small Window]: Multi-Dimensional 3rd Quarter Upwards Drift Detected! Distance: 102.66800726789751\t\t\t(Index: 41647)\n"
     ]
    },
    {
     "name": "stderr",
     "output_type": "stream",
     "text": [
      "Setting feature_perturbation = \"tree_path_dependent\" because no background data was given.\n"
     ]
    },
    {
     "name": "stdout",
     "output_type": "stream",
     "text": [
      "[DRIFT][Small Window]: Downwards Data Drift detected! (passenger_count 75%-Quantile: 1.4695222405271828)\t(Index: 41951)\n",
      "[DRIFT][Small Window]: Upwards Data Drift detected!. (manhattan AVG: 1.2633781283788479)\t(Index: 41951)\n",
      "[DRIFT][Small Window]: Upwards Data Drift detected! (manhattan 25%-Quantile: 1.2633781283788479)\t(Index: 41951)\n",
      "[DRIFT][Small Window]: Upwards Data Drift detected! (manhattan 75%-Quantile: 1.2633781283788479)\t(Index: 41951)\n",
      "[DRIFT][Small Window]: Wasserstein Distance detected! (manhattan Distance: 1.2191730828840814)\t(Index: 41951)\n",
      "[DRIFT][Small Window]: Upwards Data Drift detected!. (euclidean AVG: 1.0581377565829497)\t(Index: 41951)\n",
      "[DRIFT][Small Window]: Upwards Data Drift detected! (euclidean 25%-Quantile: 1.0581377565829497)\t(Index: 41951)\n",
      "[DRIFT][Small Window]: Upwards Data Drift detected! (euclidean 75%-Quantile: 1.0581377565829497)\t(Index: 41951)\n",
      "[DRIFT][Small Window]: Upwards Data Drift detected!. (haversine AVG: 100.61322321839862)\t(Index: 41951)\n",
      "[DRIFT][Small Window]: Upwards Data Drift detected! (haversine 25%-Quantile: 100.61322321839862)\t(Index: 41951)\n",
      "[DRIFT][Small Window]: Upwards Data Drift detected! (haversine 75%-Quantile: 100.61322321839862)\t(Index: 41951)\n",
      "[DRIFT][Small Window]: KL-Divergence detected! (haversine Divergence: 318947.23920513235)\t(Index: 41951)\n",
      "[DRIFT][Small Window]: Wasserstein Distance detected! (haversine Distance: 97.27333329989773)\t(Index: 41951)\n"
     ]
    },
    {
     "name": "stderr",
     "output_type": "stream",
     "text": [
      "[Parallel(n_jobs=-1)]: Using backend ThreadingBackend with 4 concurrent workers.\n",
      "[Parallel(n_jobs=-1)]: Done  20 out of  20 | elapsed:    0.0s finished\n",
      "Some inputs do not have OOB scores. This probably means too few trees were used to compute any reliable oob estimates.\n"
     ]
    },
    {
     "name": "stdout",
     "output_type": "stream",
     "text": [
      "[DRIFT][Small Window]: Multi-Dimensional Upwards Mean Drift Detected! Distance: 234.4607089201066\t\t\t(Index: 41951)\n",
      "batch: 102.71967579718728, train: 2.200820905397247, train+threshold: 1.1004104526986236\n",
      "[DRIFT][Small Window]: Multi-Dimensional 3rd Quarter Upwards Drift Detected! Distance: 102.71967579718728\t\t\t(Index: 41951)\n",
      "------------------------ INDEX: 42000 ------------------------\n"
     ]
    },
    {
     "name": "stderr",
     "output_type": "stream",
     "text": [
      "Setting feature_perturbation = \"tree_path_dependent\" because no background data was given.\n"
     ]
    },
    {
     "name": "stdout",
     "output_type": "stream",
     "text": [
      "[DRIFT][Small Window]: Downwards Data Drift detected! (passenger_count 75%-Quantile: 1.5107084019769357)\t(Index: 42255)\n",
      "[DRIFT][Small Window]: Upwards Data Drift detected!. (manhattan AVG: 1.2262288094902014)\t(Index: 42255)\n",
      "[DRIFT][Small Window]: Upwards Data Drift detected! (manhattan 25%-Quantile: 1.2262288094902014)\t(Index: 42255)\n",
      "[DRIFT][Small Window]: Upwards Data Drift detected! (manhattan 75%-Quantile: 1.2262288094902014)\t(Index: 42255)\n",
      "[DRIFT][Small Window]: Upwards Data Drift detected!. (euclidean AVG: 1.025954150919346)\t(Index: 42255)\n",
      "[DRIFT][Small Window]: Upwards Data Drift detected! (euclidean 25%-Quantile: 1.025954150919346)\t(Index: 42255)\n",
      "[DRIFT][Small Window]: Upwards Data Drift detected! (euclidean 75%-Quantile: 1.025954150919346)\t(Index: 42255)\n",
      "[DRIFT][Small Window]: Upwards Data Drift detected!. (haversine AVG: 97.51121227675615)\t(Index: 42255)\n",
      "[DRIFT][Small Window]: Upwards Data Drift detected! (haversine 25%-Quantile: 97.51121227675615)\t(Index: 42255)\n",
      "[DRIFT][Small Window]: Upwards Data Drift detected! (haversine 75%-Quantile: 97.51121227675615)\t(Index: 42255)\n",
      "[DRIFT][Small Window]: KL-Divergence detected! (haversine Divergence: 295319.5353827458)\t(Index: 42255)\n",
      "[DRIFT][Small Window]: Wasserstein Distance detected! (haversine Distance: 94.17132235825522)\t(Index: 42255)\n"
     ]
    },
    {
     "name": "stderr",
     "output_type": "stream",
     "text": [
      "[Parallel(n_jobs=-1)]: Using backend ThreadingBackend with 4 concurrent workers.\n",
      "[Parallel(n_jobs=-1)]: Done  20 out of  20 | elapsed:    0.0s finished\n"
     ]
    },
    {
     "name": "stdout",
     "output_type": "stream",
     "text": [
      "[DRIFT][Small Window]: Multi-Dimensional Upwards Mean Drift Detected! Distance: 234.4607089201066\t\t\t(Index: 42255)\n",
      "batch: 102.71819915595171, train: 2.200820905397247, train+threshold: 1.1004104526986236\n",
      "[DRIFT][Small Window]: Multi-Dimensional 3rd Quarter Upwards Drift Detected! Distance: 102.71819915595171\t\t\t(Index: 42255)\n"
     ]
    },
    {
     "name": "stderr",
     "output_type": "stream",
     "text": [
      "Setting feature_perturbation = \"tree_path_dependent\" because no background data was given.\n"
     ]
    },
    {
     "name": "stdout",
     "output_type": "stream",
     "text": [
      "[DRIFT][Small Window]: Upwards Data Drift detected!. (manhattan AVG: 1.1233043769362019)\t(Index: 42559)\n",
      "[DRIFT][Small Window]: Upwards Data Drift detected! (manhattan 25%-Quantile: 1.1233043769362019)\t(Index: 42559)\n",
      "[DRIFT][Small Window]: Upwards Data Drift detected! (manhattan 75%-Quantile: 1.1233043769362019)\t(Index: 42559)\n",
      "[DRIFT][Small Window]: Upwards Data Drift detected!. (euclidean AVG: 0.9456286439341162)\t(Index: 42559)\n",
      "[DRIFT][Small Window]: Upwards Data Drift detected! (euclidean 25%-Quantile: 0.9456286439341162)\t(Index: 42559)\n",
      "[DRIFT][Small Window]: Upwards Data Drift detected! (euclidean 75%-Quantile: 0.9456286439341162)\t(Index: 42559)\n",
      "[DRIFT][Small Window]: Upwards Data Drift detected!. (haversine AVG: 90.86540626350795)\t(Index: 42559)\n",
      "[DRIFT][Small Window]: Upwards Data Drift detected! (haversine 25%-Quantile: 90.86540626350795)\t(Index: 42559)\n",
      "[DRIFT][Small Window]: Upwards Data Drift detected! (haversine 75%-Quantile: 90.86540626350795)\t(Index: 42559)\n",
      "[DRIFT][Small Window]: KL-Divergence detected! (haversine Divergence: 284055.5726232851)\t(Index: 42559)\n",
      "[DRIFT][Small Window]: Wasserstein Distance detected! (haversine Distance: 87.52551634500703)\t(Index: 42559)\n",
      "[DRIFT][Small Window]: Pairwise Correlation Drift detected: pickup_longitude <> passenger_count!\t(Index: 42559)\n",
      "[DRIFT][Small Window]: Pairwise Correlation Drift detected: dropoff_longitude <> passenger_count!\t(Index: 42559)\n"
     ]
    },
    {
     "name": "stderr",
     "output_type": "stream",
     "text": [
      "[Parallel(n_jobs=-1)]: Using backend ThreadingBackend with 4 concurrent workers.\n",
      "[Parallel(n_jobs=-1)]: Done  20 out of  20 | elapsed:    0.0s finished\n"
     ]
    },
    {
     "name": "stdout",
     "output_type": "stream",
     "text": [
      "[DRIFT][Small Window]: Multi-Dimensional Upwards Mean Drift Detected! Distance: 234.4607089201066\t\t\t(Index: 42559)\n",
      "batch: 102.75461736634745, train: 2.200820905397247, train+threshold: 1.1004104526986236\n",
      "[DRIFT][Small Window]: Multi-Dimensional 3rd Quarter Upwards Drift Detected! Distance: 102.75461736634745\t\t\t(Index: 42559)\n"
     ]
    },
    {
     "name": "stderr",
     "output_type": "stream",
     "text": [
      "Setting feature_perturbation = \"tree_path_dependent\" because no background data was given.\n"
     ]
    },
    {
     "name": "stdout",
     "output_type": "stream",
     "text": [
      "[DRIFT][Medium Window]: Upwards Data Drift detected! (fare_amount 25%-Quantile: 11.654480281816562)\t(Index: 42589)\n",
      "[DRIFT][Medium Window]: KL-Divergence detected! (fare_amount Divergence: 42547.26233617488)\t(Index: 42589)\n",
      "[DRIFT][Medium Window]: Wasserstein Distance detected! (fare_amount Distance: 0.7627328303153497)\t(Index: 42589)\n",
      "[DRIFT][Medium Window]: KL-Divergence detected! (fare-bin Divergence: 4390.493177237878)\t(Index: 42589)\n",
      "[DRIFT][Medium Window]: KL-Divergence detected! (pickup_longitude Divergence: 3749.453140634418)\t(Index: 42589)\n",
      "[DRIFT][Medium Window]: Wasserstein Distance detected! (pickup_longitude Distance: 0.6170548131297819)\t(Index: 42589)\n",
      "[DRIFT][Medium Window]: KL-Divergence detected! (pickup_latitude Divergence: 3020.1588082867993)\t(Index: 42589)\n",
      "[DRIFT][Medium Window]: Wasserstein Distance detected! (pickup_latitude Distance: 0.48359302471402177)\t(Index: 42589)\n",
      "[DRIFT][Medium Window]: KL-Divergence detected! (dropoff_longitude Divergence: 1163.3600008214883)\t(Index: 42589)\n",
      "[DRIFT][Medium Window]: KL-Divergence detected! (passenger_count Divergence: 2620.658683893445)\t(Index: 42589)\n",
      "[DRIFT][Medium Window]: Upwards Data Drift detected!. (manhattan AVG: 1.1905554459613255)\t(Index: 42589)\n",
      "[DRIFT][Medium Window]: Upwards Data Drift detected! (manhattan 25%-Quantile: 1.1905554459613255)\t(Index: 42589)\n",
      "[DRIFT][Medium Window]: Upwards Data Drift detected! (manhattan 75%-Quantile: 1.1905554459613255)\t(Index: 42589)\n",
      "[DRIFT][Medium Window]: KL-Divergence detected! (manhattan Divergence: 31156.801055665183)\t(Index: 42589)\n",
      "[DRIFT][Medium Window]: Wasserstein Distance detected! (manhattan Distance: 1.146350400466559)\t(Index: 42589)\n",
      "[DRIFT][Medium Window]: Upwards Data Drift detected!. (euclidean AVG: 0.9957578129276204)\t(Index: 42589)\n",
      "[DRIFT][Medium Window]: Upwards Data Drift detected! (euclidean 25%-Quantile: 0.9957578129276204)\t(Index: 42589)\n",
      "[DRIFT][Medium Window]: Upwards Data Drift detected! (euclidean 75%-Quantile: 0.9957578129276204)\t(Index: 42589)\n",
      "[DRIFT][Medium Window]: KL-Divergence detected! (euclidean Divergence: 26344.319083468337)\t(Index: 42589)\n",
      "[DRIFT][Medium Window]: Wasserstein Distance detected! (euclidean Distance: 0.9615838865152397)\t(Index: 42589)\n",
      "[DRIFT][Medium Window]: Upwards Data Drift detected!. (haversine AVG: 95.61247882046894)\t(Index: 42589)\n",
      "[DRIFT][Medium Window]: Upwards Data Drift detected! (haversine 25%-Quantile: 95.61247882046894)\t(Index: 42589)\n",
      "[DRIFT][Medium Window]: Upwards Data Drift detected! (haversine 75%-Quantile: 95.61247882046894)\t(Index: 42589)\n",
      "[DRIFT][Medium Window]: KL-Divergence detected! (haversine Divergence: 2518258.799087593)\t(Index: 42589)\n",
      "[DRIFT][Medium Window]: Wasserstein Distance detected! (haversine Distance: 92.27258890196804)\t(Index: 42589)\n"
     ]
    },
    {
     "name": "stderr",
     "output_type": "stream",
     "text": [
      "[Parallel(n_jobs=-1)]: Using backend ThreadingBackend with 4 concurrent workers.\n",
      "[Parallel(n_jobs=-1)]: Done  20 out of  20 | elapsed:    0.1s finished\n"
     ]
    },
    {
     "name": "stdout",
     "output_type": "stream",
     "text": [
      "[DRIFT][Medium Window]: Multi-Dimensional Upwards Mean Drift Detected! Distance: 234.4607089201066\t\t\t(Index: 42589)\n",
      "batch: 102.7550892505364, train: 2.200820905397247, train+threshold: 1.1004104526986236\n",
      "[DRIFT][Medium Window]: Multi-Dimensional 3rd Quarter Upwards Drift Detected! Distance: 102.7550892505364\t\t\t(Index: 42589)\n"
     ]
    },
    {
     "name": "stderr",
     "output_type": "stream",
     "text": [
      "Setting feature_perturbation = \"tree_path_dependent\" because no background data was given.\n"
     ]
    },
    {
     "name": "stdout",
     "output_type": "stream",
     "text": [
      "[DRIFT][Small Window]: Upwards Data Drift detected!. (manhattan AVG: 1.1670575465172641)\t(Index: 42863)\n",
      "[DRIFT][Small Window]: Upwards Data Drift detected! (manhattan 25%-Quantile: 1.1670575465172641)\t(Index: 42863)\n",
      "[DRIFT][Small Window]: Upwards Data Drift detected! (manhattan 75%-Quantile: 1.1670575465172641)\t(Index: 42863)\n",
      "[DRIFT][Small Window]: Upwards Data Drift detected!. (euclidean AVG: 0.9826413520090884)\t(Index: 42863)\n",
      "[DRIFT][Small Window]: Upwards Data Drift detected! (euclidean 25%-Quantile: 0.9826413520090884)\t(Index: 42863)\n",
      "[DRIFT][Small Window]: Upwards Data Drift detected! (euclidean 75%-Quantile: 0.9826413520090884)\t(Index: 42863)\n",
      "[DRIFT][Small Window]: Upwards Data Drift detected!. (haversine AVG: 94.13321545377889)\t(Index: 42863)\n",
      "[DRIFT][Small Window]: Upwards Data Drift detected! (haversine 25%-Quantile: 94.13321545377889)\t(Index: 42863)\n",
      "[DRIFT][Small Window]: Upwards Data Drift detected! (haversine 75%-Quantile: 94.13321545377889)\t(Index: 42863)\n",
      "[DRIFT][Small Window]: KL-Divergence detected! (haversine Divergence: 290880.74659501977)\t(Index: 42863)\n",
      "[DRIFT][Small Window]: Wasserstein Distance detected! (haversine Distance: 90.79332553527799)\t(Index: 42863)\n"
     ]
    },
    {
     "name": "stderr",
     "output_type": "stream",
     "text": [
      "[Parallel(n_jobs=-1)]: Using backend ThreadingBackend with 4 concurrent workers.\n",
      "[Parallel(n_jobs=-1)]: Done  20 out of  20 | elapsed:    0.0s finished\n"
     ]
    },
    {
     "name": "stdout",
     "output_type": "stream",
     "text": [
      "[DRIFT][Small Window]: Multi-Dimensional Upwards Mean Drift Detected! Distance: 234.4607089201066\t\t\t(Index: 42863)\n",
      "batch: 102.79088389798522, train: 2.200820905397247, train+threshold: 1.1004104526986236\n",
      "[DRIFT][Small Window]: Multi-Dimensional 3rd Quarter Upwards Drift Detected! Distance: 102.79088389798522\t\t\t(Index: 42863)\n",
      "------------------------ INDEX: 43000 ------------------------\n"
     ]
    },
    {
     "name": "stderr",
     "output_type": "stream",
     "text": [
      "Setting feature_perturbation = \"tree_path_dependent\" because no background data was given.\n"
     ]
    },
    {
     "name": "stdout",
     "output_type": "stream",
     "text": [
      "[DRIFT][Small Window]: Wasserstein Distance detected! (fare_amount Distance: 1.4570521371288827)\t(Index: 43167)\n",
      "[DRIFT][Small Window]: Upwards Data Drift detected!. (manhattan AVG: 1.3225646909370683)\t(Index: 43167)\n",
      "[DRIFT][Small Window]: Upwards Data Drift detected! (manhattan 25%-Quantile: 1.3225646909370683)\t(Index: 43167)\n",
      "[DRIFT][Small Window]: Upwards Data Drift detected! (manhattan 75%-Quantile: 1.3225646909370683)\t(Index: 43167)\n",
      "[DRIFT][Small Window]: Wasserstein Distance detected! (manhattan Distance: 1.278359645442302)\t(Index: 43167)\n",
      "[DRIFT][Small Window]: Upwards Data Drift detected!. (euclidean AVG: 1.099284796914863)\t(Index: 43167)\n",
      "[DRIFT][Small Window]: Upwards Data Drift detected! (euclidean 25%-Quantile: 1.099284796914863)\t(Index: 43167)\n",
      "[DRIFT][Small Window]: Upwards Data Drift detected! (euclidean 75%-Quantile: 1.099284796914863)\t(Index: 43167)\n",
      "[DRIFT][Small Window]: Upwards Data Drift detected!. (haversine AVG: 105.56025997805612)\t(Index: 43167)\n",
      "[DRIFT][Small Window]: Upwards Data Drift detected! (haversine 25%-Quantile: 105.56025997805612)\t(Index: 43167)\n",
      "[DRIFT][Small Window]: Upwards Data Drift detected! (haversine 75%-Quantile: 105.56025997805612)\t(Index: 43167)\n",
      "[DRIFT][Small Window]: KL-Divergence detected! (haversine Divergence: 350188.3091497635)\t(Index: 43167)\n",
      "[DRIFT][Small Window]: Wasserstein Distance detected! (haversine Distance: 102.22037005955524)\t(Index: 43167)\n"
     ]
    },
    {
     "name": "stderr",
     "output_type": "stream",
     "text": [
      "[Parallel(n_jobs=-1)]: Using backend ThreadingBackend with 4 concurrent workers.\n",
      "[Parallel(n_jobs=-1)]: Done  20 out of  20 | elapsed:    0.0s finished\n"
     ]
    },
    {
     "name": "stdout",
     "output_type": "stream",
     "text": [
      "[DRIFT][Small Window]: Multi-Dimensional Upwards Mean Drift Detected! Distance: 234.4607089201066\t\t\t(Index: 43167)\n",
      "batch: 102.90668709808664, train: 2.200820905397247, train+threshold: 1.1004104526986236\n",
      "[DRIFT][Small Window]: Multi-Dimensional 3rd Quarter Upwards Drift Detected! Distance: 102.90668709808664\t\t\t(Index: 43167)\n"
     ]
    },
    {
     "name": "stderr",
     "output_type": "stream",
     "text": [
      "Setting feature_perturbation = \"tree_path_dependent\" because no background data was given.\n"
     ]
    },
    {
     "name": "stdout",
     "output_type": "stream",
     "text": [
      "[DRIFT][Small Window]: Upwards Data Drift detected!. (manhattan AVG: 1.3522235696971503)\t(Index: 43471)\n",
      "[DRIFT][Small Window]: Upwards Data Drift detected! (manhattan 25%-Quantile: 1.3522235696971503)\t(Index: 43471)\n",
      "[DRIFT][Small Window]: Upwards Data Drift detected! (manhattan 75%-Quantile: 1.3522235696971503)\t(Index: 43471)\n",
      "[DRIFT][Small Window]: Wasserstein Distance detected! (manhattan Distance: 1.3080185242023838)\t(Index: 43471)\n",
      "[DRIFT][Small Window]: Upwards Data Drift detected!. (euclidean AVG: 1.1191299827219683)\t(Index: 43471)\n",
      "[DRIFT][Small Window]: Upwards Data Drift detected! (euclidean 25%-Quantile: 1.1191299827219683)\t(Index: 43471)\n",
      "[DRIFT][Small Window]: Upwards Data Drift detected! (euclidean 75%-Quantile: 1.1191299827219683)\t(Index: 43471)\n",
      "[DRIFT][Small Window]: Upwards Data Drift detected!. (haversine AVG: 108.17355411997487)\t(Index: 43471)\n",
      "[DRIFT][Small Window]: Upwards Data Drift detected! (haversine 25%-Quantile: 108.17355411997487)\t(Index: 43471)\n",
      "[DRIFT][Small Window]: Upwards Data Drift detected! (haversine 75%-Quantile: 108.17355411997487)\t(Index: 43471)\n",
      "[DRIFT][Small Window]: KL-Divergence detected! (haversine Divergence: 327633.1987113846)\t(Index: 43471)\n",
      "[DRIFT][Small Window]: Wasserstein Distance detected! (haversine Distance: 104.83366420147395)\t(Index: 43471)\n"
     ]
    },
    {
     "name": "stderr",
     "output_type": "stream",
     "text": [
      "[Parallel(n_jobs=-1)]: Using backend ThreadingBackend with 4 concurrent workers.\n",
      "[Parallel(n_jobs=-1)]: Done  20 out of  20 | elapsed:    0.0s finished\n"
     ]
    },
    {
     "name": "stdout",
     "output_type": "stream",
     "text": [
      "[DRIFT][Small Window]: Multi-Dimensional Upwards Mean Drift Detected! Distance: 234.4607089201066\t\t\t(Index: 43471)\n",
      "batch: 102.91156118332425, train: 2.200820905397247, train+threshold: 1.1004104526986236\n",
      "[DRIFT][Small Window]: Multi-Dimensional 3rd Quarter Upwards Drift Detected! Distance: 102.91156118332425\t\t\t(Index: 43471)\n"
     ]
    },
    {
     "name": "stderr",
     "output_type": "stream",
     "text": [
      "Setting feature_perturbation = \"tree_path_dependent\" because no background data was given.\n"
     ]
    },
    {
     "name": "stdout",
     "output_type": "stream",
     "text": [
      "[DRIFT][Small Window]: Wasserstein Distance detected! (fare_amount Distance: 1.2257594341576994)\t(Index: 43775)\n",
      "[DRIFT][Small Window]: Upwards Data Drift detected!. (manhattan AVG: 1.2845054705022005)\t(Index: 43775)\n",
      "[DRIFT][Small Window]: Upwards Data Drift detected! (manhattan 25%-Quantile: 1.2845054705022005)\t(Index: 43775)\n",
      "[DRIFT][Small Window]: Upwards Data Drift detected! (manhattan 75%-Quantile: 1.2845054705022005)\t(Index: 43775)\n",
      "[DRIFT][Small Window]: Wasserstein Distance detected! (manhattan Distance: 1.2403004250074343)\t(Index: 43775)\n",
      "[DRIFT][Small Window]: Upwards Data Drift detected!. (euclidean AVG: 1.0691870519018218)\t(Index: 43775)\n",
      "[DRIFT][Small Window]: Upwards Data Drift detected! (euclidean 25%-Quantile: 1.0691870519018218)\t(Index: 43775)\n",
      "[DRIFT][Small Window]: Upwards Data Drift detected! (euclidean 75%-Quantile: 1.0691870519018218)\t(Index: 43775)\n",
      "[DRIFT][Small Window]: Upwards Data Drift detected!. (haversine AVG: 103.02397209884792)\t(Index: 43775)\n",
      "[DRIFT][Small Window]: Upwards Data Drift detected! (haversine 25%-Quantile: 103.02397209884792)\t(Index: 43775)\n",
      "[DRIFT][Small Window]: Upwards Data Drift detected! (haversine 75%-Quantile: 103.02397209884792)\t(Index: 43775)\n",
      "[DRIFT][Small Window]: KL-Divergence detected! (haversine Divergence: 323965.3261210075)\t(Index: 43775)\n",
      "[DRIFT][Small Window]: Wasserstein Distance detected! (haversine Distance: 99.68408218034702)\t(Index: 43775)\n"
     ]
    },
    {
     "name": "stderr",
     "output_type": "stream",
     "text": [
      "[Parallel(n_jobs=-1)]: Using backend ThreadingBackend with 4 concurrent workers.\n",
      "[Parallel(n_jobs=-1)]: Done  20 out of  20 | elapsed:    0.0s finished\n"
     ]
    },
    {
     "name": "stdout",
     "output_type": "stream",
     "text": [
      "[DRIFT][Small Window]: Multi-Dimensional Upwards Mean Drift Detected! Distance: 234.4607089201066\t\t\t(Index: 43775)\n",
      "batch: 102.98913392455795, train: 2.200820905397247, train+threshold: 1.1004104526986236\n",
      "[DRIFT][Small Window]: Multi-Dimensional 3rd Quarter Upwards Drift Detected! Distance: 102.98913392455795\t\t\t(Index: 43775)\n",
      "------------------------ INDEX: 44000 ------------------------\n"
     ]
    },
    {
     "name": "stderr",
     "output_type": "stream",
     "text": [
      "Setting feature_perturbation = \"tree_path_dependent\" because no background data was given.\n"
     ]
    },
    {
     "name": "stdout",
     "output_type": "stream",
     "text": [
      "[DRIFT][Small Window]: Upwards Data Drift detected!. (manhattan AVG: 1.2684158894491733)\t(Index: 44079)\n",
      "[DRIFT][Small Window]: Upwards Data Drift detected! (manhattan 25%-Quantile: 1.2684158894491733)\t(Index: 44079)\n",
      "[DRIFT][Small Window]: Upwards Data Drift detected! (manhattan 75%-Quantile: 1.2684158894491733)\t(Index: 44079)\n",
      "[DRIFT][Small Window]: Wasserstein Distance detected! (manhattan Distance: 1.2242108439544068)\t(Index: 44079)\n",
      "[DRIFT][Small Window]: Upwards Data Drift detected!. (euclidean AVG: 1.0609543515912845)\t(Index: 44079)\n",
      "[DRIFT][Small Window]: Upwards Data Drift detected! (euclidean 25%-Quantile: 1.0609543515912845)\t(Index: 44079)\n",
      "[DRIFT][Small Window]: Upwards Data Drift detected! (euclidean 75%-Quantile: 1.0609543515912845)\t(Index: 44079)\n",
      "[DRIFT][Small Window]: Upwards Data Drift detected!. (haversine AVG: 102.90279531973115)\t(Index: 44079)\n",
      "[DRIFT][Small Window]: Upwards Data Drift detected! (haversine 25%-Quantile: 102.90279531973115)\t(Index: 44079)\n",
      "[DRIFT][Small Window]: Upwards Data Drift detected! (haversine 75%-Quantile: 102.90279531973115)\t(Index: 44079)\n",
      "[DRIFT][Small Window]: KL-Divergence detected! (haversine Divergence: 308665.81272798945)\t(Index: 44079)\n",
      "[DRIFT][Small Window]: Wasserstein Distance detected! (haversine Distance: 99.56290540123025)\t(Index: 44079)\n"
     ]
    },
    {
     "name": "stderr",
     "output_type": "stream",
     "text": [
      "[Parallel(n_jobs=-1)]: Using backend ThreadingBackend with 4 concurrent workers.\n",
      "[Parallel(n_jobs=-1)]: Done  20 out of  20 | elapsed:    0.0s finished\n"
     ]
    },
    {
     "name": "stdout",
     "output_type": "stream",
     "text": [
      "[DRIFT][Small Window]: Multi-Dimensional Upwards Mean Drift Detected! Distance: 234.4607089201066\t\t\t(Index: 44079)\n",
      "batch: 103.02599937206865, train: 2.200820905397247, train+threshold: 1.1004104526986236\n",
      "[DRIFT][Small Window]: Multi-Dimensional 3rd Quarter Upwards Drift Detected! Distance: 103.02599937206865\t\t\t(Index: 44079)\n"
     ]
    },
    {
     "name": "stderr",
     "output_type": "stream",
     "text": [
      "Setting feature_perturbation = \"tree_path_dependent\" because no background data was given.\n"
     ]
    },
    {
     "name": "stdout",
     "output_type": "stream",
     "text": [
      "[DRIFT][Small Window]: Downwards Data Drift detected! (passenger_count 75%-Quantile: 1.4645799011532126)\t(Index: 44383)\n",
      "[DRIFT][Small Window]: Upwards Data Drift detected!. (manhattan AVG: 1.1590529205909992)\t(Index: 44383)\n",
      "[DRIFT][Small Window]: Upwards Data Drift detected! (manhattan 25%-Quantile: 1.1590529205909992)\t(Index: 44383)\n",
      "[DRIFT][Small Window]: Upwards Data Drift detected! (manhattan 75%-Quantile: 1.1590529205909992)\t(Index: 44383)\n",
      "[DRIFT][Small Window]: Upwards Data Drift detected!. (euclidean AVG: 0.9853318507176917)\t(Index: 44383)\n",
      "[DRIFT][Small Window]: Upwards Data Drift detected! (euclidean 25%-Quantile: 0.9853318507176917)\t(Index: 44383)\n",
      "[DRIFT][Small Window]: Upwards Data Drift detected! (euclidean 75%-Quantile: 0.9853318507176917)\t(Index: 44383)\n",
      "[DRIFT][Small Window]: Upwards Data Drift detected!. (haversine AVG: 95.62880872237963)\t(Index: 44383)\n",
      "[DRIFT][Small Window]: Upwards Data Drift detected! (haversine 25%-Quantile: 95.62880872237963)\t(Index: 44383)\n",
      "[DRIFT][Small Window]: Upwards Data Drift detected! (haversine 75%-Quantile: 95.62880872237963)\t(Index: 44383)\n",
      "[DRIFT][Small Window]: KL-Divergence detected! (haversine Divergence: 289597.8517358984)\t(Index: 44383)\n",
      "[DRIFT][Small Window]: Wasserstein Distance detected! (haversine Distance: 92.28891880387872)\t(Index: 44383)\n"
     ]
    },
    {
     "name": "stderr",
     "output_type": "stream",
     "text": [
      "[Parallel(n_jobs=-1)]: Using backend ThreadingBackend with 4 concurrent workers.\n",
      "[Parallel(n_jobs=-1)]: Done  20 out of  20 | elapsed:    0.0s finished\n"
     ]
    },
    {
     "name": "stdout",
     "output_type": "stream",
     "text": [
      "[DRIFT][Small Window]: Multi-Dimensional Upwards Mean Drift Detected! Distance: 234.4607089201066\t\t\t(Index: 44383)\n",
      "batch: 103.06808405723379, train: 2.200820905397247, train+threshold: 1.1004104526986236\n",
      "[DRIFT][Small Window]: Multi-Dimensional 3rd Quarter Upwards Drift Detected! Distance: 103.06808405723379\t\t\t(Index: 44383)\n"
     ]
    },
    {
     "name": "stderr",
     "output_type": "stream",
     "text": [
      "Setting feature_perturbation = \"tree_path_dependent\" because no background data was given.\n"
     ]
    },
    {
     "name": "stdout",
     "output_type": "stream",
     "text": [
      "[DRIFT][Small Window]: Upwards Data Drift detected!. (manhattan AVG: 1.122830232930218)\t(Index: 44687)\n",
      "[DRIFT][Small Window]: Upwards Data Drift detected! (manhattan 25%-Quantile: 1.122830232930218)\t(Index: 44687)\n",
      "[DRIFT][Small Window]: Upwards Data Drift detected! (manhattan 75%-Quantile: 1.122830232930218)\t(Index: 44687)\n",
      "[DRIFT][Small Window]: Upwards Data Drift detected!. (euclidean AVG: 0.947404045528218)\t(Index: 44687)\n",
      "[DRIFT][Small Window]: Upwards Data Drift detected! (euclidean 25%-Quantile: 0.947404045528218)\t(Index: 44687)\n",
      "[DRIFT][Small Window]: Upwards Data Drift detected! (euclidean 75%-Quantile: 0.947404045528218)\t(Index: 44687)\n",
      "[DRIFT][Small Window]: Upwards Data Drift detected!. (haversine AVG: 91.22851840777037)\t(Index: 44687)\n",
      "[DRIFT][Small Window]: Upwards Data Drift detected! (haversine 25%-Quantile: 91.22851840777037)\t(Index: 44687)\n",
      "[DRIFT][Small Window]: Upwards Data Drift detected! (haversine 75%-Quantile: 91.22851840777037)\t(Index: 44687)\n",
      "[DRIFT][Small Window]: KL-Divergence detected! (haversine Divergence: 279496.2387514427)\t(Index: 44687)\n",
      "[DRIFT][Small Window]: Wasserstein Distance detected! (haversine Distance: 87.88862848926948)\t(Index: 44687)\n",
      "[DRIFT][Small Window]: Pairwise Correlation Drift detected: dropoff_longitude <> passenger_count!\t(Index: 44687)\n"
     ]
    },
    {
     "name": "stderr",
     "output_type": "stream",
     "text": [
      "[Parallel(n_jobs=-1)]: Using backend ThreadingBackend with 4 concurrent workers.\n",
      "[Parallel(n_jobs=-1)]: Done  20 out of  20 | elapsed:    0.0s finished\n"
     ]
    },
    {
     "name": "stdout",
     "output_type": "stream",
     "text": [
      "[DRIFT][Small Window]: Multi-Dimensional Upwards Mean Drift Detected! Distance: 234.4607089201066\t\t\t(Index: 44687)\n",
      "batch: 103.0617918000925, train: 2.200820905397247, train+threshold: 1.1004104526986236\n",
      "[DRIFT][Small Window]: Multi-Dimensional 3rd Quarter Upwards Drift Detected! Distance: 103.0617918000925\t\t\t(Index: 44687)\n"
     ]
    },
    {
     "name": "stderr",
     "output_type": "stream",
     "text": [
      "Setting feature_perturbation = \"tree_path_dependent\" because no background data was given.\n"
     ]
    },
    {
     "name": "stdout",
     "output_type": "stream",
     "text": [
      "[DRIFT][Small Window]: Upwards Data Drift detected!. (manhattan AVG: 1.0973679009078359)\t(Index: 44991)\n",
      "[DRIFT][Small Window]: Upwards Data Drift detected! (manhattan 25%-Quantile: 1.0973679009078359)\t(Index: 44991)\n",
      "[DRIFT][Small Window]: Upwards Data Drift detected! (manhattan 75%-Quantile: 1.0973679009078359)\t(Index: 44991)\n",
      "[DRIFT][Small Window]: Upwards Data Drift detected!. (euclidean AVG: 0.9216087314985879)\t(Index: 44991)\n",
      "[DRIFT][Small Window]: Upwards Data Drift detected! (euclidean 25%-Quantile: 0.9216087314985879)\t(Index: 44991)\n",
      "[DRIFT][Small Window]: Upwards Data Drift detected! (euclidean 75%-Quantile: 0.9216087314985879)\t(Index: 44991)\n",
      "[DRIFT][Small Window]: Upwards Data Drift detected!. (haversine AVG: 88.23935998191554)\t(Index: 44991)\n",
      "[DRIFT][Small Window]: Upwards Data Drift detected! (haversine 25%-Quantile: 88.23935998191554)\t(Index: 44991)\n",
      "[DRIFT][Small Window]: Upwards Data Drift detected! (haversine 75%-Quantile: 88.23935998191554)\t(Index: 44991)\n",
      "[DRIFT][Small Window]: KL-Divergence detected! (haversine Divergence: 274375.82327980304)\t(Index: 44991)\n",
      "[DRIFT][Small Window]: Wasserstein Distance detected! (haversine Distance: 84.89947006341464)\t(Index: 44991)\n"
     ]
    },
    {
     "name": "stderr",
     "output_type": "stream",
     "text": [
      "[Parallel(n_jobs=-1)]: Using backend ThreadingBackend with 4 concurrent workers.\n",
      "[Parallel(n_jobs=-1)]: Done  20 out of  20 | elapsed:    0.0s finished\n"
     ]
    },
    {
     "name": "stdout",
     "output_type": "stream",
     "text": [
      "[DRIFT][Small Window]: Multi-Dimensional Upwards Mean Drift Detected! Distance: 234.4607089201066\t\t\t(Index: 44991)\n",
      "batch: 103.01876770927615, train: 2.200820905397247, train+threshold: 1.1004104526986236\n",
      "[DRIFT][Small Window]: Multi-Dimensional 3rd Quarter Upwards Drift Detected! Distance: 103.01876770927615\t\t\t(Index: 44991)\n",
      "------------------------ INDEX: 45000 ------------------------\n"
     ]
    },
    {
     "name": "stderr",
     "output_type": "stream",
     "text": [
      "Setting feature_perturbation = \"tree_path_dependent\" because no background data was given.\n"
     ]
    },
    {
     "name": "stdout",
     "output_type": "stream",
     "text": [
      "[DRIFT][Small Window]: Upwards Data Drift detected!. (manhattan AVG: 1.1188424264214394)\t(Index: 45295)\n",
      "[DRIFT][Small Window]: Upwards Data Drift detected! (manhattan 25%-Quantile: 1.1188424264214394)\t(Index: 45295)\n",
      "[DRIFT][Small Window]: Upwards Data Drift detected! (manhattan 75%-Quantile: 1.1188424264214394)\t(Index: 45295)\n",
      "[DRIFT][Small Window]: Upwards Data Drift detected!. (euclidean AVG: 0.9475488553683971)\t(Index: 45295)\n",
      "[DRIFT][Small Window]: Upwards Data Drift detected! (euclidean 25%-Quantile: 0.9475488553683971)\t(Index: 45295)\n",
      "[DRIFT][Small Window]: Upwards Data Drift detected! (euclidean 75%-Quantile: 0.9475488553683971)\t(Index: 45295)\n",
      "[DRIFT][Small Window]: Upwards Data Drift detected!. (haversine AVG: 90.7853388971651)\t(Index: 45295)\n",
      "[DRIFT][Small Window]: Upwards Data Drift detected! (haversine 25%-Quantile: 90.7853388971651)\t(Index: 45295)\n",
      "[DRIFT][Small Window]: Upwards Data Drift detected! (haversine 75%-Quantile: 90.7853388971651)\t(Index: 45295)\n",
      "[DRIFT][Small Window]: KL-Divergence detected! (haversine Divergence: 273535.743007623)\t(Index: 45295)\n",
      "[DRIFT][Small Window]: Wasserstein Distance detected! (haversine Distance: 87.44544897866417)\t(Index: 45295)\n"
     ]
    },
    {
     "name": "stderr",
     "output_type": "stream",
     "text": [
      "[Parallel(n_jobs=-1)]: Using backend ThreadingBackend with 4 concurrent workers.\n",
      "[Parallel(n_jobs=-1)]: Done  20 out of  20 | elapsed:    0.0s finished\n"
     ]
    },
    {
     "name": "stdout",
     "output_type": "stream",
     "text": [
      "[DRIFT][Small Window]: Multi-Dimensional Upwards Mean Drift Detected! Distance: 234.4607089201066\t\t\t(Index: 45295)\n",
      "batch: 102.99384697159894, train: 2.200820905397247, train+threshold: 1.1004104526986236\n",
      "[DRIFT][Small Window]: Multi-Dimensional 3rd Quarter Upwards Drift Detected! Distance: 102.99384697159894\t\t\t(Index: 45295)\n"
     ]
    },
    {
     "name": "stderr",
     "output_type": "stream",
     "text": [
      "Setting feature_perturbation = \"tree_path_dependent\" because no background data was given.\n"
     ]
    },
    {
     "name": "stdout",
     "output_type": "stream",
     "text": [
      "[DRIFT][Small Window]: Upwards Data Drift detected!. (manhattan AVG: 1.1087707401497822)\t(Index: 45599)\n",
      "[DRIFT][Small Window]: Upwards Data Drift detected! (manhattan 25%-Quantile: 1.1087707401497822)\t(Index: 45599)\n",
      "[DRIFT][Small Window]: Upwards Data Drift detected! (manhattan 75%-Quantile: 1.1087707401497822)\t(Index: 45599)\n",
      "[DRIFT][Small Window]: Upwards Data Drift detected!. (euclidean AVG: 0.9383417320881888)\t(Index: 45599)\n",
      "[DRIFT][Small Window]: Upwards Data Drift detected! (euclidean 25%-Quantile: 0.9383417320881888)\t(Index: 45599)\n",
      "[DRIFT][Small Window]: Upwards Data Drift detected! (euclidean 75%-Quantile: 0.9383417320881888)\t(Index: 45599)\n",
      "[DRIFT][Small Window]: Upwards Data Drift detected!. (haversine AVG: 89.90415613586394)\t(Index: 45599)\n",
      "[DRIFT][Small Window]: Upwards Data Drift detected! (haversine 25%-Quantile: 89.90415613586394)\t(Index: 45599)\n",
      "[DRIFT][Small Window]: Upwards Data Drift detected! (haversine 75%-Quantile: 89.90415613586394)\t(Index: 45599)\n",
      "[DRIFT][Small Window]: KL-Divergence detected! (haversine Divergence: 278860.55976451037)\t(Index: 45599)\n",
      "[DRIFT][Small Window]: Wasserstein Distance detected! (haversine Distance: 86.56426621736304)\t(Index: 45599)\n",
      "[DRIFT][Small Window]: Pairwise Correlation Drift detected: dropoff_longitude <> passenger_count!\t(Index: 45599)\n"
     ]
    },
    {
     "name": "stderr",
     "output_type": "stream",
     "text": [
      "[Parallel(n_jobs=-1)]: Using backend ThreadingBackend with 4 concurrent workers.\n",
      "[Parallel(n_jobs=-1)]: Done  20 out of  20 | elapsed:    0.0s finished\n"
     ]
    },
    {
     "name": "stdout",
     "output_type": "stream",
     "text": [
      "[DRIFT][Small Window]: Multi-Dimensional Upwards Mean Drift Detected! Distance: 234.4607089201066\t\t\t(Index: 45599)\n",
      "batch: 103.00120679684096, train: 2.200820905397247, train+threshold: 1.1004104526986236\n",
      "[DRIFT][Small Window]: Multi-Dimensional 3rd Quarter Upwards Drift Detected! Distance: 103.00120679684096\t\t\t(Index: 45599)\n"
     ]
    },
    {
     "name": "stderr",
     "output_type": "stream",
     "text": [
      "Setting feature_perturbation = \"tree_path_dependent\" because no background data was given.\n"
     ]
    },
    {
     "name": "stdout",
     "output_type": "stream",
     "text": [
      "[DRIFT][Small Window]: Upwards Data Drift detected!. (manhattan AVG: 1.1611838178438425)\t(Index: 45903)\n",
      "[DRIFT][Small Window]: Upwards Data Drift detected! (manhattan 25%-Quantile: 1.1611838178438425)\t(Index: 45903)\n",
      "[DRIFT][Small Window]: Upwards Data Drift detected! (manhattan 75%-Quantile: 1.1611838178438425)\t(Index: 45903)\n",
      "[DRIFT][Small Window]: Upwards Data Drift detected!. (euclidean AVG: 0.9787615480769983)\t(Index: 45903)\n",
      "[DRIFT][Small Window]: Upwards Data Drift detected! (euclidean 25%-Quantile: 0.9787615480769983)\t(Index: 45903)\n",
      "[DRIFT][Small Window]: Upwards Data Drift detected! (euclidean 75%-Quantile: 0.9787615480769983)\t(Index: 45903)\n",
      "[DRIFT][Small Window]: Upwards Data Drift detected!. (haversine AVG: 94.2639879312288)\t(Index: 45903)\n",
      "[DRIFT][Small Window]: Upwards Data Drift detected! (haversine 25%-Quantile: 94.2639879312288)\t(Index: 45903)\n",
      "[DRIFT][Small Window]: Upwards Data Drift detected! (haversine 75%-Quantile: 94.2639879312288)\t(Index: 45903)\n",
      "[DRIFT][Small Window]: KL-Divergence detected! (haversine Divergence: 285664.3927168332)\t(Index: 45903)\n",
      "[DRIFT][Small Window]: Wasserstein Distance detected! (haversine Distance: 90.92409801272788)\t(Index: 45903)\n"
     ]
    },
    {
     "name": "stderr",
     "output_type": "stream",
     "text": [
      "[Parallel(n_jobs=-1)]: Using backend ThreadingBackend with 4 concurrent workers.\n",
      "[Parallel(n_jobs=-1)]: Done  20 out of  20 | elapsed:    0.6s finished\n"
     ]
    },
    {
     "name": "stdout",
     "output_type": "stream",
     "text": [
      "[DRIFT][Small Window]: Multi-Dimensional Upwards Mean Drift Detected! Distance: 234.4607089201066\t\t\t(Index: 45903)\n",
      "batch: 103.06536387763555, train: 2.200820905397247, train+threshold: 1.1004104526986236\n",
      "[DRIFT][Small Window]: Multi-Dimensional 3rd Quarter Upwards Drift Detected! Distance: 103.06536387763555\t\t\t(Index: 45903)\n",
      "------------------------ INDEX: 46000 ------------------------\n"
     ]
    },
    {
     "name": "stderr",
     "output_type": "stream",
     "text": [
      "Setting feature_perturbation = \"tree_path_dependent\" because no background data was given.\n"
     ]
    },
    {
     "name": "stdout",
     "output_type": "stream",
     "text": [
      "[DRIFT][Small Window]: Upwards Data Drift detected!. (manhattan AVG: 1.1700209911309487)\t(Index: 46207)\n",
      "[DRIFT][Small Window]: Upwards Data Drift detected! (manhattan 25%-Quantile: 1.1700209911309487)\t(Index: 46207)\n",
      "[DRIFT][Small Window]: Upwards Data Drift detected! (manhattan 75%-Quantile: 1.1700209911309487)\t(Index: 46207)\n",
      "[DRIFT][Small Window]: Upwards Data Drift detected!. (euclidean AVG: 0.98164380444063)\t(Index: 46207)\n",
      "[DRIFT][Small Window]: Upwards Data Drift detected! (euclidean 25%-Quantile: 0.98164380444063)\t(Index: 46207)\n",
      "[DRIFT][Small Window]: Upwards Data Drift detected! (euclidean 75%-Quantile: 0.98164380444063)\t(Index: 46207)\n",
      "[DRIFT][Small Window]: Upwards Data Drift detected!. (haversine AVG: 94.681237533942)\t(Index: 46207)\n",
      "[DRIFT][Small Window]: Upwards Data Drift detected! (haversine 25%-Quantile: 94.681237533942)\t(Index: 46207)\n",
      "[DRIFT][Small Window]: Upwards Data Drift detected! (haversine 75%-Quantile: 94.681237533942)\t(Index: 46207)\n",
      "[DRIFT][Small Window]: KL-Divergence detected! (haversine Divergence: 280246.22401900403)\t(Index: 46207)\n",
      "[DRIFT][Small Window]: Wasserstein Distance detected! (haversine Distance: 91.3413476154411)\t(Index: 46207)\n"
     ]
    },
    {
     "name": "stderr",
     "output_type": "stream",
     "text": [
      "[Parallel(n_jobs=-1)]: Using backend ThreadingBackend with 4 concurrent workers.\n",
      "[Parallel(n_jobs=-1)]: Done  20 out of  20 | elapsed:    0.0s finished\n"
     ]
    },
    {
     "name": "stdout",
     "output_type": "stream",
     "text": [
      "[DRIFT][Small Window]: Multi-Dimensional Upwards Mean Drift Detected! Distance: 234.4607089201066\t\t\t(Index: 46207)\n",
      "batch: 103.06536387763555, train: 2.200820905397247, train+threshold: 1.1004104526986236\n",
      "[DRIFT][Small Window]: Multi-Dimensional 3rd Quarter Upwards Drift Detected! Distance: 103.06536387763555\t\t\t(Index: 46207)\n"
     ]
    },
    {
     "name": "stderr",
     "output_type": "stream",
     "text": [
      "Setting feature_perturbation = \"tree_path_dependent\" because no background data was given.\n"
     ]
    },
    {
     "name": "stdout",
     "output_type": "stream",
     "text": [
      "[DRIFT][Small Window]: Downwards Data Drift detected! (passenger_count 75%-Quantile: 1.4481054365733115)\t(Index: 46511)\n",
      "[DRIFT][Small Window]: Upwards Data Drift detected!. (manhattan AVG: 1.1590023326017158)\t(Index: 46511)\n",
      "[DRIFT][Small Window]: Upwards Data Drift detected! (manhattan 25%-Quantile: 1.1590023326017158)\t(Index: 46511)\n",
      "[DRIFT][Small Window]: Upwards Data Drift detected! (manhattan 75%-Quantile: 1.1590023326017158)\t(Index: 46511)\n",
      "[DRIFT][Small Window]: Upwards Data Drift detected!. (euclidean AVG: 0.9695963427717393)\t(Index: 46511)\n",
      "[DRIFT][Small Window]: Upwards Data Drift detected! (euclidean 25%-Quantile: 0.9695963427717393)\t(Index: 46511)\n",
      "[DRIFT][Small Window]: Upwards Data Drift detected! (euclidean 75%-Quantile: 0.9695963427717393)\t(Index: 46511)\n",
      "[DRIFT][Small Window]: Upwards Data Drift detected!. (haversine AVG: 93.39806571408293)\t(Index: 46511)\n",
      "[DRIFT][Small Window]: Upwards Data Drift detected! (haversine 25%-Quantile: 93.39806571408293)\t(Index: 46511)\n",
      "[DRIFT][Small Window]: Upwards Data Drift detected! (haversine 75%-Quantile: 93.39806571408293)\t(Index: 46511)\n",
      "[DRIFT][Small Window]: KL-Divergence detected! (haversine Divergence: 282547.41947528283)\t(Index: 46511)\n",
      "[DRIFT][Small Window]: Wasserstein Distance detected! (haversine Distance: 90.05817579558203)\t(Index: 46511)\n",
      "[DRIFT][Small Window]: Pairwise Correlation Drift detected: dropoff_longitude <> passenger_count!\t(Index: 46511)\n"
     ]
    },
    {
     "name": "stderr",
     "output_type": "stream",
     "text": [
      "[Parallel(n_jobs=-1)]: Using backend ThreadingBackend with 4 concurrent workers.\n",
      "[Parallel(n_jobs=-1)]: Done  20 out of  20 | elapsed:    0.0s finished\n"
     ]
    },
    {
     "name": "stdout",
     "output_type": "stream",
     "text": [
      "[DRIFT][Small Window]: Multi-Dimensional Upwards Mean Drift Detected! Distance: 234.4607089201066\t\t\t(Index: 46511)\n",
      "batch: 103.08263028392139, train: 2.200820905397247, train+threshold: 1.1004104526986236\n",
      "[DRIFT][Small Window]: Multi-Dimensional 3rd Quarter Upwards Drift Detected! Distance: 103.08263028392139\t\t\t(Index: 46511)\n"
     ]
    },
    {
     "name": "stderr",
     "output_type": "stream",
     "text": [
      "Setting feature_perturbation = \"tree_path_dependent\" because no background data was given.\n"
     ]
    },
    {
     "name": "stdout",
     "output_type": "stream",
     "text": [
      "[DRIFT][Small Window]: Downwards Data Drift detected! (passenger_count 75%-Quantile: 1.4777594728171335)\t(Index: 46815)\n",
      "[DRIFT][Small Window]: Upwards Data Drift detected!. (manhattan AVG: 1.0729235412035654)\t(Index: 46815)\n",
      "[DRIFT][Small Window]: Upwards Data Drift detected! (manhattan 25%-Quantile: 1.0729235412035654)\t(Index: 46815)\n",
      "[DRIFT][Small Window]: Upwards Data Drift detected! (manhattan 75%-Quantile: 1.0729235412035654)\t(Index: 46815)\n",
      "[DRIFT][Small Window]: Upwards Data Drift detected!. (euclidean AVG: 0.9022848043543042)\t(Index: 46815)\n",
      "[DRIFT][Small Window]: Upwards Data Drift detected! (euclidean 25%-Quantile: 0.9022848043543042)\t(Index: 46815)\n",
      "[DRIFT][Small Window]: Upwards Data Drift detected! (euclidean 75%-Quantile: 0.9022848043543042)\t(Index: 46815)\n",
      "[DRIFT][Small Window]: Upwards Data Drift detected!. (haversine AVG: 86.78639287717264)\t(Index: 46815)\n",
      "[DRIFT][Small Window]: Upwards Data Drift detected! (haversine 25%-Quantile: 86.78639287717264)\t(Index: 46815)\n",
      "[DRIFT][Small Window]: Upwards Data Drift detected! (haversine 75%-Quantile: 86.78639287717264)\t(Index: 46815)\n",
      "[DRIFT][Small Window]: KL-Divergence detected! (haversine Divergence: 250048.6014725808)\t(Index: 46815)\n",
      "[DRIFT][Small Window]: Wasserstein Distance detected! (haversine Distance: 83.44650295867174)\t(Index: 46815)\n",
      "[DRIFT][Small Window]: Pairwise Correlation Drift detected: pickup_longitude <> passenger_count!\t(Index: 46815)\n"
     ]
    },
    {
     "name": "stderr",
     "output_type": "stream",
     "text": [
      "[Parallel(n_jobs=-1)]: Using backend ThreadingBackend with 4 concurrent workers.\n",
      "[Parallel(n_jobs=-1)]: Done  20 out of  20 | elapsed:    0.0s finished\n"
     ]
    },
    {
     "name": "stdout",
     "output_type": "stream",
     "text": [
      "[DRIFT][Small Window]: Multi-Dimensional Upwards Mean Drift Detected! Distance: 234.4607089201066\t\t\t(Index: 46815)\n",
      "batch: 103.07580118970357, train: 2.200820905397247, train+threshold: 1.1004104526986236\n",
      "[DRIFT][Small Window]: Multi-Dimensional 3rd Quarter Upwards Drift Detected! Distance: 103.07580118970357\t\t\t(Index: 46815)\n"
     ]
    },
    {
     "name": "stderr",
     "output_type": "stream",
     "text": [
      "Setting feature_perturbation = \"tree_path_dependent\" because no background data was given.\n"
     ]
    },
    {
     "name": "stdout",
     "output_type": "stream",
     "text": [
      "[DRIFT][Medium Window]: Upwards Data Drift detected! (fare_amount 25%-Quantile: 11.27948614096136)\t(Index: 46848)\n",
      "[DRIFT][Medium Window]: KL-Divergence detected! (fare_amount Divergence: 38117.93764047909)\t(Index: 46848)\n",
      "[DRIFT][Medium Window]: Wasserstein Distance detected! (fare_amount Distance: 0.9470806742027037)\t(Index: 46848)\n",
      "[DRIFT][Medium Window]: KL-Divergence detected! (fare-bin Divergence: 3572.055142132269)\t(Index: 46848)\n",
      "[DRIFT][Medium Window]: KL-Divergence detected! (pickup_longitude Divergence: 3686.273751570488)\t(Index: 46848)\n",
      "[DRIFT][Medium Window]: Wasserstein Distance detected! (pickup_longitude Distance: 0.606470377615957)\t(Index: 46848)\n",
      "[DRIFT][Medium Window]: KL-Divergence detected! (pickup_latitude Divergence: 3020.600279747648)\t(Index: 46848)\n",
      "[DRIFT][Medium Window]: Wasserstein Distance detected! (pickup_latitude Distance: 0.48367917499417307)\t(Index: 46848)\n",
      "[DRIFT][Medium Window]: KL-Divergence detected! (dropoff_longitude Divergence: 1219.3896359100117)\t(Index: 46848)\n",
      "[DRIFT][Medium Window]: KL-Divergence detected! (dropoff_latitude Divergence: 1065.4266034075506)\t(Index: 46848)\n",
      "[DRIFT][Medium Window]: KL-Divergence detected! (passenger_count Divergence: 2346.1421656241823)\t(Index: 46848)\n",
      "[DRIFT][Medium Window]: Upwards Data Drift detected!. (manhattan AVG: 1.172334507780293)\t(Index: 46848)\n",
      "[DRIFT][Medium Window]: Upwards Data Drift detected! (manhattan 25%-Quantile: 1.172334507780293)\t(Index: 46848)\n",
      "[DRIFT][Medium Window]: Upwards Data Drift detected! (manhattan 75%-Quantile: 1.172334507780293)\t(Index: 46848)\n",
      "[DRIFT][Medium Window]: KL-Divergence detected! (manhattan Divergence: 30460.647195478177)\t(Index: 46848)\n",
      "[DRIFT][Medium Window]: Wasserstein Distance detected! (manhattan Distance: 1.1281294622855267)\t(Index: 46848)\n",
      "[DRIFT][Medium Window]: Upwards Data Drift detected!. (euclidean AVG: 0.9845555584070556)\t(Index: 46848)\n",
      "[DRIFT][Medium Window]: Upwards Data Drift detected! (euclidean 25%-Quantile: 0.9845555584070556)\t(Index: 46848)\n",
      "[DRIFT][Medium Window]: Upwards Data Drift detected! (euclidean 75%-Quantile: 0.9845555584070556)\t(Index: 46848)\n",
      "[DRIFT][Medium Window]: KL-Divergence detected! (euclidean Divergence: 25892.548895045118)\t(Index: 46848)\n",
      "[DRIFT][Medium Window]: Wasserstein Distance detected! (euclidean Distance: 0.9503816319946751)\t(Index: 46848)\n",
      "[DRIFT][Medium Window]: Upwards Data Drift detected!. (haversine AVG: 94.74804484288143)\t(Index: 46848)\n",
      "[DRIFT][Medium Window]: Upwards Data Drift detected! (haversine 25%-Quantile: 94.74804484288143)\t(Index: 46848)\n",
      "[DRIFT][Medium Window]: Upwards Data Drift detected! (haversine 75%-Quantile: 94.74804484288143)\t(Index: 46848)\n",
      "[DRIFT][Medium Window]: KL-Divergence detected! (haversine Divergence: 2483705.45784377)\t(Index: 46848)\n",
      "[DRIFT][Medium Window]: Wasserstein Distance detected! (haversine Distance: 91.40815492438051)\t(Index: 46848)\n"
     ]
    },
    {
     "name": "stderr",
     "output_type": "stream",
     "text": [
      "[Parallel(n_jobs=-1)]: Using backend ThreadingBackend with 4 concurrent workers.\n",
      "[Parallel(n_jobs=-1)]: Done  20 out of  20 | elapsed:    0.1s finished\n"
     ]
    },
    {
     "name": "stdout",
     "output_type": "stream",
     "text": [
      "[DRIFT][Medium Window]: Multi-Dimensional Upwards Mean Drift Detected! Distance: 234.4607089201066\t\t\t(Index: 46848)\n",
      "batch: 103.06518459349375, train: 2.200820905397247, train+threshold: 1.1004104526986236\n",
      "[DRIFT][Medium Window]: Multi-Dimensional 3rd Quarter Upwards Drift Detected! Distance: 103.06518459349375\t\t\t(Index: 46848)\n",
      "------------------------ INDEX: 47000 ------------------------\n"
     ]
    },
    {
     "name": "stderr",
     "output_type": "stream",
     "text": [
      "Setting feature_perturbation = \"tree_path_dependent\" because no background data was given.\n"
     ]
    },
    {
     "name": "stdout",
     "output_type": "stream",
     "text": [
      "[DRIFT][Small Window]: Wasserstein Distance detected! (fare_amount Distance: 1.7666118151835108)\t(Index: 47119)\n",
      "[DRIFT][Small Window]: Upwards Data Drift detected!. (manhattan AVG: 1.204767155532929)\t(Index: 47119)\n",
      "[DRIFT][Small Window]: Upwards Data Drift detected! (manhattan 25%-Quantile: 1.204767155532929)\t(Index: 47119)\n",
      "[DRIFT][Small Window]: Upwards Data Drift detected! (manhattan 75%-Quantile: 1.204767155532929)\t(Index: 47119)\n",
      "[DRIFT][Small Window]: Upwards Data Drift detected!. (euclidean AVG: 1.0085289603433014)\t(Index: 47119)\n",
      "[DRIFT][Small Window]: Upwards Data Drift detected! (euclidean 25%-Quantile: 1.0085289603433014)\t(Index: 47119)\n",
      "[DRIFT][Small Window]: Upwards Data Drift detected! (euclidean 75%-Quantile: 1.0085289603433014)\t(Index: 47119)\n",
      "[DRIFT][Small Window]: Upwards Data Drift detected!. (haversine AVG: 96.86093520208769)\t(Index: 47119)\n",
      "[DRIFT][Small Window]: Upwards Data Drift detected! (haversine 25%-Quantile: 96.86093520208769)\t(Index: 47119)\n",
      "[DRIFT][Small Window]: Upwards Data Drift detected! (haversine 75%-Quantile: 96.86093520208769)\t(Index: 47119)\n",
      "[DRIFT][Small Window]: KL-Divergence detected! (haversine Divergence: 318293.70631213376)\t(Index: 47119)\n",
      "[DRIFT][Small Window]: Wasserstein Distance detected! (haversine Distance: 93.52104528358679)\t(Index: 47119)\n",
      "[DRIFT][Small Window]: Pairwise Correlation Drift detected: pickup_longitude <> passenger_count!\t(Index: 47119)\n"
     ]
    },
    {
     "name": "stderr",
     "output_type": "stream",
     "text": [
      "[Parallel(n_jobs=-1)]: Using backend ThreadingBackend with 4 concurrent workers.\n",
      "[Parallel(n_jobs=-1)]: Done  20 out of  20 | elapsed:    0.0s finished\n"
     ]
    },
    {
     "name": "stdout",
     "output_type": "stream",
     "text": [
      "[DRIFT][Small Window]: Multi-Dimensional Upwards Mean Drift Detected! Distance: 234.4607089201066\t\t\t(Index: 47119)\n",
      "batch: 103.15288626957518, train: 2.200820905397247, train+threshold: 1.1004104526986236\n",
      "[DRIFT][Small Window]: Multi-Dimensional 3rd Quarter Upwards Drift Detected! Distance: 103.15288626957518\t\t\t(Index: 47119)\n"
     ]
    },
    {
     "name": "stderr",
     "output_type": "stream",
     "text": [
      "Setting feature_perturbation = \"tree_path_dependent\" because no background data was given.\n"
     ]
    },
    {
     "name": "stdout",
     "output_type": "stream",
     "text": [
      "[DRIFT][Small Window]: Upwards Data Drift detected!. (manhattan AVG: 1.2750284869750035)\t(Index: 47423)\n",
      "[DRIFT][Small Window]: Upwards Data Drift detected! (manhattan 25%-Quantile: 1.2750284869750035)\t(Index: 47423)\n",
      "[DRIFT][Small Window]: Upwards Data Drift detected! (manhattan 75%-Quantile: 1.2750284869750035)\t(Index: 47423)\n",
      "[DRIFT][Small Window]: Wasserstein Distance detected! (manhattan Distance: 1.2308234414802373)\t(Index: 47423)\n",
      "[DRIFT][Small Window]: Upwards Data Drift detected!. (euclidean AVG: 1.07473250483)\t(Index: 47423)\n",
      "[DRIFT][Small Window]: Upwards Data Drift detected! (euclidean 25%-Quantile: 1.07473250483)\t(Index: 47423)\n",
      "[DRIFT][Small Window]: Upwards Data Drift detected! (euclidean 75%-Quantile: 1.07473250483)\t(Index: 47423)\n",
      "[DRIFT][Small Window]: Upwards Data Drift detected!. (haversine AVG: 103.5353772188285)\t(Index: 47423)\n",
      "[DRIFT][Small Window]: Upwards Data Drift detected! (haversine 25%-Quantile: 103.5353772188285)\t(Index: 47423)\n",
      "[DRIFT][Small Window]: Upwards Data Drift detected! (haversine 75%-Quantile: 103.5353772188285)\t(Index: 47423)\n",
      "[DRIFT][Small Window]: KL-Divergence detected! (haversine Divergence: 314837.38213385514)\t(Index: 47423)\n",
      "[DRIFT][Small Window]: Wasserstein Distance detected! (haversine Distance: 100.19548730032758)\t(Index: 47423)\n"
     ]
    },
    {
     "name": "stderr",
     "output_type": "stream",
     "text": [
      "[Parallel(n_jobs=-1)]: Using backend ThreadingBackend with 4 concurrent workers.\n",
      "[Parallel(n_jobs=-1)]: Done  20 out of  20 | elapsed:    0.0s finished\n"
     ]
    },
    {
     "name": "stdout",
     "output_type": "stream",
     "text": [
      "[DRIFT][Small Window]: Multi-Dimensional Upwards Mean Drift Detected! Distance: 234.4607089201066\t\t\t(Index: 47423)\n",
      "batch: 103.18297034954435, train: 2.200820905397247, train+threshold: 1.1004104526986236\n",
      "[DRIFT][Small Window]: Multi-Dimensional 3rd Quarter Upwards Drift Detected! Distance: 103.18297034954435\t\t\t(Index: 47423)\n"
     ]
    },
    {
     "name": "stderr",
     "output_type": "stream",
     "text": [
      "Setting feature_perturbation = \"tree_path_dependent\" because no background data was given.\n"
     ]
    },
    {
     "name": "stdout",
     "output_type": "stream",
     "text": [
      "[DRIFT][Small Window]: Upwards Data Drift detected!. (manhattan AVG: 1.215284310039771)\t(Index: 47727)\n",
      "[DRIFT][Small Window]: Upwards Data Drift detected! (manhattan 25%-Quantile: 1.215284310039771)\t(Index: 47727)\n",
      "[DRIFT][Small Window]: Upwards Data Drift detected! (manhattan 75%-Quantile: 1.215284310039771)\t(Index: 47727)\n",
      "[DRIFT][Small Window]: Upwards Data Drift detected!. (euclidean AVG: 1.0143708197991856)\t(Index: 47727)\n",
      "[DRIFT][Small Window]: Upwards Data Drift detected! (euclidean 25%-Quantile: 1.0143708197991856)\t(Index: 47727)\n",
      "[DRIFT][Small Window]: Upwards Data Drift detected! (euclidean 75%-Quantile: 1.0143708197991856)\t(Index: 47727)\n",
      "[DRIFT][Small Window]: Upwards Data Drift detected!. (haversine AVG: 97.80587679807819)\t(Index: 47727)\n",
      "[DRIFT][Small Window]: Upwards Data Drift detected! (haversine 25%-Quantile: 97.80587679807819)\t(Index: 47727)\n",
      "[DRIFT][Small Window]: Upwards Data Drift detected! (haversine 75%-Quantile: 97.80587679807819)\t(Index: 47727)\n",
      "[DRIFT][Small Window]: KL-Divergence detected! (haversine Divergence: 309214.2253312357)\t(Index: 47727)\n",
      "[DRIFT][Small Window]: Wasserstein Distance detected! (haversine Distance: 94.46598687957729)\t(Index: 47727)\n"
     ]
    },
    {
     "name": "stderr",
     "output_type": "stream",
     "text": [
      "[Parallel(n_jobs=-1)]: Using backend ThreadingBackend with 4 concurrent workers.\n",
      "[Parallel(n_jobs=-1)]: Done  20 out of  20 | elapsed:    0.0s finished\n"
     ]
    },
    {
     "name": "stdout",
     "output_type": "stream",
     "text": [
      "[DRIFT][Small Window]: Multi-Dimensional Upwards Mean Drift Detected! Distance: 234.4607089201066\t\t\t(Index: 47727)\n",
      "batch: 103.25534276608369, train: 2.200820905397247, train+threshold: 1.1004104526986236\n",
      "[DRIFT][Small Window]: Multi-Dimensional 3rd Quarter Upwards Drift Detected! Distance: 103.25534276608369\t\t\t(Index: 47727)\n",
      "------------------------ INDEX: 48000 ------------------------\n"
     ]
    },
    {
     "name": "stderr",
     "output_type": "stream",
     "text": [
      "Setting feature_perturbation = \"tree_path_dependent\" because no background data was given.\n"
     ]
    },
    {
     "name": "stdout",
     "output_type": "stream",
     "text": [
      "[DRIFT][Small Window]: Upwards Data Drift detected!. (manhattan AVG: 1.2710331952356542)\t(Index: 48031)\n",
      "[DRIFT][Small Window]: Upwards Data Drift detected! (manhattan 25%-Quantile: 1.2710331952356542)\t(Index: 48031)\n",
      "[DRIFT][Small Window]: Upwards Data Drift detected! (manhattan 75%-Quantile: 1.2710331952356542)\t(Index: 48031)\n",
      "[DRIFT][Small Window]: Wasserstein Distance detected! (manhattan Distance: 1.2268281497408877)\t(Index: 48031)\n",
      "[DRIFT][Small Window]: Upwards Data Drift detected!. (euclidean AVG: 1.0444542373076777)\t(Index: 48031)\n",
      "[DRIFT][Small Window]: Upwards Data Drift detected! (euclidean 25%-Quantile: 1.0444542373076777)\t(Index: 48031)\n",
      "[DRIFT][Small Window]: Upwards Data Drift detected! (euclidean 75%-Quantile: 1.0444542373076777)\t(Index: 48031)\n",
      "[DRIFT][Small Window]: Upwards Data Drift detected!. (haversine AVG: 101.57078592217971)\t(Index: 48031)\n",
      "[DRIFT][Small Window]: Upwards Data Drift detected! (haversine 25%-Quantile: 101.57078592217971)\t(Index: 48031)\n",
      "[DRIFT][Small Window]: Upwards Data Drift detected! (haversine 75%-Quantile: 101.57078592217971)\t(Index: 48031)\n",
      "[DRIFT][Small Window]: KL-Divergence detected! (haversine Divergence: 320212.50680631754)\t(Index: 48031)\n",
      "[DRIFT][Small Window]: Wasserstein Distance detected! (haversine Distance: 98.2308960036788)\t(Index: 48031)\n"
     ]
    },
    {
     "name": "stderr",
     "output_type": "stream",
     "text": [
      "[Parallel(n_jobs=-1)]: Using backend ThreadingBackend with 4 concurrent workers.\n",
      "[Parallel(n_jobs=-1)]: Done  20 out of  20 | elapsed:    0.0s finished\n"
     ]
    },
    {
     "name": "stdout",
     "output_type": "stream",
     "text": [
      "[DRIFT][Small Window]: Multi-Dimensional Upwards Mean Drift Detected! Distance: 234.4607089201066\t\t\t(Index: 48031)\n",
      "batch: 103.33219029924979, train: 2.200820905397247, train+threshold: 1.1004104526986236\n",
      "[DRIFT][Small Window]: Multi-Dimensional 3rd Quarter Upwards Drift Detected! Distance: 103.33219029924979\t\t\t(Index: 48031)\n"
     ]
    },
    {
     "name": "stderr",
     "output_type": "stream",
     "text": [
      "Setting feature_perturbation = \"tree_path_dependent\" because no background data was given.\n"
     ]
    },
    {
     "name": "stdout",
     "output_type": "stream",
     "text": [
      "[DRIFT][Small Window]: Upwards Data Drift detected!. (manhattan AVG: 1.158912510090603)\t(Index: 48335)\n",
      "[DRIFT][Small Window]: Upwards Data Drift detected! (manhattan 25%-Quantile: 1.158912510090603)\t(Index: 48335)\n",
      "[DRIFT][Small Window]: Upwards Data Drift detected! (manhattan 75%-Quantile: 1.158912510090603)\t(Index: 48335)\n",
      "[DRIFT][Small Window]: Upwards Data Drift detected!. (euclidean AVG: 0.9738694287679431)\t(Index: 48335)\n",
      "[DRIFT][Small Window]: Upwards Data Drift detected! (euclidean 25%-Quantile: 0.9738694287679431)\t(Index: 48335)\n",
      "[DRIFT][Small Window]: Upwards Data Drift detected! (euclidean 75%-Quantile: 0.9738694287679431)\t(Index: 48335)\n",
      "[DRIFT][Small Window]: Upwards Data Drift detected!. (haversine AVG: 94.25767718502148)\t(Index: 48335)\n",
      "[DRIFT][Small Window]: Upwards Data Drift detected! (haversine 25%-Quantile: 94.25767718502148)\t(Index: 48335)\n",
      "[DRIFT][Small Window]: Upwards Data Drift detected! (haversine 75%-Quantile: 94.25767718502148)\t(Index: 48335)\n",
      "[DRIFT][Small Window]: KL-Divergence detected! (haversine Divergence: 271646.40860519075)\t(Index: 48335)\n",
      "[DRIFT][Small Window]: Wasserstein Distance detected! (haversine Distance: 90.91778726652055)\t(Index: 48335)\n"
     ]
    },
    {
     "name": "stderr",
     "output_type": "stream",
     "text": [
      "[Parallel(n_jobs=-1)]: Using backend ThreadingBackend with 4 concurrent workers.\n",
      "[Parallel(n_jobs=-1)]: Done  20 out of  20 | elapsed:    0.0s finished\n"
     ]
    },
    {
     "name": "stdout",
     "output_type": "stream",
     "text": [
      "[DRIFT][Small Window]: Multi-Dimensional Upwards Mean Drift Detected! Distance: 234.4607089201066\t\t\t(Index: 48335)\n",
      "batch: 103.38957525482596, train: 2.200820905397247, train+threshold: 1.1004104526986236\n",
      "[DRIFT][Small Window]: Multi-Dimensional 3rd Quarter Upwards Drift Detected! Distance: 103.38957525482596\t\t\t(Index: 48335)\n"
     ]
    },
    {
     "name": "stderr",
     "output_type": "stream",
     "text": [
      "Setting feature_perturbation = \"tree_path_dependent\" because no background data was given.\n"
     ]
    },
    {
     "name": "stdout",
     "output_type": "stream",
     "text": [
      "[DRIFT][Small Window]: Upwards Data Drift detected!. (manhattan AVG: 1.0878332464850562)\t(Index: 48639)\n",
      "[DRIFT][Small Window]: Upwards Data Drift detected! (manhattan 25%-Quantile: 1.0878332464850562)\t(Index: 48639)\n",
      "[DRIFT][Small Window]: Upwards Data Drift detected! (manhattan 75%-Quantile: 1.0878332464850562)\t(Index: 48639)\n",
      "[DRIFT][Small Window]: Upwards Data Drift detected!. (euclidean AVG: 0.9218180301897764)\t(Index: 48639)\n",
      "[DRIFT][Small Window]: Upwards Data Drift detected! (euclidean 25%-Quantile: 0.9218180301897764)\t(Index: 48639)\n",
      "[DRIFT][Small Window]: Upwards Data Drift detected! (euclidean 75%-Quantile: 0.9218180301897764)\t(Index: 48639)\n",
      "[DRIFT][Small Window]: Upwards Data Drift detected!. (haversine AVG: 88.30338946505753)\t(Index: 48639)\n",
      "[DRIFT][Small Window]: Upwards Data Drift detected! (haversine 25%-Quantile: 88.30338946505753)\t(Index: 48639)\n",
      "[DRIFT][Small Window]: Upwards Data Drift detected! (haversine 75%-Quantile: 88.30338946505753)\t(Index: 48639)\n",
      "[DRIFT][Small Window]: KL-Divergence detected! (haversine Divergence: 267862.17453813425)\t(Index: 48639)\n",
      "[DRIFT][Small Window]: Wasserstein Distance detected! (haversine Distance: 84.96349954655663)\t(Index: 48639)\n",
      "[DRIFT][Small Window]: Pairwise Correlation Drift detected: pickup_longitude <> passenger_count!\t(Index: 48639)\n"
     ]
    },
    {
     "name": "stderr",
     "output_type": "stream",
     "text": [
      "[Parallel(n_jobs=-1)]: Using backend ThreadingBackend with 4 concurrent workers.\n",
      "[Parallel(n_jobs=-1)]: Done  20 out of  20 | elapsed:    0.0s finished\n"
     ]
    },
    {
     "name": "stdout",
     "output_type": "stream",
     "text": [
      "[DRIFT][Small Window]: Multi-Dimensional Upwards Mean Drift Detected! Distance: 234.4607089201066\t\t\t(Index: 48639)\n",
      "batch: 103.38957525482596, train: 2.200820905397247, train+threshold: 1.1004104526986236\n",
      "[DRIFT][Small Window]: Multi-Dimensional 3rd Quarter Upwards Drift Detected! Distance: 103.38957525482596\t\t\t(Index: 48639)\n"
     ]
    },
    {
     "name": "stderr",
     "output_type": "stream",
     "text": [
      "Setting feature_perturbation = \"tree_path_dependent\" because no background data was given.\n"
     ]
    },
    {
     "name": "stdout",
     "output_type": "stream",
     "text": [
      "[DRIFT][Small Window]: Upwards Data Drift detected!. (manhattan AVG: 1.0817355972658578)\t(Index: 48943)\n",
      "[DRIFT][Small Window]: Upwards Data Drift detected! (manhattan 25%-Quantile: 1.0817355972658578)\t(Index: 48943)\n",
      "[DRIFT][Small Window]: Upwards Data Drift detected! (manhattan 75%-Quantile: 1.0817355972658578)\t(Index: 48943)\n",
      "[DRIFT][Small Window]: Upwards Data Drift detected!. (euclidean AVG: 0.902458440434524)\t(Index: 48943)\n",
      "[DRIFT][Small Window]: Upwards Data Drift detected! (euclidean 25%-Quantile: 0.902458440434524)\t(Index: 48943)\n",
      "[DRIFT][Small Window]: Upwards Data Drift detected! (euclidean 75%-Quantile: 0.902458440434524)\t(Index: 48943)\n",
      "[DRIFT][Small Window]: Upwards Data Drift detected!. (haversine AVG: 87.13227428914169)\t(Index: 48943)\n",
      "[DRIFT][Small Window]: Upwards Data Drift detected! (haversine 25%-Quantile: 87.13227428914169)\t(Index: 48943)\n",
      "[DRIFT][Small Window]: Upwards Data Drift detected! (haversine 75%-Quantile: 87.13227428914169)\t(Index: 48943)\n",
      "[DRIFT][Small Window]: KL-Divergence detected! (haversine Divergence: 268844.51667608024)\t(Index: 48943)\n",
      "[DRIFT][Small Window]: Wasserstein Distance detected! (haversine Distance: 83.79238437064079)\t(Index: 48943)\n",
      "[DRIFT][Small Window]: Pairwise Correlation Drift detected: pickup_longitude <> passenger_count!\t(Index: 48943)\n"
     ]
    },
    {
     "name": "stderr",
     "output_type": "stream",
     "text": [
      "[Parallel(n_jobs=-1)]: Using backend ThreadingBackend with 4 concurrent workers.\n",
      "[Parallel(n_jobs=-1)]: Done  20 out of  20 | elapsed:    0.0s finished\n"
     ]
    },
    {
     "name": "stdout",
     "output_type": "stream",
     "text": [
      "[DRIFT][Small Window]: Multi-Dimensional Upwards Mean Drift Detected! Distance: 234.4607089201066\t\t\t(Index: 48943)\n",
      "batch: 103.32401782475453, train: 2.200820905397247, train+threshold: 1.1004104526986236\n",
      "[DRIFT][Small Window]: Multi-Dimensional 3rd Quarter Upwards Drift Detected! Distance: 103.32401782475453\t\t\t(Index: 48943)\n",
      "------------------------ INDEX: 49000 ------------------------\n"
     ]
    },
    {
     "name": "stderr",
     "output_type": "stream",
     "text": [
      "Setting feature_perturbation = \"tree_path_dependent\" because no background data was given.\n"
     ]
    },
    {
     "name": "stdout",
     "output_type": "stream",
     "text": [
      "[DRIFT][Small Window]: Downwards Data Drift detected! (passenger_count 75%-Quantile: 1.5172981878088962)\t(Index: 49247)\n",
      "[DRIFT][Small Window]: Upwards Data Drift detected!. (manhattan AVG: 1.1073180568983312)\t(Index: 49247)\n",
      "[DRIFT][Small Window]: Upwards Data Drift detected! (manhattan 25%-Quantile: 1.1073180568983312)\t(Index: 49247)\n",
      "[DRIFT][Small Window]: Upwards Data Drift detected! (manhattan 75%-Quantile: 1.1073180568983312)\t(Index: 49247)\n",
      "[DRIFT][Small Window]: Upwards Data Drift detected!. (euclidean AVG: 0.9292552027096752)\t(Index: 49247)\n",
      "[DRIFT][Small Window]: Upwards Data Drift detected! (euclidean 25%-Quantile: 0.9292552027096752)\t(Index: 49247)\n",
      "[DRIFT][Small Window]: Upwards Data Drift detected! (euclidean 75%-Quantile: 0.9292552027096752)\t(Index: 49247)\n",
      "[DRIFT][Small Window]: Upwards Data Drift detected!. (haversine AVG: 90.71041845718128)\t(Index: 49247)\n",
      "[DRIFT][Small Window]: Upwards Data Drift detected! (haversine 25%-Quantile: 90.71041845718128)\t(Index: 49247)\n",
      "[DRIFT][Small Window]: Upwards Data Drift detected! (haversine 75%-Quantile: 90.71041845718128)\t(Index: 49247)\n",
      "[DRIFT][Small Window]: KL-Divergence detected! (haversine Divergence: 273532.3214796944)\t(Index: 49247)\n",
      "[DRIFT][Small Window]: Wasserstein Distance detected! (haversine Distance: 87.37052853868035)\t(Index: 49247)\n"
     ]
    },
    {
     "name": "stderr",
     "output_type": "stream",
     "text": [
      "[Parallel(n_jobs=-1)]: Using backend ThreadingBackend with 4 concurrent workers.\n",
      "[Parallel(n_jobs=-1)]: Done  20 out of  20 | elapsed:    0.0s finished\n"
     ]
    },
    {
     "name": "stdout",
     "output_type": "stream",
     "text": [
      "[DRIFT][Small Window]: Multi-Dimensional Upwards Mean Drift Detected! Distance: 234.4607089201066\t\t\t(Index: 49247)\n",
      "batch: 103.38256554168011, train: 2.200820905397247, train+threshold: 1.1004104526986236\n",
      "[DRIFT][Small Window]: Multi-Dimensional 3rd Quarter Upwards Drift Detected! Distance: 103.38256554168011\t\t\t(Index: 49247)\n"
     ]
    },
    {
     "name": "stderr",
     "output_type": "stream",
     "text": [
      "Setting feature_perturbation = \"tree_path_dependent\" because no background data was given.\n"
     ]
    },
    {
     "name": "stdout",
     "output_type": "stream",
     "text": [
      "[DRIFT][Small Window]: Downwards Data Drift detected! (passenger_count 75%-Quantile: 1.4398682042833608)\t(Index: 49551)\n",
      "[DRIFT][Small Window]: Upwards Data Drift detected!. (manhattan AVG: 1.075811947819367)\t(Index: 49551)\n",
      "[DRIFT][Small Window]: Upwards Data Drift detected! (manhattan 25%-Quantile: 1.075811947819367)\t(Index: 49551)\n",
      "[DRIFT][Small Window]: Upwards Data Drift detected! (manhattan 75%-Quantile: 1.075811947819367)\t(Index: 49551)\n",
      "[DRIFT][Small Window]: Upwards Data Drift detected!. (euclidean AVG: 0.9175370487292703)\t(Index: 49551)\n",
      "[DRIFT][Small Window]: Upwards Data Drift detected! (euclidean 25%-Quantile: 0.9175370487292703)\t(Index: 49551)\n",
      "[DRIFT][Small Window]: Upwards Data Drift detected! (euclidean 75%-Quantile: 0.9175370487292703)\t(Index: 49551)\n",
      "[DRIFT][Small Window]: Upwards Data Drift detected!. (haversine AVG: 88.75002702795761)\t(Index: 49551)\n",
      "[DRIFT][Small Window]: Upwards Data Drift detected! (haversine 25%-Quantile: 88.75002702795761)\t(Index: 49551)\n",
      "[DRIFT][Small Window]: Upwards Data Drift detected! (haversine 75%-Quantile: 88.75002702795761)\t(Index: 49551)\n",
      "[DRIFT][Small Window]: KL-Divergence detected! (haversine Divergence: 267631.13713813707)\t(Index: 49551)\n",
      "[DRIFT][Small Window]: Wasserstein Distance detected! (haversine Distance: 85.4101371094567)\t(Index: 49551)\n",
      "[DRIFT][Small Window]: Pairwise Correlation Drift detected: dropoff_longitude <> passenger_count!\t(Index: 49551)\n"
     ]
    },
    {
     "name": "stderr",
     "output_type": "stream",
     "text": [
      "[Parallel(n_jobs=-1)]: Using backend ThreadingBackend with 4 concurrent workers.\n",
      "[Parallel(n_jobs=-1)]: Done  20 out of  20 | elapsed:    0.0s finished\n"
     ]
    },
    {
     "name": "stdout",
     "output_type": "stream",
     "text": [
      "[DRIFT][Small Window]: Multi-Dimensional Upwards Mean Drift Detected! Distance: 234.4607089201066\t\t\t(Index: 49551)\n",
      "batch: 103.34345065599388, train: 2.200820905397247, train+threshold: 1.1004104526986236\n",
      "[DRIFT][Small Window]: Multi-Dimensional 3rd Quarter Upwards Drift Detected! Distance: 103.34345065599388\t\t\t(Index: 49551)\n"
     ]
    },
    {
     "name": "stderr",
     "output_type": "stream",
     "text": [
      "Setting feature_perturbation = \"tree_path_dependent\" because no background data was given.\n"
     ]
    },
    {
     "name": "stdout",
     "output_type": "stream",
     "text": [
      "[DRIFT][Small Window]: Downwards Data Drift detected! (passenger_count 75%-Quantile: 1.42668863261944)\t(Index: 49855)\n",
      "[DRIFT][Small Window]: Upwards Data Drift detected!. (manhattan AVG: 1.1044793686184693)\t(Index: 49855)\n",
      "[DRIFT][Small Window]: Upwards Data Drift detected! (manhattan 25%-Quantile: 1.1044793686184693)\t(Index: 49855)\n",
      "[DRIFT][Small Window]: Upwards Data Drift detected! (manhattan 75%-Quantile: 1.1044793686184693)\t(Index: 49855)\n",
      "[DRIFT][Small Window]: Upwards Data Drift detected!. (euclidean AVG: 0.9406748993967649)\t(Index: 49855)\n",
      "[DRIFT][Small Window]: Upwards Data Drift detected! (euclidean 25%-Quantile: 0.9406748993967649)\t(Index: 49855)\n",
      "[DRIFT][Small Window]: Upwards Data Drift detected! (euclidean 75%-Quantile: 0.9406748993967649)\t(Index: 49855)\n",
      "[DRIFT][Small Window]: Upwards Data Drift detected!. (haversine AVG: 89.89604759906602)\t(Index: 49855)\n",
      "[DRIFT][Small Window]: Upwards Data Drift detected! (haversine 25%-Quantile: 89.89604759906602)\t(Index: 49855)\n",
      "[DRIFT][Small Window]: Upwards Data Drift detected! (haversine 75%-Quantile: 89.89604759906602)\t(Index: 49855)\n",
      "[DRIFT][Small Window]: KL-Divergence detected! (haversine Divergence: 280263.5414912622)\t(Index: 49855)\n",
      "[DRIFT][Small Window]: Wasserstein Distance detected! (haversine Distance: 86.55615768056512)\t(Index: 49855)\n",
      "[DRIFT][Small Window]: Pairwise Correlation Drift detected: dropoff_longitude <> passenger_count!\t(Index: 49855)\n"
     ]
    },
    {
     "name": "stderr",
     "output_type": "stream",
     "text": [
      "[Parallel(n_jobs=-1)]: Using backend ThreadingBackend with 4 concurrent workers.\n",
      "[Parallel(n_jobs=-1)]: Done  20 out of  20 | elapsed:    0.0s finished\n"
     ]
    },
    {
     "name": "stdout",
     "output_type": "stream",
     "text": [
      "[DRIFT][Small Window]: Multi-Dimensional Upwards Mean Drift Detected! Distance: 234.4607089201066\t\t\t(Index: 49855)\n",
      "batch: 103.39592718717941, train: 2.200820905397247, train+threshold: 1.1004104526986236\n",
      "[DRIFT][Small Window]: Multi-Dimensional 3rd Quarter Upwards Drift Detected! Distance: 103.39592718717941\t\t\t(Index: 49855)\n",
      "------------------------ INDEX: 50000 ------------------------\n"
     ]
    },
    {
     "name": "stderr",
     "output_type": "stream",
     "text": [
      "Setting feature_perturbation = \"tree_path_dependent\" because no background data was given.\n"
     ]
    },
    {
     "name": "stdout",
     "output_type": "stream",
     "text": [
      "[DRIFT][Small Window]: Upwards Data Drift detected!. (manhattan AVG: 1.1237612545615112)\t(Index: 50159)\n",
      "[DRIFT][Small Window]: Upwards Data Drift detected! (manhattan 25%-Quantile: 1.1237612545615112)\t(Index: 50159)\n",
      "[DRIFT][Small Window]: Upwards Data Drift detected! (manhattan 75%-Quantile: 1.1237612545615112)\t(Index: 50159)\n",
      "[DRIFT][Small Window]: Upwards Data Drift detected!. (euclidean AVG: 0.9452427529728804)\t(Index: 50159)\n",
      "[DRIFT][Small Window]: Upwards Data Drift detected! (euclidean 25%-Quantile: 0.9452427529728804)\t(Index: 50159)\n",
      "[DRIFT][Small Window]: Upwards Data Drift detected! (euclidean 75%-Quantile: 0.9452427529728804)\t(Index: 50159)\n",
      "[DRIFT][Small Window]: Upwards Data Drift detected!. (haversine AVG: 90.65955065705555)\t(Index: 50159)\n",
      "[DRIFT][Small Window]: Upwards Data Drift detected! (haversine 25%-Quantile: 90.65955065705555)\t(Index: 50159)\n",
      "[DRIFT][Small Window]: Upwards Data Drift detected! (haversine 75%-Quantile: 90.65955065705555)\t(Index: 50159)\n",
      "[DRIFT][Small Window]: KL-Divergence detected! (haversine Divergence: 276502.31943965034)\t(Index: 50159)\n",
      "[DRIFT][Small Window]: Wasserstein Distance detected! (haversine Distance: 87.31966073855463)\t(Index: 50159)\n"
     ]
    },
    {
     "name": "stderr",
     "output_type": "stream",
     "text": [
      "[Parallel(n_jobs=-1)]: Using backend ThreadingBackend with 4 concurrent workers.\n",
      "[Parallel(n_jobs=-1)]: Done  20 out of  20 | elapsed:    0.0s finished\n"
     ]
    },
    {
     "name": "stdout",
     "output_type": "stream",
     "text": [
      "[DRIFT][Small Window]: Multi-Dimensional Upwards Mean Drift Detected! Distance: 234.4607089201066\t\t\t(Index: 50159)\n",
      "batch: 103.32078237548293, train: 2.200820905397247, train+threshold: 1.1004104526986236\n",
      "[DRIFT][Small Window]: Multi-Dimensional 3rd Quarter Upwards Drift Detected! Distance: 103.32078237548293\t\t\t(Index: 50159)\n"
     ]
    },
    {
     "name": "stderr",
     "output_type": "stream",
     "text": [
      "Setting feature_perturbation = \"tree_path_dependent\" because no background data was given.\n"
     ]
    },
    {
     "name": "stdout",
     "output_type": "stream",
     "text": [
      "[DRIFT][Small Window]: Upwards Data Drift detected!. (manhattan AVG: 1.1675884504812917)\t(Index: 50463)\n",
      "[DRIFT][Small Window]: Upwards Data Drift detected! (manhattan 25%-Quantile: 1.1675884504812917)\t(Index: 50463)\n",
      "[DRIFT][Small Window]: Upwards Data Drift detected! (manhattan 75%-Quantile: 1.1675884504812917)\t(Index: 50463)\n",
      "[DRIFT][Small Window]: Upwards Data Drift detected!. (euclidean AVG: 0.9764737799336387)\t(Index: 50463)\n",
      "[DRIFT][Small Window]: Upwards Data Drift detected! (euclidean 25%-Quantile: 0.9764737799336387)\t(Index: 50463)\n",
      "[DRIFT][Small Window]: Upwards Data Drift detected! (euclidean 75%-Quantile: 0.9764737799336387)\t(Index: 50463)\n",
      "[DRIFT][Small Window]: Upwards Data Drift detected!. (haversine AVG: 94.05142196716771)\t(Index: 50463)\n",
      "[DRIFT][Small Window]: Upwards Data Drift detected! (haversine 25%-Quantile: 94.05142196716771)\t(Index: 50463)\n",
      "[DRIFT][Small Window]: Upwards Data Drift detected! (haversine 75%-Quantile: 94.05142196716771)\t(Index: 50463)\n",
      "[DRIFT][Small Window]: KL-Divergence detected! (haversine Divergence: 290013.0008932729)\t(Index: 50463)\n",
      "[DRIFT][Small Window]: Wasserstein Distance detected! (haversine Distance: 90.7115320486668)\t(Index: 50463)\n"
     ]
    },
    {
     "name": "stderr",
     "output_type": "stream",
     "text": [
      "[Parallel(n_jobs=-1)]: Using backend ThreadingBackend with 4 concurrent workers.\n",
      "[Parallel(n_jobs=-1)]: Done  20 out of  20 | elapsed:    0.0s finished\n",
      "Some inputs do not have OOB scores. This probably means too few trees were used to compute any reliable oob estimates.\n"
     ]
    },
    {
     "name": "stdout",
     "output_type": "stream",
     "text": [
      "[DRIFT][Small Window]: Multi-Dimensional Upwards Mean Drift Detected! Distance: 234.4607089201066\t\t\t(Index: 50463)\n",
      "batch: 103.41159878302541, train: 2.200820905397247, train+threshold: 1.1004104526986236\n",
      "[DRIFT][Small Window]: Multi-Dimensional 3rd Quarter Upwards Drift Detected! Distance: 103.41159878302541\t\t\t(Index: 50463)\n"
     ]
    },
    {
     "name": "stderr",
     "output_type": "stream",
     "text": [
      "Setting feature_perturbation = \"tree_path_dependent\" because no background data was given.\n"
     ]
    },
    {
     "name": "stdout",
     "output_type": "stream",
     "text": [
      "[DRIFT][Small Window]: Downwards Data Drift detected! (passenger_count 75%-Quantile: 1.4777594728171335)\t(Index: 50767)\n",
      "[DRIFT][Small Window]: Upwards Data Drift detected!. (manhattan AVG: 1.1784340441860872)\t(Index: 50767)\n",
      "[DRIFT][Small Window]: Upwards Data Drift detected! (manhattan 25%-Quantile: 1.1784340441860872)\t(Index: 50767)\n",
      "[DRIFT][Small Window]: Upwards Data Drift detected! (manhattan 75%-Quantile: 1.1784340441860872)\t(Index: 50767)\n",
      "[DRIFT][Small Window]: Upwards Data Drift detected!. (euclidean AVG: 0.9902477236297067)\t(Index: 50767)\n",
      "[DRIFT][Small Window]: Upwards Data Drift detected! (euclidean 25%-Quantile: 0.9902477236297067)\t(Index: 50767)\n",
      "[DRIFT][Small Window]: Upwards Data Drift detected! (euclidean 75%-Quantile: 0.9902477236297067)\t(Index: 50767)\n",
      "[DRIFT][Small Window]: Upwards Data Drift detected!. (haversine AVG: 95.16705431421634)\t(Index: 50767)\n",
      "[DRIFT][Small Window]: Upwards Data Drift detected! (haversine 25%-Quantile: 95.16705431421634)\t(Index: 50767)\n",
      "[DRIFT][Small Window]: Upwards Data Drift detected! (haversine 75%-Quantile: 95.16705431421634)\t(Index: 50767)\n",
      "[DRIFT][Small Window]: KL-Divergence detected! (haversine Divergence: 288647.0278377939)\t(Index: 50767)\n",
      "[DRIFT][Small Window]: Wasserstein Distance detected! (haversine Distance: 91.82716439571543)\t(Index: 50767)\n"
     ]
    },
    {
     "name": "stderr",
     "output_type": "stream",
     "text": [
      "[Parallel(n_jobs=-1)]: Using backend ThreadingBackend with 4 concurrent workers.\n",
      "[Parallel(n_jobs=-1)]: Done  20 out of  20 | elapsed:    0.0s finished\n"
     ]
    },
    {
     "name": "stdout",
     "output_type": "stream",
     "text": [
      "[DRIFT][Small Window]: Multi-Dimensional Upwards Mean Drift Detected! Distance: 234.4607089201066\t\t\t(Index: 50767)\n",
      "batch: 103.34706897082265, train: 2.200820905397247, train+threshold: 1.1004104526986236\n",
      "[DRIFT][Small Window]: Multi-Dimensional 3rd Quarter Upwards Drift Detected! Distance: 103.34706897082265\t\t\t(Index: 50767)\n",
      "------------------------ INDEX: 51000 ------------------------\n"
     ]
    },
    {
     "name": "stderr",
     "output_type": "stream",
     "text": [
      "Setting feature_perturbation = \"tree_path_dependent\" because no background data was given.\n"
     ]
    },
    {
     "name": "stdout",
     "output_type": "stream",
     "text": [
      "[DRIFT][Small Window]: Downwards Data Drift detected! (passenger_count 75%-Quantile: 1.4250411861614498)\t(Index: 51071)\n",
      "[DRIFT][Small Window]: Upwards Data Drift detected!. (manhattan AVG: 1.2047587612182271)\t(Index: 51071)\n",
      "[DRIFT][Small Window]: Upwards Data Drift detected! (manhattan 25%-Quantile: 1.2047587612182271)\t(Index: 51071)\n",
      "[DRIFT][Small Window]: Upwards Data Drift detected! (manhattan 75%-Quantile: 1.2047587612182271)\t(Index: 51071)\n",
      "[DRIFT][Small Window]: Upwards Data Drift detected!. (euclidean AVG: 1.0003587471893942)\t(Index: 51071)\n",
      "[DRIFT][Small Window]: Upwards Data Drift detected! (euclidean 25%-Quantile: 1.0003587471893942)\t(Index: 51071)\n",
      "[DRIFT][Small Window]: Upwards Data Drift detected! (euclidean 75%-Quantile: 1.0003587471893942)\t(Index: 51071)\n",
      "[DRIFT][Small Window]: Upwards Data Drift detected!. (haversine AVG: 95.70128774112266)\t(Index: 51071)\n",
      "[DRIFT][Small Window]: Upwards Data Drift detected! (haversine 25%-Quantile: 95.70128774112266)\t(Index: 51071)\n",
      "[DRIFT][Small Window]: Upwards Data Drift detected! (haversine 75%-Quantile: 95.70128774112266)\t(Index: 51071)\n",
      "[DRIFT][Small Window]: KL-Divergence detected! (haversine Divergence: 292054.2461948818)\t(Index: 51071)\n",
      "[DRIFT][Small Window]: Wasserstein Distance detected! (haversine Distance: 92.36139782262175)\t(Index: 51071)\n"
     ]
    },
    {
     "name": "stderr",
     "output_type": "stream",
     "text": [
      "[Parallel(n_jobs=-1)]: Using backend ThreadingBackend with 4 concurrent workers.\n",
      "[Parallel(n_jobs=-1)]: Done  20 out of  20 | elapsed:    0.0s finished\n"
     ]
    },
    {
     "name": "stdout",
     "output_type": "stream",
     "text": [
      "[DRIFT][Small Window]: Multi-Dimensional Upwards Mean Drift Detected! Distance: 234.4607089201066\t\t\t(Index: 51071)\n",
      "batch: 103.37065141732222, train: 2.200820905397247, train+threshold: 1.1004104526986236\n",
      "[DRIFT][Small Window]: Multi-Dimensional 3rd Quarter Upwards Drift Detected! Distance: 103.37065141732222\t\t\t(Index: 51071)\n"
     ]
    },
    {
     "name": "stderr",
     "output_type": "stream",
     "text": [
      "Setting feature_perturbation = \"tree_path_dependent\" because no background data was given.\n"
     ]
    },
    {
     "name": "stdout",
     "output_type": "stream",
     "text": [
      "[DRIFT][Medium Window]: Upwards Data Drift detected! (fare_amount 25%-Quantile: 11.481883044468557)\t(Index: 51107)\n",
      "[DRIFT][Medium Window]: KL-Divergence detected! (fare_amount Divergence: 40066.57196126134)\t(Index: 51107)\n",
      "[DRIFT][Medium Window]: Wasserstein Distance detected! (fare_amount Distance: 0.8602921288227484)\t(Index: 51107)\n",
      "[DRIFT][Medium Window]: KL-Divergence detected! (fare-bin Divergence: 3462.2075760503194)\t(Index: 51107)\n",
      "[DRIFT][Medium Window]: KL-Divergence detected! (pickup_longitude Divergence: 3609.0877664285417)\t(Index: 51107)\n",
      "[DRIFT][Medium Window]: Wasserstein Distance detected! (pickup_longitude Distance: 0.5938374691702435)\t(Index: 51107)\n",
      "[DRIFT][Medium Window]: KL-Divergence detected! (pickup_latitude Divergence: 3054.574366687902)\t(Index: 51107)\n",
      "[DRIFT][Medium Window]: Wasserstein Distance detected! (pickup_latitude Distance: 0.4891403372893882)\t(Index: 51107)\n",
      "[DRIFT][Medium Window]: KL-Divergence detected! (dropoff_longitude Divergence: 1164.2718491409862)\t(Index: 51107)\n",
      "[DRIFT][Medium Window]: KL-Divergence detected! (passenger_count Divergence: 2258.098129365465)\t(Index: 51107)\n",
      "[DRIFT][Medium Window]: Upwards Data Drift detected!. (manhattan AVG: 1.1791393624389859)\t(Index: 51107)\n",
      "[DRIFT][Medium Window]: Upwards Data Drift detected! (manhattan 25%-Quantile: 1.1791393624389859)\t(Index: 51107)\n",
      "[DRIFT][Medium Window]: Upwards Data Drift detected! (manhattan 75%-Quantile: 1.1791393624389859)\t(Index: 51107)\n",
      "[DRIFT][Medium Window]: KL-Divergence detected! (manhattan Divergence: 30065.227072306872)\t(Index: 51107)\n",
      "[DRIFT][Medium Window]: Wasserstein Distance detected! (manhattan Distance: 1.1349343169442192)\t(Index: 51107)\n",
      "[DRIFT][Medium Window]: Upwards Data Drift detected!. (euclidean AVG: 0.9882903212612986)\t(Index: 51107)\n",
      "[DRIFT][Medium Window]: Upwards Data Drift detected! (euclidean 25%-Quantile: 0.9882903212612986)\t(Index: 51107)\n",
      "[DRIFT][Medium Window]: Upwards Data Drift detected! (euclidean 75%-Quantile: 0.9882903212612986)\t(Index: 51107)\n",
      "[DRIFT][Medium Window]: KL-Divergence detected! (euclidean Divergence: 25529.01635242065)\t(Index: 51107)\n",
      "[DRIFT][Medium Window]: Wasserstein Distance detected! (euclidean Distance: 0.954116394848918)\t(Index: 51107)\n",
      "[DRIFT][Medium Window]: Upwards Data Drift detected!. (haversine AVG: 95.22903047339967)\t(Index: 51107)\n",
      "[DRIFT][Medium Window]: Upwards Data Drift detected! (haversine 25%-Quantile: 95.22903047339967)\t(Index: 51107)\n",
      "[DRIFT][Medium Window]: Upwards Data Drift detected! (haversine 75%-Quantile: 95.22903047339967)\t(Index: 51107)\n",
      "[DRIFT][Medium Window]: KL-Divergence detected! (haversine Divergence: 2452298.2958160914)\t(Index: 51107)\n",
      "[DRIFT][Medium Window]: Wasserstein Distance detected! (haversine Distance: 91.88914055489876)\t(Index: 51107)\n"
     ]
    },
    {
     "name": "stderr",
     "output_type": "stream",
     "text": [
      "[Parallel(n_jobs=-1)]: Using backend ThreadingBackend with 4 concurrent workers.\n",
      "[Parallel(n_jobs=-1)]: Done  20 out of  20 | elapsed:    0.1s finished\n"
     ]
    },
    {
     "name": "stdout",
     "output_type": "stream",
     "text": [
      "[DRIFT][Medium Window]: Multi-Dimensional Upwards Mean Drift Detected! Distance: 234.4607089201066\t\t\t(Index: 51107)\n",
      "batch: 103.40590236137461, train: 2.200820905397247, train+threshold: 1.1004104526986236\n",
      "[DRIFT][Medium Window]: Multi-Dimensional 3rd Quarter Upwards Drift Detected! Distance: 103.40590236137461\t\t\t(Index: 51107)\n"
     ]
    },
    {
     "name": "stderr",
     "output_type": "stream",
     "text": [
      "Setting feature_perturbation = \"tree_path_dependent\" because no background data was given.\n"
     ]
    },
    {
     "name": "stdout",
     "output_type": "stream",
     "text": [
      "[DRIFT][Small Window]: Upwards Data Drift detected!. (manhattan AVG: 1.3013820050690807)\t(Index: 51375)\n",
      "[DRIFT][Small Window]: Upwards Data Drift detected! (manhattan 25%-Quantile: 1.3013820050690807)\t(Index: 51375)\n",
      "[DRIFT][Small Window]: Upwards Data Drift detected! (manhattan 75%-Quantile: 1.3013820050690807)\t(Index: 51375)\n",
      "[DRIFT][Small Window]: Wasserstein Distance detected! (manhattan Distance: 1.2571769595743143)\t(Index: 51375)\n",
      "[DRIFT][Small Window]: Upwards Data Drift detected!. (euclidean AVG: 1.0820226191489442)\t(Index: 51375)\n",
      "[DRIFT][Small Window]: Upwards Data Drift detected! (euclidean 25%-Quantile: 1.0820226191489442)\t(Index: 51375)\n",
      "[DRIFT][Small Window]: Upwards Data Drift detected! (euclidean 75%-Quantile: 1.0820226191489442)\t(Index: 51375)\n",
      "[DRIFT][Small Window]: Upwards Data Drift detected!. (haversine AVG: 103.4149667475749)\t(Index: 51375)\n",
      "[DRIFT][Small Window]: Upwards Data Drift detected! (haversine 25%-Quantile: 103.4149667475749)\t(Index: 51375)\n",
      "[DRIFT][Small Window]: Upwards Data Drift detected! (haversine 75%-Quantile: 103.4149667475749)\t(Index: 51375)\n",
      "[DRIFT][Small Window]: KL-Divergence detected! (haversine Divergence: 324072.83904511435)\t(Index: 51375)\n",
      "[DRIFT][Small Window]: Wasserstein Distance detected! (haversine Distance: 100.075076829074)\t(Index: 51375)\n"
     ]
    },
    {
     "name": "stderr",
     "output_type": "stream",
     "text": [
      "[Parallel(n_jobs=-1)]: Using backend ThreadingBackend with 4 concurrent workers.\n",
      "[Parallel(n_jobs=-1)]: Done  20 out of  20 | elapsed:    0.0s finished\n"
     ]
    },
    {
     "name": "stdout",
     "output_type": "stream",
     "text": [
      "[DRIFT][Small Window]: Multi-Dimensional Upwards Mean Drift Detected! Distance: 234.4607089201066\t\t\t(Index: 51375)\n",
      "batch: 103.46657545469677, train: 2.200820905397247, train+threshold: 1.1004104526986236\n",
      "[DRIFT][Small Window]: Multi-Dimensional 3rd Quarter Upwards Drift Detected! Distance: 103.46657545469677\t\t\t(Index: 51375)\n"
     ]
    },
    {
     "name": "stderr",
     "output_type": "stream",
     "text": [
      "Setting feature_perturbation = \"tree_path_dependent\" because no background data was given.\n"
     ]
    },
    {
     "name": "stdout",
     "output_type": "stream",
     "text": [
      "[DRIFT][Small Window]: Upwards Data Drift detected!. (manhattan AVG: 1.3173680479369019)\t(Index: 51679)\n",
      "[DRIFT][Small Window]: Upwards Data Drift detected! (manhattan 25%-Quantile: 1.3173680479369019)\t(Index: 51679)\n",
      "[DRIFT][Small Window]: Upwards Data Drift detected! (manhattan 75%-Quantile: 1.3173680479369019)\t(Index: 51679)\n",
      "[DRIFT][Small Window]: Wasserstein Distance detected! (manhattan Distance: 1.273163002442135)\t(Index: 51679)\n",
      "[DRIFT][Small Window]: Upwards Data Drift detected!. (euclidean AVG: 1.1011138746644473)\t(Index: 51679)\n",
      "[DRIFT][Small Window]: Upwards Data Drift detected! (euclidean 25%-Quantile: 1.1011138746644473)\t(Index: 51679)\n",
      "[DRIFT][Small Window]: Upwards Data Drift detected! (euclidean 75%-Quantile: 1.1011138746644473)\t(Index: 51679)\n",
      "[DRIFT][Small Window]: Upwards Data Drift detected!. (haversine AVG: 106.03196968747763)\t(Index: 51679)\n",
      "[DRIFT][Small Window]: Upwards Data Drift detected! (haversine 25%-Quantile: 106.03196968747763)\t(Index: 51679)\n",
      "[DRIFT][Small Window]: Upwards Data Drift detected! (haversine 75%-Quantile: 106.03196968747763)\t(Index: 51679)\n",
      "[DRIFT][Small Window]: KL-Divergence detected! (haversine Divergence: 322315.10678030737)\t(Index: 51679)\n",
      "[DRIFT][Small Window]: Wasserstein Distance detected! (haversine Distance: 102.69207976897673)\t(Index: 51679)\n"
     ]
    },
    {
     "name": "stderr",
     "output_type": "stream",
     "text": [
      "[Parallel(n_jobs=-1)]: Using backend ThreadingBackend with 4 concurrent workers.\n",
      "[Parallel(n_jobs=-1)]: Done  20 out of  20 | elapsed:    0.0s finished\n"
     ]
    },
    {
     "name": "stdout",
     "output_type": "stream",
     "text": [
      "[DRIFT][Small Window]: Multi-Dimensional Upwards Mean Drift Detected! Distance: 234.4607089201066\t\t\t(Index: 51679)\n",
      "batch: 103.53677594237325, train: 2.200820905397247, train+threshold: 1.1004104526986236\n",
      "[DRIFT][Small Window]: Multi-Dimensional 3rd Quarter Upwards Drift Detected! Distance: 103.53677594237325\t\t\t(Index: 51679)\n"
     ]
    },
    {
     "name": "stderr",
     "output_type": "stream",
     "text": [
      "Setting feature_perturbation = \"tree_path_dependent\" because no background data was given.\n"
     ]
    },
    {
     "name": "stdout",
     "output_type": "stream",
     "text": [
      "[DRIFT][Small Window]: Upwards Data Drift detected!. (manhattan AVG: 1.2679655011334876)\t(Index: 51983)\n",
      "[DRIFT][Small Window]: Upwards Data Drift detected! (manhattan 25%-Quantile: 1.2679655011334876)\t(Index: 51983)\n",
      "[DRIFT][Small Window]: Upwards Data Drift detected! (manhattan 75%-Quantile: 1.2679655011334876)\t(Index: 51983)\n",
      "[DRIFT][Small Window]: Wasserstein Distance detected! (manhattan Distance: 1.2237604556387214)\t(Index: 51983)\n",
      "[DRIFT][Small Window]: Upwards Data Drift detected!. (euclidean AVG: 1.0605306831069947)\t(Index: 51983)\n",
      "[DRIFT][Small Window]: Upwards Data Drift detected! (euclidean 25%-Quantile: 1.0605306831069947)\t(Index: 51983)\n",
      "[DRIFT][Small Window]: Upwards Data Drift detected! (euclidean 75%-Quantile: 1.0605306831069947)\t(Index: 51983)\n",
      "[DRIFT][Small Window]: Upwards Data Drift detected!. (haversine AVG: 102.28800462096632)\t(Index: 51983)\n",
      "[DRIFT][Small Window]: Upwards Data Drift detected! (haversine 25%-Quantile: 102.28800462096632)\t(Index: 51983)\n",
      "[DRIFT][Small Window]: Upwards Data Drift detected! (haversine 75%-Quantile: 102.28800462096632)\t(Index: 51983)\n",
      "[DRIFT][Small Window]: KL-Divergence detected! (haversine Divergence: 297811.8350737373)\t(Index: 51983)\n",
      "[DRIFT][Small Window]: Wasserstein Distance detected! (haversine Distance: 98.94811470246539)\t(Index: 51983)\n",
      "[DRIFT][Small Window]: Pairwise Correlation Drift detected: pickup_longitude <> passenger_count!\t(Index: 51983)\n"
     ]
    },
    {
     "name": "stderr",
     "output_type": "stream",
     "text": [
      "[Parallel(n_jobs=-1)]: Using backend ThreadingBackend with 4 concurrent workers.\n",
      "[Parallel(n_jobs=-1)]: Done  20 out of  20 | elapsed:    0.0s finished\n"
     ]
    },
    {
     "name": "stdout",
     "output_type": "stream",
     "text": [
      "[DRIFT][Small Window]: Multi-Dimensional Upwards Mean Drift Detected! Distance: 234.4607089201066\t\t\t(Index: 51983)\n",
      "batch: 103.53928149900061, train: 2.200820905397247, train+threshold: 1.1004104526986236\n",
      "[DRIFT][Small Window]: Multi-Dimensional 3rd Quarter Upwards Drift Detected! Distance: 103.53928149900061\t\t\t(Index: 51983)\n",
      "------------------------ INDEX: 52000 ------------------------\n"
     ]
    },
    {
     "name": "stderr",
     "output_type": "stream",
     "text": [
      "Setting feature_perturbation = \"tree_path_dependent\" because no background data was given.\n"
     ]
    }
   ],
   "source": [
    "monitor(train_data, location_drift);"
   ]
  },
  {
   "cell_type": "code",
   "execution_count": 36,
   "metadata": {},
   "outputs": [],
   "source": [
    "\n",
    "\n",
    "\n",
    "# EXPLORATION CELLS FOLLOWING:\n",
    "\n",
    "\n"
   ]
  },
  {
   "cell_type": "code",
   "execution_count": 3,
   "metadata": {
    "scrolled": true
   },
   "outputs": [
    {
     "data": {
      "image/png": "[encoded data removed]",
      "text/plain": [
       "<Figure size 432x288 with 1 Axes>"
      ]
     },
     "metadata": {
      "needs_background": "light"
     },
     "output_type": "display_data"
    }
   ],
   "source": [
    "train_data['fare-bin'].value_counts().sort_index().plot.bar(color = 'b', edgecolor = 'k');\n",
    "plt.title('Fare Binned');"
   ]
  },
  {
   "cell_type": "code",
   "execution_count": null,
   "metadata": {},
   "outputs": [],
   "source": []
  }
 ],
 "metadata": {
  "kernelspec": {
   "display_name": "Python 3",
   "language": "python",
   "name": "python3"
  },
  "language_info": {
   "codemirror_mode": {
    "name": "ipython",
    "version": 3
   },
   "file_extension": ".py",
   "mimetype": "text/x-python",
   "name": "python",
   "nbconvert_exporter": "python",
   "pygments_lexer": "ipython3",
   "version": "3.7.3"
  }
 },
 "nbformat": 4,
 "nbformat_minor": 2
}
